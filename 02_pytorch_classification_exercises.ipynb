{
  "nbformat": 4,
  "nbformat_minor": 0,
  "metadata": {
    "colab": {
      "name": "02_pytorch_classification_exercises.ipynb",
      "provenance": [],
      "gpuType": "T4",
      "include_colab_link": true
    },
    "kernelspec": {
      "name": "python3",
      "display_name": "Python 3"
    },
    "language_info": {
      "name": "python"
    },
    "accelerator": "GPU"
  },
  "cells": [
    {
      "cell_type": "markdown",
      "metadata": {
        "id": "view-in-github",
        "colab_type": "text"
      },
      "source": [
        "<a href=\"https://colab.research.google.com/github/amanullahshah32/Deep-Learning/blob/main/02_pytorch_classification_exercises.ipynb\" target=\"_parent\"><img src=\"https://colab.research.google.com/assets/colab-badge.svg\" alt=\"Open In Colab\"/></a>"
      ]
    },
    {
      "cell_type": "markdown",
      "source": [
        "# 02. PyTorch Classification Exercises\n",
        "\n",
        "The following is a template for 02. PyTorch Classification exercises.\n",
        "\n",
        "It's only starter code and it's your job to fill in the blanks.\n",
        "\n",
        "Because of the flexibility of PyTorch, there may be more than one way to answer the question.\n",
        "\n",
        "Don't worry about trying to be *right* just try writing code that suffices the question.\n",
        "\n",
        "## Resources\n",
        "* These exercises are based on [notebook 02 of the learn PyTorch course](https://www.learnpytorch.io/02_pytorch_classification/).\n",
        "* You can see one form of [solutions on GitHub](https://github.com/mrdbourke/pytorch-deep-learning/tree/main/extras/solutions) (but try the exercises below yourself first!)."
      ],
      "metadata": {
        "id": "ZKJFt7YxH8yl"
      }
    },
    {
      "cell_type": "code",
      "source": [
        "# Import torch\n",
        "import torch\n",
        "\n",
        "# Setup device agnostic code\n",
        "device = 'cude' if torch.cuda.is_available() else 'cpu'\n",
        "\n",
        "# Setup random seed\n",
        "RANDOM_SEED = 42"
      ],
      "metadata": {
        "id": "CSrUPgapO0tf"
      },
      "execution_count": 1,
      "outputs": []
    },
    {
      "cell_type": "markdown",
      "source": [
        "## 1. Make a binary classification dataset with Scikit-Learn's [`make_moons()`](https://scikit-learn.org/stable/modules/generated/sklearn.datasets.make_moons.html) function.\n",
        "  * For consistency, the dataset should have 1000 samples and a `random_state=42`.\n",
        "  * Turn the data into PyTorch tensors.\n",
        "  * Split the data into training and test sets using `train_test_split` with 80% training and 20% testing."
      ],
      "metadata": {
        "id": "pH7jIZ2SPFee"
      }
    },
    {
      "cell_type": "code",
      "source": [
        "# Create a dataset with Scikit-Learn's make_moons()\n",
        "from sklearn.datasets import make_moons"
      ],
      "metadata": {
        "id": "5t4VhPV1PX1X"
      },
      "execution_count": 2,
      "outputs": []
    },
    {
      "cell_type": "code",
      "source": [
        "!nvidia-smi"
      ],
      "metadata": {
        "id": "OBxiPHiSfMW6",
        "outputId": "6593ecc7-7ec0-4766-eee7-30e76950f567",
        "colab": {
          "base_uri": "https://localhost:8080/"
        }
      },
      "execution_count": 3,
      "outputs": [
        {
          "output_type": "stream",
          "name": "stdout",
          "text": [
            "/bin/bash: line 1: nvidia-smi: command not found\n"
          ]
        }
      ]
    },
    {
      "cell_type": "code",
      "source": [
        "# Turn data into a DataFrame\n",
        "import pandas as pd\n",
        "\n",
        "n_samples = 1000\n",
        "\n",
        "X, y = make_moons(n_samples, noise = 0.03, random_state = 42)\n",
        "\n",
        "# See first 5 values of X and y\n",
        "print(f\"First 5 X values; {X[:5]}\\n\")\n",
        "print(f\"First 5 y values; {y[:5]}\\n\")"
      ],
      "metadata": {
        "id": "SUeHZ3-3P9C7",
        "outputId": "48f4d9da-3a8f-4632-9834-e9d523e0aed1",
        "colab": {
          "base_uri": "https://localhost:8080/"
        }
      },
      "execution_count": 4,
      "outputs": [
        {
          "output_type": "stream",
          "name": "stdout",
          "text": [
            "First 5 X values; [[-0.00933187  0.39098105]\n",
            " [ 0.95457387 -0.47375583]\n",
            " [ 0.9185256  -0.42519648]\n",
            " [ 0.41276802 -0.37638459]\n",
            " [-0.84532016  0.52879908]]\n",
            "\n",
            "First 5 y values; [1 1 1 1 0]\n",
            "\n"
          ]
        }
      ]
    },
    {
      "cell_type": "code",
      "source": [
        "# Make dataframe\n",
        "make_moons = pd.DataFrame({'X1':X[:,0],\n",
        "                          'X2':X[:,1],\n",
        "                          'label': y})\n",
        "make_moons.head()"
      ],
      "metadata": {
        "id": "MOjiLEZWAgnT",
        "outputId": "84dafe89-b22a-4182-ff8d-1d390e123117",
        "colab": {
          "base_uri": "https://localhost:8080/",
          "height": 206
        }
      },
      "execution_count": 5,
      "outputs": [
        {
          "output_type": "execute_result",
          "data": {
            "text/plain": [
              "         X1        X2  label\n",
              "0 -0.009332  0.390981      1\n",
              "1  0.954574 -0.473756      1\n",
              "2  0.918526 -0.425196      1\n",
              "3  0.412768 -0.376385      1\n",
              "4 -0.845320  0.528799      0"
            ],
            "text/html": [
              "\n",
              "  <div id=\"df-620a8bc1-0cb8-403e-83bf-6a54a55805d9\" class=\"colab-df-container\">\n",
              "    <div>\n",
              "<style scoped>\n",
              "    .dataframe tbody tr th:only-of-type {\n",
              "        vertical-align: middle;\n",
              "    }\n",
              "\n",
              "    .dataframe tbody tr th {\n",
              "        vertical-align: top;\n",
              "    }\n",
              "\n",
              "    .dataframe thead th {\n",
              "        text-align: right;\n",
              "    }\n",
              "</style>\n",
              "<table border=\"1\" class=\"dataframe\">\n",
              "  <thead>\n",
              "    <tr style=\"text-align: right;\">\n",
              "      <th></th>\n",
              "      <th>X1</th>\n",
              "      <th>X2</th>\n",
              "      <th>label</th>\n",
              "    </tr>\n",
              "  </thead>\n",
              "  <tbody>\n",
              "    <tr>\n",
              "      <th>0</th>\n",
              "      <td>-0.009332</td>\n",
              "      <td>0.390981</td>\n",
              "      <td>1</td>\n",
              "    </tr>\n",
              "    <tr>\n",
              "      <th>1</th>\n",
              "      <td>0.954574</td>\n",
              "      <td>-0.473756</td>\n",
              "      <td>1</td>\n",
              "    </tr>\n",
              "    <tr>\n",
              "      <th>2</th>\n",
              "      <td>0.918526</td>\n",
              "      <td>-0.425196</td>\n",
              "      <td>1</td>\n",
              "    </tr>\n",
              "    <tr>\n",
              "      <th>3</th>\n",
              "      <td>0.412768</td>\n",
              "      <td>-0.376385</td>\n",
              "      <td>1</td>\n",
              "    </tr>\n",
              "    <tr>\n",
              "      <th>4</th>\n",
              "      <td>-0.845320</td>\n",
              "      <td>0.528799</td>\n",
              "      <td>0</td>\n",
              "    </tr>\n",
              "  </tbody>\n",
              "</table>\n",
              "</div>\n",
              "    <div class=\"colab-df-buttons\">\n",
              "\n",
              "  <div class=\"colab-df-container\">\n",
              "    <button class=\"colab-df-convert\" onclick=\"convertToInteractive('df-620a8bc1-0cb8-403e-83bf-6a54a55805d9')\"\n",
              "            title=\"Convert this dataframe to an interactive table.\"\n",
              "            style=\"display:none;\">\n",
              "\n",
              "  <svg xmlns=\"http://www.w3.org/2000/svg\" height=\"24px\" viewBox=\"0 -960 960 960\">\n",
              "    <path d=\"M120-120v-720h720v720H120Zm60-500h600v-160H180v160Zm220 220h160v-160H400v160Zm0 220h160v-160H400v160ZM180-400h160v-160H180v160Zm440 0h160v-160H620v160ZM180-180h160v-160H180v160Zm440 0h160v-160H620v160Z\"/>\n",
              "  </svg>\n",
              "    </button>\n",
              "\n",
              "  <style>\n",
              "    .colab-df-container {\n",
              "      display:flex;\n",
              "      gap: 12px;\n",
              "    }\n",
              "\n",
              "    .colab-df-convert {\n",
              "      background-color: #E8F0FE;\n",
              "      border: none;\n",
              "      border-radius: 50%;\n",
              "      cursor: pointer;\n",
              "      display: none;\n",
              "      fill: #1967D2;\n",
              "      height: 32px;\n",
              "      padding: 0 0 0 0;\n",
              "      width: 32px;\n",
              "    }\n",
              "\n",
              "    .colab-df-convert:hover {\n",
              "      background-color: #E2EBFA;\n",
              "      box-shadow: 0px 1px 2px rgba(60, 64, 67, 0.3), 0px 1px 3px 1px rgba(60, 64, 67, 0.15);\n",
              "      fill: #174EA6;\n",
              "    }\n",
              "\n",
              "    .colab-df-buttons div {\n",
              "      margin-bottom: 4px;\n",
              "    }\n",
              "\n",
              "    [theme=dark] .colab-df-convert {\n",
              "      background-color: #3B4455;\n",
              "      fill: #D2E3FC;\n",
              "    }\n",
              "\n",
              "    [theme=dark] .colab-df-convert:hover {\n",
              "      background-color: #434B5C;\n",
              "      box-shadow: 0px 1px 3px 1px rgba(0, 0, 0, 0.15);\n",
              "      filter: drop-shadow(0px 1px 2px rgba(0, 0, 0, 0.3));\n",
              "      fill: #FFFFFF;\n",
              "    }\n",
              "  </style>\n",
              "\n",
              "    <script>\n",
              "      const buttonEl =\n",
              "        document.querySelector('#df-620a8bc1-0cb8-403e-83bf-6a54a55805d9 button.colab-df-convert');\n",
              "      buttonEl.style.display =\n",
              "        google.colab.kernel.accessAllowed ? 'block' : 'none';\n",
              "\n",
              "      async function convertToInteractive(key) {\n",
              "        const element = document.querySelector('#df-620a8bc1-0cb8-403e-83bf-6a54a55805d9');\n",
              "        const dataTable =\n",
              "          await google.colab.kernel.invokeFunction('convertToInteractive',\n",
              "                                                    [key], {});\n",
              "        if (!dataTable) return;\n",
              "\n",
              "        const docLinkHtml = 'Like what you see? Visit the ' +\n",
              "          '<a target=\"_blank\" href=https://colab.research.google.com/notebooks/data_table.ipynb>data table notebook</a>'\n",
              "          + ' to learn more about interactive tables.';\n",
              "        element.innerHTML = '';\n",
              "        dataTable['output_type'] = 'display_data';\n",
              "        await google.colab.output.renderOutput(dataTable, element);\n",
              "        const docLink = document.createElement('div');\n",
              "        docLink.innerHTML = docLinkHtml;\n",
              "        element.appendChild(docLink);\n",
              "      }\n",
              "    </script>\n",
              "  </div>\n",
              "\n",
              "\n",
              "<div id=\"df-cc6e076e-e34f-422a-b859-f144db585b53\">\n",
              "  <button class=\"colab-df-quickchart\" onclick=\"quickchart('df-cc6e076e-e34f-422a-b859-f144db585b53')\"\n",
              "            title=\"Suggest charts\"\n",
              "            style=\"display:none;\">\n",
              "\n",
              "<svg xmlns=\"http://www.w3.org/2000/svg\" height=\"24px\"viewBox=\"0 0 24 24\"\n",
              "     width=\"24px\">\n",
              "    <g>\n",
              "        <path d=\"M19 3H5c-1.1 0-2 .9-2 2v14c0 1.1.9 2 2 2h14c1.1 0 2-.9 2-2V5c0-1.1-.9-2-2-2zM9 17H7v-7h2v7zm4 0h-2V7h2v10zm4 0h-2v-4h2v4z\"/>\n",
              "    </g>\n",
              "</svg>\n",
              "  </button>\n",
              "\n",
              "<style>\n",
              "  .colab-df-quickchart {\n",
              "      --bg-color: #E8F0FE;\n",
              "      --fill-color: #1967D2;\n",
              "      --hover-bg-color: #E2EBFA;\n",
              "      --hover-fill-color: #174EA6;\n",
              "      --disabled-fill-color: #AAA;\n",
              "      --disabled-bg-color: #DDD;\n",
              "  }\n",
              "\n",
              "  [theme=dark] .colab-df-quickchart {\n",
              "      --bg-color: #3B4455;\n",
              "      --fill-color: #D2E3FC;\n",
              "      --hover-bg-color: #434B5C;\n",
              "      --hover-fill-color: #FFFFFF;\n",
              "      --disabled-bg-color: #3B4455;\n",
              "      --disabled-fill-color: #666;\n",
              "  }\n",
              "\n",
              "  .colab-df-quickchart {\n",
              "    background-color: var(--bg-color);\n",
              "    border: none;\n",
              "    border-radius: 50%;\n",
              "    cursor: pointer;\n",
              "    display: none;\n",
              "    fill: var(--fill-color);\n",
              "    height: 32px;\n",
              "    padding: 0;\n",
              "    width: 32px;\n",
              "  }\n",
              "\n",
              "  .colab-df-quickchart:hover {\n",
              "    background-color: var(--hover-bg-color);\n",
              "    box-shadow: 0 1px 2px rgba(60, 64, 67, 0.3), 0 1px 3px 1px rgba(60, 64, 67, 0.15);\n",
              "    fill: var(--button-hover-fill-color);\n",
              "  }\n",
              "\n",
              "  .colab-df-quickchart-complete:disabled,\n",
              "  .colab-df-quickchart-complete:disabled:hover {\n",
              "    background-color: var(--disabled-bg-color);\n",
              "    fill: var(--disabled-fill-color);\n",
              "    box-shadow: none;\n",
              "  }\n",
              "\n",
              "  .colab-df-spinner {\n",
              "    border: 2px solid var(--fill-color);\n",
              "    border-color: transparent;\n",
              "    border-bottom-color: var(--fill-color);\n",
              "    animation:\n",
              "      spin 1s steps(1) infinite;\n",
              "  }\n",
              "\n",
              "  @keyframes spin {\n",
              "    0% {\n",
              "      border-color: transparent;\n",
              "      border-bottom-color: var(--fill-color);\n",
              "      border-left-color: var(--fill-color);\n",
              "    }\n",
              "    20% {\n",
              "      border-color: transparent;\n",
              "      border-left-color: var(--fill-color);\n",
              "      border-top-color: var(--fill-color);\n",
              "    }\n",
              "    30% {\n",
              "      border-color: transparent;\n",
              "      border-left-color: var(--fill-color);\n",
              "      border-top-color: var(--fill-color);\n",
              "      border-right-color: var(--fill-color);\n",
              "    }\n",
              "    40% {\n",
              "      border-color: transparent;\n",
              "      border-right-color: var(--fill-color);\n",
              "      border-top-color: var(--fill-color);\n",
              "    }\n",
              "    60% {\n",
              "      border-color: transparent;\n",
              "      border-right-color: var(--fill-color);\n",
              "    }\n",
              "    80% {\n",
              "      border-color: transparent;\n",
              "      border-right-color: var(--fill-color);\n",
              "      border-bottom-color: var(--fill-color);\n",
              "    }\n",
              "    90% {\n",
              "      border-color: transparent;\n",
              "      border-bottom-color: var(--fill-color);\n",
              "    }\n",
              "  }\n",
              "</style>\n",
              "\n",
              "  <script>\n",
              "    async function quickchart(key) {\n",
              "      const quickchartButtonEl =\n",
              "        document.querySelector('#' + key + ' button');\n",
              "      quickchartButtonEl.disabled = true;  // To prevent multiple clicks.\n",
              "      quickchartButtonEl.classList.add('colab-df-spinner');\n",
              "      try {\n",
              "        const charts = await google.colab.kernel.invokeFunction(\n",
              "            'suggestCharts', [key], {});\n",
              "      } catch (error) {\n",
              "        console.error('Error during call to suggestCharts:', error);\n",
              "      }\n",
              "      quickchartButtonEl.classList.remove('colab-df-spinner');\n",
              "      quickchartButtonEl.classList.add('colab-df-quickchart-complete');\n",
              "    }\n",
              "    (() => {\n",
              "      let quickchartButtonEl =\n",
              "        document.querySelector('#df-cc6e076e-e34f-422a-b859-f144db585b53 button');\n",
              "      quickchartButtonEl.style.display =\n",
              "        google.colab.kernel.accessAllowed ? 'block' : 'none';\n",
              "    })();\n",
              "  </script>\n",
              "</div>\n",
              "\n",
              "    </div>\n",
              "  </div>\n"
            ],
            "application/vnd.google.colaboratory.intrinsic+json": {
              "type": "dataframe",
              "variable_name": "make_moons",
              "summary": "{\n  \"name\": \"make_moons\",\n  \"rows\": 1000,\n  \"fields\": [\n    {\n      \"column\": \"X1\",\n      \"properties\": {\n        \"dtype\": \"number\",\n        \"std\": 0.8673710765466924,\n        \"min\": -1.061750818658048,\n        \"max\": 2.0646373678153123,\n        \"num_unique_values\": 1000,\n        \"samples\": [\n          0.5171725206686113,\n          0.7535605030752364,\n          1.2408016376275735\n        ],\n        \"semantic_type\": \"\",\n        \"description\": \"\"\n      }\n    },\n    {\n      \"column\": \"X2\",\n      \"properties\": {\n        \"dtype\": \"number\",\n        \"std\": 0.4948222944223276,\n        \"min\": -0.5716971982171706,\n        \"max\": 1.042676886779827,\n        \"num_unique_values\": 1000,\n        \"samples\": [\n          -0.37846148253188083,\n          0.6870605739485167,\n          -0.45972026667192367\n        ],\n        \"semantic_type\": \"\",\n        \"description\": \"\"\n      }\n    },\n    {\n      \"column\": \"label\",\n      \"properties\": {\n        \"dtype\": \"number\",\n        \"std\": 0,\n        \"min\": 0,\n        \"max\": 1,\n        \"num_unique_values\": 2,\n        \"samples\": [\n          0,\n          1\n        ],\n        \"semantic_type\": \"\",\n        \"description\": \"\"\n      }\n    }\n  ]\n}"
            }
          },
          "metadata": {},
          "execution_count": 5
        }
      ]
    },
    {
      "cell_type": "code",
      "source": [
        "# Visualize the data on a scatter plot\n",
        "import matplotlib.pyplot as plt\n",
        "plt.scatter(x=X[:,0],\n",
        "            y=X[:,1],\n",
        "            c = y,\n",
        "            cmap = plt.cm.RdYlBu)"
      ],
      "metadata": {
        "id": "owrkPSFvQPFI",
        "outputId": "bc6cd26b-5688-4204-aff9-dfe674b52aeb",
        "colab": {
          "base_uri": "https://localhost:8080/",
          "height": 448
        }
      },
      "execution_count": 6,
      "outputs": [
        {
          "output_type": "execute_result",
          "data": {
            "text/plain": [
              "<matplotlib.collections.PathCollection at 0x78124f65f070>"
            ]
          },
          "metadata": {},
          "execution_count": 6
        },
        {
          "output_type": "display_data",
          "data": {
            "text/plain": [
              "<Figure size 640x480 with 1 Axes>"
            ],
            "image/png": "[encoded data removed]"
          },
          "metadata": {}
        }
      ]
    },
    {
      "cell_type": "code",
      "source": [
        "# Turn data into tensors of dtype float\n",
        "X = torch.from_numpy(X).type(torch.float32)\n",
        "y = torch.from_numpy(y).type(torch.float32)\n",
        "\n",
        "# Split the data into train and test sets (80% train, 20% test)\n",
        "from sklearn.model_selection import train_test_split\n",
        "X_train, X_test, y_train, y_test = train_test_split(X,y, test_size = 0.2 )\n",
        "\n",
        "len(X_train), len(X_test), len(y_train), len(y_test)\n",
        "\n"
      ],
      "metadata": {
        "id": "bDhyHn9fR4dq",
        "outputId": "cc5e5545-17ae-43e6-ca83-f277119c05a8",
        "colab": {
          "base_uri": "https://localhost:8080/"
        }
      },
      "execution_count": 7,
      "outputs": [
        {
          "output_type": "execute_result",
          "data": {
            "text/plain": [
              "(800, 200, 800, 200)"
            ]
          },
          "metadata": {},
          "execution_count": 7
        }
      ]
    },
    {
      "cell_type": "markdown",
      "source": [
        "## 2. Build a model by subclassing `nn.Module` that incorporates non-linear activation functions and is capable of fitting the data you created in 1.\n",
        "  * Feel free to use any combination of PyTorch layers (linear and non-linear) you want."
      ],
      "metadata": {
        "id": "cMIjxZdzQfPz"
      }
    },
    {
      "cell_type": "code",
      "source": [
        "import torch\n",
        "from torch import nn\n",
        "\n",
        "# Inherit from nn.Module to make a model capable of fitting the mooon data\n",
        "class MoonModelV0(nn.Module):\n",
        "    ## Your code here ##\n",
        "    def __init__(self):\n",
        "      super().__init__()\n",
        "\n",
        "      self.layer_1 = nn.Linear(in_features=2,out_features=10)\n",
        "      self.layer_2 = nn.Linear(in_features=10, out_features=10)\n",
        "      self.layer_3 = nn.Linear(in_features=10, out_features=1)\n",
        "      self.relu = nn.ReLU()\n",
        "\n",
        "    def forward(self, x):\n",
        "        ## Your code here ##\n",
        "        return self.layer_3(self.relu(self.layer_2(self.relu(self.layer_1(X)))))\n",
        "\n",
        "# Instantiate the model\n",
        "model = MoonModelV0().to(device)\n",
        "model\n",
        "## Your code here ##"
      ],
      "metadata": {
        "id": "hwtyvm34Ri6Q",
        "outputId": "668c7ac1-c1be-4b45-e12f-6981ee0c69ff",
        "colab": {
          "base_uri": "https://localhost:8080/"
        }
      },
      "execution_count": 8,
      "outputs": [
        {
          "output_type": "execute_result",
          "data": {
            "text/plain": [
              "MoonModelV0(\n",
              "  (layer_1): Linear(in_features=2, out_features=10, bias=True)\n",
              "  (layer_2): Linear(in_features=10, out_features=10, bias=True)\n",
              "  (layer_3): Linear(in_features=10, out_features=1, bias=True)\n",
              "  (relu): ReLU()\n",
              ")"
            ]
          },
          "metadata": {},
          "execution_count": 8
        }
      ]
    },
    {
      "cell_type": "markdown",
      "source": [
        "## 3. Setup a binary classification compatible loss function and optimizer to use when training the model built in 2."
      ],
      "metadata": {
        "id": "DSj97RwyVeFE"
      }
    },
    {
      "cell_type": "code",
      "source": [
        "loss_fn = nn.BCEWithLogitsLoss() # sigmoid layer built-in\n",
        "# loss_fn = nn.BCELoss() # requires sigmoid layer\n",
        "optimizer = torch.optim.SGD(params=model.parameters(), # parameters of model to optimize\n",
        "                            lr=0.1) # learning rate"
      ],
      "metadata": {
        "id": "-Tkvgtnpr_Tn"
      },
      "execution_count": 9,
      "outputs": []
    },
    {
      "cell_type": "code",
      "source": [
        "# # Setup loss function\n",
        "# loss_fn = nn.BCELoss() # Requires sigmoid layer\n",
        "# # Setup optimizer to optimize model's parameters\n",
        "# optimizer = torch.optim.SGD(params = model.parameters(), lr = 0.01)"
      ],
      "metadata": {
        "id": "whSGw5qgVvxU"
      },
      "execution_count": 10,
      "outputs": []
    },
    {
      "cell_type": "markdown",
      "source": [
        "## 4. Create a training and testing loop to fit the model you created in 2 to the data you created in 1.\n",
        "  * Do a forward pass of the model to see what's coming out in the form of logits, prediction probabilities and labels.\n",
        "  * To measure model accuray, you can create your own accuracy function or use the accuracy function in [TorchMetrics](https://torchmetrics.readthedocs.io/en/latest/).\n",
        "  * Train the model for long enough for it to reach over 96% accuracy.\n",
        "  * The training loop should output progress every 10 epochs of the model's training and test set loss and accuracy."
      ],
      "metadata": {
        "id": "nvk4PfNTWUAt"
      }
    },
    {
      "cell_type": "code",
      "source": [
        "# What's coming out of our model?\n",
        "\n",
        "# logits (raw outputs of model)\n",
        "print(\"Logits:\")\n",
        "print(model(X_train.to(device)[:10]).squeeze())\n",
        "\n",
        "# Prediction probabilities\n",
        "print(\"Pred probs:\")\n",
        "print(torch.sigmoid(model(X_train.to(device)[:10]).squeeze()))\n",
        "\n",
        "# Prediction probabilities\n",
        "print(\"Pred labels:\")\n",
        "print(torch.round(torch.sigmoid(model(X_train.to(device)[:10]).squeeze())))"
      ],
      "metadata": {
        "collapsed": true,
        "id": "IV3nIfdhqTzk",
        "outputId": "30d4da42-7bd8-4ae5-8388-25de840a62ef",
        "colab": {
          "base_uri": "https://localhost:8080/"
        }
      },
      "execution_count": 12,
      "outputs": [
        {
          "output_type": "stream",
          "name": "stdout",
          "text": [
            "Logits:\n",
            "tensor([0.1712, 0.0660, 0.0704, 0.1299, 0.1663, 0.1079, 0.1456, 0.1720, 0.0640,\n",
            "        0.1514, 0.0618, 0.1393, 0.1400, 0.0948, 0.0837, 0.0747, 0.1423, 0.0690,\n",
            "        0.0627, 0.1450, 0.1670, 0.1574, 0.1637, 0.1701, 0.1618, 0.1606, 0.1445,\n",
            "        0.1027, 0.0735, 0.0911, 0.1508, 0.1528, 0.1483, 0.1429, 0.1688, 0.1559,\n",
            "        0.1020, 0.1552, 0.0749, 0.1296, 0.1389, 0.1425, 0.1429, 0.0988, 0.1455,\n",
            "        0.1506, 0.0757, 0.1536, 0.1595, 0.0618, 0.1629, 0.0656, 0.1565, 0.1565,\n",
            "        0.1153, 0.1172, 0.1483, 0.1072, 0.1604, 0.0602, 0.1538, 0.1220, 0.1697,\n",
            "        0.1605, 0.1515, 0.0976, 0.1185, 0.0658, 0.1362, 0.1670, 0.1447, 0.1431,\n",
            "        0.1547, 0.0641, 0.1508, 0.1449, 0.1208, 0.1201, 0.1599, 0.1480, 0.1014,\n",
            "        0.1323, 0.1579, 0.1371, 0.1486, 0.1670, 0.1096, 0.0789, 0.0636, 0.1442,\n",
            "        0.1674, 0.1543, 0.1680, 0.1605, 0.0613, 0.1578, 0.0618, 0.1422, 0.1345,\n",
            "        0.0574, 0.0710, 0.1590, 0.0859, 0.1631, 0.1379, 0.1392, 0.1656, 0.0935,\n",
            "        0.1561, 0.0793, 0.1685, 0.0628, 0.1076, 0.0600, 0.1399, 0.1621, 0.1574,\n",
            "        0.1027, 0.1706, 0.1461, 0.0709, 0.1639, 0.0800, 0.1486, 0.1606, 0.1643,\n",
            "        0.1562, 0.1569, 0.0659, 0.0614, 0.1524, 0.0605, 0.1585, 0.1084, 0.1709,\n",
            "        0.1333, 0.1471, 0.1624, 0.1132, 0.1387, 0.1226, 0.1628, 0.0717, 0.1438,\n",
            "        0.0710, 0.0763, 0.0593, 0.1648, 0.0617, 0.1497, 0.1345, 0.1547, 0.1016,\n",
            "        0.1611, 0.0893, 0.1494, 0.1495, 0.0876, 0.1340, 0.0668, 0.1596, 0.0607,\n",
            "        0.1235, 0.1338, 0.0660, 0.1135, 0.1430, 0.0977, 0.1413, 0.1433, 0.1618,\n",
            "        0.1455, 0.1456, 0.1059, 0.1446, 0.1590, 0.1639, 0.1583, 0.0581, 0.1077,\n",
            "        0.1445, 0.1153, 0.1671, 0.1700, 0.0656, 0.1515, 0.1592, 0.1689, 0.0896,\n",
            "        0.0634, 0.0905, 0.0622, 0.1194, 0.1613, 0.1595, 0.1659, 0.1518, 0.1613,\n",
            "        0.1491, 0.1379, 0.1157, 0.1676, 0.0913, 0.1639, 0.0625, 0.1527, 0.1573,\n",
            "        0.0774, 0.1386, 0.0606, 0.1375, 0.1531, 0.0818, 0.0589, 0.1155, 0.1556,\n",
            "        0.1175, 0.1624, 0.0752, 0.0716, 0.1387, 0.0663, 0.0998, 0.1256, 0.0703,\n",
            "        0.1026, 0.1673, 0.1586, 0.0745, 0.1676, 0.1473, 0.1098, 0.1467, 0.1605,\n",
            "        0.1193, 0.1171, 0.1598, 0.0937, 0.1590, 0.1460, 0.1036, 0.1593, 0.1697,\n",
            "        0.0586, 0.1351, 0.1468, 0.1582, 0.1382, 0.1387, 0.1442, 0.1388, 0.1058,\n",
            "        0.0605, 0.0746, 0.1663, 0.1451, 0.1696, 0.0754, 0.0783, 0.1045, 0.0701,\n",
            "        0.1507, 0.1413, 0.1469, 0.1528, 0.0650, 0.0618, 0.1649, 0.1422, 0.1688,\n",
            "        0.1425, 0.1477, 0.0743, 0.1588, 0.1703, 0.1149, 0.1595, 0.1542, 0.1387,\n",
            "        0.0585, 0.1555, 0.0636, 0.1614, 0.1448, 0.1594, 0.0789, 0.1493, 0.1542,\n",
            "        0.1610, 0.0937, 0.0896, 0.0584, 0.1706, 0.1521, 0.1618, 0.1484, 0.0825,\n",
            "        0.1611, 0.1055, 0.1551, 0.1667, 0.1610, 0.1396, 0.1638, 0.0602, 0.0879,\n",
            "        0.1601, 0.1565, 0.0856, 0.1626, 0.1555, 0.1685, 0.1593, 0.0783, 0.1521,\n",
            "        0.1576, 0.1638, 0.1559, 0.0692, 0.1588, 0.1381, 0.1525, 0.1447, 0.1420,\n",
            "        0.0600, 0.1721, 0.1586, 0.1466, 0.0810, 0.1493, 0.0827, 0.1524, 0.0676,\n",
            "        0.1332, 0.0987, 0.1445, 0.0796, 0.1686, 0.0622, 0.1680, 0.1468, 0.1646,\n",
            "        0.1574, 0.1480, 0.1686, 0.1615, 0.1662, 0.0753, 0.1422, 0.0861, 0.1574,\n",
            "        0.1508, 0.0762, 0.1385, 0.1487, 0.1510, 0.1441, 0.1646, 0.1555, 0.1518,\n",
            "        0.1634, 0.1593, 0.1514, 0.1544, 0.1567, 0.1147, 0.0603, 0.1584, 0.1684,\n",
            "        0.0593, 0.1571, 0.0837, 0.1524, 0.1574, 0.1050, 0.0636, 0.1441, 0.1394,\n",
            "        0.0771, 0.0601, 0.1612, 0.1536, 0.0612, 0.1635, 0.1603, 0.0809, 0.1746,\n",
            "        0.1493, 0.1031, 0.0618, 0.1594, 0.1223, 0.0941, 0.1444, 0.1562, 0.1348,\n",
            "        0.1686, 0.1560, 0.0642, 0.1071, 0.1116, 0.1517, 0.1675, 0.1693, 0.1461,\n",
            "        0.0936, 0.0826, 0.1396, 0.1294, 0.1694, 0.1739, 0.0757, 0.0600, 0.1591,\n",
            "        0.0599, 0.0812, 0.1002, 0.0623, 0.1714, 0.1537, 0.1145, 0.0766, 0.1453,\n",
            "        0.1637, 0.1577, 0.1568, 0.1398, 0.1317, 0.1401, 0.1453, 0.1465, 0.1627,\n",
            "        0.1515, 0.1515, 0.1432, 0.1079, 0.1588, 0.1631, 0.0666, 0.1505, 0.1604,\n",
            "        0.1613, 0.0973, 0.1308, 0.1662, 0.1564, 0.1352, 0.1574, 0.1222, 0.1121,\n",
            "        0.1575, 0.0678, 0.1683, 0.1567, 0.1605, 0.1458, 0.0700, 0.1144, 0.1617,\n",
            "        0.1653, 0.1367, 0.1450, 0.1526, 0.0967, 0.1685, 0.1453, 0.1463, 0.1632,\n",
            "        0.1699, 0.1539, 0.1648, 0.1401, 0.0813, 0.1403, 0.1548, 0.1038, 0.0831,\n",
            "        0.0854, 0.1532, 0.1559, 0.1479, 0.1421, 0.1115, 0.1683, 0.1696, 0.1201,\n",
            "        0.1245, 0.1562, 0.1574, 0.1443, 0.0627, 0.1562, 0.0606, 0.1443, 0.1593,\n",
            "        0.1574, 0.1570, 0.1652, 0.0672, 0.0682, 0.1197, 0.1574, 0.1683, 0.0756,\n",
            "        0.0593, 0.0935, 0.1021, 0.1687, 0.0957, 0.0631, 0.1600, 0.1700, 0.1504,\n",
            "        0.1083, 0.1507, 0.0592, 0.1608, 0.1569, 0.1039, 0.1126, 0.1586, 0.1165,\n",
            "        0.0698, 0.1506, 0.1625, 0.1653, 0.0616, 0.1573, 0.1344, 0.1424, 0.1619,\n",
            "        0.1371, 0.1479, 0.1473, 0.0596, 0.1579, 0.1550, 0.1379, 0.0649, 0.1575,\n",
            "        0.1599, 0.1498, 0.1621, 0.1403, 0.1479, 0.0884, 0.1697, 0.0613, 0.1546,\n",
            "        0.1480, 0.1473, 0.1463, 0.0949, 0.1289, 0.0661, 0.0778, 0.1626, 0.1509,\n",
            "        0.1278, 0.1539, 0.1598, 0.1094, 0.0628, 0.0658, 0.1566, 0.1546, 0.1124,\n",
            "        0.1556, 0.1470, 0.0947, 0.1536, 0.1472, 0.0617, 0.1323, 0.1502, 0.0826,\n",
            "        0.1513, 0.1497, 0.1685, 0.1469, 0.1448, 0.1132, 0.0557, 0.0603, 0.0620,\n",
            "        0.1679, 0.1693, 0.1487, 0.1236, 0.1574, 0.1645, 0.0615, 0.1185, 0.0629,\n",
            "        0.0625, 0.1539, 0.1490, 0.1541, 0.1643, 0.0669, 0.1067, 0.1495, 0.1480,\n",
            "        0.1613, 0.1235, 0.0959, 0.1576, 0.1469, 0.1489, 0.1540, 0.1574, 0.1458,\n",
            "        0.0578, 0.0754, 0.0731, 0.1071, 0.0967, 0.1698, 0.1039, 0.1229, 0.0762,\n",
            "        0.1537, 0.0588, 0.1566, 0.1086, 0.1714, 0.1241, 0.1036, 0.0863, 0.1718,\n",
            "        0.0928, 0.1442, 0.1413, 0.0741, 0.0650, 0.1608, 0.1176, 0.0905, 0.1587,\n",
            "        0.0924, 0.1685, 0.1624, 0.1178, 0.0951, 0.1606, 0.1493, 0.0980, 0.0641,\n",
            "        0.0849, 0.0616, 0.1574, 0.0666, 0.0675, 0.1714, 0.0952, 0.0589, 0.1602,\n",
            "        0.0977, 0.1567, 0.0801, 0.1539, 0.0631, 0.1051, 0.0620, 0.1456, 0.1604,\n",
            "        0.1004, 0.1424, 0.1616, 0.1663, 0.0605, 0.1568, 0.0608, 0.1189, 0.1482,\n",
            "        0.1300, 0.1546, 0.1650, 0.0841, 0.1614, 0.1163, 0.0648, 0.0602, 0.1044,\n",
            "        0.0603, 0.1146, 0.1524, 0.1295, 0.1560, 0.1434, 0.0611, 0.1607, 0.1488,\n",
            "        0.0698, 0.0723, 0.1483, 0.1498, 0.1439, 0.1662, 0.1540, 0.0574, 0.1333,\n",
            "        0.0684, 0.1637, 0.0731, 0.1460, 0.1541, 0.1517, 0.0666, 0.0855, 0.0634,\n",
            "        0.1187, 0.1559, 0.1504, 0.1458, 0.1584, 0.1488, 0.0640, 0.1522, 0.1528,\n",
            "        0.0916, 0.1604, 0.1503, 0.1437, 0.1460, 0.1684, 0.1482, 0.1585, 0.1613,\n",
            "        0.1594, 0.1596, 0.1649, 0.0849, 0.0610, 0.0794, 0.0624, 0.0726, 0.1471,\n",
            "        0.1397, 0.1672, 0.0602, 0.0634, 0.0663, 0.0802, 0.1618, 0.1318, 0.0789,\n",
            "        0.0597, 0.0623, 0.0782, 0.1432, 0.0652, 0.0638, 0.1664, 0.1028, 0.1684,\n",
            "        0.1548, 0.0598, 0.1574, 0.1425, 0.1463, 0.0957, 0.1632, 0.0669, 0.1526,\n",
            "        0.1097, 0.1610, 0.1070, 0.0629, 0.1591, 0.0592, 0.1059, 0.1545, 0.1225,\n",
            "        0.1665, 0.0709, 0.0888, 0.1605, 0.1631, 0.0581, 0.1447, 0.1386, 0.1484,\n",
            "        0.1689, 0.1623, 0.1609, 0.0897, 0.0616, 0.1485, 0.1516, 0.1748, 0.1368,\n",
            "        0.1037, 0.0813, 0.0757, 0.1467, 0.0625, 0.0584, 0.1286, 0.0652, 0.1638,\n",
            "        0.0968, 0.1618, 0.0583, 0.1389, 0.1617, 0.0958, 0.1560, 0.1690, 0.1206,\n",
            "        0.1658, 0.1549, 0.1266, 0.0686, 0.0646, 0.0632, 0.0853, 0.0666, 0.1423,\n",
            "        0.1617, 0.1618, 0.0616, 0.1622, 0.0931, 0.1506, 0.1657, 0.0697, 0.1612,\n",
            "        0.1684, 0.0605, 0.1683, 0.0599, 0.0640, 0.1630, 0.1006, 0.0609, 0.1334,\n",
            "        0.0809, 0.1482, 0.0612, 0.1672, 0.0730, 0.1036, 0.1455, 0.0646, 0.0704,\n",
            "        0.1591, 0.1681, 0.1712, 0.1224, 0.1160, 0.0611, 0.0630, 0.1594, 0.1516,\n",
            "        0.1159, 0.0703, 0.1601, 0.1409, 0.0543, 0.1688, 0.1477, 0.1665, 0.1136,\n",
            "        0.1684, 0.1544, 0.1397, 0.1491, 0.1355, 0.1519, 0.1270, 0.1490, 0.1030,\n",
            "        0.1689, 0.0593, 0.0965, 0.1360, 0.0587, 0.1094, 0.1558, 0.1241, 0.1384,\n",
            "        0.1637, 0.1581, 0.0628, 0.1609, 0.0630, 0.1300, 0.0655, 0.1454, 0.0620,\n",
            "        0.0731, 0.0712, 0.1455, 0.0926, 0.1577, 0.0700, 0.1557, 0.1524, 0.1071,\n",
            "        0.0554, 0.0622, 0.1481, 0.1589, 0.1544, 0.1653, 0.0659, 0.1685, 0.0930,\n",
            "        0.1493, 0.0589, 0.0572, 0.1453, 0.1597, 0.1633, 0.0987, 0.0850, 0.1037,\n",
            "        0.1612, 0.1395, 0.1596, 0.1168, 0.0618, 0.1699, 0.1599, 0.1528, 0.1591,\n",
            "        0.1411, 0.1429, 0.0724, 0.1623, 0.1508, 0.0613, 0.1634, 0.1079, 0.1467,\n",
            "        0.1503, 0.1687, 0.1476, 0.1557, 0.0626, 0.1057, 0.1233, 0.0607, 0.1462,\n",
            "        0.1033, 0.1698, 0.0643, 0.1638, 0.1624, 0.0694, 0.1617, 0.0976, 0.1574,\n",
            "        0.0569, 0.0959, 0.1484, 0.1074, 0.1722, 0.1312, 0.1476, 0.1603, 0.0633,\n",
            "        0.0608, 0.1586, 0.1135, 0.1502, 0.1502, 0.1574, 0.1506, 0.0944, 0.1617,\n",
            "        0.1688, 0.0538, 0.1633, 0.1450, 0.1520, 0.0644, 0.1431, 0.1239, 0.1509,\n",
            "        0.1182, 0.0678, 0.1434, 0.1689, 0.1420, 0.1511, 0.1514, 0.1596, 0.1473,\n",
            "        0.1451, 0.1480, 0.1083, 0.0848, 0.1388, 0.1438, 0.1507, 0.0625, 0.1578,\n",
            "        0.1440], grad_fn=<SqueezeBackward0>)\n",
            "Pred probs:\n",
            "tensor([0.5427, 0.5165, 0.5176, 0.5324, 0.5415, 0.5270, 0.5363, 0.5429, 0.5160,\n",
            "        0.5378, 0.5154, 0.5348, 0.5349, 0.5237, 0.5209, 0.5187, 0.5355, 0.5172,\n",
            "        0.5157, 0.5362, 0.5417, 0.5393, 0.5408, 0.5424, 0.5404, 0.5401, 0.5361,\n",
            "        0.5256, 0.5184, 0.5228, 0.5376, 0.5381, 0.5370, 0.5357, 0.5421, 0.5389,\n",
            "        0.5255, 0.5387, 0.5187, 0.5324, 0.5347, 0.5356, 0.5357, 0.5247, 0.5363,\n",
            "        0.5376, 0.5189, 0.5383, 0.5398, 0.5154, 0.5406, 0.5164, 0.5390, 0.5390,\n",
            "        0.5288, 0.5293, 0.5370, 0.5268, 0.5400, 0.5151, 0.5384, 0.5305, 0.5423,\n",
            "        0.5400, 0.5378, 0.5244, 0.5296, 0.5164, 0.5340, 0.5417, 0.5361, 0.5357,\n",
            "        0.5386, 0.5160, 0.5376, 0.5362, 0.5302, 0.5300, 0.5399, 0.5369, 0.5253,\n",
            "        0.5330, 0.5394, 0.5342, 0.5371, 0.5417, 0.5274, 0.5197, 0.5159, 0.5360,\n",
            "        0.5418, 0.5385, 0.5419, 0.5400, 0.5153, 0.5394, 0.5155, 0.5355, 0.5336,\n",
            "        0.5143, 0.5177, 0.5397, 0.5215, 0.5407, 0.5344, 0.5347, 0.5413, 0.5234,\n",
            "        0.5389, 0.5198, 0.5420, 0.5157, 0.5269, 0.5150, 0.5349, 0.5404, 0.5393,\n",
            "        0.5257, 0.5425, 0.5364, 0.5177, 0.5409, 0.5200, 0.5371, 0.5401, 0.5410,\n",
            "        0.5390, 0.5391, 0.5165, 0.5154, 0.5380, 0.5151, 0.5396, 0.5271, 0.5426,\n",
            "        0.5333, 0.5367, 0.5405, 0.5283, 0.5346, 0.5306, 0.5406, 0.5179, 0.5359,\n",
            "        0.5177, 0.5191, 0.5148, 0.5411, 0.5154, 0.5374, 0.5336, 0.5386, 0.5254,\n",
            "        0.5402, 0.5223, 0.5373, 0.5373, 0.5219, 0.5335, 0.5167, 0.5398, 0.5152,\n",
            "        0.5308, 0.5334, 0.5165, 0.5283, 0.5357, 0.5244, 0.5353, 0.5358, 0.5404,\n",
            "        0.5363, 0.5363, 0.5264, 0.5361, 0.5397, 0.5409, 0.5395, 0.5145, 0.5269,\n",
            "        0.5361, 0.5288, 0.5417, 0.5424, 0.5164, 0.5378, 0.5397, 0.5421, 0.5224,\n",
            "        0.5159, 0.5226, 0.5155, 0.5298, 0.5402, 0.5398, 0.5414, 0.5379, 0.5402,\n",
            "        0.5372, 0.5344, 0.5289, 0.5418, 0.5228, 0.5409, 0.5156, 0.5381, 0.5393,\n",
            "        0.5193, 0.5346, 0.5151, 0.5343, 0.5382, 0.5204, 0.5147, 0.5289, 0.5388,\n",
            "        0.5293, 0.5405, 0.5188, 0.5179, 0.5346, 0.5166, 0.5249, 0.5313, 0.5176,\n",
            "        0.5256, 0.5417, 0.5396, 0.5186, 0.5418, 0.5368, 0.5274, 0.5366, 0.5400,\n",
            "        0.5298, 0.5292, 0.5399, 0.5234, 0.5397, 0.5364, 0.5259, 0.5397, 0.5423,\n",
            "        0.5146, 0.5337, 0.5366, 0.5395, 0.5345, 0.5346, 0.5360, 0.5347, 0.5264,\n",
            "        0.5151, 0.5186, 0.5415, 0.5362, 0.5423, 0.5188, 0.5196, 0.5261, 0.5175,\n",
            "        0.5376, 0.5353, 0.5367, 0.5381, 0.5163, 0.5154, 0.5411, 0.5355, 0.5421,\n",
            "        0.5356, 0.5369, 0.5186, 0.5396, 0.5425, 0.5287, 0.5398, 0.5385, 0.5346,\n",
            "        0.5146, 0.5388, 0.5159, 0.5403, 0.5361, 0.5398, 0.5197, 0.5372, 0.5385,\n",
            "        0.5402, 0.5234, 0.5224, 0.5146, 0.5425, 0.5380, 0.5404, 0.5370, 0.5206,\n",
            "        0.5402, 0.5263, 0.5387, 0.5416, 0.5402, 0.5348, 0.5409, 0.5150, 0.5220,\n",
            "        0.5399, 0.5390, 0.5214, 0.5406, 0.5388, 0.5420, 0.5397, 0.5196, 0.5380,\n",
            "        0.5393, 0.5409, 0.5389, 0.5173, 0.5396, 0.5345, 0.5380, 0.5361, 0.5354,\n",
            "        0.5150, 0.5429, 0.5396, 0.5366, 0.5202, 0.5373, 0.5207, 0.5380, 0.5169,\n",
            "        0.5332, 0.5247, 0.5361, 0.5199, 0.5421, 0.5155, 0.5419, 0.5366, 0.5411,\n",
            "        0.5393, 0.5369, 0.5421, 0.5403, 0.5414, 0.5188, 0.5355, 0.5215, 0.5393,\n",
            "        0.5376, 0.5190, 0.5346, 0.5371, 0.5377, 0.5360, 0.5411, 0.5388, 0.5379,\n",
            "        0.5408, 0.5397, 0.5378, 0.5385, 0.5391, 0.5286, 0.5151, 0.5395, 0.5420,\n",
            "        0.5148, 0.5392, 0.5209, 0.5380, 0.5393, 0.5262, 0.5159, 0.5360, 0.5348,\n",
            "        0.5193, 0.5150, 0.5402, 0.5383, 0.5153, 0.5408, 0.5400, 0.5202, 0.5435,\n",
            "        0.5373, 0.5258, 0.5154, 0.5398, 0.5305, 0.5235, 0.5360, 0.5390, 0.5336,\n",
            "        0.5421, 0.5389, 0.5160, 0.5267, 0.5279, 0.5379, 0.5418, 0.5422, 0.5365,\n",
            "        0.5234, 0.5207, 0.5348, 0.5323, 0.5422, 0.5434, 0.5189, 0.5150, 0.5397,\n",
            "        0.5150, 0.5203, 0.5250, 0.5156, 0.5427, 0.5384, 0.5286, 0.5192, 0.5363,\n",
            "        0.5408, 0.5393, 0.5391, 0.5349, 0.5329, 0.5350, 0.5363, 0.5366, 0.5406,\n",
            "        0.5378, 0.5378, 0.5357, 0.5269, 0.5396, 0.5407, 0.5166, 0.5375, 0.5400,\n",
            "        0.5402, 0.5243, 0.5327, 0.5414, 0.5390, 0.5337, 0.5393, 0.5305, 0.5280,\n",
            "        0.5393, 0.5169, 0.5420, 0.5391, 0.5400, 0.5364, 0.5175, 0.5286, 0.5403,\n",
            "        0.5412, 0.5341, 0.5362, 0.5381, 0.5242, 0.5420, 0.5362, 0.5365, 0.5407,\n",
            "        0.5424, 0.5384, 0.5411, 0.5350, 0.5203, 0.5350, 0.5386, 0.5259, 0.5208,\n",
            "        0.5213, 0.5382, 0.5389, 0.5369, 0.5355, 0.5278, 0.5420, 0.5423, 0.5300,\n",
            "        0.5311, 0.5390, 0.5393, 0.5360, 0.5157, 0.5390, 0.5151, 0.5360, 0.5397,\n",
            "        0.5393, 0.5392, 0.5412, 0.5168, 0.5170, 0.5299, 0.5393, 0.5420, 0.5189,\n",
            "        0.5148, 0.5234, 0.5255, 0.5421, 0.5239, 0.5158, 0.5399, 0.5424, 0.5375,\n",
            "        0.5271, 0.5376, 0.5148, 0.5401, 0.5391, 0.5259, 0.5281, 0.5396, 0.5291,\n",
            "        0.5175, 0.5376, 0.5405, 0.5412, 0.5154, 0.5393, 0.5335, 0.5355, 0.5404,\n",
            "        0.5342, 0.5369, 0.5368, 0.5149, 0.5394, 0.5387, 0.5344, 0.5162, 0.5393,\n",
            "        0.5399, 0.5374, 0.5404, 0.5350, 0.5369, 0.5221, 0.5423, 0.5153, 0.5386,\n",
            "        0.5369, 0.5368, 0.5365, 0.5237, 0.5322, 0.5165, 0.5194, 0.5406, 0.5377,\n",
            "        0.5319, 0.5384, 0.5399, 0.5273, 0.5157, 0.5164, 0.5391, 0.5386, 0.5281,\n",
            "        0.5388, 0.5367, 0.5237, 0.5383, 0.5367, 0.5154, 0.5330, 0.5375, 0.5206,\n",
            "        0.5378, 0.5373, 0.5420, 0.5367, 0.5361, 0.5283, 0.5139, 0.5151, 0.5155,\n",
            "        0.5419, 0.5422, 0.5371, 0.5309, 0.5393, 0.5410, 0.5154, 0.5296, 0.5157,\n",
            "        0.5156, 0.5384, 0.5372, 0.5385, 0.5410, 0.5167, 0.5266, 0.5373, 0.5369,\n",
            "        0.5402, 0.5308, 0.5240, 0.5393, 0.5367, 0.5372, 0.5384, 0.5393, 0.5364,\n",
            "        0.5144, 0.5188, 0.5183, 0.5268, 0.5241, 0.5424, 0.5260, 0.5307, 0.5190,\n",
            "        0.5383, 0.5147, 0.5391, 0.5271, 0.5427, 0.5310, 0.5259, 0.5216, 0.5428,\n",
            "        0.5232, 0.5360, 0.5353, 0.5185, 0.5162, 0.5401, 0.5294, 0.5226, 0.5396,\n",
            "        0.5231, 0.5420, 0.5405, 0.5294, 0.5238, 0.5401, 0.5373, 0.5245, 0.5160,\n",
            "        0.5212, 0.5154, 0.5393, 0.5166, 0.5169, 0.5428, 0.5238, 0.5147, 0.5400,\n",
            "        0.5244, 0.5391, 0.5200, 0.5384, 0.5158, 0.5262, 0.5155, 0.5363, 0.5400,\n",
            "        0.5251, 0.5355, 0.5403, 0.5415, 0.5151, 0.5391, 0.5152, 0.5297, 0.5370,\n",
            "        0.5325, 0.5386, 0.5412, 0.5210, 0.5403, 0.5290, 0.5162, 0.5151, 0.5261,\n",
            "        0.5151, 0.5286, 0.5380, 0.5323, 0.5389, 0.5358, 0.5153, 0.5401, 0.5371,\n",
            "        0.5174, 0.5181, 0.5370, 0.5374, 0.5359, 0.5414, 0.5384, 0.5143, 0.5333,\n",
            "        0.5171, 0.5408, 0.5183, 0.5364, 0.5384, 0.5379, 0.5166, 0.5214, 0.5158,\n",
            "        0.5296, 0.5389, 0.5375, 0.5364, 0.5395, 0.5371, 0.5160, 0.5380, 0.5381,\n",
            "        0.5229, 0.5400, 0.5375, 0.5359, 0.5364, 0.5420, 0.5370, 0.5395, 0.5402,\n",
            "        0.5398, 0.5398, 0.5411, 0.5212, 0.5153, 0.5198, 0.5156, 0.5181, 0.5367,\n",
            "        0.5349, 0.5417, 0.5150, 0.5158, 0.5166, 0.5200, 0.5404, 0.5329, 0.5197,\n",
            "        0.5149, 0.5156, 0.5195, 0.5358, 0.5163, 0.5159, 0.5415, 0.5257, 0.5420,\n",
            "        0.5386, 0.5149, 0.5393, 0.5356, 0.5365, 0.5239, 0.5407, 0.5167, 0.5381,\n",
            "        0.5274, 0.5402, 0.5267, 0.5157, 0.5397, 0.5148, 0.5264, 0.5385, 0.5306,\n",
            "        0.5415, 0.5177, 0.5222, 0.5400, 0.5407, 0.5145, 0.5361, 0.5346, 0.5370,\n",
            "        0.5421, 0.5405, 0.5401, 0.5224, 0.5154, 0.5371, 0.5378, 0.5436, 0.5342,\n",
            "        0.5259, 0.5203, 0.5189, 0.5366, 0.5156, 0.5146, 0.5321, 0.5163, 0.5409,\n",
            "        0.5242, 0.5404, 0.5146, 0.5347, 0.5403, 0.5239, 0.5389, 0.5421, 0.5301,\n",
            "        0.5414, 0.5386, 0.5316, 0.5171, 0.5161, 0.5158, 0.5213, 0.5166, 0.5355,\n",
            "        0.5403, 0.5404, 0.5154, 0.5405, 0.5233, 0.5376, 0.5413, 0.5174, 0.5402,\n",
            "        0.5420, 0.5151, 0.5420, 0.5150, 0.5160, 0.5407, 0.5251, 0.5152, 0.5333,\n",
            "        0.5202, 0.5370, 0.5153, 0.5417, 0.5182, 0.5259, 0.5363, 0.5161, 0.5176,\n",
            "        0.5397, 0.5419, 0.5427, 0.5306, 0.5290, 0.5153, 0.5158, 0.5398, 0.5378,\n",
            "        0.5289, 0.5176, 0.5399, 0.5352, 0.5136, 0.5421, 0.5369, 0.5415, 0.5284,\n",
            "        0.5420, 0.5385, 0.5349, 0.5372, 0.5338, 0.5379, 0.5317, 0.5372, 0.5257,\n",
            "        0.5421, 0.5148, 0.5241, 0.5340, 0.5147, 0.5273, 0.5389, 0.5310, 0.5346,\n",
            "        0.5408, 0.5394, 0.5157, 0.5401, 0.5157, 0.5324, 0.5164, 0.5363, 0.5155,\n",
            "        0.5183, 0.5178, 0.5363, 0.5231, 0.5393, 0.5175, 0.5389, 0.5380, 0.5268,\n",
            "        0.5138, 0.5155, 0.5370, 0.5396, 0.5385, 0.5412, 0.5165, 0.5420, 0.5232,\n",
            "        0.5373, 0.5147, 0.5143, 0.5363, 0.5398, 0.5407, 0.5246, 0.5212, 0.5259,\n",
            "        0.5402, 0.5348, 0.5398, 0.5292, 0.5154, 0.5424, 0.5399, 0.5381, 0.5397,\n",
            "        0.5352, 0.5357, 0.5181, 0.5405, 0.5376, 0.5153, 0.5408, 0.5269, 0.5366,\n",
            "        0.5375, 0.5421, 0.5368, 0.5388, 0.5156, 0.5264, 0.5308, 0.5152, 0.5365,\n",
            "        0.5258, 0.5424, 0.5161, 0.5409, 0.5405, 0.5173, 0.5403, 0.5244, 0.5393,\n",
            "        0.5142, 0.5240, 0.5370, 0.5268, 0.5430, 0.5328, 0.5368, 0.5400, 0.5158,\n",
            "        0.5152, 0.5396, 0.5283, 0.5375, 0.5375, 0.5393, 0.5376, 0.5236, 0.5403,\n",
            "        0.5421, 0.5135, 0.5407, 0.5362, 0.5379, 0.5161, 0.5357, 0.5309, 0.5377,\n",
            "        0.5295, 0.5170, 0.5358, 0.5421, 0.5354, 0.5377, 0.5378, 0.5398, 0.5368,\n",
            "        0.5362, 0.5369, 0.5271, 0.5212, 0.5346, 0.5359, 0.5376, 0.5156, 0.5394,\n",
            "        0.5360], grad_fn=<SigmoidBackward0>)\n",
            "Pred labels:\n",
            "tensor([1., 1., 1., 1., 1., 1., 1., 1., 1., 1., 1., 1., 1., 1., 1., 1., 1., 1.,\n",
            "        1., 1., 1., 1., 1., 1., 1., 1., 1., 1., 1., 1., 1., 1., 1., 1., 1., 1.,\n",
            "        1., 1., 1., 1., 1., 1., 1., 1., 1., 1., 1., 1., 1., 1., 1., 1., 1., 1.,\n",
            "        1., 1., 1., 1., 1., 1., 1., 1., 1., 1., 1., 1., 1., 1., 1., 1., 1., 1.,\n",
            "        1., 1., 1., 1., 1., 1., 1., 1., 1., 1., 1., 1., 1., 1., 1., 1., 1., 1.,\n",
            "        1., 1., 1., 1., 1., 1., 1., 1., 1., 1., 1., 1., 1., 1., 1., 1., 1., 1.,\n",
            "        1., 1., 1., 1., 1., 1., 1., 1., 1., 1., 1., 1., 1., 1., 1., 1., 1., 1.,\n",
            "        1., 1., 1., 1., 1., 1., 1., 1., 1., 1., 1., 1., 1., 1., 1., 1., 1., 1.,\n",
            "        1., 1., 1., 1., 1., 1., 1., 1., 1., 1., 1., 1., 1., 1., 1., 1., 1., 1.,\n",
            "        1., 1., 1., 1., 1., 1., 1., 1., 1., 1., 1., 1., 1., 1., 1., 1., 1., 1.,\n",
            "        1., 1., 1., 1., 1., 1., 1., 1., 1., 1., 1., 1., 1., 1., 1., 1., 1., 1.,\n",
            "        1., 1., 1., 1., 1., 1., 1., 1., 1., 1., 1., 1., 1., 1., 1., 1., 1., 1.,\n",
            "        1., 1., 1., 1., 1., 1., 1., 1., 1., 1., 1., 1., 1., 1., 1., 1., 1., 1.,\n",
            "        1., 1., 1., 1., 1., 1., 1., 1., 1., 1., 1., 1., 1., 1., 1., 1., 1., 1.,\n",
            "        1., 1., 1., 1., 1., 1., 1., 1., 1., 1., 1., 1., 1., 1., 1., 1., 1., 1.,\n",
            "        1., 1., 1., 1., 1., 1., 1., 1., 1., 1., 1., 1., 1., 1., 1., 1., 1., 1.,\n",
            "        1., 1., 1., 1., 1., 1., 1., 1., 1., 1., 1., 1., 1., 1., 1., 1., 1., 1.,\n",
            "        1., 1., 1., 1., 1., 1., 1., 1., 1., 1., 1., 1., 1., 1., 1., 1., 1., 1.,\n",
            "        1., 1., 1., 1., 1., 1., 1., 1., 1., 1., 1., 1., 1., 1., 1., 1., 1., 1.,\n",
            "        1., 1., 1., 1., 1., 1., 1., 1., 1., 1., 1., 1., 1., 1., 1., 1., 1., 1.,\n",
            "        1., 1., 1., 1., 1., 1., 1., 1., 1., 1., 1., 1., 1., 1., 1., 1., 1., 1.,\n",
            "        1., 1., 1., 1., 1., 1., 1., 1., 1., 1., 1., 1., 1., 1., 1., 1., 1., 1.,\n",
            "        1., 1., 1., 1., 1., 1., 1., 1., 1., 1., 1., 1., 1., 1., 1., 1., 1., 1.,\n",
            "        1., 1., 1., 1., 1., 1., 1., 1., 1., 1., 1., 1., 1., 1., 1., 1., 1., 1.,\n",
            "        1., 1., 1., 1., 1., 1., 1., 1., 1., 1., 1., 1., 1., 1., 1., 1., 1., 1.,\n",
            "        1., 1., 1., 1., 1., 1., 1., 1., 1., 1., 1., 1., 1., 1., 1., 1., 1., 1.,\n",
            "        1., 1., 1., 1., 1., 1., 1., 1., 1., 1., 1., 1., 1., 1., 1., 1., 1., 1.,\n",
            "        1., 1., 1., 1., 1., 1., 1., 1., 1., 1., 1., 1., 1., 1., 1., 1., 1., 1.,\n",
            "        1., 1., 1., 1., 1., 1., 1., 1., 1., 1., 1., 1., 1., 1., 1., 1., 1., 1.,\n",
            "        1., 1., 1., 1., 1., 1., 1., 1., 1., 1., 1., 1., 1., 1., 1., 1., 1., 1.,\n",
            "        1., 1., 1., 1., 1., 1., 1., 1., 1., 1., 1., 1., 1., 1., 1., 1., 1., 1.,\n",
            "        1., 1., 1., 1., 1., 1., 1., 1., 1., 1., 1., 1., 1., 1., 1., 1., 1., 1.,\n",
            "        1., 1., 1., 1., 1., 1., 1., 1., 1., 1., 1., 1., 1., 1., 1., 1., 1., 1.,\n",
            "        1., 1., 1., 1., 1., 1., 1., 1., 1., 1., 1., 1., 1., 1., 1., 1., 1., 1.,\n",
            "        1., 1., 1., 1., 1., 1., 1., 1., 1., 1., 1., 1., 1., 1., 1., 1., 1., 1.,\n",
            "        1., 1., 1., 1., 1., 1., 1., 1., 1., 1., 1., 1., 1., 1., 1., 1., 1., 1.,\n",
            "        1., 1., 1., 1., 1., 1., 1., 1., 1., 1., 1., 1., 1., 1., 1., 1., 1., 1.,\n",
            "        1., 1., 1., 1., 1., 1., 1., 1., 1., 1., 1., 1., 1., 1., 1., 1., 1., 1.,\n",
            "        1., 1., 1., 1., 1., 1., 1., 1., 1., 1., 1., 1., 1., 1., 1., 1., 1., 1.,\n",
            "        1., 1., 1., 1., 1., 1., 1., 1., 1., 1., 1., 1., 1., 1., 1., 1., 1., 1.,\n",
            "        1., 1., 1., 1., 1., 1., 1., 1., 1., 1., 1., 1., 1., 1., 1., 1., 1., 1.,\n",
            "        1., 1., 1., 1., 1., 1., 1., 1., 1., 1., 1., 1., 1., 1., 1., 1., 1., 1.,\n",
            "        1., 1., 1., 1., 1., 1., 1., 1., 1., 1., 1., 1., 1., 1., 1., 1., 1., 1.,\n",
            "        1., 1., 1., 1., 1., 1., 1., 1., 1., 1., 1., 1., 1., 1., 1., 1., 1., 1.,\n",
            "        1., 1., 1., 1., 1., 1., 1., 1., 1., 1., 1., 1., 1., 1., 1., 1., 1., 1.,\n",
            "        1., 1., 1., 1., 1., 1., 1., 1., 1., 1., 1., 1., 1., 1., 1., 1., 1., 1.,\n",
            "        1., 1., 1., 1., 1., 1., 1., 1., 1., 1., 1., 1., 1., 1., 1., 1., 1., 1.,\n",
            "        1., 1., 1., 1., 1., 1., 1., 1., 1., 1., 1., 1., 1., 1., 1., 1., 1., 1.,\n",
            "        1., 1., 1., 1., 1., 1., 1., 1., 1., 1., 1., 1., 1., 1., 1., 1., 1., 1.,\n",
            "        1., 1., 1., 1., 1., 1., 1., 1., 1., 1., 1., 1., 1., 1., 1., 1., 1., 1.,\n",
            "        1., 1., 1., 1., 1., 1., 1., 1., 1., 1., 1., 1., 1., 1., 1., 1., 1., 1.,\n",
            "        1., 1., 1., 1., 1., 1., 1., 1., 1., 1., 1., 1., 1., 1., 1., 1., 1., 1.,\n",
            "        1., 1., 1., 1., 1., 1., 1., 1., 1., 1., 1., 1., 1., 1., 1., 1., 1., 1.,\n",
            "        1., 1., 1., 1., 1., 1., 1., 1., 1., 1., 1., 1., 1., 1., 1., 1., 1., 1.,\n",
            "        1., 1., 1., 1., 1., 1., 1., 1., 1., 1., 1., 1., 1., 1., 1., 1., 1., 1.,\n",
            "        1., 1., 1., 1., 1., 1., 1., 1., 1., 1.], grad_fn=<RoundBackward0>)\n"
          ]
        }
      ]
    },
    {
      "cell_type": "code",
      "source": [
        "#model(X_train.to(device).squeeze()).shape"
      ],
      "metadata": {
        "id": "NCOqzc-pqZKD"
      },
      "execution_count": 13,
      "outputs": []
    },
    {
      "cell_type": "code",
      "source": [
        "# # What's coming out of our model?\n",
        "# logits= model(X_train.to(device)).squeeze()\n",
        "# # logits (raw outputs of model)\n",
        "# print(f\"Logits: {logits[:10]}\\n\")\n",
        "# ## Your code here ##\n",
        "# y_pred = torch.sigmoid(logits)\n",
        "\n",
        "# # Prediction probabilities\n",
        "# print(f\"Pred probs: {y_pred[:10]}\")\n",
        "# ## Your code here ##\n",
        "\n",
        "# # Prediction labels\n",
        "# y_labels = torch.round(y_pred)\n",
        "# print(f\"Pred labels: {y_labels[:10]}\\n\")\n",
        "# ## Your code here ##"
      ],
      "metadata": {
        "id": "AgnFdlamd2-D"
      },
      "execution_count": 14,
      "outputs": []
    },
    {
      "cell_type": "code",
      "source": [
        "len(X_train)"
      ],
      "metadata": {
        "id": "dk6BO5bgrWqc",
        "outputId": "5f0e261b-0ad8-414d-b6c4-55071d553061",
        "colab": {
          "base_uri": "https://localhost:8080/"
        }
      },
      "execution_count": 15,
      "outputs": [
        {
          "output_type": "execute_result",
          "data": {
            "text/plain": [
              "800"
            ]
          },
          "metadata": {},
          "execution_count": 15
        }
      ]
    },
    {
      "cell_type": "code",
      "source": [
        "#logits.shape, X_train.shape"
      ],
      "metadata": {
        "id": "f93YB9nopaGq"
      },
      "execution_count": 16,
      "outputs": []
    },
    {
      "cell_type": "code",
      "source": [
        "# Let's calculuate the accuracy using accuracy from TorchMetrics\n",
        "!pip -q install torchmetrics # Colab doesn't come with torchmetrics\n",
        "from torchmetrics import Accuracy\n",
        "\n",
        "## TODO: Uncomment this code to use the Accuracy function\n",
        "acc_fn = Accuracy(task=\"multiclass\", num_classes=2).to(device) # send accuracy function to device\n",
        "acc_fn"
      ],
      "metadata": {
        "id": "rUSDNHB4euoJ",
        "outputId": "e18ba95a-02fe-4f93-bd9d-854e997e0ff1",
        "colab": {
          "base_uri": "https://localhost:8080/"
        }
      },
      "execution_count": 18,
      "outputs": [
        {
          "output_type": "stream",
          "name": "stdout",
          "text": [
            "\u001b[?25l   \u001b[90m━━━━━━━━━━━━━━━━━━━━━━━━━━━━━━━━━━━━━━━━\u001b[0m \u001b[32m0.0/866.2 kB\u001b[0m \u001b[31m?\u001b[0m eta \u001b[36m-:--:--\u001b[0m\r\u001b[2K   \u001b[91m━━━━━━━━━━━━━━━━━\u001b[0m\u001b[91m╸\u001b[0m\u001b[90m━━━━━━━━━━━━━━━━━━━━━━\u001b[0m \u001b[32m389.1/866.2 kB\u001b[0m \u001b[31m11.5 MB/s\u001b[0m eta \u001b[36m0:00:01\u001b[0m\r\u001b[2K   \u001b[90m━━━━━━━━━━━━━━━━━━━━━━━━━━━━━━━━━━━━━━━━\u001b[0m \u001b[32m866.2/866.2 kB\u001b[0m \u001b[31m12.2 MB/s\u001b[0m eta \u001b[36m0:00:00\u001b[0m\n",
            "\u001b[?25h"
          ]
        },
        {
          "output_type": "execute_result",
          "data": {
            "text/plain": [
              "MulticlassAccuracy()"
            ]
          },
          "metadata": {},
          "execution_count": 18
        }
      ]
    },
    {
      "cell_type": "code",
      "source": [
        "print(X_train.shape)  # Should be (800, 2) or something similar\n",
        "print(y_train.shape)  # Should be (800,)\n"
      ],
      "metadata": {
        "id": "6TDJwdnQo0NX",
        "outputId": "66e84e85-82c3-44d0-a89a-0c56800d6864",
        "colab": {
          "base_uri": "https://localhost:8080/"
        }
      },
      "execution_count": 19,
      "outputs": [
        {
          "output_type": "stream",
          "name": "stdout",
          "text": [
            "torch.Size([800, 2])\n",
            "torch.Size([800])\n"
          ]
        }
      ]
    },
    {
      "cell_type": "code",
      "source": [
        "torch.manual_seed(RANDOM_SEED)\n",
        "\n",
        "epochs=1000\n",
        "\n",
        "# Send data to the device\n",
        "X_train, y_train = X_train.to(device), y_train.to(device)\n",
        "X_test, y_test = X_test.to(device), y_test.to(device)\n",
        "\n",
        "# Loop through the data\n",
        "for epoch in range(epochs):\n",
        "  ### Training\n",
        "  model.train()\n",
        "\n",
        "  # 1. Forward pass\n",
        "  y_logits = model(X_train).squeeze()\n",
        "  # print(y_logits[:5]) # model raw outputs are \"logits\"\n",
        "  y_pred_probs = torch.sigmoid(y_logits)\n",
        "  y_pred = torch.round(y_pred_probs)\n",
        "\n",
        "  # 2. Calculaute the loss\n",
        "  loss = loss_fn(y_logits, y_train) # loss = compare model raw outputs to desired model outputs\n",
        "  acc = acc_fn(y_pred, y_train.int()) # the accuracy function needs to compare pred labels (not logits) with actual labels\n",
        "\n",
        "  # 3. Zero the gradients\n",
        "  optimizer.zero_grad()\n",
        "\n",
        "  # 4. Loss backward (perform backpropagation) - https://brilliant.org/wiki/backpropagation/#:~:text=Backpropagation%2C%20short%20for%20%22backward%20propagation,to%20the%20neural%20network's%20weights.\n",
        "  loss.backward()\n",
        "\n",
        "  # 5. Step the optimizer (gradient descent) - https://towardsdatascience.com/gradient-descent-algorithm-a-deep-dive-cf04e8115f21#:~:text=Gradient%20descent%20(GD)%20is%20an,e.g.%20in%20a%20linear%20regression)\n",
        "  optimizer.step()\n",
        "\n",
        "  ### Testing\n",
        "  model.eval()\n",
        "  with torch.inference_mode():\n",
        "    # 1. Forward pass\n",
        "    test_logits = model(X_test).squeeze()\n",
        "    test_pred = torch.round(torch.sigmoid(test_logits))\n",
        "    # 2. Caculate the loss/acc\n",
        "    test_loss = loss_fn(test_logits, y_test)\n",
        "    test_acc = acc_fn(test_pred, y_test.int())\n",
        "\n",
        "  # Print out what's happening\n",
        "  if epoch % 100 == 0:\n",
        "    print(f\"Epoch: {epoch} | Loss: {loss:.2f} Acc: {acc:.2f} | Test loss: {test_loss:.2f} Test acc: {test_acc:.2f}\")\n",
        ""
      ],
      "metadata": {
        "id": "SHBY3h7XXnxt",
        "outputId": "650c5146-bafe-4577-95cd-709420c7fab2",
        "colab": {
          "base_uri": "https://localhost:8080/",
          "height": 372
        }
      },
      "execution_count": 20,
      "outputs": [
        {
          "output_type": "error",
          "ename": "ValueError",
          "evalue": "Target size (torch.Size([800])) must be the same as input size (torch.Size([1000]))",
          "traceback": [
            "\u001b[0;31m---------------------------------------------------------------------------\u001b[0m",
            "\u001b[0;31mValueError\u001b[0m                                Traceback (most recent call last)",
            "\u001b[0;32m<ipython-input-20-020a4099d8a3>\u001b[0m in \u001b[0;36m<cell line: 10>\u001b[0;34m()\u001b[0m\n\u001b[1;32m     19\u001b[0m \u001b[0;34m\u001b[0m\u001b[0m\n\u001b[1;32m     20\u001b[0m   \u001b[0;31m# 2. Calculaute the loss\u001b[0m\u001b[0;34m\u001b[0m\u001b[0;34m\u001b[0m\u001b[0m\n\u001b[0;32m---> 21\u001b[0;31m   \u001b[0mloss\u001b[0m \u001b[0;34m=\u001b[0m \u001b[0mloss_fn\u001b[0m\u001b[0;34m(\u001b[0m\u001b[0my_logits\u001b[0m\u001b[0;34m,\u001b[0m \u001b[0my_train\u001b[0m\u001b[0;34m)\u001b[0m \u001b[0;31m# loss = compare model raw outputs to desired model outputs\u001b[0m\u001b[0;34m\u001b[0m\u001b[0;34m\u001b[0m\u001b[0m\n\u001b[0m\u001b[1;32m     22\u001b[0m   \u001b[0macc\u001b[0m \u001b[0;34m=\u001b[0m \u001b[0macc_fn\u001b[0m\u001b[0;34m(\u001b[0m\u001b[0my_pred\u001b[0m\u001b[0;34m,\u001b[0m \u001b[0my_train\u001b[0m\u001b[0;34m.\u001b[0m\u001b[0mint\u001b[0m\u001b[0;34m(\u001b[0m\u001b[0;34m)\u001b[0m\u001b[0;34m)\u001b[0m \u001b[0;31m# the accuracy function needs to compare pred labels (not logits) with actual labels\u001b[0m\u001b[0;34m\u001b[0m\u001b[0;34m\u001b[0m\u001b[0m\n\u001b[1;32m     23\u001b[0m \u001b[0;34m\u001b[0m\u001b[0m\n",
            "\u001b[0;32m/usr/local/lib/python3.10/dist-packages/torch/nn/modules/module.py\u001b[0m in \u001b[0;36m_wrapped_call_impl\u001b[0;34m(self, *args, **kwargs)\u001b[0m\n\u001b[1;32m   1530\u001b[0m             \u001b[0;32mreturn\u001b[0m \u001b[0mself\u001b[0m\u001b[0;34m.\u001b[0m\u001b[0m_compiled_call_impl\u001b[0m\u001b[0;34m(\u001b[0m\u001b[0;34m*\u001b[0m\u001b[0margs\u001b[0m\u001b[0;34m,\u001b[0m \u001b[0;34m**\u001b[0m\u001b[0mkwargs\u001b[0m\u001b[0;34m)\u001b[0m  \u001b[0;31m# type: ignore[misc]\u001b[0m\u001b[0;34m\u001b[0m\u001b[0;34m\u001b[0m\u001b[0m\n\u001b[1;32m   1531\u001b[0m         \u001b[0;32melse\u001b[0m\u001b[0;34m:\u001b[0m\u001b[0;34m\u001b[0m\u001b[0;34m\u001b[0m\u001b[0m\n\u001b[0;32m-> 1532\u001b[0;31m             \u001b[0;32mreturn\u001b[0m \u001b[0mself\u001b[0m\u001b[0;34m.\u001b[0m\u001b[0m_call_impl\u001b[0m\u001b[0;34m(\u001b[0m\u001b[0;34m*\u001b[0m\u001b[0margs\u001b[0m\u001b[0;34m,\u001b[0m \u001b[0;34m**\u001b[0m\u001b[0mkwargs\u001b[0m\u001b[0;34m)\u001b[0m\u001b[0;34m\u001b[0m\u001b[0;34m\u001b[0m\u001b[0m\n\u001b[0m\u001b[1;32m   1533\u001b[0m \u001b[0;34m\u001b[0m\u001b[0m\n\u001b[1;32m   1534\u001b[0m     \u001b[0;32mdef\u001b[0m \u001b[0m_call_impl\u001b[0m\u001b[0;34m(\u001b[0m\u001b[0mself\u001b[0m\u001b[0;34m,\u001b[0m \u001b[0;34m*\u001b[0m\u001b[0margs\u001b[0m\u001b[0;34m,\u001b[0m \u001b[0;34m**\u001b[0m\u001b[0mkwargs\u001b[0m\u001b[0;34m)\u001b[0m\u001b[0;34m:\u001b[0m\u001b[0;34m\u001b[0m\u001b[0;34m\u001b[0m\u001b[0m\n",
            "\u001b[0;32m/usr/local/lib/python3.10/dist-packages/torch/nn/modules/module.py\u001b[0m in \u001b[0;36m_call_impl\u001b[0;34m(self, *args, **kwargs)\u001b[0m\n\u001b[1;32m   1539\u001b[0m                 \u001b[0;32mor\u001b[0m \u001b[0m_global_backward_pre_hooks\u001b[0m \u001b[0;32mor\u001b[0m \u001b[0m_global_backward_hooks\u001b[0m\u001b[0;34m\u001b[0m\u001b[0;34m\u001b[0m\u001b[0m\n\u001b[1;32m   1540\u001b[0m                 or _global_forward_hooks or _global_forward_pre_hooks):\n\u001b[0;32m-> 1541\u001b[0;31m             \u001b[0;32mreturn\u001b[0m \u001b[0mforward_call\u001b[0m\u001b[0;34m(\u001b[0m\u001b[0;34m*\u001b[0m\u001b[0margs\u001b[0m\u001b[0;34m,\u001b[0m \u001b[0;34m**\u001b[0m\u001b[0mkwargs\u001b[0m\u001b[0;34m)\u001b[0m\u001b[0;34m\u001b[0m\u001b[0;34m\u001b[0m\u001b[0m\n\u001b[0m\u001b[1;32m   1542\u001b[0m \u001b[0;34m\u001b[0m\u001b[0m\n\u001b[1;32m   1543\u001b[0m         \u001b[0;32mtry\u001b[0m\u001b[0;34m:\u001b[0m\u001b[0;34m\u001b[0m\u001b[0;34m\u001b[0m\u001b[0m\n",
            "\u001b[0;32m/usr/local/lib/python3.10/dist-packages/torch/nn/modules/loss.py\u001b[0m in \u001b[0;36mforward\u001b[0;34m(self, input, target)\u001b[0m\n\u001b[1;32m    729\u001b[0m \u001b[0;34m\u001b[0m\u001b[0m\n\u001b[1;32m    730\u001b[0m     \u001b[0;32mdef\u001b[0m \u001b[0mforward\u001b[0m\u001b[0;34m(\u001b[0m\u001b[0mself\u001b[0m\u001b[0;34m,\u001b[0m \u001b[0minput\u001b[0m\u001b[0;34m:\u001b[0m \u001b[0mTensor\u001b[0m\u001b[0;34m,\u001b[0m \u001b[0mtarget\u001b[0m\u001b[0;34m:\u001b[0m \u001b[0mTensor\u001b[0m\u001b[0;34m)\u001b[0m \u001b[0;34m->\u001b[0m \u001b[0mTensor\u001b[0m\u001b[0;34m:\u001b[0m\u001b[0;34m\u001b[0m\u001b[0;34m\u001b[0m\u001b[0m\n\u001b[0;32m--> 731\u001b[0;31m         return F.binary_cross_entropy_with_logits(input, target,\n\u001b[0m\u001b[1;32m    732\u001b[0m                                                   \u001b[0mself\u001b[0m\u001b[0;34m.\u001b[0m\u001b[0mweight\u001b[0m\u001b[0;34m,\u001b[0m\u001b[0;34m\u001b[0m\u001b[0;34m\u001b[0m\u001b[0m\n\u001b[1;32m    733\u001b[0m                                                   \u001b[0mpos_weight\u001b[0m\u001b[0;34m=\u001b[0m\u001b[0mself\u001b[0m\u001b[0;34m.\u001b[0m\u001b[0mpos_weight\u001b[0m\u001b[0;34m,\u001b[0m\u001b[0;34m\u001b[0m\u001b[0;34m\u001b[0m\u001b[0m\n",
            "\u001b[0;32m/usr/local/lib/python3.10/dist-packages/torch/nn/functional.py\u001b[0m in \u001b[0;36mbinary_cross_entropy_with_logits\u001b[0;34m(input, target, weight, size_average, reduce, reduction, pos_weight)\u001b[0m\n\u001b[1;32m   3222\u001b[0m \u001b[0;34m\u001b[0m\u001b[0m\n\u001b[1;32m   3223\u001b[0m     \u001b[0;32mif\u001b[0m \u001b[0;32mnot\u001b[0m \u001b[0;34m(\u001b[0m\u001b[0mtarget\u001b[0m\u001b[0;34m.\u001b[0m\u001b[0msize\u001b[0m\u001b[0;34m(\u001b[0m\u001b[0;34m)\u001b[0m \u001b[0;34m==\u001b[0m \u001b[0minput\u001b[0m\u001b[0;34m.\u001b[0m\u001b[0msize\u001b[0m\u001b[0;34m(\u001b[0m\u001b[0;34m)\u001b[0m\u001b[0;34m)\u001b[0m\u001b[0;34m:\u001b[0m\u001b[0;34m\u001b[0m\u001b[0;34m\u001b[0m\u001b[0m\n\u001b[0;32m-> 3224\u001b[0;31m         \u001b[0;32mraise\u001b[0m \u001b[0mValueError\u001b[0m\u001b[0;34m(\u001b[0m\u001b[0;34mf\"Target size ({target.size()}) must be the same as input size ({input.size()})\"\u001b[0m\u001b[0;34m)\u001b[0m\u001b[0;34m\u001b[0m\u001b[0;34m\u001b[0m\u001b[0m\n\u001b[0m\u001b[1;32m   3225\u001b[0m \u001b[0;34m\u001b[0m\u001b[0m\n\u001b[1;32m   3226\u001b[0m     \u001b[0;32mreturn\u001b[0m \u001b[0mtorch\u001b[0m\u001b[0;34m.\u001b[0m\u001b[0mbinary_cross_entropy_with_logits\u001b[0m\u001b[0;34m(\u001b[0m\u001b[0minput\u001b[0m\u001b[0;34m,\u001b[0m \u001b[0mtarget\u001b[0m\u001b[0;34m,\u001b[0m \u001b[0mweight\u001b[0m\u001b[0;34m,\u001b[0m \u001b[0mpos_weight\u001b[0m\u001b[0;34m,\u001b[0m \u001b[0mreduction_enum\u001b[0m\u001b[0;34m)\u001b[0m\u001b[0;34m\u001b[0m\u001b[0;34m\u001b[0m\u001b[0m\n",
            "\u001b[0;31mValueError\u001b[0m: Target size (torch.Size([800])) must be the same as input size (torch.Size([1000]))"
          ]
        }
      ]
    },
    {
      "cell_type": "markdown",
      "source": [
        "## 5. Make predictions with your trained model and plot them using the `plot_decision_boundary()` function created in this notebook."
      ],
      "metadata": {
        "id": "8Nwihtomj9JO"
      }
    },
    {
      "cell_type": "code",
      "source": [],
      "metadata": {
        "id": "ScqqYtq1thmz"
      },
      "execution_count": null,
      "outputs": []
    },
    {
      "cell_type": "code",
      "source": [
        "# Plot the model predictions\n",
        "import numpy as np\n",
        "\n",
        "def plot_decision_boundary(model, X, y):\n",
        "\n",
        "    # Put everything to CPU (works better with NumPy + Matplotlib)\n",
        "    model.to(\"cpu\")\n",
        "    X, y = X.to(\"cpu\"), y.to(\"cpu\")\n",
        "\n",
        "    # Source - https://madewithml.com/courses/foundations/neural-networks/\n",
        "    # (with modifications)\n",
        "    x_min, x_max = X[:, 0].min() - 0.1, X[:, 0].max() + 0.1\n",
        "    y_min, y_max = X[:, 1].min() - 0.1, X[:, 1].max() + 0.1\n",
        "    xx, yy = np.meshgrid(np.linspace(x_min, x_max, 101),\n",
        "                         np.linspace(y_min, y_max, 101))\n",
        "\n",
        "    # Make features\n",
        "    X_to_pred_on = torch.from_numpy(np.column_stack((xx.ravel(), yy.ravel()))).float()\n",
        "\n",
        "    # Make predictions\n",
        "    model.eval()\n",
        "    with torch.inference_mode():\n",
        "        y_logits = model(X_to_pred_on)\n",
        "\n",
        "    # Test for multi-class or binary and adjust logits to prediction labels\n",
        "    if len(torch.unique(y)) > 2:\n",
        "        y_pred = torch.softmax(y_logits, dim=1).argmax(dim=1) # mutli-class\n",
        "    else:\n",
        "        y_pred = torch.round(torch.sigmoid(y_logits)) # binary\n",
        "\n",
        "    # Reshape preds and plot\n",
        "    y_pred = y_pred.reshape(xx.shape).detach().numpy()\n",
        "    plt.contourf(xx, yy, y_pred, cmap=plt.cm.RdYlBu, alpha=0.7)\n",
        "    plt.scatter(X[:, 0], X[:, 1], c=y, s=40, cmap=plt.cm.RdYlBu)\n",
        "    plt.xlim(xx.min(), xx.max())\n",
        "    plt.ylim(yy.min(), yy.max())"
      ],
      "metadata": {
        "id": "0YRzatb8a1P2"
      },
      "execution_count": null,
      "outputs": []
    },
    {
      "cell_type": "code",
      "source": [
        "# Plot decision boundaries for training and test sets\n"
      ],
      "metadata": {
        "id": "PMrcpyirig1d"
      },
      "execution_count": null,
      "outputs": []
    },
    {
      "cell_type": "markdown",
      "source": [
        "## 6. Replicate the Tanh (hyperbolic tangent) activation function in pure PyTorch.\n",
        "  * Feel free to reference the [ML cheatsheet website](https://ml-cheatsheet.readthedocs.io/en/latest/activation_functions.html#tanh) for the formula."
      ],
      "metadata": {
        "id": "EtMYBvtciiAU"
      }
    },
    {
      "cell_type": "code",
      "source": [
        "# Create a straight line tensor\n"
      ],
      "metadata": {
        "id": "BlXaWC5TkEUE"
      },
      "execution_count": null,
      "outputs": []
    },
    {
      "cell_type": "code",
      "source": [
        "# Test torch.tanh() on the tensor and plot it\n"
      ],
      "metadata": {
        "id": "vZPCcQmIkZjO"
      },
      "execution_count": null,
      "outputs": []
    },
    {
      "cell_type": "code",
      "source": [
        "# Replicate torch.tanh() and plot it\n"
      ],
      "metadata": {
        "id": "J-ne__Kjkdc1"
      },
      "execution_count": null,
      "outputs": []
    },
    {
      "cell_type": "markdown",
      "source": [
        "## 7. Create a multi-class dataset using the [spirals data creation function from CS231n](https://cs231n.github.io/neural-networks-case-study/) (see below for the code).\n",
        "  * Split the data into training and test sets (80% train, 20% test) as well as turn it into PyTorch tensors.\n",
        "  * Construct a model capable of fitting the data (you may need a combination of linear and non-linear layers).\n",
        "  * Build a loss function and optimizer capable of handling multi-class data (optional extension: use the Adam optimizer instead of SGD, you may have to experiment with different values of the learning rate to get it working).\n",
        "  * Make a training and testing loop for the multi-class data and train a model on it to reach over 95% testing accuracy (you can use any accuracy measuring function here that you like) - 1000 epochs should be plenty.\n",
        "  * Plot the decision boundaries on the spirals dataset from your model predictions, the `plot_decision_boundary()` function should work for this dataset too."
      ],
      "metadata": {
        "id": "Lbt1bNcWk5G9"
      }
    },
    {
      "cell_type": "code",
      "source": [
        "# Code for creating a spiral dataset from CS231n\n",
        "import numpy as np\n",
        "import matplotlib.pyplot as plt\n",
        "RANDOM_SEED = 42\n",
        "np.random.seed(RANDOM_SEED)\n",
        "N = 100 # number of points per class\n",
        "D = 2 # dimensionality\n",
        "K = 3 # number of classes\n",
        "X = np.zeros((N*K,D)) # data matrix (each row = single example)\n",
        "y = np.zeros(N*K, dtype='uint8') # class labels\n",
        "for j in range(K):\n",
        "  ix = range(N*j,N*(j+1))\n",
        "  r = np.linspace(0.0,1,N) # radius\n",
        "  t = np.linspace(j*4,(j+1)*4,N) + np.random.randn(N)*0.2 # theta\n",
        "  X[ix] = np.c_[r*np.sin(t), r*np.cos(t)]\n",
        "  y[ix] = j\n",
        "# lets visualize the data\n",
        "plt.scatter(X[:, 0], X[:, 1], c=y, s=40, cmap=plt.cm.RdYlBu)\n",
        "plt.show()"
      ],
      "metadata": {
        "id": "tU-UNZsKlJls"
      },
      "execution_count": null,
      "outputs": []
    },
    {
      "cell_type": "code",
      "source": [
        "# Turn data into tensors\n",
        "import torch\n",
        "X = torch.from_numpy(X).type(torch.float) # features as float32\n",
        "y = torch.from_numpy(y).type(torch.LongTensor) # labels need to be of type long\n",
        "\n",
        "# Create train and test splits\n",
        "from sklearn.model_selection import train_test_split\n"
      ],
      "metadata": {
        "id": "OWVrmkEyl0VP"
      },
      "execution_count": null,
      "outputs": []
    },
    {
      "cell_type": "code",
      "source": [
        "# Let's calculuate the accuracy for when we fit our model\n",
        "!pip -q install torchmetrics # colab doesn't come with torchmetrics\n",
        "from torchmetrics import Accuracy\n",
        "\n",
        "## TODO: uncomment the two lines below to send the accuracy function to the device\n",
        "# acc_fn = Accuracy(task=\"multiclass\", num_classes=4).to(device)\n",
        "# acc_fn"
      ],
      "metadata": {
        "id": "a-v-7f0op0tG"
      },
      "execution_count": null,
      "outputs": []
    },
    {
      "cell_type": "code",
      "source": [
        "# Prepare device agnostic code\n",
        "# device = \"cuda\" if torch.cuda.is_available() else \"cpu\"\n",
        "\n",
        "# Create model by subclassing nn.Module\n",
        "\n",
        "\n",
        "\n",
        "# Instantiate model and send it to device\n"
      ],
      "metadata": {
        "id": "DB3u3ldumapf"
      },
      "execution_count": null,
      "outputs": []
    },
    {
      "cell_type": "code",
      "source": [
        "# Setup data to be device agnostic\n",
        "\n",
        "\n",
        "# Print out first 10 untrained model outputs (forward pass)\n",
        "print(\"Logits:\")\n",
        "## Your code here ##\n",
        "\n",
        "print(\"Pred probs:\")\n",
        "## Your code here ##\n",
        "\n",
        "print(\"Pred labels:\")\n",
        "## Your code here ##"
      ],
      "metadata": {
        "id": "QE7XWSSunMTS"
      },
      "execution_count": null,
      "outputs": []
    },
    {
      "cell_type": "code",
      "source": [
        "# Setup loss function and optimizer\n",
        "# loss_fn =\n",
        "# optimizer ="
      ],
      "metadata": {
        "id": "54EqLRKLo0AW"
      },
      "execution_count": null,
      "outputs": []
    },
    {
      "cell_type": "code",
      "source": [
        "# Build a training loop for the model\n",
        "\n",
        "# Loop over data\n",
        "\n",
        "\n",
        "  ## Training\n",
        "\n",
        "  # 1. Forward pass\n",
        "\n",
        "\n",
        "  # 2. Calculate the loss\n",
        "\n",
        "\n",
        "  # 3. Optimizer zero grad\n",
        "\n",
        "\n",
        "  # 4. Loss backward\n",
        "\n",
        "\n",
        "  # 5. Optimizer step\n",
        "\n",
        "\n",
        "  ## Testing\n",
        "\n",
        "\n",
        "    # 1. Forward pass\n",
        "\n",
        "    # 2. Caculate loss and acc\n",
        "\n",
        "  # Print out what's happening every 100 epochs\n"
      ],
      "metadata": {
        "id": "vIlExkUHnmxi"
      },
      "execution_count": null,
      "outputs": []
    },
    {
      "cell_type": "code",
      "source": [
        "# Plot decision boundaries for training and test sets\n"
      ],
      "metadata": {
        "id": "JrwVRbaE0keT"
      },
      "execution_count": null,
      "outputs": []
    }
  ]
}