{
  "nbformat": 4,
  "nbformat_minor": 0,
  "metadata": {
    "colab": {
      "provenance": [],
      "gpuType": "T4",
      "authorship_tag": "ABX9TyNXse/9Ey9j12uVnIZlp/bM",
      "include_colab_link": true
    },
    "kernelspec": {
      "name": "python3",
      "display_name": "Python 3"
    },
    "language_info": {
      "name": "python"
    },
    "accelerator": "GPU",
    "widgets": {
      "application/vnd.jupyter.widget-state+json": {
        "2650598a0cde4e9fbadef26e447a324f": {
          "model_module": "@jupyter-widgets/controls",
          "model_name": "HBoxModel",
          "model_module_version": "1.5.0",
          "state": {
            "_dom_classes": [],
            "_model_module": "@jupyter-widgets/controls",
            "_model_module_version": "1.5.0",
            "_model_name": "HBoxModel",
            "_view_count": null,
            "_view_module": "@jupyter-widgets/controls",
            "_view_module_version": "1.5.0",
            "_view_name": "HBoxView",
            "box_style": "",
            "children": [
              "IPY_MODEL_5f3e4993bce144e0b4b64dd8b63bfbd2",
              "IPY_MODEL_942ea696f2714580907c170c7252ef67",
              "IPY_MODEL_3c804e8876aa47b09387aec2c30678b8"
            ],
            "layout": "IPY_MODEL_82798ce55faa4de6922c26b3ae1da32e"
          }
        },
        "5f3e4993bce144e0b4b64dd8b63bfbd2": {
          "model_module": "@jupyter-widgets/controls",
          "model_name": "HTMLModel",
          "model_module_version": "1.5.0",
          "state": {
            "_dom_classes": [],
            "_model_module": "@jupyter-widgets/controls",
            "_model_module_version": "1.5.0",
            "_model_name": "HTMLModel",
            "_view_count": null,
            "_view_module": "@jupyter-widgets/controls",
            "_view_module_version": "1.5.0",
            "_view_name": "HTMLView",
            "description": "",
            "description_tooltip": null,
            "layout": "IPY_MODEL_b988edd858a3435e8cd62b441d8d6d3a",
            "placeholder": "​",
            "style": "IPY_MODEL_fb5e5fcec2b24f9585c03ffb869d1de3",
            "value": "100%"
          }
        },
        "942ea696f2714580907c170c7252ef67": {
          "model_module": "@jupyter-widgets/controls",
          "model_name": "FloatProgressModel",
          "model_module_version": "1.5.0",
          "state": {
            "_dom_classes": [],
            "_model_module": "@jupyter-widgets/controls",
            "_model_module_version": "1.5.0",
            "_model_name": "FloatProgressModel",
            "_view_count": null,
            "_view_module": "@jupyter-widgets/controls",
            "_view_module_version": "1.5.0",
            "_view_name": "ProgressView",
            "bar_style": "success",
            "description": "",
            "description_tooltip": null,
            "layout": "IPY_MODEL_9729beec79354e4b8ef6c944a7a4e06a",
            "max": 3,
            "min": 0,
            "orientation": "horizontal",
            "style": "IPY_MODEL_49b3aef3b5e24f5388ade8c6b1fef816",
            "value": 3
          }
        },
        "3c804e8876aa47b09387aec2c30678b8": {
          "model_module": "@jupyter-widgets/controls",
          "model_name": "HTMLModel",
          "model_module_version": "1.5.0",
          "state": {
            "_dom_classes": [],
            "_model_module": "@jupyter-widgets/controls",
            "_model_module_version": "1.5.0",
            "_model_name": "HTMLModel",
            "_view_count": null,
            "_view_module": "@jupyter-widgets/controls",
            "_view_module_version": "1.5.0",
            "_view_name": "HTMLView",
            "description": "",
            "description_tooltip": null,
            "layout": "IPY_MODEL_155648e2e24647e7bd047754801f9e8d",
            "placeholder": "​",
            "style": "IPY_MODEL_bfe0b03180794e888df65d8128942f5f",
            "value": " 3/3 [00:44&lt;00:00, 14.74s/it]"
          }
        },
        "82798ce55faa4de6922c26b3ae1da32e": {
          "model_module": "@jupyter-widgets/base",
          "model_name": "LayoutModel",
          "model_module_version": "1.2.0",
          "state": {
            "_model_module": "@jupyter-widgets/base",
            "_model_module_version": "1.2.0",
            "_model_name": "LayoutModel",
            "_view_count": null,
            "_view_module": "@jupyter-widgets/base",
            "_view_module_version": "1.2.0",
            "_view_name": "LayoutView",
            "align_content": null,
            "align_items": null,
            "align_self": null,
            "border": null,
            "bottom": null,
            "display": null,
            "flex": null,
            "flex_flow": null,
            "grid_area": null,
            "grid_auto_columns": null,
            "grid_auto_flow": null,
            "grid_auto_rows": null,
            "grid_column": null,
            "grid_gap": null,
            "grid_row": null,
            "grid_template_areas": null,
            "grid_template_columns": null,
            "grid_template_rows": null,
            "height": null,
            "justify_content": null,
            "justify_items": null,
            "left": null,
            "margin": null,
            "max_height": null,
            "max_width": null,
            "min_height": null,
            "min_width": null,
            "object_fit": null,
            "object_position": null,
            "order": null,
            "overflow": null,
            "overflow_x": null,
            "overflow_y": null,
            "padding": null,
            "right": null,
            "top": null,
            "visibility": null,
            "width": null
          }
        },
        "b988edd858a3435e8cd62b441d8d6d3a": {
          "model_module": "@jupyter-widgets/base",
          "model_name": "LayoutModel",
          "model_module_version": "1.2.0",
          "state": {
            "_model_module": "@jupyter-widgets/base",
            "_model_module_version": "1.2.0",
            "_model_name": "LayoutModel",
            "_view_count": null,
            "_view_module": "@jupyter-widgets/base",
            "_view_module_version": "1.2.0",
            "_view_name": "LayoutView",
            "align_content": null,
            "align_items": null,
            "align_self": null,
            "border": null,
            "bottom": null,
            "display": null,
            "flex": null,
            "flex_flow": null,
            "grid_area": null,
            "grid_auto_columns": null,
            "grid_auto_flow": null,
            "grid_auto_rows": null,
            "grid_column": null,
            "grid_gap": null,
            "grid_row": null,
            "grid_template_areas": null,
            "grid_template_columns": null,
            "grid_template_rows": null,
            "height": null,
            "justify_content": null,
            "justify_items": null,
            "left": null,
            "margin": null,
            "max_height": null,
            "max_width": null,
            "min_height": null,
            "min_width": null,
            "object_fit": null,
            "object_position": null,
            "order": null,
            "overflow": null,
            "overflow_x": null,
            "overflow_y": null,
            "padding": null,
            "right": null,
            "top": null,
            "visibility": null,
            "width": null
          }
        },
        "fb5e5fcec2b24f9585c03ffb869d1de3": {
          "model_module": "@jupyter-widgets/controls",
          "model_name": "DescriptionStyleModel",
          "model_module_version": "1.5.0",
          "state": {
            "_model_module": "@jupyter-widgets/controls",
            "_model_module_version": "1.5.0",
            "_model_name": "DescriptionStyleModel",
            "_view_count": null,
            "_view_module": "@jupyter-widgets/base",
            "_view_module_version": "1.2.0",
            "_view_name": "StyleView",
            "description_width": ""
          }
        },
        "9729beec79354e4b8ef6c944a7a4e06a": {
          "model_module": "@jupyter-widgets/base",
          "model_name": "LayoutModel",
          "model_module_version": "1.2.0",
          "state": {
            "_model_module": "@jupyter-widgets/base",
            "_model_module_version": "1.2.0",
            "_model_name": "LayoutModel",
            "_view_count": null,
            "_view_module": "@jupyter-widgets/base",
            "_view_module_version": "1.2.0",
            "_view_name": "LayoutView",
            "align_content": null,
            "align_items": null,
            "align_self": null,
            "border": null,
            "bottom": null,
            "display": null,
            "flex": null,
            "flex_flow": null,
            "grid_area": null,
            "grid_auto_columns": null,
            "grid_auto_flow": null,
            "grid_auto_rows": null,
            "grid_column": null,
            "grid_gap": null,
            "grid_row": null,
            "grid_template_areas": null,
            "grid_template_columns": null,
            "grid_template_rows": null,
            "height": null,
            "justify_content": null,
            "justify_items": null,
            "left": null,
            "margin": null,
            "max_height": null,
            "max_width": null,
            "min_height": null,
            "min_width": null,
            "object_fit": null,
            "object_position": null,
            "order": null,
            "overflow": null,
            "overflow_x": null,
            "overflow_y": null,
            "padding": null,
            "right": null,
            "top": null,
            "visibility": null,
            "width": null
          }
        },
        "49b3aef3b5e24f5388ade8c6b1fef816": {
          "model_module": "@jupyter-widgets/controls",
          "model_name": "ProgressStyleModel",
          "model_module_version": "1.5.0",
          "state": {
            "_model_module": "@jupyter-widgets/controls",
            "_model_module_version": "1.5.0",
            "_model_name": "ProgressStyleModel",
            "_view_count": null,
            "_view_module": "@jupyter-widgets/base",
            "_view_module_version": "1.2.0",
            "_view_name": "StyleView",
            "bar_color": null,
            "description_width": ""
          }
        },
        "155648e2e24647e7bd047754801f9e8d": {
          "model_module": "@jupyter-widgets/base",
          "model_name": "LayoutModel",
          "model_module_version": "1.2.0",
          "state": {
            "_model_module": "@jupyter-widgets/base",
            "_model_module_version": "1.2.0",
            "_model_name": "LayoutModel",
            "_view_count": null,
            "_view_module": "@jupyter-widgets/base",
            "_view_module_version": "1.2.0",
            "_view_name": "LayoutView",
            "align_content": null,
            "align_items": null,
            "align_self": null,
            "border": null,
            "bottom": null,
            "display": null,
            "flex": null,
            "flex_flow": null,
            "grid_area": null,
            "grid_auto_columns": null,
            "grid_auto_flow": null,
            "grid_auto_rows": null,
            "grid_column": null,
            "grid_gap": null,
            "grid_row": null,
            "grid_template_areas": null,
            "grid_template_columns": null,
            "grid_template_rows": null,
            "height": null,
            "justify_content": null,
            "justify_items": null,
            "left": null,
            "margin": null,
            "max_height": null,
            "max_width": null,
            "min_height": null,
            "min_width": null,
            "object_fit": null,
            "object_position": null,
            "order": null,
            "overflow": null,
            "overflow_x": null,
            "overflow_y": null,
            "padding": null,
            "right": null,
            "top": null,
            "visibility": null,
            "width": null
          }
        },
        "bfe0b03180794e888df65d8128942f5f": {
          "model_module": "@jupyter-widgets/controls",
          "model_name": "DescriptionStyleModel",
          "model_module_version": "1.5.0",
          "state": {
            "_model_module": "@jupyter-widgets/controls",
            "_model_module_version": "1.5.0",
            "_model_name": "DescriptionStyleModel",
            "_view_count": null,
            "_view_module": "@jupyter-widgets/base",
            "_view_module_version": "1.2.0",
            "_view_name": "StyleView",
            "description_width": ""
          }
        },
        "7c0280049b70423bbcd87838344ab046": {
          "model_module": "@jupyter-widgets/controls",
          "model_name": "HBoxModel",
          "model_module_version": "1.5.0",
          "state": {
            "_dom_classes": [],
            "_model_module": "@jupyter-widgets/controls",
            "_model_module_version": "1.5.0",
            "_model_name": "HBoxModel",
            "_view_count": null,
            "_view_module": "@jupyter-widgets/controls",
            "_view_module_version": "1.5.0",
            "_view_name": "HBoxView",
            "box_style": "",
            "children": [
              "IPY_MODEL_a9ab3472f88f4a8f9cc78f6782f9552d",
              "IPY_MODEL_89361a6a10b94b20877de8fab40c1711",
              "IPY_MODEL_68d2a09433b443ad9a4b2c743626e235"
            ],
            "layout": "IPY_MODEL_4650e1b8318b4bbebe5e3e4dd83023b8"
          }
        },
        "a9ab3472f88f4a8f9cc78f6782f9552d": {
          "model_module": "@jupyter-widgets/controls",
          "model_name": "HTMLModel",
          "model_module_version": "1.5.0",
          "state": {
            "_dom_classes": [],
            "_model_module": "@jupyter-widgets/controls",
            "_model_module_version": "1.5.0",
            "_model_name": "HTMLModel",
            "_view_count": null,
            "_view_module": "@jupyter-widgets/controls",
            "_view_module_version": "1.5.0",
            "_view_name": "HTMLView",
            "description": "",
            "description_tooltip": null,
            "layout": "IPY_MODEL_4ac9f5cad00041e4870643a6f10fb10c",
            "placeholder": "​",
            "style": "IPY_MODEL_9b6ae84626d64cd69bca4234d975344c",
            "value": "100%"
          }
        },
        "89361a6a10b94b20877de8fab40c1711": {
          "model_module": "@jupyter-widgets/controls",
          "model_name": "FloatProgressModel",
          "model_module_version": "1.5.0",
          "state": {
            "_dom_classes": [],
            "_model_module": "@jupyter-widgets/controls",
            "_model_module_version": "1.5.0",
            "_model_name": "FloatProgressModel",
            "_view_count": null,
            "_view_module": "@jupyter-widgets/controls",
            "_view_module_version": "1.5.0",
            "_view_name": "ProgressView",
            "bar_style": "success",
            "description": "",
            "description_tooltip": null,
            "layout": "IPY_MODEL_ddf5022cdffa4845ab0d19e7ce31f714",
            "max": 3,
            "min": 0,
            "orientation": "horizontal",
            "style": "IPY_MODEL_68f23ecbc6fc423d8a0efd09a7fc2792",
            "value": 3
          }
        },
        "68d2a09433b443ad9a4b2c743626e235": {
          "model_module": "@jupyter-widgets/controls",
          "model_name": "HTMLModel",
          "model_module_version": "1.5.0",
          "state": {
            "_dom_classes": [],
            "_model_module": "@jupyter-widgets/controls",
            "_model_module_version": "1.5.0",
            "_model_name": "HTMLModel",
            "_view_count": null,
            "_view_module": "@jupyter-widgets/controls",
            "_view_module_version": "1.5.0",
            "_view_name": "HTMLView",
            "description": "",
            "description_tooltip": null,
            "layout": "IPY_MODEL_585e2d4d68ff4eb28bbeb2ec8b90224f",
            "placeholder": "​",
            "style": "IPY_MODEL_f4d91ba1bfe640318af43e6d03dc8203",
            "value": " 3/3 [00:46&lt;00:00, 15.43s/it]"
          }
        },
        "4650e1b8318b4bbebe5e3e4dd83023b8": {
          "model_module": "@jupyter-widgets/base",
          "model_name": "LayoutModel",
          "model_module_version": "1.2.0",
          "state": {
            "_model_module": "@jupyter-widgets/base",
            "_model_module_version": "1.2.0",
            "_model_name": "LayoutModel",
            "_view_count": null,
            "_view_module": "@jupyter-widgets/base",
            "_view_module_version": "1.2.0",
            "_view_name": "LayoutView",
            "align_content": null,
            "align_items": null,
            "align_self": null,
            "border": null,
            "bottom": null,
            "display": null,
            "flex": null,
            "flex_flow": null,
            "grid_area": null,
            "grid_auto_columns": null,
            "grid_auto_flow": null,
            "grid_auto_rows": null,
            "grid_column": null,
            "grid_gap": null,
            "grid_row": null,
            "grid_template_areas": null,
            "grid_template_columns": null,
            "grid_template_rows": null,
            "height": null,
            "justify_content": null,
            "justify_items": null,
            "left": null,
            "margin": null,
            "max_height": null,
            "max_width": null,
            "min_height": null,
            "min_width": null,
            "object_fit": null,
            "object_position": null,
            "order": null,
            "overflow": null,
            "overflow_x": null,
            "overflow_y": null,
            "padding": null,
            "right": null,
            "top": null,
            "visibility": null,
            "width": null
          }
        },
        "4ac9f5cad00041e4870643a6f10fb10c": {
          "model_module": "@jupyter-widgets/base",
          "model_name": "LayoutModel",
          "model_module_version": "1.2.0",
          "state": {
            "_model_module": "@jupyter-widgets/base",
            "_model_module_version": "1.2.0",
            "_model_name": "LayoutModel",
            "_view_count": null,
            "_view_module": "@jupyter-widgets/base",
            "_view_module_version": "1.2.0",
            "_view_name": "LayoutView",
            "align_content": null,
            "align_items": null,
            "align_self": null,
            "border": null,
            "bottom": null,
            "display": null,
            "flex": null,
            "flex_flow": null,
            "grid_area": null,
            "grid_auto_columns": null,
            "grid_auto_flow": null,
            "grid_auto_rows": null,
            "grid_column": null,
            "grid_gap": null,
            "grid_row": null,
            "grid_template_areas": null,
            "grid_template_columns": null,
            "grid_template_rows": null,
            "height": null,
            "justify_content": null,
            "justify_items": null,
            "left": null,
            "margin": null,
            "max_height": null,
            "max_width": null,
            "min_height": null,
            "min_width": null,
            "object_fit": null,
            "object_position": null,
            "order": null,
            "overflow": null,
            "overflow_x": null,
            "overflow_y": null,
            "padding": null,
            "right": null,
            "top": null,
            "visibility": null,
            "width": null
          }
        },
        "9b6ae84626d64cd69bca4234d975344c": {
          "model_module": "@jupyter-widgets/controls",
          "model_name": "DescriptionStyleModel",
          "model_module_version": "1.5.0",
          "state": {
            "_model_module": "@jupyter-widgets/controls",
            "_model_module_version": "1.5.0",
            "_model_name": "DescriptionStyleModel",
            "_view_count": null,
            "_view_module": "@jupyter-widgets/base",
            "_view_module_version": "1.2.0",
            "_view_name": "StyleView",
            "description_width": ""
          }
        },
        "ddf5022cdffa4845ab0d19e7ce31f714": {
          "model_module": "@jupyter-widgets/base",
          "model_name": "LayoutModel",
          "model_module_version": "1.2.0",
          "state": {
            "_model_module": "@jupyter-widgets/base",
            "_model_module_version": "1.2.0",
            "_model_name": "LayoutModel",
            "_view_count": null,
            "_view_module": "@jupyter-widgets/base",
            "_view_module_version": "1.2.0",
            "_view_name": "LayoutView",
            "align_content": null,
            "align_items": null,
            "align_self": null,
            "border": null,
            "bottom": null,
            "display": null,
            "flex": null,
            "flex_flow": null,
            "grid_area": null,
            "grid_auto_columns": null,
            "grid_auto_flow": null,
            "grid_auto_rows": null,
            "grid_column": null,
            "grid_gap": null,
            "grid_row": null,
            "grid_template_areas": null,
            "grid_template_columns": null,
            "grid_template_rows": null,
            "height": null,
            "justify_content": null,
            "justify_items": null,
            "left": null,
            "margin": null,
            "max_height": null,
            "max_width": null,
            "min_height": null,
            "min_width": null,
            "object_fit": null,
            "object_position": null,
            "order": null,
            "overflow": null,
            "overflow_x": null,
            "overflow_y": null,
            "padding": null,
            "right": null,
            "top": null,
            "visibility": null,
            "width": null
          }
        },
        "68f23ecbc6fc423d8a0efd09a7fc2792": {
          "model_module": "@jupyter-widgets/controls",
          "model_name": "ProgressStyleModel",
          "model_module_version": "1.5.0",
          "state": {
            "_model_module": "@jupyter-widgets/controls",
            "_model_module_version": "1.5.0",
            "_model_name": "ProgressStyleModel",
            "_view_count": null,
            "_view_module": "@jupyter-widgets/base",
            "_view_module_version": "1.2.0",
            "_view_name": "StyleView",
            "bar_color": null,
            "description_width": ""
          }
        },
        "585e2d4d68ff4eb28bbeb2ec8b90224f": {
          "model_module": "@jupyter-widgets/base",
          "model_name": "LayoutModel",
          "model_module_version": "1.2.0",
          "state": {
            "_model_module": "@jupyter-widgets/base",
            "_model_module_version": "1.2.0",
            "_model_name": "LayoutModel",
            "_view_count": null,
            "_view_module": "@jupyter-widgets/base",
            "_view_module_version": "1.2.0",
            "_view_name": "LayoutView",
            "align_content": null,
            "align_items": null,
            "align_self": null,
            "border": null,
            "bottom": null,
            "display": null,
            "flex": null,
            "flex_flow": null,
            "grid_area": null,
            "grid_auto_columns": null,
            "grid_auto_flow": null,
            "grid_auto_rows": null,
            "grid_column": null,
            "grid_gap": null,
            "grid_row": null,
            "grid_template_areas": null,
            "grid_template_columns": null,
            "grid_template_rows": null,
            "height": null,
            "justify_content": null,
            "justify_items": null,
            "left": null,
            "margin": null,
            "max_height": null,
            "max_width": null,
            "min_height": null,
            "min_width": null,
            "object_fit": null,
            "object_position": null,
            "order": null,
            "overflow": null,
            "overflow_x": null,
            "overflow_y": null,
            "padding": null,
            "right": null,
            "top": null,
            "visibility": null,
            "width": null
          }
        },
        "f4d91ba1bfe640318af43e6d03dc8203": {
          "model_module": "@jupyter-widgets/controls",
          "model_name": "DescriptionStyleModel",
          "model_module_version": "1.5.0",
          "state": {
            "_model_module": "@jupyter-widgets/controls",
            "_model_module_version": "1.5.0",
            "_model_name": "DescriptionStyleModel",
            "_view_count": null,
            "_view_module": "@jupyter-widgets/base",
            "_view_module_version": "1.2.0",
            "_view_name": "StyleView",
            "description_width": ""
          }
        }
      }
    }
  },
  "cells": [
    {
      "cell_type": "markdown",
      "metadata": {
        "id": "view-in-github",
        "colab_type": "text"
      },
      "source": [
        "<a href=\"https://colab.research.google.com/github/amanullahshah32/Deep-Learning/blob/main/03_Pytorch_Computer_Vision.ipynb\" target=\"_parent\"><img src=\"https://colab.research.google.com/assets/colab-badge.svg\" alt=\"Open In Colab\"/></a>"
      ]
    },
    {
      "cell_type": "markdown",
      "source": [
        "## 0. Computer vision libraries in PyTorch"
      ],
      "metadata": {
        "id": "LE4Q-fCwP4om"
      }
    },
    {
      "cell_type": "markdown",
      "source": [
        "![image.png](data:image/png;base64,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)"
      ],
      "metadata": {
        "id": "TU8ZCcGHUE_u"
      }
    },
    {
      "cell_type": "code",
      "source": [
        "# Import PyTorch\n",
        "import torch\n",
        "from torch import nn\n",
        "\n",
        "# Import torchvision\n",
        "import torchvision\n",
        "from  torchvision import datasets\n",
        "from torchvision.transforms import ToTensor\n",
        "\n",
        "# import matplotlib as plt\n",
        "\n",
        "# check versions:\n",
        "print(f\"PyTorch verison: {torch.__version__}\")\n",
        "print(f\"TorchVision version: {torchvision.__version__}\")"
      ],
      "metadata": {
        "colab": {
          "base_uri": "https://localhost:8080/"
        },
        "id": "qGt1OKh2To2j",
        "outputId": "34977c56-d627-4537-a532-a237a4374480"
      },
      "execution_count": 1,
      "outputs": [
        {
          "output_type": "stream",
          "name": "stdout",
          "text": [
            "PyTorch verison: 2.4.0+cu121\n",
            "TorchVision version: 0.19.0+cu121\n"
          ]
        }
      ]
    },
    {
      "cell_type": "markdown",
      "source": [
        "## 1. Getting a dataset\n"
      ],
      "metadata": {
        "id": "d9l1DIH4WgG4"
      }
    },
    {
      "cell_type": "code",
      "source": [
        "# Setup training data\n",
        "train_data = datasets.FashionMNIST(root='data', # where to download\n",
        "                                   train = True, # get training data\n",
        "                                   download= True, # donwload data if it doesn't exist on disk\n",
        "                                   transform = ToTensor(), # images come as PIL format, we want to turn it into tensors\n",
        "                                   target_transform = None # You can transform labels as well\n",
        "                                   )\n",
        "\n",
        "# Setup testing data\n",
        "test_data = datasets.FashionMNIST(\n",
        "    root='data',\n",
        "    train=True, # get the test data\n",
        "    download= False,\n",
        "    transform = ToTensor()\n",
        ")"
      ],
      "metadata": {
        "id": "EmNTuBMtXeWY",
        "outputId": "bec437e5-bfcb-451a-dd37-5b445bdf0e50",
        "colab": {
          "base_uri": "https://localhost:8080/"
        }
      },
      "execution_count": 2,
      "outputs": [
        {
          "output_type": "stream",
          "name": "stdout",
          "text": [
            "Downloading http://fashion-mnist.s3-website.eu-central-1.amazonaws.com/train-images-idx3-ubyte.gz\n",
            "Downloading http://fashion-mnist.s3-website.eu-central-1.amazonaws.com/train-images-idx3-ubyte.gz to data/FashionMNIST/raw/train-images-idx3-ubyte.gz\n"
          ]
        },
        {
          "output_type": "stream",
          "name": "stderr",
          "text": [
            "100%|██████████| 26421880/26421880 [00:02<00:00, 10652314.54it/s]\n"
          ]
        },
        {
          "output_type": "stream",
          "name": "stdout",
          "text": [
            "Extracting data/FashionMNIST/raw/train-images-idx3-ubyte.gz to data/FashionMNIST/raw\n",
            "\n",
            "Downloading http://fashion-mnist.s3-website.eu-central-1.amazonaws.com/train-labels-idx1-ubyte.gz\n",
            "Downloading http://fashion-mnist.s3-website.eu-central-1.amazonaws.com/train-labels-idx1-ubyte.gz to data/FashionMNIST/raw/train-labels-idx1-ubyte.gz\n"
          ]
        },
        {
          "output_type": "stream",
          "name": "stderr",
          "text": [
            "100%|██████████| 29515/29515 [00:00<00:00, 168567.39it/s]\n"
          ]
        },
        {
          "output_type": "stream",
          "name": "stdout",
          "text": [
            "Extracting data/FashionMNIST/raw/train-labels-idx1-ubyte.gz to data/FashionMNIST/raw\n",
            "\n",
            "Downloading http://fashion-mnist.s3-website.eu-central-1.amazonaws.com/t10k-images-idx3-ubyte.gz\n",
            "Downloading http://fashion-mnist.s3-website.eu-central-1.amazonaws.com/t10k-images-idx3-ubyte.gz to data/FashionMNIST/raw/t10k-images-idx3-ubyte.gz\n"
          ]
        },
        {
          "output_type": "stream",
          "name": "stderr",
          "text": [
            "100%|██████████| 4422102/4422102 [00:01<00:00, 3104604.52it/s]\n"
          ]
        },
        {
          "output_type": "stream",
          "name": "stdout",
          "text": [
            "Extracting data/FashionMNIST/raw/t10k-images-idx3-ubyte.gz to data/FashionMNIST/raw\n",
            "\n",
            "Downloading http://fashion-mnist.s3-website.eu-central-1.amazonaws.com/t10k-labels-idx1-ubyte.gz\n",
            "Downloading http://fashion-mnist.s3-website.eu-central-1.amazonaws.com/t10k-labels-idx1-ubyte.gz to data/FashionMNIST/raw/t10k-labels-idx1-ubyte.gz\n"
          ]
        },
        {
          "output_type": "stream",
          "name": "stderr",
          "text": [
            "100%|██████████| 5148/5148 [00:00<00:00, 22123234.62it/s]\n"
          ]
        },
        {
          "output_type": "stream",
          "name": "stdout",
          "text": [
            "Extracting data/FashionMNIST/raw/t10k-labels-idx1-ubyte.gz to data/FashionMNIST/raw\n",
            "\n"
          ]
        }
      ]
    },
    {
      "cell_type": "code",
      "source": [
        "# see first training sample\n",
        "\n",
        "image, label = train_data[0]\n",
        "image, label"
      ],
      "metadata": {
        "colab": {
          "base_uri": "https://localhost:8080/"
        },
        "id": "aYsQCe2iYVga",
        "outputId": "5abbf79b-d4e1-480c-b212-83580724d400"
      },
      "execution_count": 3,
      "outputs": [
        {
          "output_type": "execute_result",
          "data": {
            "text/plain": [
              "(tensor([[[0.0000, 0.0000, 0.0000, 0.0000, 0.0000, 0.0000, 0.0000, 0.0000,\n",
              "           0.0000, 0.0000, 0.0000, 0.0000, 0.0000, 0.0000, 0.0000, 0.0000,\n",
              "           0.0000, 0.0000, 0.0000, 0.0000, 0.0000, 0.0000, 0.0000, 0.0000,\n",
              "           0.0000, 0.0000, 0.0000, 0.0000],\n",
              "          [0.0000, 0.0000, 0.0000, 0.0000, 0.0000, 0.0000, 0.0000, 0.0000,\n",
              "           0.0000, 0.0000, 0.0000, 0.0000, 0.0000, 0.0000, 0.0000, 0.0000,\n",
              "           0.0000, 0.0000, 0.0000, 0.0000, 0.0000, 0.0000, 0.0000, 0.0000,\n",
              "           0.0000, 0.0000, 0.0000, 0.0000],\n",
              "          [0.0000, 0.0000, 0.0000, 0.0000, 0.0000, 0.0000, 0.0000, 0.0000,\n",
              "           0.0000, 0.0000, 0.0000, 0.0000, 0.0000, 0.0000, 0.0000, 0.0000,\n",
              "           0.0000, 0.0000, 0.0000, 0.0000, 0.0000, 0.0000, 0.0000, 0.0000,\n",
              "           0.0000, 0.0000, 0.0000, 0.0000],\n",
              "          [0.0000, 0.0000, 0.0000, 0.0000, 0.0000, 0.0000, 0.0000, 0.0000,\n",
              "           0.0000, 0.0000, 0.0000, 0.0000, 0.0039, 0.0000, 0.0000, 0.0510,\n",
              "           0.2863, 0.0000, 0.0000, 0.0039, 0.0157, 0.0000, 0.0000, 0.0000,\n",
              "           0.0000, 0.0039, 0.0039, 0.0000],\n",
              "          [0.0000, 0.0000, 0.0000, 0.0000, 0.0000, 0.0000, 0.0000, 0.0000,\n",
              "           0.0000, 0.0000, 0.0000, 0.0000, 0.0118, 0.0000, 0.1412, 0.5333,\n",
              "           0.4980, 0.2431, 0.2118, 0.0000, 0.0000, 0.0000, 0.0039, 0.0118,\n",
              "           0.0157, 0.0000, 0.0000, 0.0118],\n",
              "          [0.0000, 0.0000, 0.0000, 0.0000, 0.0000, 0.0000, 0.0000, 0.0000,\n",
              "           0.0000, 0.0000, 0.0000, 0.0000, 0.0235, 0.0000, 0.4000, 0.8000,\n",
              "           0.6902, 0.5255, 0.5647, 0.4824, 0.0902, 0.0000, 0.0000, 0.0000,\n",
              "           0.0000, 0.0471, 0.0392, 0.0000],\n",
              "          [0.0000, 0.0000, 0.0000, 0.0000, 0.0000, 0.0000, 0.0000, 0.0000,\n",
              "           0.0000, 0.0000, 0.0000, 0.0000, 0.0000, 0.0000, 0.6078, 0.9255,\n",
              "           0.8118, 0.6980, 0.4196, 0.6118, 0.6314, 0.4275, 0.2510, 0.0902,\n",
              "           0.3020, 0.5098, 0.2824, 0.0588],\n",
              "          [0.0000, 0.0000, 0.0000, 0.0000, 0.0000, 0.0000, 0.0000, 0.0000,\n",
              "           0.0000, 0.0000, 0.0000, 0.0039, 0.0000, 0.2706, 0.8118, 0.8745,\n",
              "           0.8549, 0.8471, 0.8471, 0.6392, 0.4980, 0.4745, 0.4784, 0.5725,\n",
              "           0.5529, 0.3451, 0.6745, 0.2588],\n",
              "          [0.0000, 0.0000, 0.0000, 0.0000, 0.0000, 0.0000, 0.0000, 0.0000,\n",
              "           0.0000, 0.0039, 0.0039, 0.0039, 0.0000, 0.7843, 0.9098, 0.9098,\n",
              "           0.9137, 0.8980, 0.8745, 0.8745, 0.8431, 0.8353, 0.6431, 0.4980,\n",
              "           0.4824, 0.7686, 0.8980, 0.0000],\n",
              "          [0.0000, 0.0000, 0.0000, 0.0000, 0.0000, 0.0000, 0.0000, 0.0000,\n",
              "           0.0000, 0.0000, 0.0000, 0.0000, 0.0000, 0.7176, 0.8824, 0.8471,\n",
              "           0.8745, 0.8941, 0.9216, 0.8902, 0.8784, 0.8706, 0.8784, 0.8667,\n",
              "           0.8745, 0.9608, 0.6784, 0.0000],\n",
              "          [0.0000, 0.0000, 0.0000, 0.0000, 0.0000, 0.0000, 0.0000, 0.0000,\n",
              "           0.0000, 0.0000, 0.0000, 0.0000, 0.0000, 0.7569, 0.8941, 0.8549,\n",
              "           0.8353, 0.7765, 0.7059, 0.8314, 0.8235, 0.8275, 0.8353, 0.8745,\n",
              "           0.8627, 0.9529, 0.7922, 0.0000],\n",
              "          [0.0000, 0.0000, 0.0000, 0.0000, 0.0000, 0.0000, 0.0000, 0.0000,\n",
              "           0.0000, 0.0039, 0.0118, 0.0000, 0.0471, 0.8588, 0.8627, 0.8314,\n",
              "           0.8549, 0.7529, 0.6627, 0.8902, 0.8157, 0.8549, 0.8784, 0.8314,\n",
              "           0.8863, 0.7725, 0.8196, 0.2039],\n",
              "          [0.0000, 0.0000, 0.0000, 0.0000, 0.0000, 0.0000, 0.0000, 0.0000,\n",
              "           0.0000, 0.0000, 0.0235, 0.0000, 0.3882, 0.9569, 0.8706, 0.8627,\n",
              "           0.8549, 0.7961, 0.7765, 0.8667, 0.8431, 0.8353, 0.8706, 0.8627,\n",
              "           0.9608, 0.4667, 0.6549, 0.2196],\n",
              "          [0.0000, 0.0000, 0.0000, 0.0000, 0.0000, 0.0000, 0.0000, 0.0000,\n",
              "           0.0000, 0.0157, 0.0000, 0.0000, 0.2157, 0.9255, 0.8941, 0.9020,\n",
              "           0.8941, 0.9412, 0.9098, 0.8353, 0.8549, 0.8745, 0.9176, 0.8510,\n",
              "           0.8510, 0.8196, 0.3608, 0.0000],\n",
              "          [0.0000, 0.0000, 0.0039, 0.0157, 0.0235, 0.0275, 0.0078, 0.0000,\n",
              "           0.0000, 0.0000, 0.0000, 0.0000, 0.9294, 0.8863, 0.8510, 0.8745,\n",
              "           0.8706, 0.8588, 0.8706, 0.8667, 0.8471, 0.8745, 0.8980, 0.8431,\n",
              "           0.8549, 1.0000, 0.3020, 0.0000],\n",
              "          [0.0000, 0.0118, 0.0000, 0.0000, 0.0000, 0.0000, 0.0000, 0.0000,\n",
              "           0.0000, 0.2431, 0.5686, 0.8000, 0.8941, 0.8118, 0.8353, 0.8667,\n",
              "           0.8549, 0.8157, 0.8275, 0.8549, 0.8784, 0.8745, 0.8588, 0.8431,\n",
              "           0.8784, 0.9569, 0.6235, 0.0000],\n",
              "          [0.0000, 0.0000, 0.0000, 0.0000, 0.0706, 0.1725, 0.3216, 0.4196,\n",
              "           0.7412, 0.8941, 0.8627, 0.8706, 0.8510, 0.8863, 0.7843, 0.8039,\n",
              "           0.8275, 0.9020, 0.8784, 0.9176, 0.6902, 0.7373, 0.9804, 0.9725,\n",
              "           0.9137, 0.9333, 0.8431, 0.0000],\n",
              "          [0.0000, 0.2235, 0.7333, 0.8157, 0.8784, 0.8667, 0.8784, 0.8157,\n",
              "           0.8000, 0.8392, 0.8157, 0.8196, 0.7843, 0.6235, 0.9608, 0.7569,\n",
              "           0.8078, 0.8745, 1.0000, 1.0000, 0.8667, 0.9176, 0.8667, 0.8275,\n",
              "           0.8627, 0.9098, 0.9647, 0.0000],\n",
              "          [0.0118, 0.7922, 0.8941, 0.8784, 0.8667, 0.8275, 0.8275, 0.8392,\n",
              "           0.8039, 0.8039, 0.8039, 0.8627, 0.9412, 0.3137, 0.5882, 1.0000,\n",
              "           0.8980, 0.8667, 0.7373, 0.6039, 0.7490, 0.8235, 0.8000, 0.8196,\n",
              "           0.8706, 0.8941, 0.8824, 0.0000],\n",
              "          [0.3843, 0.9137, 0.7765, 0.8235, 0.8706, 0.8980, 0.8980, 0.9176,\n",
              "           0.9765, 0.8627, 0.7608, 0.8431, 0.8510, 0.9451, 0.2549, 0.2863,\n",
              "           0.4157, 0.4588, 0.6588, 0.8588, 0.8667, 0.8431, 0.8510, 0.8745,\n",
              "           0.8745, 0.8784, 0.8980, 0.1137],\n",
              "          [0.2941, 0.8000, 0.8314, 0.8000, 0.7569, 0.8039, 0.8275, 0.8824,\n",
              "           0.8471, 0.7255, 0.7725, 0.8078, 0.7765, 0.8353, 0.9412, 0.7647,\n",
              "           0.8902, 0.9608, 0.9373, 0.8745, 0.8549, 0.8314, 0.8196, 0.8706,\n",
              "           0.8627, 0.8667, 0.9020, 0.2627],\n",
              "          [0.1882, 0.7961, 0.7176, 0.7608, 0.8353, 0.7725, 0.7255, 0.7451,\n",
              "           0.7608, 0.7529, 0.7922, 0.8392, 0.8588, 0.8667, 0.8627, 0.9255,\n",
              "           0.8824, 0.8471, 0.7804, 0.8078, 0.7294, 0.7098, 0.6941, 0.6745,\n",
              "           0.7098, 0.8039, 0.8078, 0.4510],\n",
              "          [0.0000, 0.4784, 0.8588, 0.7569, 0.7020, 0.6706, 0.7176, 0.7686,\n",
              "           0.8000, 0.8235, 0.8353, 0.8118, 0.8275, 0.8235, 0.7843, 0.7686,\n",
              "           0.7608, 0.7490, 0.7647, 0.7490, 0.7765, 0.7529, 0.6902, 0.6118,\n",
              "           0.6549, 0.6941, 0.8235, 0.3608],\n",
              "          [0.0000, 0.0000, 0.2902, 0.7412, 0.8314, 0.7490, 0.6863, 0.6745,\n",
              "           0.6863, 0.7098, 0.7255, 0.7373, 0.7412, 0.7373, 0.7569, 0.7765,\n",
              "           0.8000, 0.8196, 0.8235, 0.8235, 0.8275, 0.7373, 0.7373, 0.7608,\n",
              "           0.7529, 0.8471, 0.6667, 0.0000],\n",
              "          [0.0078, 0.0000, 0.0000, 0.0000, 0.2588, 0.7843, 0.8706, 0.9294,\n",
              "           0.9373, 0.9490, 0.9647, 0.9529, 0.9569, 0.8667, 0.8627, 0.7569,\n",
              "           0.7490, 0.7020, 0.7137, 0.7137, 0.7098, 0.6902, 0.6510, 0.6588,\n",
              "           0.3882, 0.2275, 0.0000, 0.0000],\n",
              "          [0.0000, 0.0000, 0.0000, 0.0000, 0.0000, 0.0000, 0.0000, 0.1569,\n",
              "           0.2392, 0.1725, 0.2824, 0.1608, 0.1373, 0.0000, 0.0000, 0.0000,\n",
              "           0.0000, 0.0000, 0.0000, 0.0000, 0.0000, 0.0000, 0.0000, 0.0000,\n",
              "           0.0000, 0.0000, 0.0000, 0.0000],\n",
              "          [0.0000, 0.0000, 0.0000, 0.0000, 0.0000, 0.0000, 0.0000, 0.0000,\n",
              "           0.0000, 0.0000, 0.0000, 0.0000, 0.0000, 0.0000, 0.0000, 0.0000,\n",
              "           0.0000, 0.0000, 0.0000, 0.0000, 0.0000, 0.0000, 0.0000, 0.0000,\n",
              "           0.0000, 0.0000, 0.0000, 0.0000],\n",
              "          [0.0000, 0.0000, 0.0000, 0.0000, 0.0000, 0.0000, 0.0000, 0.0000,\n",
              "           0.0000, 0.0000, 0.0000, 0.0000, 0.0000, 0.0000, 0.0000, 0.0000,\n",
              "           0.0000, 0.0000, 0.0000, 0.0000, 0.0000, 0.0000, 0.0000, 0.0000,\n",
              "           0.0000, 0.0000, 0.0000, 0.0000]]]),\n",
              " 9)"
            ]
          },
          "metadata": {},
          "execution_count": 3
        }
      ]
    },
    {
      "cell_type": "markdown",
      "source": [
        "### 1.1 Input and output shapes of a computer vision model"
      ],
      "metadata": {
        "id": "qVtOjsqiaawe"
      }
    },
    {
      "cell_type": "markdown",
      "source": [
        "We've got a big tensor of values (the image) leading to a single value for the target (the label).\n",
        "\n"
      ],
      "metadata": {
        "id": "o5Em7lxwamdm"
      }
    },
    {
      "cell_type": "code",
      "source": [
        "# What's the shape of the image?\n",
        "image.shape"
      ],
      "metadata": {
        "colab": {
          "base_uri": "https://localhost:8080/"
        },
        "id": "FKOu09m2amUu",
        "outputId": "37badcd6-de93-4af9-a436-fbc607842657"
      },
      "execution_count": 4,
      "outputs": [
        {
          "output_type": "execute_result",
          "data": {
            "text/plain": [
              "torch.Size([1, 28, 28])"
            ]
          },
          "metadata": {},
          "execution_count": 4
        }
      ]
    },
    {
      "cell_type": "code",
      "source": [
        "torch.cuda.is_available()"
      ],
      "metadata": {
        "colab": {
          "base_uri": "https://localhost:8080/"
        },
        "id": "plr1oj3damM2",
        "outputId": "6f8784e0-5310-4d33-8c42-74ba98b2352c"
      },
      "execution_count": 5,
      "outputs": [
        {
          "output_type": "execute_result",
          "data": {
            "text/plain": [
              "True"
            ]
          },
          "metadata": {},
          "execution_count": 5
        }
      ]
    },
    {
      "cell_type": "markdown",
      "source": [
        "The order of our current tensor is often referred to as CHW (Color Channels, Height, Width).\n",
        "\n",
        "There's debate on whether images should be represented as CHW (color channels first) or HWC (color channels last).\n",
        "\n",
        "Note: You'll also see NCHW and NHWC formats where N stands for number of images. For example if you have a batch_size=32, your tensor shape may be [32, 1, 28, 28]. We'll cover batch sizes later."
      ],
      "metadata": {
        "id": "mGl7ISgZbdbX"
      }
    },
    {
      "cell_type": "code",
      "source": [
        "# how many samples are there\n",
        "len(train_data.data), len(train_data.targets), len(test_data.data), len(test_data.targets)"
      ],
      "metadata": {
        "colab": {
          "base_uri": "https://localhost:8080/"
        },
        "id": "shqTEPf-al-O",
        "outputId": "ab40f42e-64a0-408b-806b-a093f1b6ebc9"
      },
      "execution_count": 6,
      "outputs": [
        {
          "output_type": "execute_result",
          "data": {
            "text/plain": [
              "(60000, 60000, 60000, 60000)"
            ]
          },
          "metadata": {},
          "execution_count": 6
        }
      ]
    },
    {
      "cell_type": "code",
      "source": [
        "# See classes\n",
        "class_names = train_data.classes\n",
        "class_names"
      ],
      "metadata": {
        "colab": {
          "base_uri": "https://localhost:8080/"
        },
        "id": "SkO-FYdQak1n",
        "outputId": "e17c9906-6445-43f2-ce7c-3f84acf21b76"
      },
      "execution_count": 7,
      "outputs": [
        {
          "output_type": "execute_result",
          "data": {
            "text/plain": [
              "['T-shirt/top',\n",
              " 'Trouser',\n",
              " 'Pullover',\n",
              " 'Dress',\n",
              " 'Coat',\n",
              " 'Sandal',\n",
              " 'Shirt',\n",
              " 'Sneaker',\n",
              " 'Bag',\n",
              " 'Ankle boot']"
            ]
          },
          "metadata": {},
          "execution_count": 7
        }
      ]
    },
    {
      "cell_type": "markdown",
      "source": [
        "### 1.2 Visualizing our data\n"
      ],
      "metadata": {
        "id": "YjWKzNi7qA8i"
      }
    },
    {
      "cell_type": "code",
      "source": [
        "import matplotlib.pyplot as plt\n",
        "image, label = train_data[0]\n",
        "print(f\"Image shape: {image.shape}\")\n",
        "plt.imshow(image.squeeze()) # image shape is 1,28,28\n",
        "plt.title(class_names[label])"
      ],
      "metadata": {
        "colab": {
          "base_uri": "https://localhost:8080/",
          "height": 488
        },
        "id": "xbiCfJDSqKXU",
        "outputId": "dbd07153-ad80-4fcf-da35-d2b72b15fa3e"
      },
      "execution_count": 8,
      "outputs": [
        {
          "output_type": "stream",
          "name": "stdout",
          "text": [
            "Image shape: torch.Size([1, 28, 28])\n"
          ]
        },
        {
          "output_type": "execute_result",
          "data": {
            "text/plain": [
              "Text(0.5, 1.0, 'Ankle boot')"
            ]
          },
          "metadata": {},
          "execution_count": 8
        },
        {
          "output_type": "display_data",
          "data": {
            "text/plain": [
              "<Figure size 640x480 with 1 Axes>"
            ],
            "image/png": "[encoded data removed]"
          },
          "metadata": {}
        }
      ]
    },
    {
      "cell_type": "markdown",
      "source": [
        "we can turn the image into grayscale using the `cmap` parameter of `plt.imshow()`"
      ],
      "metadata": {
        "id": "8uglqlefqiyJ"
      }
    },
    {
      "cell_type": "code",
      "source": [
        "plt.imshow(image.squeeze(), cmap='gray')\n",
        "plt.title(class_names[label]);"
      ],
      "metadata": {
        "colab": {
          "base_uri": "https://localhost:8080/",
          "height": 452
        },
        "id": "8jLteACtq3PE",
        "outputId": "e235c2ce-8110-4acf-ef6c-064b85157b88"
      },
      "execution_count": 9,
      "outputs": [
        {
          "output_type": "display_data",
          "data": {
            "text/plain": [
              "<Figure size 640x480 with 1 Axes>"
            ],
            "image/png": "[encoded data removed]"
          },
          "metadata": {}
        }
      ]
    },
    {
      "cell_type": "code",
      "source": [
        "# Plot more images\n",
        "torch.manual_seed(4)\n",
        "fig = plt.figure(figsize=(9,9))\n",
        "rows, cols = 4,4\n",
        "\n",
        "for i in range(1, rows*cols+1):\n",
        "  random_idx = torch.randint(0, len(train_data) , size=[1]).item()\n",
        "  img, label = train_data[random_idx]\n",
        "  fig.add_subplot(rows, cols, i)\n",
        "  plt.imshow(img.squeeze(), cmap='gray')\n",
        "  plt.title(class_names[label])\n",
        "  plt.axis(False)"
      ],
      "metadata": {
        "colab": {
          "base_uri": "https://localhost:8080/",
          "height": 729
        },
        "id": "1D-AHLYFrQuz",
        "outputId": "eec86cec-c2a0-4cf6-9ed9-1cd5178d78b0"
      },
      "execution_count": 10,
      "outputs": [
        {
          "output_type": "display_data",
          "data": {
            "text/plain": [
              "<Figure size 900x900 with 16 Axes>"
            ],
            "image/png": "[encoded data removed]"
          },
          "metadata": {}
        }
      ]
    },
    {
      "cell_type": "markdown",
      "source": [
        "## 2. Prepare dataloader"
      ],
      "metadata": {
        "id": "hGAkxgZXsF_N"
      }
    },
    {
      "cell_type": "markdown",
      "source": [
        "Let's create dataloader's for our training and test sets"
      ],
      "metadata": {
        "id": "4Vv5YJZSwlDe"
      }
    },
    {
      "cell_type": "code",
      "source": [
        "from torch.utils.data import DataLoader\n",
        "\n",
        "# Setup the batch size hyperparameter\n",
        "BATCH_SIZE = 32\n",
        "\n",
        "# Turn datasets into iterables (batches)\n",
        "train_dataloader = DataLoader(train_data,  # dataset to turn into iterables\n",
        "                              batch_size= BATCH_SIZE, # how many samples per batch\n",
        "                              shuffle = True # shuffle data every epoch\n",
        "                              )\n",
        "test_dataloader = DataLoader(test_data,\n",
        "                             batch_size = 32,\n",
        "                             shuffle = False) # dont necessarily have to shuffle the testing data\n",
        "\n",
        "# let's check out whats we have created\n",
        "print(f\"DataLoaders: {train_dataloader, test_dataloader}\")\n",
        "print(f\"Length of train_dataloader: {len(train_dataloader)} batches of {BATCH_SIZE}\")\n",
        "print(f\"Length of test Dataloader: {len(test_dataloader)} batcher os {32}\")"
      ],
      "metadata": {
        "colab": {
          "base_uri": "https://localhost:8080/"
        },
        "id": "YzWHN38fxNXV",
        "outputId": "a080d106-d5ca-4589-9ab6-60d113e0495a"
      },
      "execution_count": 11,
      "outputs": [
        {
          "output_type": "stream",
          "name": "stdout",
          "text": [
            "DataLoaders: (<torch.utils.data.dataloader.DataLoader object at 0x7a531192ff10>, <torch.utils.data.dataloader.DataLoader object at 0x7a531192ed10>)\n",
            "Length of train_dataloader: 1875 batches of 32\n",
            "Length of test Dataloader: 1875 batcher os 32\n"
          ]
        }
      ]
    },
    {
      "cell_type": "code",
      "source": [
        "# Check out what's inside the training dataloader\n",
        "train_features_batch, train_labels_batch = next(iter(train_dataloader))\n",
        "train_features_batch.shape, train_labels_batch.shape"
      ],
      "metadata": {
        "colab": {
          "base_uri": "https://localhost:8080/"
        },
        "id": "Mr8U_FRjycde",
        "outputId": "b520bf2f-cc18-4aa2-b3d2-b525990eea98"
      },
      "execution_count": 12,
      "outputs": [
        {
          "output_type": "execute_result",
          "data": {
            "text/plain": [
              "(torch.Size([32, 1, 28, 28]), torch.Size([32]))"
            ]
          },
          "metadata": {},
          "execution_count": 12
        }
      ]
    },
    {
      "cell_type": "code",
      "source": [
        "# Show a sample\n",
        "torch.manual_seed(42)\n",
        "random_idx = torch.randint(0, len(train_features_batch), size=[1]).item()\n",
        "img, label = train_features_batch[random_idx], train_labels_batch[random_idx]\n",
        "plt.imshow(img.squeeze(), cmap='gray')\n",
        "plt.title(class_names[label])\n",
        "plt.axis(False)\n",
        "print(f\"Imaze size: {img.shape}\")\n",
        "print(f\"label: {label}, label_size: {label.shape}\")"
      ],
      "metadata": {
        "id": "FT_mD7LuEeLI",
        "colab": {
          "base_uri": "https://localhost:8080/",
          "height": 464
        },
        "outputId": "ec3c09fb-072d-4366-923b-5a14a75f5f27"
      },
      "execution_count": 13,
      "outputs": [
        {
          "output_type": "stream",
          "name": "stdout",
          "text": [
            "Imaze size: torch.Size([1, 28, 28])\n",
            "label: 0, label_size: torch.Size([])\n"
          ]
        },
        {
          "output_type": "display_data",
          "data": {
            "text/plain": [
              "<Figure size 640x480 with 1 Axes>"
            ],
            "image/png": "[encoded data removed]"
          },
          "metadata": {}
        }
      ]
    },
    {
      "cell_type": "markdown",
      "source": [
        "## 3. Model 0: Build a baseline model"
      ],
      "metadata": {
        "id": "ORvYVNS9M1ej"
      }
    },
    {
      "cell_type": "code",
      "source": [
        "# create a flatten layer\n",
        "flatten_model = nn.Flatten() # all nn modules function as a model (can do a forward pass)\n",
        "\n",
        "# Get a single sample\n",
        "x= train_features_batch[0]\n",
        "\n",
        "# Flatten the sample\n",
        "output = flatten_model(x) # perform forward pass\n",
        "\n",
        "# Print out what's happening\n",
        "print(f\"shape before flattening: {x.shape} [color channel, height , width]\")\n",
        "print(f\"Shape after flattening: {output.shape}\")\n",
        "\n",
        "# #Try uncommenting below and see what happens\n",
        "# print(f\"x:{x}\\n\\n\")\n",
        "# print(output)"
      ],
      "metadata": {
        "colab": {
          "base_uri": "https://localhost:8080/"
        },
        "id": "13EDJqUpQsbH",
        "outputId": "ba30e2cc-7b35-4690-9498-226dec7a2cd8"
      },
      "execution_count": 14,
      "outputs": [
        {
          "output_type": "stream",
          "name": "stdout",
          "text": [
            "shape before flattening: torch.Size([1, 28, 28]) [color channel, height , width]\n",
            "Shape after flattening: torch.Size([1, 784])\n"
          ]
        }
      ]
    },
    {
      "cell_type": "markdown",
      "source": [
        "Let's create our first model using nn.Flatten() as the first layer."
      ],
      "metadata": {
        "id": "vRwFr3OJV2_Y"
      }
    },
    {
      "cell_type": "code",
      "source": [
        "from torch import nn\n",
        "class FasionMNISTModelV0(nn.Module):\n",
        "  def __init__(self, input_shape: int, hidden_units: int, output_shape: int):\n",
        "    super().__init__()\n",
        "    self.layer_stack = nn.Sequential(\n",
        "        nn.Flatten(), # neural networks like their inputs iin vector form\n",
        "        nn.Linear(in_features = input_shape, out_features = hidden_units), # in_features = number of features in a data sample (784 pixels)\n",
        "        nn.Linear(in_features = hidden_units, out_features = output_shape)\n",
        "\n",
        "        )\n",
        "\n",
        "  def forward(self, x):\n",
        "    return self.layer_stack(x)\n"
      ],
      "metadata": {
        "id": "mqbYeRu-TMC_"
      },
      "execution_count": 15,
      "outputs": []
    },
    {
      "cell_type": "code",
      "source": [
        "torch.manual_seed(42)\n",
        "\n",
        "# Need to setup model with input parameters\n",
        "model_0 = FasionMNISTModelV0(input_shape = 784, # one for every pixel (28*28)\n",
        "                              hidden_units= 10, # how many units in the hidden layers\n",
        "                              output_shape=len(class_names)) # one for every class\n",
        "\n",
        "model_0.to('cpu') ## Keep model on cpu to begin with"
      ],
      "metadata": {
        "colab": {
          "base_uri": "https://localhost:8080/"
        },
        "id": "8apxdZxHWkwu",
        "outputId": "d04ca6a3-8862-4e7f-fb47-ae202c8f6f92"
      },
      "execution_count": 16,
      "outputs": [
        {
          "output_type": "execute_result",
          "data": {
            "text/plain": [
              "FasionMNISTModelV0(\n",
              "  (layer_stack): Sequential(\n",
              "    (0): Flatten(start_dim=1, end_dim=-1)\n",
              "    (1): Linear(in_features=784, out_features=10, bias=True)\n",
              "    (2): Linear(in_features=10, out_features=10, bias=True)\n",
              "  )\n",
              ")"
            ]
          },
          "metadata": {},
          "execution_count": 16
        }
      ]
    },
    {
      "cell_type": "code",
      "source": [
        "model_0.state_dict()"
      ],
      "metadata": {
        "id": "Fu6ZlgisaoKe",
        "outputId": "0bd31607-c065-4767-c9f0-3229f8783b4b",
        "colab": {
          "base_uri": "https://localhost:8080/"
        }
      },
      "execution_count": 17,
      "outputs": [
        {
          "output_type": "execute_result",
          "data": {
            "text/plain": [
              "OrderedDict([('layer_stack.1.weight',\n",
              "              tensor([[ 0.0273,  0.0296, -0.0084,  ..., -0.0142,  0.0093,  0.0135],\n",
              "                      [-0.0188, -0.0354,  0.0187,  ..., -0.0106, -0.0001,  0.0115],\n",
              "                      [-0.0008,  0.0017,  0.0045,  ..., -0.0127, -0.0188,  0.0059],\n",
              "                      ...,\n",
              "                      [-0.0116,  0.0273, -0.0344,  ...,  0.0176,  0.0283, -0.0011],\n",
              "                      [-0.0230,  0.0257,  0.0291,  ..., -0.0187, -0.0087,  0.0001],\n",
              "                      [ 0.0176, -0.0147,  0.0053,  ..., -0.0336, -0.0221,  0.0205]])),\n",
              "             ('layer_stack.1.bias',\n",
              "              tensor([-0.0093,  0.0283, -0.0033,  0.0255,  0.0017,  0.0037, -0.0302, -0.0123,\n",
              "                       0.0018,  0.0163])),\n",
              "             ('layer_stack.2.weight',\n",
              "              tensor([[ 0.0614, -0.0687,  0.0021,  0.2718,  0.2109,  0.1079, -0.2279, -0.1063,\n",
              "                        0.2019,  0.2847],\n",
              "                      [-0.1495,  0.1344, -0.0740,  0.2006, -0.0475, -0.2514, -0.3130, -0.0118,\n",
              "                        0.0932, -0.1864],\n",
              "                      [ 0.2488,  0.1500,  0.1907,  0.1457, -0.3050, -0.0580,  0.1643,  0.1565,\n",
              "                       -0.2877, -0.1792],\n",
              "                      [ 0.2305, -0.2618,  0.2397, -0.0610,  0.0232,  0.1542,  0.0851, -0.2027,\n",
              "                        0.1030, -0.2715],\n",
              "                      [-0.1596, -0.0555, -0.0633,  0.2302, -0.1726,  0.2654,  0.1473,  0.1029,\n",
              "                        0.2252, -0.2160],\n",
              "                      [-0.2725,  0.0118,  0.1559,  0.1596,  0.0132,  0.3024,  0.1124,  0.1366,\n",
              "                       -0.1533,  0.0965],\n",
              "                      [-0.1184, -0.2555, -0.2057, -0.1909, -0.0477, -0.1324,  0.2905,  0.1307,\n",
              "                       -0.2629,  0.0133],\n",
              "                      [ 0.2727, -0.0127,  0.0513,  0.0863, -0.1043, -0.2047, -0.1185, -0.0825,\n",
              "                        0.2488, -0.2571],\n",
              "                      [ 0.0425, -0.1209, -0.0336, -0.0281, -0.1227,  0.0730,  0.0747, -0.1816,\n",
              "                        0.1943,  0.2853],\n",
              "                      [-0.1310,  0.0645, -0.1171,  0.2168, -0.0245, -0.2820,  0.0736,  0.2621,\n",
              "                        0.0012, -0.0810]])),\n",
              "             ('layer_stack.2.bias',\n",
              "              tensor([-0.0087,  0.1791,  0.2712, -0.0791,  0.1685,  0.1762,  0.2825,  0.2266,\n",
              "                      -0.2612, -0.2613]))])"
            ]
          },
          "metadata": {},
          "execution_count": 17
        }
      ]
    },
    {
      "cell_type": "code",
      "source": [
        "model_0.parameters()"
      ],
      "metadata": {
        "id": "HrcrY99Jax_g",
        "outputId": "a880dfeb-66c1-414a-e5b5-7013a046986a",
        "colab": {
          "base_uri": "https://localhost:8080/"
        }
      },
      "execution_count": 18,
      "outputs": [
        {
          "output_type": "execute_result",
          "data": {
            "text/plain": [
              "<generator object Module.parameters at 0x7a5311846260>"
            ]
          },
          "metadata": {},
          "execution_count": 18
        }
      ]
    },
    {
      "cell_type": "markdown",
      "source": [
        "### 3.1 Setup loss, optimizer and evaluation metrics"
      ],
      "metadata": {
        "id": "aj2OmqeYa1vZ"
      }
    },
    {
      "cell_type": "markdown",
      "source": [
        "Since we're working on a classification problem, let's bring in our helper_functions.py script and subsequently the accuracy_fn() we defined in notebook 02.\n",
        "\n"
      ],
      "metadata": {
        "id": "8IKCo4ELcFbI"
      }
    },
    {
      "cell_type": "code",
      "source": [
        "import requests\n",
        "from pathlib import Path\n",
        "\n",
        "# Download helper functions from Learn PyTorch repo (if not already downloaded)\n",
        "if Path(\"helper_functions.py\").is_file():\n",
        "  print(\"helper_functions.py already exists, skipping download\")\n",
        "else:\n",
        "  print(\"Downloading helper_functions.py\")\n",
        "  # Note: you need the \"raw\" GitHub URL for this to work\n",
        "  request = requests.get(\"https://raw.githubusercontent.com/mrdbourke/pytorch-deep-learning/main/helper_functions.py\")\n",
        "  with open(\"helper_functions.py\", \"wb\") as f:\n",
        "    f.write(request.content)"
      ],
      "metadata": {
        "id": "WoDDZFN4cBUU",
        "outputId": "b81f4fd5-125f-4b02-8f46-e885a8b42c6a",
        "colab": {
          "base_uri": "https://localhost:8080/"
        }
      },
      "execution_count": 19,
      "outputs": [
        {
          "output_type": "stream",
          "name": "stdout",
          "text": [
            "Downloading helper_functions.py\n"
          ]
        }
      ]
    },
    {
      "cell_type": "code",
      "source": [
        "# Import accuracy metric\n",
        "from helper_functions import accuracy_fn # note: could also use torchmetrics.accuracy (task = 'multiclass', num_classes=len(class_names)).to(device)\n"
      ],
      "metadata": {
        "id": "q97gTF4IcJ-E"
      },
      "execution_count": 20,
      "outputs": []
    },
    {
      "cell_type": "code",
      "source": [
        "# Setup loss function and optimizer\n",
        "loss_fn = nn.CrossEntropyLoss() # this is also claeed \"criterion/cost\" function in some places\n",
        "optimizer = torch.optim.SGD(params = model_0.parameters() , lr =0.1)"
      ],
      "metadata": {
        "id": "ur6M0GRuccvf"
      },
      "execution_count": 21,
      "outputs": []
    },
    {
      "cell_type": "markdown",
      "source": [
        "### 3.2 Creating a funciton to time our experiments"
      ],
      "metadata": {
        "id": "YamC-rrBc5ks"
      }
    },
    {
      "cell_type": "code",
      "source": [
        "# torch.device()"
      ],
      "metadata": {
        "id": "KsKOHCuajmgz"
      },
      "execution_count": 22,
      "outputs": []
    },
    {
      "cell_type": "code",
      "source": [
        "from timeit import default_timer as timer\n",
        "def print_train_time(start: float, end: float, device: torch.device = None):\n",
        "  \"\"\" Prints difference between start and end time.\n",
        "\n",
        "  Args:\n",
        "    start (float): start time of computation (preferred in timeit format).\n",
        "    end (float): end time of computation\n",
        "    device ([type], optional): device that compute is running on. Defaults to None.\n",
        "\n",
        "  Returns:\n",
        "    float: time between start and end in seconds (higher is longer).\n",
        "  \"\"\"\n",
        "\n",
        "  total_time = end - start\n",
        "  print(f\"train time on {device} : {total_time:.3f} seconds\")\n",
        "  return total_time"
      ],
      "metadata": {
        "id": "7Pc5QkZnkiX0"
      },
      "execution_count": 23,
      "outputs": []
    },
    {
      "cell_type": "markdown",
      "source": [
        "### 3.3 Creating a training loop and training a model on batches of data"
      ],
      "metadata": {
        "id": "0infiIVUllE1"
      }
    },
    {
      "cell_type": "code",
      "source": [
        "# Import tqdm for progress bar\n",
        "from tqdm.auto import tqdm\n",
        "\n",
        "# set the seed and start the timer\n",
        "torch.manual_seed(42)\n",
        "train_time_start_on_cpu = timer()\n",
        "\n",
        "# Set the number of epochs (we'll keep this small for faster training times)\n",
        "epochs = 3\n",
        "\n",
        "# Create trianing and testing loop\n",
        "for epoch in tqdm(range(epochs)):\n",
        "  print(f\"Epoch: {epoch} \\n ------- \\n\")\n",
        "  ### Training\n",
        "  train_loss = 0\n",
        "  # Add a loop to loop through training batches\n",
        "  for batch, (X,y) in enumerate(train_dataloader):\n",
        "    model_0.train()\n",
        "    # 1. Forward pass\n",
        "    y_pred = model_0(X)\n",
        "\n",
        "    # 2. Calculate the loss (per batch)\n",
        "    loss = loss_fn(y_pred, y)\n",
        "    train_loss += loss # accumulatively add up the loss per epoch\n",
        "\n",
        "    # 3. Optimizer zero grad\n",
        "    optimizer.zero_grad()\n",
        "\n",
        "    # 4. Loss backward\n",
        "    loss.backward()\n",
        "\n",
        "    # 5. Optimizer step\n",
        "    optimizer.step()\n",
        "\n",
        "    # Print out how many samples have been seen\n",
        "    if batch % 400 == 0:\n",
        "      print(f\"Looked at {batch*len(X)} / {len(train_dataloader.dataset)} samples\")\n",
        "\n",
        "\n",
        "  # Divide total train loss by length of train dataloader (average loss per batch per epoch)\n",
        "  train_loss /= len(train_dataloader)\n",
        "\n",
        "\n",
        "  ### Testing\n",
        "  # Setup variables for accumulatively adding up loss and accuracy\n",
        "  test_loss, test_acc = 0,0\n",
        "  model_0.eval()\n",
        "  with torch.inference_mode():\n",
        "    for X,y in test_dataloader:\n",
        "      # 1. Forward pass\n",
        "      test_pred = model_0(X)\n",
        "\n",
        "      # 2. Calculate the loss (accumatively)\n",
        "      test_loss += loss_fn(test_pred, y) # accumulatively add up the loss per epoch\n",
        "\n",
        "      # 3. Calculate accuracy ( preds need to be same as y_true)\n",
        "      test_acc += accuracy_fn(y_true= y, y_pred= test_pred.argmax(dim=1))\n",
        "\n",
        "    # Calculations on test metrics need to happen inside torch.inference_mode()\n",
        "    # Divide total test loss by length of test dataloader (per batch)\n",
        "    test_loss /= len(test_dataloader)\n",
        "\n",
        "    # divide total accuracy by length of test dataloader (per batch)\n",
        "    test_acc /= len(test_dataloader)\n",
        "\n",
        "  # Prin out what's happening\n",
        "  print(f\"\\nTrain loss: {train_loss:.5f} | Test_loss: {test_loss:.5f} | Test_acc:{test_acc:.2f} \\n \\n\")\n",
        "\n",
        "# Calculate training time\n",
        "train_time_end_on_cpu = timer()\n",
        "total_train_time_model_0 = print_train_time(start=train_time_start_on_cpu,\n",
        "                                           end=train_time_end_on_cpu,\n",
        "                                           device=str(next(model_0.parameters()).device))\n",
        "\n"
      ],
      "metadata": {
        "id": "1hU6pG_gn0gK",
        "outputId": "57956d07-1a5c-4289-ef03-00e6fc00d85e",
        "colab": {
          "base_uri": "https://localhost:8080/",
          "height": 721,
          "referenced_widgets": [
            "2650598a0cde4e9fbadef26e447a324f",
            "5f3e4993bce144e0b4b64dd8b63bfbd2",
            "942ea696f2714580907c170c7252ef67",
            "3c804e8876aa47b09387aec2c30678b8",
            "82798ce55faa4de6922c26b3ae1da32e",
            "b988edd858a3435e8cd62b441d8d6d3a",
            "fb5e5fcec2b24f9585c03ffb869d1de3",
            "9729beec79354e4b8ef6c944a7a4e06a",
            "49b3aef3b5e24f5388ade8c6b1fef816",
            "155648e2e24647e7bd047754801f9e8d",
            "bfe0b03180794e888df65d8128942f5f"
          ]
        }
      },
      "execution_count": 24,
      "outputs": [
        {
          "output_type": "display_data",
          "data": {
            "text/plain": [
              "  0%|          | 0/3 [00:00<?, ?it/s]"
            ],
            "application/vnd.jupyter.widget-view+json": {
              "version_major": 2,
              "version_minor": 0,
              "model_id": "2650598a0cde4e9fbadef26e447a324f"
            }
          },
          "metadata": {}
        },
        {
          "output_type": "stream",
          "name": "stdout",
          "text": [
            "Epoch: 0 \n",
            " ------- \n",
            "\n",
            "Looked at 0 / 60000 samples\n",
            "Looked at 12800 / 60000 samples\n",
            "Looked at 25600 / 60000 samples\n",
            "Looked at 38400 / 60000 samples\n",
            "Looked at 51200 / 60000 samples\n",
            "\n",
            "Train loss: 0.59039 | Test_loss: 0.47426 | Test_acc:83.31 \n",
            " \n",
            "\n",
            "Epoch: 1 \n",
            " ------- \n",
            "\n",
            "Looked at 0 / 60000 samples\n",
            "Looked at 12800 / 60000 samples\n",
            "Looked at 25600 / 60000 samples\n",
            "Looked at 38400 / 60000 samples\n",
            "Looked at 51200 / 60000 samples\n",
            "\n",
            "Train loss: 0.47633 | Test_loss: 0.43953 | Test_acc:84.63 \n",
            " \n",
            "\n",
            "Epoch: 2 \n",
            " ------- \n",
            "\n",
            "Looked at 0 / 60000 samples\n",
            "Looked at 12800 / 60000 samples\n",
            "Looked at 25600 / 60000 samples\n",
            "Looked at 38400 / 60000 samples\n",
            "Looked at 51200 / 60000 samples\n",
            "\n",
            "Train loss: 0.45503 | Test_loss: 0.43026 | Test_acc:84.94 \n",
            " \n",
            "\n",
            "train time on cpu : 44.071 seconds\n"
          ]
        }
      ]
    },
    {
      "cell_type": "code",
      "source": [
        "torch.cuda.is_available()"
      ],
      "metadata": {
        "id": "VATj7rp5rLna",
        "outputId": "bbf3be9f-6d9d-42bf-ca54-f611fd4cad8c",
        "colab": {
          "base_uri": "https://localhost:8080/"
        }
      },
      "execution_count": 25,
      "outputs": [
        {
          "output_type": "execute_result",
          "data": {
            "text/plain": [
              "True"
            ]
          },
          "metadata": {},
          "execution_count": 25
        }
      ]
    },
    {
      "cell_type": "code",
      "source": [
        "# device = torch.device(\"cuda\" if torch.cuda.is_available() else \"cpu\")\n",
        "# model_0.to(device)\n"
      ],
      "metadata": {
        "id": "0UYe0sDvgqOQ"
      },
      "execution_count": 26,
      "outputs": []
    },
    {
      "cell_type": "code",
      "source": [
        "# # Import tqdm for progress bar\n",
        "# from tqdm.auto import tqdm\n",
        "\n",
        "# # set the seed and start the timer\n",
        "# torch.manual_seed(42)\n",
        "# train_time_start_on_cpu = timer()\n",
        "\n",
        "# # Set the number of epochs (we'll keep this small for faster training times)\n",
        "# epochs = 3\n",
        "\n",
        "# # Create trianing and testing loop\n",
        "# for epoch in tqdm(range(epochs)):\n",
        "#   print(f\"Epoch: {epoch} \\n ------- \\n\")\n",
        "#   ### Training\n",
        "#   train_loss = 0\n",
        "#   # Add a loop to loop through training batches\n",
        "#   for batch, (X,y) in enumerate(train_dataloader):\n",
        "#     X, y = X.to(device), y.to(device)\n",
        "#     model_0.train()\n",
        "#     # 1. Forward pass\n",
        "#     y_pred = model_0(X)\n",
        "\n",
        "#     # 2. Calculate the loss (per batch)\n",
        "#     loss = loss_fn(y_pred, y)\n",
        "#     train_loss += loss # accumulatively add up the loss per epoch\n",
        "\n",
        "#     # 3. Optimizer zero grad\n",
        "#     optimizer.zero_grad()\n",
        "\n",
        "#     # 4. Loss backward\n",
        "#     loss.backward()\n",
        "\n",
        "#     # 5. Optimizer step\n",
        "#     optimizer.step()\n",
        "\n",
        "#     # Print out how many samples have been seen\n",
        "#     if batch % 400 == 0:\n",
        "#       print(f\"Looked at {batch*len(X)} / {len(train_dataloader.dataset)} samples\")\n",
        "\n",
        "\n",
        "#   # Divide total train loss by length of train dataloader (average loss per batch per epoch)\n",
        "#   train_loss /= len(train_dataloader)\n",
        "\n",
        "\n",
        "#   ### Testing\n",
        "#   # Setup variables for accumulatively adding up loss and accuracy\n",
        "#   test_loss, test_acc = 0,0\n",
        "#   model_0.eval()\n",
        "#   with torch.inference_mode():\n",
        "#     for X,y in test_dataloader:\n",
        "#       X, y = X.to(device), y.to(device)\n",
        "#       # 1. Forward pass\n",
        "#       test_pred = model_0(X)\n",
        "\n",
        "#       # 2. Calculate the loss (accumatively)\n",
        "#       test_loss += loss_fn(test_pred, y) # accumulatively add up the loss per epoch\n",
        "\n",
        "#       # 3. Calculate accuracy ( preds need to be same as y_true)\n",
        "#       test_acc += accuracy_fn(y_true= y, y_pred= test_pred.argmax(dim=1))\n",
        "\n",
        "#     # Calculations on test metrics need to happen inside torch.inference_mode()\n",
        "#     # Divide total test loss by length of test dataloader (per batch)\n",
        "#     test_loss /= len(test_dataloader)\n",
        "\n",
        "#     # divide total accuracy by length of test dataloader (per batch)\n",
        "#     test_acc /= len(test_dataloader)\n",
        "\n",
        "#   # Prin out what's happening\n",
        "#   print(f\"\\nTrain loss: {train_loss:.5f} | Test_loss: {test_loss:.5f} | Test_acc:{test_acc:.2f} \\n \\n\")\n",
        "\n",
        "# # Calculate training time\n",
        "# train_time_end_on_cpu = timer()\n",
        "# total_train_time_model_0 = print_train_time(start=train_time_start_on_cpu,\n",
        "#                                            end=train_time_end_on_cpu,\n",
        "#                                            device=str(next(model_0.parameters()).device))\n",
        "\n"
      ],
      "metadata": {
        "id": "aA2Ce0zPkmy9"
      },
      "execution_count": 27,
      "outputs": []
    },
    {
      "cell_type": "markdown",
      "source": [
        "## 4. Make predictions and get model 0 results"
      ],
      "metadata": {
        "id": "WjIxGCVCk0f3"
      }
    },
    {
      "cell_type": "code",
      "source": [
        "import torch\n",
        "device = 'cuda' if torch.cuda.is_available else 'cpu'\n",
        "device"
      ],
      "metadata": {
        "id": "FoQrBU-MtzTR",
        "outputId": "1cacea4f-f8d3-44e2-d00b-7f3d3145e6aa",
        "colab": {
          "base_uri": "https://localhost:8080/",
          "height": 36
        }
      },
      "execution_count": 28,
      "outputs": [
        {
          "output_type": "execute_result",
          "data": {
            "text/plain": [
              "'cuda'"
            ],
            "application/vnd.google.colaboratory.intrinsic+json": {
              "type": "string"
            }
          },
          "metadata": {},
          "execution_count": 28
        }
      ]
    },
    {
      "cell_type": "code",
      "source": [
        "torch.manual_seed(42)\n",
        "def eval_model(model: torch.nn.Module,\n",
        "               data_loader: torch.utils.data.DataLoader,\n",
        "               loss_fn: torch.nn.Module,\n",
        "               accuracy_fn,\n",
        "               device: torch.device = device):\n",
        "    \"\"\"Returns a dictionary containing the results of model predicting on data_loader.\n",
        "\n",
        "    Args:\n",
        "        model (torch.nn.Module): A PyTorch model capable of making predictions on data_loader.\n",
        "        data_loader (torch.utils.data.DataLoader): The target dataset to predict on.\n",
        "        loss_fn (torch.nn.Module): The loss function of model.\n",
        "        accuracy_fn: An accuracy function to compare the models predictions to the truth labels.\n",
        "\n",
        "    Returns:\n",
        "        (dict): Results of model making predictions on data_loader.\n",
        "    \"\"\"\n",
        "    loss, acc = 0, 0\n",
        "    model.eval()\n",
        "    with torch.inference_mode():\n",
        "        for X, y in data_loader:\n",
        "            # Make predictions with the model\n",
        "            y_pred = model(X)\n",
        "\n",
        "            # Accumulate the loss and accuracy values per batch\n",
        "            loss += loss_fn(y_pred, y)\n",
        "            acc += accuracy_fn(y_true=y,\n",
        "                                y_pred=y_pred.argmax(dim=1)) # For accuracy, need the prediction labels (logits -> pred_prob -> pred_labels)\n",
        "\n",
        "        # Scale loss and acc to find the average loss/acc per batch\n",
        "        loss /= len(data_loader)\n",
        "        acc /= len(data_loader)\n",
        "   ## nicher part gulon bujhi nai ekhno.\n",
        "    return {\"model_name\": model.__class__.__name__, # only works when model was created with a class\n",
        "            \"model_loss\": loss.item(),\n",
        "            \"model_acc\": acc}\n",
        "\n",
        "# Calculate model 0 results on test dataset\n",
        "model_0_results = eval_model(model=model_0, data_loader=test_dataloader,\n",
        "    loss_fn=loss_fn, accuracy_fn=accuracy_fn, device= device\n",
        ")\n",
        "model_0_results"
      ],
      "metadata": {
        "id": "AaEaYtDNlpR2",
        "outputId": "5aaf5886-6fe2-4fd1-f185-5dd090948bdd",
        "colab": {
          "base_uri": "https://localhost:8080/"
        }
      },
      "execution_count": 29,
      "outputs": [
        {
          "output_type": "execute_result",
          "data": {
            "text/plain": [
              "{'model_name': 'FasionMNISTModelV0',\n",
              " 'model_loss': 0.4302613139152527,\n",
              " 'model_acc': 84.94166666666666}"
            ]
          },
          "metadata": {},
          "execution_count": 29
        }
      ]
    },
    {
      "cell_type": "markdown",
      "source": [
        "## 5. Setup device agnostic code (for using a GPU if there is one)"
      ],
      "metadata": {
        "id": "_fQ4EB9xoCHl"
      }
    },
    {
      "cell_type": "code",
      "source": [
        "# Setup device agnostic code\n",
        "\n",
        "import torch\n",
        "device = 'cuda' if torch.cuda.is_available() else 'cpu'\n",
        "device"
      ],
      "metadata": {
        "id": "LjaOo5zPQLW_",
        "outputId": "c70dc636-a112-404a-871a-f50f3f876b67",
        "colab": {
          "base_uri": "https://localhost:8080/",
          "height": 36
        }
      },
      "execution_count": 30,
      "outputs": [
        {
          "output_type": "execute_result",
          "data": {
            "text/plain": [
              "'cuda'"
            ],
            "application/vnd.google.colaboratory.intrinsic+json": {
              "type": "string"
            }
          },
          "metadata": {},
          "execution_count": 30
        }
      ]
    },
    {
      "cell_type": "markdown",
      "source": [
        "## 6. Model: 1 - Building a better model with non-linearity"
      ],
      "metadata": {
        "id": "L2znrgXBQcHa"
      }
    },
    {
      "cell_type": "code",
      "source": [
        "# Create a model with non-linear and linear layers\n",
        "class FashionMNISTModelV1(nn.Module):\n",
        "  def __init__(self, input_shape: int, hidden_units: int, output_shape: int):\n",
        "    super().__init__()\n",
        "    self.layer_stack = nn.Sequential(\n",
        "        nn.Flatten(), # flatten input into single vector\n",
        "        nn.Linear(in_features = input_shape, out_features = hidden_units),\n",
        "        nn.ReLU(),\n",
        "        nn.Linear(in_features = hidden_units, out_features = output_shape),\n",
        "        nn.ReLU()\n",
        "    )\n",
        "\n",
        "  def forward(self, x: torch.tensor):\n",
        "    return self.layer_stack(x)"
      ],
      "metadata": {
        "id": "IclveWv-QlUi"
      },
      "execution_count": 31,
      "outputs": []
    },
    {
      "cell_type": "code",
      "source": [
        "torch.manual_seed(42)\n",
        "model_1= FashionMNISTModelV1(input_shape = 784, # number of input features\n",
        "                             hidden_units = 10,\n",
        "                             output_shape = len(class_names) # number of output classes desired\n",
        ").to(device) # send model to GPU if it's available\n",
        "next(model_1.parameters()).device # check model device\n"
      ],
      "metadata": {
        "id": "2d5fFmnYRmTN",
        "outputId": "96aa7836-12ea-4806-d2c5-a33e5d144f5e",
        "colab": {
          "base_uri": "https://localhost:8080/"
        }
      },
      "execution_count": 32,
      "outputs": [
        {
          "output_type": "execute_result",
          "data": {
            "text/plain": [
              "device(type='cuda', index=0)"
            ]
          },
          "metadata": {},
          "execution_count": 32
        }
      ]
    },
    {
      "cell_type": "markdown",
      "source": [
        "Using next: Efficiently checks the device of the first parameter in the model."
      ],
      "metadata": {
        "id": "b3eR9caAt-2-"
      }
    },
    {
      "cell_type": "code",
      "source": [
        "for param in model_1.parameters():\n",
        "    print(param.device)\n",
        "\n"
      ],
      "metadata": {
        "id": "hGr6cCMprmew",
        "outputId": "8449120e-fe49-40c8-a350-70e6268b8933",
        "colab": {
          "base_uri": "https://localhost:8080/"
        }
      },
      "execution_count": 33,
      "outputs": [
        {
          "output_type": "stream",
          "name": "stdout",
          "text": [
            "cuda:0\n",
            "cuda:0\n",
            "cuda:0\n",
            "cuda:0\n"
          ]
        }
      ]
    },
    {
      "cell_type": "code",
      "source": [
        "model_1.state_dict()"
      ],
      "metadata": {
        "id": "jcRpl6zxtvX8",
        "outputId": "a26a3901-cbf4-4a5a-d19e-23bad02e1246",
        "colab": {
          "base_uri": "https://localhost:8080/"
        }
      },
      "execution_count": 34,
      "outputs": [
        {
          "output_type": "execute_result",
          "data": {
            "text/plain": [
              "OrderedDict([('layer_stack.1.weight',\n",
              "              tensor([[ 0.0273,  0.0296, -0.0084,  ..., -0.0142,  0.0093,  0.0135],\n",
              "                      [-0.0188, -0.0354,  0.0187,  ..., -0.0106, -0.0001,  0.0115],\n",
              "                      [-0.0008,  0.0017,  0.0045,  ..., -0.0127, -0.0188,  0.0059],\n",
              "                      ...,\n",
              "                      [-0.0116,  0.0273, -0.0344,  ...,  0.0176,  0.0283, -0.0011],\n",
              "                      [-0.0230,  0.0257,  0.0291,  ..., -0.0187, -0.0087,  0.0001],\n",
              "                      [ 0.0176, -0.0147,  0.0053,  ..., -0.0336, -0.0221,  0.0205]],\n",
              "                     device='cuda:0')),\n",
              "             ('layer_stack.1.bias',\n",
              "              tensor([-0.0093,  0.0283, -0.0033,  0.0255,  0.0017,  0.0037, -0.0302, -0.0123,\n",
              "                       0.0018,  0.0163], device='cuda:0')),\n",
              "             ('layer_stack.3.weight',\n",
              "              tensor([[ 0.0614, -0.0687,  0.0021,  0.2718,  0.2109,  0.1079, -0.2279, -0.1063,\n",
              "                        0.2019,  0.2847],\n",
              "                      [-0.1495,  0.1344, -0.0740,  0.2006, -0.0475, -0.2514, -0.3130, -0.0118,\n",
              "                        0.0932, -0.1864],\n",
              "                      [ 0.2488,  0.1500,  0.1907,  0.1457, -0.3050, -0.0580,  0.1643,  0.1565,\n",
              "                       -0.2877, -0.1792],\n",
              "                      [ 0.2305, -0.2618,  0.2397, -0.0610,  0.0232,  0.1542,  0.0851, -0.2027,\n",
              "                        0.1030, -0.2715],\n",
              "                      [-0.1596, -0.0555, -0.0633,  0.2302, -0.1726,  0.2654,  0.1473,  0.1029,\n",
              "                        0.2252, -0.2160],\n",
              "                      [-0.2725,  0.0118,  0.1559,  0.1596,  0.0132,  0.3024,  0.1124,  0.1366,\n",
              "                       -0.1533,  0.0965],\n",
              "                      [-0.1184, -0.2555, -0.2057, -0.1909, -0.0477, -0.1324,  0.2905,  0.1307,\n",
              "                       -0.2629,  0.0133],\n",
              "                      [ 0.2727, -0.0127,  0.0513,  0.0863, -0.1043, -0.2047, -0.1185, -0.0825,\n",
              "                        0.2488, -0.2571],\n",
              "                      [ 0.0425, -0.1209, -0.0336, -0.0281, -0.1227,  0.0730,  0.0747, -0.1816,\n",
              "                        0.1943,  0.2853],\n",
              "                      [-0.1310,  0.0645, -0.1171,  0.2168, -0.0245, -0.2820,  0.0736,  0.2621,\n",
              "                        0.0012, -0.0810]], device='cuda:0')),\n",
              "             ('layer_stack.3.bias',\n",
              "              tensor([-0.0087,  0.1791,  0.2712, -0.0791,  0.1685,  0.1762,  0.2825,  0.2266,\n",
              "                      -0.2612, -0.2613], device='cuda:0'))])"
            ]
          },
          "metadata": {},
          "execution_count": 34
        }
      ]
    },
    {
      "cell_type": "markdown",
      "source": [
        "### 6.1 Setup loss, optimizer and evaluation metrics"
      ],
      "metadata": {
        "id": "5AwFCM9uuPjJ"
      }
    },
    {
      "cell_type": "code",
      "source": [
        "from helper_functions import accuracy_fn\n",
        "loss_fn = nn.CrossEntropyLoss()\n",
        "optimizer = torch.optim.SGD(params = model_1.parameters(),\n",
        "                            lr= 0.1)"
      ],
      "metadata": {
        "id": "h3kjgjNbwqN5"
      },
      "execution_count": 35,
      "outputs": []
    },
    {
      "cell_type": "markdown",
      "source": [
        "### 6.2 Functionizing training and test loops"
      ],
      "metadata": {
        "id": "1v3vO4Qyw6Xk"
      }
    },
    {
      "cell_type": "markdown",
      "source": [
        "this time we'll put them in functions so they can be called again and again.\n",
        "\n",
        "And because we're using device-agnostic code now, we'll be sure to call .to(device) on our feature (X) and target (y) tensors.\n",
        "\n",
        "For the training loop we'll create a function called train_step() which takes in a model, a DataLoader a loss function and an optimizer."
      ],
      "metadata": {
        "id": "KkRWuqglxMhu"
      }
    },
    {
      "cell_type": "code",
      "source": [
        "def train_step(model: torch.nn.Module,\n",
        "               data_loader: torch.utils.data.DataLoader,\n",
        "               loss_fn: torch.nn.Module,\n",
        "               accuracy_fn,\n",
        "               optimizer: torch.optim.Optimizer,\n",
        "               device: torch.device = device):\n",
        "  train_loss, train_acc = 0,0\n",
        "  model.to(device)\n",
        "\n",
        "  for batch, (X,y) in enumerate(data_loader):\n",
        "    # send data to GPU\n",
        "    X,y = X.to(device), y.to(device)\n",
        "\n",
        "    # Forward pass\n",
        "    y_pred = model(X)\n",
        "\n",
        "    # Calculate the loss:\n",
        "    loss = loss_fn(y_pred, y)\n",
        "    train_loss += loss\n",
        "    train_acc += accuracy_fn(y_true = y, y_pred = y_pred.argmax(dim=1)) # go from logits -> pred labels\n",
        "\n",
        "    # Optimizer zero grad\n",
        "    optimizer.zero_grad()\n",
        "\n",
        "    # loss backward\n",
        "    loss.backward()\n",
        "\n",
        "    # optimizer step\n",
        "    optimizer.step()\n",
        "\n",
        "  #Calculate loss and accuracy per epoch and print out what's happening:\n",
        "  train_loss /=len(data_loader)\n",
        "  train_acc /= len(data_loader)\n",
        "  print(f\"Train Loss: {train_loss:5f} \\/ Train accuracy: {train_acc: 5f}\")\n",
        "\n",
        "def test_step(data_loader: torch.utils.data.DataLoader,\n",
        "              model: torch.nn.Module,\n",
        "              loss_fn: torch.nn.Module,\n",
        "              accuracy_fn,\n",
        "              #optimizer: torch.optim.Optimizer,\n",
        "              device: torch.device = device):\n",
        "  test_loss, test_acc = 0,0\n",
        "  model.to(device)\n",
        "  model.eval() # put model in eval mode\n",
        "  # Turn on inference context manage\n",
        "  with torch.inference_mode():\n",
        "    for X,y in data_loader:\n",
        "\n",
        "      # send data to GPU if available\n",
        "      X,y = X.to(device), y.to(device)\n",
        "\n",
        "      # 1. Forward pass\n",
        "      test_pred = model(X)\n",
        "\n",
        "      # 2. Calculate the loss and accuracy\n",
        "      test_loss += loss_fn(test_pred, y)\n",
        "      test_acc += accuracy_fn(y_true= y, y_pred = test_pred.argmax(dim=1)) # go from logits -> pred labels\n",
        "\n",
        "\n",
        "    # Adjust metrics and print out\n",
        "    test_loss /=len(data_loader)\n",
        "    test_acc /=len(data_loader)\n",
        "\n",
        "    print(f\"Test Loss: {test_loss: 5f} \\/ Test acc: {test_acc: 5f}\")"
      ],
      "metadata": {
        "id": "hXeXwAPMxCAF"
      },
      "execution_count": 36,
      "outputs": []
    },
    {
      "cell_type": "code",
      "source": [
        "torch.manual_seed(42)\n",
        "\n",
        "# Measure time\n",
        "from timeit import default_timer as timer\n",
        "train_time_start_on_gpu = timer()\n",
        "\n",
        "epochs = 3\n",
        "for epoch in tqdm(range(epochs)):\n",
        "    print(f\"Epoch: {epoch}\\n---------\")\n",
        "    train_step(data_loader=train_dataloader,\n",
        "        model=model_1,\n",
        "        loss_fn=loss_fn,\n",
        "        optimizer=optimizer,\n",
        "        accuracy_fn=accuracy_fn\n",
        "    )\n",
        "    test_step(data_loader=test_dataloader,\n",
        "        model=model_1,\n",
        "        loss_fn=loss_fn,\n",
        "        accuracy_fn=accuracy_fn\n",
        "    )\n",
        "\n",
        "train_time_end_on_gpu = timer()\n",
        "total_train_time_model_1 = print_train_time(start=train_time_start_on_gpu,\n",
        "                                            end=train_time_end_on_gpu,\n",
        "                                            device=device)"
      ],
      "metadata": {
        "id": "Lv4z42ix1itY",
        "outputId": "4726b169-cbda-4a1d-ef3b-194108310c97",
        "colab": {
          "base_uri": "https://localhost:8080/",
          "height": 285,
          "referenced_widgets": [
            "7c0280049b70423bbcd87838344ab046",
            "a9ab3472f88f4a8f9cc78f6782f9552d",
            "89361a6a10b94b20877de8fab40c1711",
            "68d2a09433b443ad9a4b2c743626e235",
            "4650e1b8318b4bbebe5e3e4dd83023b8",
            "4ac9f5cad00041e4870643a6f10fb10c",
            "9b6ae84626d64cd69bca4234d975344c",
            "ddf5022cdffa4845ab0d19e7ce31f714",
            "68f23ecbc6fc423d8a0efd09a7fc2792",
            "585e2d4d68ff4eb28bbeb2ec8b90224f",
            "f4d91ba1bfe640318af43e6d03dc8203"
          ]
        }
      },
      "execution_count": 37,
      "outputs": [
        {
          "output_type": "display_data",
          "data": {
            "text/plain": [
              "  0%|          | 0/3 [00:00<?, ?it/s]"
            ],
            "application/vnd.jupyter.widget-view+json": {
              "version_major": 2,
              "version_minor": 0,
              "model_id": "7c0280049b70423bbcd87838344ab046"
            }
          },
          "metadata": {}
        },
        {
          "output_type": "stream",
          "name": "stdout",
          "text": [
            "Epoch: 0\n",
            "---------\n",
            "Train Loss: 1.091992 \\/ Train accuracy:  61.343333\n",
            "Test Loss:  0.927273 \\/ Test acc:  66.005000\n",
            "Epoch: 1\n",
            "---------\n",
            "Train Loss: 0.781006 \\/ Train accuracy:  71.928333\n",
            "Test Loss:  0.687518 \\/ Test acc:  75.195000\n",
            "Epoch: 2\n",
            "---------\n",
            "Train Loss: 0.670271 \\/ Train accuracy:  75.936667\n",
            "Test Loss:  0.643019 \\/ Test acc:  76.428333\n",
            "train time on cuda : 46.668 seconds\n"
          ]
        }
      ]
    },
    {
      "cell_type": "code",
      "source": [
        "# torch.manual_seed(42)\n",
        "\n",
        "# # Note: This will error due to eval_mode() not using the device agnostic code\n",
        "# model_1_results = eval_model(model = model_1,\n",
        "#                              data_loader = test_dataloader,\n",
        "#                              loss_fn= loss_fn,\n",
        "#                              accuracy_fn = accuracy_fn,\n",
        "#                              device = device)\n",
        "\n",
        "# model_1_results"
      ],
      "metadata": {
        "id": "KsT0hY2i660L"
      },
      "execution_count": 38,
      "outputs": []
    },
    {
      "cell_type": "code",
      "source": [
        "# Move values to device\n",
        "torch.manual_seed(42)\n",
        "def eval_model(model: torch.nn.Module,\n",
        "               data_loader: torch.utils.data.DataLoader,\n",
        "               loss_fn: torch.nn.Module,\n",
        "               accuracy_fn,\n",
        "               device: torch.device = device):\n",
        "    \"\"\"Evaluates a given model on a given dataset.\n",
        "\n",
        "    Args:\n",
        "        model (torch.nn.Module): A PyTorch model capable of making predictions on data_loader.\n",
        "        data_loader (torch.utils.data.DataLoader): The target dataset to predict on.\n",
        "        loss_fn (torch.nn.Module): The loss function of model.\n",
        "        accuracy_fn: An accuracy function to compare the models predictions to the truth labels.\n",
        "        device (str, optional): Target device to compute on. Defaults to device.\n",
        "\n",
        "    Returns:\n",
        "        (dict): Results of model making predictions on data_loader.\n",
        "    \"\"\"\n",
        "    loss, acc = 0, 0\n",
        "    model.eval()\n",
        "    with torch.inference_mode():\n",
        "        for X, y in data_loader:\n",
        "            # Send data to the target device\n",
        "            X, y = X.to(device), y.to(device)\n",
        "            y_pred = model(X)\n",
        "            loss += loss_fn(y_pred, y)\n",
        "            acc += accuracy_fn(y_true=y, y_pred=y_pred.argmax(dim=1))\n",
        "\n",
        "        # Scale loss and acc\n",
        "        loss /= len(data_loader)\n",
        "        acc /= len(data_loader)\n",
        "    return {\"model_name\": model.__class__.__name__, # only works when model was created with a class\n",
        "            \"model_loss\": loss.item(),\n",
        "            \"model_acc\": acc}\n",
        "\n",
        "# Calculate model 1 results with device-agnostic code\n",
        "model_1_results = eval_model(model=model_1, data_loader=test_dataloader,\n",
        "    loss_fn=loss_fn, accuracy_fn=accuracy_fn,\n",
        "    device=device\n",
        ")\n",
        "model_1_results"
      ],
      "metadata": {
        "id": "mDsXfBYktVKt",
        "outputId": "32860445-b546-41f2-8c08-c2f76fa530a0",
        "colab": {
          "base_uri": "https://localhost:8080/"
        }
      },
      "execution_count": 39,
      "outputs": [
        {
          "output_type": "execute_result",
          "data": {
            "text/plain": [
              "{'model_name': 'FashionMNISTModelV1',\n",
              " 'model_loss': 0.643019437789917,\n",
              " 'model_acc': 76.42833333333333}"
            ]
          },
          "metadata": {},
          "execution_count": 39
        }
      ]
    },
    {
      "cell_type": "markdown",
      "source": [
        "## 7. Model:2 Building a Convolutional Neural Network *(CNN)*"
      ],
      "metadata": {
        "id": "rrsS6gAJv5JH"
      }
    },
    {
      "cell_type": "markdown",
      "source": [
        "The CNN model we're going to be using is known as TinyVGG from the CNN Explainer website."
      ],
      "metadata": {
        "id": "7qm5RT3eI5Pa"
      }
    },
    {
      "cell_type": "markdown",
      "source": [
        "It follows the typical structure of a convolutional neural network:\n",
        "\n",
        "`Input layer -> [Convolutional layer -> activation layer -> pooling layer] -> Output layer`"
      ],
      "metadata": {
        "id": "jWwkdsb0LJ3x"
      }
    },
    {
      "cell_type": "markdown",
      "source": [
        "Where the contents of ``[Convolutional layer -> activation layer -> pooling layer]`` can be upscaled and repeated multiple times, depending on requirements."
      ],
      "metadata": {
        "id": "LXw0gBXNI5C7"
      }
    },
    {
      "cell_type": "markdown",
      "source": [
        "![image.png](data:image/png;base64,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)"
      ],
      "metadata": {
        "id": "1ht5ME3oLip9"
      }
    },
    {
      "cell_type": "code",
      "source": [
        "# Create a convolutional neural network\n",
        "class FashionMNISTModelV2(nn.Module):\n",
        "  \"\"\"\n",
        "    Model architecture copying TinyVGG from:\n",
        "    https://poloclub.github.io/cnn-explainer/\n",
        "    \"\"\"\n",
        "\n",
        "  def __init__(self, input_shape: int, hidden_units: int, output_shape: int):\n",
        "    super().__init__()\n",
        "    self.block_1 = nn.Sequential(\n",
        "        nn.Conv2d(in_channels = input_shape,\n",
        "                  out_channels = hidden_units,\n",
        "                  kernel_size = 3,  # how big is the square that's going over the image\n",
        "                  stride =1 , # default\n",
        "                  padding = 1) , # options = 'valid' ( no padding)  or 'same' (output has same shape as input) or int for specific number\n",
        "        nn.ReLU(),\n",
        "        nn.Conv2d(in_channels = hidden_units,\n",
        "                  out_channels = hidden_units,\n",
        "                  kernel_size = 3,\n",
        "                  stride = 1,\n",
        "                  padding = 1),\n",
        "        nn.ReLU(),\n",
        "        nn.MaxPool2d(kernel_size = 2,\n",
        "                     stride = 2) # default stride value is same as kernel_size\n",
        "    )\n",
        "\n",
        "    self.block_2 = nn.Sequential(\n",
        "        nn.Conv2d(hidden_units, hidden_units, kernel_size = 3, padding = 1),\n",
        "        nn.ReLU(),\n",
        "        nn.Conv2d(hidden_units, hidden_units, 3, padding = 1),\n",
        "        nn.ReLU(),\n",
        "        nn.MaxPool2d(2)\n",
        "\n",
        "    )\n",
        "    self.classifier = nn.Sequential(\n",
        "        nn.Flatten(),\n",
        "        # where did this in_features shape come from?\n",
        "        # it's because each layer of our neural network compresses and changes shape of our inputs data.\n",
        "        nn.Linear(in_features = hidden_units * 7* 7,\n",
        "                  out_features = output_shape)\n",
        "\n",
        "    )\n",
        "  def  forward(self, x:torch.Tensor):\n",
        "    x = self.block_1(x)\n",
        "    print(x.shape)\n",
        "    x= self.block_2(x)\n",
        "    print(x.shape)\n",
        "    x = self.classifier(x)\n",
        "    print(x.shape)\n",
        "    return X\n",
        "\n",
        "torch.manual_seed(42)\n",
        "model_2 = FashionMNISTModelV2(input_shape = 1,\n",
        "                              hidden_units = 10,\n",
        "                              output_shape = len(class_names)).to(device)\n",
        "\n",
        "model_2\n",
        "\n",
        "\n"
      ],
      "metadata": {
        "id": "uv19znWiIgIW",
        "outputId": "54c31341-d6b9-4f7d-9736-61eaf88f1ee0",
        "colab": {
          "base_uri": "https://localhost:8080/"
        }
      },
      "execution_count": 40,
      "outputs": [
        {
          "output_type": "execute_result",
          "data": {
            "text/plain": [
              "FashionMNISTModelV2(\n",
              "  (block_1): Sequential(\n",
              "    (0): Conv2d(1, 10, kernel_size=(3, 3), stride=(1, 1), padding=(1, 1))\n",
              "    (1): ReLU()\n",
              "    (2): Conv2d(10, 10, kernel_size=(3, 3), stride=(1, 1), padding=(1, 1))\n",
              "    (3): ReLU()\n",
              "    (4): MaxPool2d(kernel_size=2, stride=2, padding=0, dilation=1, ceil_mode=False)\n",
              "  )\n",
              "  (block_2): Sequential(\n",
              "    (0): Conv2d(10, 10, kernel_size=(3, 3), stride=(1, 1), padding=(1, 1))\n",
              "    (1): ReLU()\n",
              "    (2): Conv2d(10, 10, kernel_size=(3, 3), stride=(1, 1), padding=(1, 1))\n",
              "    (3): ReLU()\n",
              "    (4): MaxPool2d(kernel_size=2, stride=2, padding=0, dilation=1, ceil_mode=False)\n",
              "  )\n",
              "  (classifier): Sequential(\n",
              "    (0): Flatten(start_dim=1, end_dim=-1)\n",
              "    (1): Linear(in_features=490, out_features=10, bias=True)\n",
              "  )\n",
              ")"
            ]
          },
          "metadata": {},
          "execution_count": 40
        }
      ]
    },
    {
      "cell_type": "markdown",
      "source": [
        "### **7.1 Stepping through** `nn.Conv2d()`"
      ],
      "metadata": {
        "id": "pbpKBMpnNCFU"
      }
    },
    {
      "cell_type": "markdown",
      "source": [
        "we could start using our model above and see what happens but let's first step through the two new layers we've added:"
      ],
      "metadata": {
        "id": "FKpmDljMttG8"
      }
    },
    {
      "cell_type": "markdown",
      "source": [
        "* `nn.Conv2d()`, also known as a convolutional layer\n",
        "* `nn.MaxPool2s()` , also known as a max pooling layer"
      ],
      "metadata": {
        "id": "VHJ-A6z3t6o6"
      }
    },
    {
      "cell_type": "code",
      "source": [
        "torch.manual_seed(42)\n",
        "\n",
        "# Create sample batch of random number with same size as image batch\n",
        "images = torch.randn(size= (32, 3, 64, 64)) # [batch size, color_chnnel, height, width]\n",
        "test_images = images[0] # get a single image for testing\n",
        "\n",
        "print(f\"Image batch shape: {images.shape} -> [batch size, color_channels, height, width]\")\n",
        "print(f\"Single image shape: {test_images.shape} -> [color_channels, height, width]\")\n",
        "print(f\"single image pixel values: \\n{test_images}\")\n",
        "print(f\"single image shape: \\n{test_images.shape}\")"
      ],
      "metadata": {
        "id": "qozLefsXuJnd",
        "outputId": "a6321777-feda-423a-c6f3-574167224936",
        "colab": {
          "base_uri": "https://localhost:8080/"
        }
      },
      "execution_count": 42,
      "outputs": [
        {
          "output_type": "stream",
          "name": "stdout",
          "text": [
            "Image batch shape: torch.Size([32, 3, 64, 64]) -> [batch size, color_channels, height, width]\n",
            "Single image shape: torch.Size([3, 64, 64]) -> [color_channels, height, width]\n",
            "single image pixel values: \n",
            "tensor([[[ 1.9269,  1.4873,  0.9007,  ...,  1.8446, -1.1845,  1.3835],\n",
            "         [ 1.4451,  0.8564,  2.2181,  ...,  0.3399,  0.7200,  0.4114],\n",
            "         [ 1.9312,  1.0119, -1.4364,  ..., -0.5558,  0.7043,  0.7099],\n",
            "         ...,\n",
            "         [-0.5610, -0.4830,  0.4770,  ..., -0.2713, -0.9537, -0.6737],\n",
            "         [ 0.3076, -0.1277,  0.0366,  ..., -2.0060,  0.2824, -0.8111],\n",
            "         [-1.5486,  0.0485, -0.7712,  ..., -0.1403,  0.9416, -0.0118]],\n",
            "\n",
            "        [[-0.5197,  1.8524,  1.8365,  ...,  0.8935, -1.5114, -0.8515],\n",
            "         [ 2.0818,  1.0677, -1.4277,  ...,  1.6612, -2.6223, -0.4319],\n",
            "         [-0.1010, -0.4388, -1.9775,  ...,  0.2106,  0.2536, -0.7318],\n",
            "         ...,\n",
            "         [ 0.2779,  0.7342, -0.3736,  ..., -0.4601,  0.1815,  0.1850],\n",
            "         [ 0.7205, -0.2833,  0.0937,  ..., -0.1002, -2.3609,  2.2465],\n",
            "         [-1.3242, -0.1973,  0.2920,  ...,  0.5409,  0.6940,  1.8563]],\n",
            "\n",
            "        [[-0.7978,  1.0261,  1.1465,  ...,  1.2134,  0.9354, -0.0780],\n",
            "         [-1.4647, -1.9571,  0.1017,  ..., -1.9986, -0.7409,  0.7011],\n",
            "         [-1.3938,  0.8466, -1.7191,  ..., -1.1867,  0.1320,  0.3407],\n",
            "         ...,\n",
            "         [ 0.8206, -0.3745,  1.2499,  ..., -0.0676,  0.0385,  0.6335],\n",
            "         [-0.5589, -0.3393,  0.2347,  ...,  2.1181,  2.4569,  1.3083],\n",
            "         [-0.4092,  1.5199,  0.2401,  ..., -0.2558,  0.7870,  0.9924]]])\n",
            "single image shape: \n",
            "torch.Size([3, 64, 64])\n"
          ]
        }
      ]
    },
    {
      "cell_type": "markdown",
      "source": [
        "Let's create an example nn.Conv2d() with various parameters:\n",
        "* in_channels(int) Number of channels in the input image\n",
        "* out_channels(int) number of channels produced by the convolution\n",
        "* kernel_size (int or tuple) size of the convolving kernel/filter\n",
        "* stride (int or tuple, optional) how big of a step the convolving kernel takes at a time. Default: 1.\n",
        "* padding ( int, tuple, str) - Padding added to all four sides of input. Default: 0."
      ],
      "metadata": {
        "id": "0S4WNd8QvvBE"
      }
    },
    {
      "cell_type": "markdown",
      "source": [
        "https://raw.githubusercontent.com/mrdbourke/pytorch-deep-learning/main/images/03-conv2d-layer.gif"
      ],
      "metadata": {
        "id": "ndOSTf0YyzHm"
      }
    },
    {
      "cell_type": "code",
      "source": [],
      "metadata": {
        "id": "6GlfLwZUzIXp"
      },
      "execution_count": null,
      "outputs": []
    }
  ]
}