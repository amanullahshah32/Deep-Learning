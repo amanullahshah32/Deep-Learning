{
  "nbformat": 4,
  "nbformat_minor": 0,
  "metadata": {
    "colab": {
      "provenance": [],
      "gpuType": "T4",
      "authorship_tag": "ABX9TyPANh9wqrlczabfIQsOtovq",
      "include_colab_link": true
    },
    "kernelspec": {
      "name": "python3",
      "display_name": "Python 3"
    },
    "language_info": {
      "name": "python"
    },
    "accelerator": "GPU",
    "widgets": {
      "application/vnd.jupyter.widget-state+json": {
        "5a42454b909d40cba24d5cc78776b0df": {
          "model_module": "@jupyter-widgets/controls",
          "model_name": "HBoxModel",
          "model_module_version": "1.5.0",
          "state": {
            "_dom_classes": [],
            "_model_module": "@jupyter-widgets/controls",
            "_model_module_version": "1.5.0",
            "_model_name": "HBoxModel",
            "_view_count": null,
            "_view_module": "@jupyter-widgets/controls",
            "_view_module_version": "1.5.0",
            "_view_name": "HBoxView",
            "box_style": "",
            "children": [
              "IPY_MODEL_f49e0f6e3a684ef6bf6ec7082df80862",
              "IPY_MODEL_d8d5380f6cb64f69b122aeede36d5022",
              "IPY_MODEL_bf326257125241e597a30ced0961398f"
            ],
            "layout": "IPY_MODEL_00acb5b0c21945b99cddedcdcfea41cf"
          }
        },
        "f49e0f6e3a684ef6bf6ec7082df80862": {
          "model_module": "@jupyter-widgets/controls",
          "model_name": "HTMLModel",
          "model_module_version": "1.5.0",
          "state": {
            "_dom_classes": [],
            "_model_module": "@jupyter-widgets/controls",
            "_model_module_version": "1.5.0",
            "_model_name": "HTMLModel",
            "_view_count": null,
            "_view_module": "@jupyter-widgets/controls",
            "_view_module_version": "1.5.0",
            "_view_name": "HTMLView",
            "description": "",
            "description_tooltip": null,
            "layout": "IPY_MODEL_3ae6777d921f430a922b8f4a5051bdde",
            "placeholder": "​",
            "style": "IPY_MODEL_eca5cedeecf24d148e6a1b1fc79c7721",
            "value": "100%"
          }
        },
        "d8d5380f6cb64f69b122aeede36d5022": {
          "model_module": "@jupyter-widgets/controls",
          "model_name": "FloatProgressModel",
          "model_module_version": "1.5.0",
          "state": {
            "_dom_classes": [],
            "_model_module": "@jupyter-widgets/controls",
            "_model_module_version": "1.5.0",
            "_model_name": "FloatProgressModel",
            "_view_count": null,
            "_view_module": "@jupyter-widgets/controls",
            "_view_module_version": "1.5.0",
            "_view_name": "ProgressView",
            "bar_style": "success",
            "description": "",
            "description_tooltip": null,
            "layout": "IPY_MODEL_4f362077bfac41d087f19a81a33dc1a7",
            "max": 3,
            "min": 0,
            "orientation": "horizontal",
            "style": "IPY_MODEL_7b249217f0ac4d47ad203b2b2895eea5",
            "value": 3
          }
        },
        "bf326257125241e597a30ced0961398f": {
          "model_module": "@jupyter-widgets/controls",
          "model_name": "HTMLModel",
          "model_module_version": "1.5.0",
          "state": {
            "_dom_classes": [],
            "_model_module": "@jupyter-widgets/controls",
            "_model_module_version": "1.5.0",
            "_model_name": "HTMLModel",
            "_view_count": null,
            "_view_module": "@jupyter-widgets/controls",
            "_view_module_version": "1.5.0",
            "_view_name": "HTMLView",
            "description": "",
            "description_tooltip": null,
            "layout": "IPY_MODEL_cdf43a4e877e4f14ad53772934fd3d04",
            "placeholder": "​",
            "style": "IPY_MODEL_d47cb063da8940ff9ec8065892f4ca19",
            "value": " 3/3 [00:28&lt;00:00,  9.49s/it]"
          }
        },
        "00acb5b0c21945b99cddedcdcfea41cf": {
          "model_module": "@jupyter-widgets/base",
          "model_name": "LayoutModel",
          "model_module_version": "1.2.0",
          "state": {
            "_model_module": "@jupyter-widgets/base",
            "_model_module_version": "1.2.0",
            "_model_name": "LayoutModel",
            "_view_count": null,
            "_view_module": "@jupyter-widgets/base",
            "_view_module_version": "1.2.0",
            "_view_name": "LayoutView",
            "align_content": null,
            "align_items": null,
            "align_self": null,
            "border": null,
            "bottom": null,
            "display": null,
            "flex": null,
            "flex_flow": null,
            "grid_area": null,
            "grid_auto_columns": null,
            "grid_auto_flow": null,
            "grid_auto_rows": null,
            "grid_column": null,
            "grid_gap": null,
            "grid_row": null,
            "grid_template_areas": null,
            "grid_template_columns": null,
            "grid_template_rows": null,
            "height": null,
            "justify_content": null,
            "justify_items": null,
            "left": null,
            "margin": null,
            "max_height": null,
            "max_width": null,
            "min_height": null,
            "min_width": null,
            "object_fit": null,
            "object_position": null,
            "order": null,
            "overflow": null,
            "overflow_x": null,
            "overflow_y": null,
            "padding": null,
            "right": null,
            "top": null,
            "visibility": null,
            "width": null
          }
        },
        "3ae6777d921f430a922b8f4a5051bdde": {
          "model_module": "@jupyter-widgets/base",
          "model_name": "LayoutModel",
          "model_module_version": "1.2.0",
          "state": {
            "_model_module": "@jupyter-widgets/base",
            "_model_module_version": "1.2.0",
            "_model_name": "LayoutModel",
            "_view_count": null,
            "_view_module": "@jupyter-widgets/base",
            "_view_module_version": "1.2.0",
            "_view_name": "LayoutView",
            "align_content": null,
            "align_items": null,
            "align_self": null,
            "border": null,
            "bottom": null,
            "display": null,
            "flex": null,
            "flex_flow": null,
            "grid_area": null,
            "grid_auto_columns": null,
            "grid_auto_flow": null,
            "grid_auto_rows": null,
            "grid_column": null,
            "grid_gap": null,
            "grid_row": null,
            "grid_template_areas": null,
            "grid_template_columns": null,
            "grid_template_rows": null,
            "height": null,
            "justify_content": null,
            "justify_items": null,
            "left": null,
            "margin": null,
            "max_height": null,
            "max_width": null,
            "min_height": null,
            "min_width": null,
            "object_fit": null,
            "object_position": null,
            "order": null,
            "overflow": null,
            "overflow_x": null,
            "overflow_y": null,
            "padding": null,
            "right": null,
            "top": null,
            "visibility": null,
            "width": null
          }
        },
        "eca5cedeecf24d148e6a1b1fc79c7721": {
          "model_module": "@jupyter-widgets/controls",
          "model_name": "DescriptionStyleModel",
          "model_module_version": "1.5.0",
          "state": {
            "_model_module": "@jupyter-widgets/controls",
            "_model_module_version": "1.5.0",
            "_model_name": "DescriptionStyleModel",
            "_view_count": null,
            "_view_module": "@jupyter-widgets/base",
            "_view_module_version": "1.2.0",
            "_view_name": "StyleView",
            "description_width": ""
          }
        },
        "4f362077bfac41d087f19a81a33dc1a7": {
          "model_module": "@jupyter-widgets/base",
          "model_name": "LayoutModel",
          "model_module_version": "1.2.0",
          "state": {
            "_model_module": "@jupyter-widgets/base",
            "_model_module_version": "1.2.0",
            "_model_name": "LayoutModel",
            "_view_count": null,
            "_view_module": "@jupyter-widgets/base",
            "_view_module_version": "1.2.0",
            "_view_name": "LayoutView",
            "align_content": null,
            "align_items": null,
            "align_self": null,
            "border": null,
            "bottom": null,
            "display": null,
            "flex": null,
            "flex_flow": null,
            "grid_area": null,
            "grid_auto_columns": null,
            "grid_auto_flow": null,
            "grid_auto_rows": null,
            "grid_column": null,
            "grid_gap": null,
            "grid_row": null,
            "grid_template_areas": null,
            "grid_template_columns": null,
            "grid_template_rows": null,
            "height": null,
            "justify_content": null,
            "justify_items": null,
            "left": null,
            "margin": null,
            "max_height": null,
            "max_width": null,
            "min_height": null,
            "min_width": null,
            "object_fit": null,
            "object_position": null,
            "order": null,
            "overflow": null,
            "overflow_x": null,
            "overflow_y": null,
            "padding": null,
            "right": null,
            "top": null,
            "visibility": null,
            "width": null
          }
        },
        "7b249217f0ac4d47ad203b2b2895eea5": {
          "model_module": "@jupyter-widgets/controls",
          "model_name": "ProgressStyleModel",
          "model_module_version": "1.5.0",
          "state": {
            "_model_module": "@jupyter-widgets/controls",
            "_model_module_version": "1.5.0",
            "_model_name": "ProgressStyleModel",
            "_view_count": null,
            "_view_module": "@jupyter-widgets/base",
            "_view_module_version": "1.2.0",
            "_view_name": "StyleView",
            "bar_color": null,
            "description_width": ""
          }
        },
        "cdf43a4e877e4f14ad53772934fd3d04": {
          "model_module": "@jupyter-widgets/base",
          "model_name": "LayoutModel",
          "model_module_version": "1.2.0",
          "state": {
            "_model_module": "@jupyter-widgets/base",
            "_model_module_version": "1.2.0",
            "_model_name": "LayoutModel",
            "_view_count": null,
            "_view_module": "@jupyter-widgets/base",
            "_view_module_version": "1.2.0",
            "_view_name": "LayoutView",
            "align_content": null,
            "align_items": null,
            "align_self": null,
            "border": null,
            "bottom": null,
            "display": null,
            "flex": null,
            "flex_flow": null,
            "grid_area": null,
            "grid_auto_columns": null,
            "grid_auto_flow": null,
            "grid_auto_rows": null,
            "grid_column": null,
            "grid_gap": null,
            "grid_row": null,
            "grid_template_areas": null,
            "grid_template_columns": null,
            "grid_template_rows": null,
            "height": null,
            "justify_content": null,
            "justify_items": null,
            "left": null,
            "margin": null,
            "max_height": null,
            "max_width": null,
            "min_height": null,
            "min_width": null,
            "object_fit": null,
            "object_position": null,
            "order": null,
            "overflow": null,
            "overflow_x": null,
            "overflow_y": null,
            "padding": null,
            "right": null,
            "top": null,
            "visibility": null,
            "width": null
          }
        },
        "d47cb063da8940ff9ec8065892f4ca19": {
          "model_module": "@jupyter-widgets/controls",
          "model_name": "DescriptionStyleModel",
          "model_module_version": "1.5.0",
          "state": {
            "_model_module": "@jupyter-widgets/controls",
            "_model_module_version": "1.5.0",
            "_model_name": "DescriptionStyleModel",
            "_view_count": null,
            "_view_module": "@jupyter-widgets/base",
            "_view_module_version": "1.2.0",
            "_view_name": "StyleView",
            "description_width": ""
          }
        }
      }
    }
  },
  "cells": [
    {
      "cell_type": "markdown",
      "metadata": {
        "id": "view-in-github",
        "colab_type": "text"
      },
      "source": [
        "<a href=\"https://colab.research.google.com/github/amanullahshah32/Deep-Learning/blob/main/03_Pytorch_Computer_Vision.ipynb\" target=\"_parent\"><img src=\"https://colab.research.google.com/assets/colab-badge.svg\" alt=\"Open In Colab\"/></a>"
      ]
    },
    {
      "cell_type": "markdown",
      "source": [
        "## 0. Computer vision libraries in PyTorch"
      ],
      "metadata": {
        "id": "LE4Q-fCwP4om"
      }
    },
    {
      "cell_type": "markdown",
      "source": [
        "![image.png](data:image/png;base64,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)"
      ],
      "metadata": {
        "id": "TU8ZCcGHUE_u"
      }
    },
    {
      "cell_type": "code",
      "source": [
        "# Import PyTorch\n",
        "import torch\n",
        "from torch import nn\n",
        "\n",
        "# Import torchvision\n",
        "import torchvision\n",
        "from  torchvision import datasets\n",
        "from torchvision.transforms import ToTensor\n",
        "\n",
        "# import matplotlib as plt\n",
        "\n",
        "# check versions:\n",
        "print(f\"PyTorch verison: {torch.__version__}\")\n",
        "print(f\"TorchVision version: {torchvision.__version__}\")"
      ],
      "metadata": {
        "colab": {
          "base_uri": "https://localhost:8080/"
        },
        "id": "qGt1OKh2To2j",
        "outputId": "46dda98b-6989-40fd-d3ff-39d40b928a37"
      },
      "execution_count": 42,
      "outputs": [
        {
          "output_type": "stream",
          "name": "stdout",
          "text": [
            "PyTorch verison: 2.3.1+cu121\n",
            "TorchVision version: 0.18.1+cu121\n"
          ]
        }
      ]
    },
    {
      "cell_type": "markdown",
      "source": [
        "## 1. Getting a dataset\n"
      ],
      "metadata": {
        "id": "d9l1DIH4WgG4"
      }
    },
    {
      "cell_type": "code",
      "source": [
        "# Setup training data\n",
        "train_data = datasets.FashionMNIST(root='data', # where to download\n",
        "                                   train = True, # get training data\n",
        "                                   download= True, # donwload data if it doesn't exist on disk\n",
        "                                   transform = ToTensor(), # images come as PIL format, we want to turn it into tensors\n",
        "                                   target_transform = None # You can transform labels as well\n",
        "                                   )\n",
        "\n",
        "# Setup testing data\n",
        "test_data = datasets.FashionMNIST(\n",
        "    root='data',\n",
        "    train=False, # get the test data\n",
        "    download= True,\n",
        "    transform = ToTensor()\n",
        ")"
      ],
      "metadata": {
        "id": "EmNTuBMtXeWY"
      },
      "execution_count": 43,
      "outputs": []
    },
    {
      "cell_type": "code",
      "source": [
        "# see first training sample\n",
        "\n",
        "image, label = train_data[0]\n",
        "image, label"
      ],
      "metadata": {
        "colab": {
          "base_uri": "https://localhost:8080/"
        },
        "id": "aYsQCe2iYVga",
        "outputId": "fd5f04f6-e257-4cea-c218-a47f652a8c29"
      },
      "execution_count": 44,
      "outputs": [
        {
          "output_type": "execute_result",
          "data": {
            "text/plain": [
              "(tensor([[[0.0000, 0.0000, 0.0000, 0.0000, 0.0000, 0.0000, 0.0000, 0.0000,\n",
              "           0.0000, 0.0000, 0.0000, 0.0000, 0.0000, 0.0000, 0.0000, 0.0000,\n",
              "           0.0000, 0.0000, 0.0000, 0.0000, 0.0000, 0.0000, 0.0000, 0.0000,\n",
              "           0.0000, 0.0000, 0.0000, 0.0000],\n",
              "          [0.0000, 0.0000, 0.0000, 0.0000, 0.0000, 0.0000, 0.0000, 0.0000,\n",
              "           0.0000, 0.0000, 0.0000, 0.0000, 0.0000, 0.0000, 0.0000, 0.0000,\n",
              "           0.0000, 0.0000, 0.0000, 0.0000, 0.0000, 0.0000, 0.0000, 0.0000,\n",
              "           0.0000, 0.0000, 0.0000, 0.0000],\n",
              "          [0.0000, 0.0000, 0.0000, 0.0000, 0.0000, 0.0000, 0.0000, 0.0000,\n",
              "           0.0000, 0.0000, 0.0000, 0.0000, 0.0000, 0.0000, 0.0000, 0.0000,\n",
              "           0.0000, 0.0000, 0.0000, 0.0000, 0.0000, 0.0000, 0.0000, 0.0000,\n",
              "           0.0000, 0.0000, 0.0000, 0.0000],\n",
              "          [0.0000, 0.0000, 0.0000, 0.0000, 0.0000, 0.0000, 0.0000, 0.0000,\n",
              "           0.0000, 0.0000, 0.0000, 0.0000, 0.0039, 0.0000, 0.0000, 0.0510,\n",
              "           0.2863, 0.0000, 0.0000, 0.0039, 0.0157, 0.0000, 0.0000, 0.0000,\n",
              "           0.0000, 0.0039, 0.0039, 0.0000],\n",
              "          [0.0000, 0.0000, 0.0000, 0.0000, 0.0000, 0.0000, 0.0000, 0.0000,\n",
              "           0.0000, 0.0000, 0.0000, 0.0000, 0.0118, 0.0000, 0.1412, 0.5333,\n",
              "           0.4980, 0.2431, 0.2118, 0.0000, 0.0000, 0.0000, 0.0039, 0.0118,\n",
              "           0.0157, 0.0000, 0.0000, 0.0118],\n",
              "          [0.0000, 0.0000, 0.0000, 0.0000, 0.0000, 0.0000, 0.0000, 0.0000,\n",
              "           0.0000, 0.0000, 0.0000, 0.0000, 0.0235, 0.0000, 0.4000, 0.8000,\n",
              "           0.6902, 0.5255, 0.5647, 0.4824, 0.0902, 0.0000, 0.0000, 0.0000,\n",
              "           0.0000, 0.0471, 0.0392, 0.0000],\n",
              "          [0.0000, 0.0000, 0.0000, 0.0000, 0.0000, 0.0000, 0.0000, 0.0000,\n",
              "           0.0000, 0.0000, 0.0000, 0.0000, 0.0000, 0.0000, 0.6078, 0.9255,\n",
              "           0.8118, 0.6980, 0.4196, 0.6118, 0.6314, 0.4275, 0.2510, 0.0902,\n",
              "           0.3020, 0.5098, 0.2824, 0.0588],\n",
              "          [0.0000, 0.0000, 0.0000, 0.0000, 0.0000, 0.0000, 0.0000, 0.0000,\n",
              "           0.0000, 0.0000, 0.0000, 0.0039, 0.0000, 0.2706, 0.8118, 0.8745,\n",
              "           0.8549, 0.8471, 0.8471, 0.6392, 0.4980, 0.4745, 0.4784, 0.5725,\n",
              "           0.5529, 0.3451, 0.6745, 0.2588],\n",
              "          [0.0000, 0.0000, 0.0000, 0.0000, 0.0000, 0.0000, 0.0000, 0.0000,\n",
              "           0.0000, 0.0039, 0.0039, 0.0039, 0.0000, 0.7843, 0.9098, 0.9098,\n",
              "           0.9137, 0.8980, 0.8745, 0.8745, 0.8431, 0.8353, 0.6431, 0.4980,\n",
              "           0.4824, 0.7686, 0.8980, 0.0000],\n",
              "          [0.0000, 0.0000, 0.0000, 0.0000, 0.0000, 0.0000, 0.0000, 0.0000,\n",
              "           0.0000, 0.0000, 0.0000, 0.0000, 0.0000, 0.7176, 0.8824, 0.8471,\n",
              "           0.8745, 0.8941, 0.9216, 0.8902, 0.8784, 0.8706, 0.8784, 0.8667,\n",
              "           0.8745, 0.9608, 0.6784, 0.0000],\n",
              "          [0.0000, 0.0000, 0.0000, 0.0000, 0.0000, 0.0000, 0.0000, 0.0000,\n",
              "           0.0000, 0.0000, 0.0000, 0.0000, 0.0000, 0.7569, 0.8941, 0.8549,\n",
              "           0.8353, 0.7765, 0.7059, 0.8314, 0.8235, 0.8275, 0.8353, 0.8745,\n",
              "           0.8627, 0.9529, 0.7922, 0.0000],\n",
              "          [0.0000, 0.0000, 0.0000, 0.0000, 0.0000, 0.0000, 0.0000, 0.0000,\n",
              "           0.0000, 0.0039, 0.0118, 0.0000, 0.0471, 0.8588, 0.8627, 0.8314,\n",
              "           0.8549, 0.7529, 0.6627, 0.8902, 0.8157, 0.8549, 0.8784, 0.8314,\n",
              "           0.8863, 0.7725, 0.8196, 0.2039],\n",
              "          [0.0000, 0.0000, 0.0000, 0.0000, 0.0000, 0.0000, 0.0000, 0.0000,\n",
              "           0.0000, 0.0000, 0.0235, 0.0000, 0.3882, 0.9569, 0.8706, 0.8627,\n",
              "           0.8549, 0.7961, 0.7765, 0.8667, 0.8431, 0.8353, 0.8706, 0.8627,\n",
              "           0.9608, 0.4667, 0.6549, 0.2196],\n",
              "          [0.0000, 0.0000, 0.0000, 0.0000, 0.0000, 0.0000, 0.0000, 0.0000,\n",
              "           0.0000, 0.0157, 0.0000, 0.0000, 0.2157, 0.9255, 0.8941, 0.9020,\n",
              "           0.8941, 0.9412, 0.9098, 0.8353, 0.8549, 0.8745, 0.9176, 0.8510,\n",
              "           0.8510, 0.8196, 0.3608, 0.0000],\n",
              "          [0.0000, 0.0000, 0.0039, 0.0157, 0.0235, 0.0275, 0.0078, 0.0000,\n",
              "           0.0000, 0.0000, 0.0000, 0.0000, 0.9294, 0.8863, 0.8510, 0.8745,\n",
              "           0.8706, 0.8588, 0.8706, 0.8667, 0.8471, 0.8745, 0.8980, 0.8431,\n",
              "           0.8549, 1.0000, 0.3020, 0.0000],\n",
              "          [0.0000, 0.0118, 0.0000, 0.0000, 0.0000, 0.0000, 0.0000, 0.0000,\n",
              "           0.0000, 0.2431, 0.5686, 0.8000, 0.8941, 0.8118, 0.8353, 0.8667,\n",
              "           0.8549, 0.8157, 0.8275, 0.8549, 0.8784, 0.8745, 0.8588, 0.8431,\n",
              "           0.8784, 0.9569, 0.6235, 0.0000],\n",
              "          [0.0000, 0.0000, 0.0000, 0.0000, 0.0706, 0.1725, 0.3216, 0.4196,\n",
              "           0.7412, 0.8941, 0.8627, 0.8706, 0.8510, 0.8863, 0.7843, 0.8039,\n",
              "           0.8275, 0.9020, 0.8784, 0.9176, 0.6902, 0.7373, 0.9804, 0.9725,\n",
              "           0.9137, 0.9333, 0.8431, 0.0000],\n",
              "          [0.0000, 0.2235, 0.7333, 0.8157, 0.8784, 0.8667, 0.8784, 0.8157,\n",
              "           0.8000, 0.8392, 0.8157, 0.8196, 0.7843, 0.6235, 0.9608, 0.7569,\n",
              "           0.8078, 0.8745, 1.0000, 1.0000, 0.8667, 0.9176, 0.8667, 0.8275,\n",
              "           0.8627, 0.9098, 0.9647, 0.0000],\n",
              "          [0.0118, 0.7922, 0.8941, 0.8784, 0.8667, 0.8275, 0.8275, 0.8392,\n",
              "           0.8039, 0.8039, 0.8039, 0.8627, 0.9412, 0.3137, 0.5882, 1.0000,\n",
              "           0.8980, 0.8667, 0.7373, 0.6039, 0.7490, 0.8235, 0.8000, 0.8196,\n",
              "           0.8706, 0.8941, 0.8824, 0.0000],\n",
              "          [0.3843, 0.9137, 0.7765, 0.8235, 0.8706, 0.8980, 0.8980, 0.9176,\n",
              "           0.9765, 0.8627, 0.7608, 0.8431, 0.8510, 0.9451, 0.2549, 0.2863,\n",
              "           0.4157, 0.4588, 0.6588, 0.8588, 0.8667, 0.8431, 0.8510, 0.8745,\n",
              "           0.8745, 0.8784, 0.8980, 0.1137],\n",
              "          [0.2941, 0.8000, 0.8314, 0.8000, 0.7569, 0.8039, 0.8275, 0.8824,\n",
              "           0.8471, 0.7255, 0.7725, 0.8078, 0.7765, 0.8353, 0.9412, 0.7647,\n",
              "           0.8902, 0.9608, 0.9373, 0.8745, 0.8549, 0.8314, 0.8196, 0.8706,\n",
              "           0.8627, 0.8667, 0.9020, 0.2627],\n",
              "          [0.1882, 0.7961, 0.7176, 0.7608, 0.8353, 0.7725, 0.7255, 0.7451,\n",
              "           0.7608, 0.7529, 0.7922, 0.8392, 0.8588, 0.8667, 0.8627, 0.9255,\n",
              "           0.8824, 0.8471, 0.7804, 0.8078, 0.7294, 0.7098, 0.6941, 0.6745,\n",
              "           0.7098, 0.8039, 0.8078, 0.4510],\n",
              "          [0.0000, 0.4784, 0.8588, 0.7569, 0.7020, 0.6706, 0.7176, 0.7686,\n",
              "           0.8000, 0.8235, 0.8353, 0.8118, 0.8275, 0.8235, 0.7843, 0.7686,\n",
              "           0.7608, 0.7490, 0.7647, 0.7490, 0.7765, 0.7529, 0.6902, 0.6118,\n",
              "           0.6549, 0.6941, 0.8235, 0.3608],\n",
              "          [0.0000, 0.0000, 0.2902, 0.7412, 0.8314, 0.7490, 0.6863, 0.6745,\n",
              "           0.6863, 0.7098, 0.7255, 0.7373, 0.7412, 0.7373, 0.7569, 0.7765,\n",
              "           0.8000, 0.8196, 0.8235, 0.8235, 0.8275, 0.7373, 0.7373, 0.7608,\n",
              "           0.7529, 0.8471, 0.6667, 0.0000],\n",
              "          [0.0078, 0.0000, 0.0000, 0.0000, 0.2588, 0.7843, 0.8706, 0.9294,\n",
              "           0.9373, 0.9490, 0.9647, 0.9529, 0.9569, 0.8667, 0.8627, 0.7569,\n",
              "           0.7490, 0.7020, 0.7137, 0.7137, 0.7098, 0.6902, 0.6510, 0.6588,\n",
              "           0.3882, 0.2275, 0.0000, 0.0000],\n",
              "          [0.0000, 0.0000, 0.0000, 0.0000, 0.0000, 0.0000, 0.0000, 0.1569,\n",
              "           0.2392, 0.1725, 0.2824, 0.1608, 0.1373, 0.0000, 0.0000, 0.0000,\n",
              "           0.0000, 0.0000, 0.0000, 0.0000, 0.0000, 0.0000, 0.0000, 0.0000,\n",
              "           0.0000, 0.0000, 0.0000, 0.0000],\n",
              "          [0.0000, 0.0000, 0.0000, 0.0000, 0.0000, 0.0000, 0.0000, 0.0000,\n",
              "           0.0000, 0.0000, 0.0000, 0.0000, 0.0000, 0.0000, 0.0000, 0.0000,\n",
              "           0.0000, 0.0000, 0.0000, 0.0000, 0.0000, 0.0000, 0.0000, 0.0000,\n",
              "           0.0000, 0.0000, 0.0000, 0.0000],\n",
              "          [0.0000, 0.0000, 0.0000, 0.0000, 0.0000, 0.0000, 0.0000, 0.0000,\n",
              "           0.0000, 0.0000, 0.0000, 0.0000, 0.0000, 0.0000, 0.0000, 0.0000,\n",
              "           0.0000, 0.0000, 0.0000, 0.0000, 0.0000, 0.0000, 0.0000, 0.0000,\n",
              "           0.0000, 0.0000, 0.0000, 0.0000]]]),\n",
              " 9)"
            ]
          },
          "metadata": {},
          "execution_count": 44
        }
      ]
    },
    {
      "cell_type": "markdown",
      "source": [
        "### 1.1 Input and output shapes of a computer vision model"
      ],
      "metadata": {
        "id": "qVtOjsqiaawe"
      }
    },
    {
      "cell_type": "markdown",
      "source": [
        "We've got a big tensor of values (the image) leading to a single value for the target (the label).\n",
        "\n"
      ],
      "metadata": {
        "id": "o5Em7lxwamdm"
      }
    },
    {
      "cell_type": "code",
      "source": [
        "# What's the shape of the image?\n",
        "image.shape"
      ],
      "metadata": {
        "colab": {
          "base_uri": "https://localhost:8080/"
        },
        "id": "FKOu09m2amUu",
        "outputId": "ffe61346-9ea9-4118-db62-dc7d42faffb2"
      },
      "execution_count": 45,
      "outputs": [
        {
          "output_type": "execute_result",
          "data": {
            "text/plain": [
              "torch.Size([1, 28, 28])"
            ]
          },
          "metadata": {},
          "execution_count": 45
        }
      ]
    },
    {
      "cell_type": "code",
      "source": [
        "torch.cuda.is_available()"
      ],
      "metadata": {
        "colab": {
          "base_uri": "https://localhost:8080/"
        },
        "id": "plr1oj3damM2",
        "outputId": "cdb2d528-beef-4ed9-f196-3b63ada563f4"
      },
      "execution_count": 46,
      "outputs": [
        {
          "output_type": "execute_result",
          "data": {
            "text/plain": [
              "True"
            ]
          },
          "metadata": {},
          "execution_count": 46
        }
      ]
    },
    {
      "cell_type": "markdown",
      "source": [
        "The order of our current tensor is often referred to as CHW (Color Channels, Height, Width).\n",
        "\n",
        "There's debate on whether images should be represented as CHW (color channels first) or HWC (color channels last).\n",
        "\n",
        "Note: You'll also see NCHW and NHWC formats where N stands for number of images. For example if you have a batch_size=32, your tensor shape may be [32, 1, 28, 28]. We'll cover batch sizes later."
      ],
      "metadata": {
        "id": "mGl7ISgZbdbX"
      }
    },
    {
      "cell_type": "code",
      "source": [
        "# how many samples are there\n",
        "len(train_data.data), len(train_data.targets), len(test_data.data), len(test_data.targets)"
      ],
      "metadata": {
        "colab": {
          "base_uri": "https://localhost:8080/"
        },
        "id": "shqTEPf-al-O",
        "outputId": "fddd0ea2-1e3e-4138-efdb-b35acd73607f"
      },
      "execution_count": 47,
      "outputs": [
        {
          "output_type": "execute_result",
          "data": {
            "text/plain": [
              "(60000, 60000, 10000, 10000)"
            ]
          },
          "metadata": {},
          "execution_count": 47
        }
      ]
    },
    {
      "cell_type": "code",
      "source": [
        "# See classes\n",
        "class_names = train_data.classes\n",
        "class_names"
      ],
      "metadata": {
        "colab": {
          "base_uri": "https://localhost:8080/"
        },
        "id": "SkO-FYdQak1n",
        "outputId": "70b87f5b-a4eb-4cef-83e2-7ecbde5affdf"
      },
      "execution_count": 48,
      "outputs": [
        {
          "output_type": "execute_result",
          "data": {
            "text/plain": [
              "['T-shirt/top',\n",
              " 'Trouser',\n",
              " 'Pullover',\n",
              " 'Dress',\n",
              " 'Coat',\n",
              " 'Sandal',\n",
              " 'Shirt',\n",
              " 'Sneaker',\n",
              " 'Bag',\n",
              " 'Ankle boot']"
            ]
          },
          "metadata": {},
          "execution_count": 48
        }
      ]
    },
    {
      "cell_type": "markdown",
      "source": [
        "### 1.2 Visualizing our data\n"
      ],
      "metadata": {
        "id": "YjWKzNi7qA8i"
      }
    },
    {
      "cell_type": "code",
      "source": [
        "import matplotlib.pyplot as plt\n",
        "image, label = train_data[0]\n",
        "print(f\"Image shape: {image.shape}\")\n",
        "plt.imshow(image.squeeze()) # image shape is 1,28,28\n",
        "plt.title(class_names[label])"
      ],
      "metadata": {
        "colab": {
          "base_uri": "https://localhost:8080/",
          "height": 487
        },
        "id": "xbiCfJDSqKXU",
        "outputId": "7d00369b-323c-4a6e-9167-8e6642784f0c"
      },
      "execution_count": 49,
      "outputs": [
        {
          "output_type": "stream",
          "name": "stdout",
          "text": [
            "Image shape: torch.Size([1, 28, 28])\n"
          ]
        },
        {
          "output_type": "execute_result",
          "data": {
            "text/plain": [
              "Text(0.5, 1.0, 'Ankle boot')"
            ]
          },
          "metadata": {},
          "execution_count": 49
        },
        {
          "output_type": "display_data",
          "data": {
            "text/plain": [
              "<Figure size 640x480 with 1 Axes>"
            ],
            "image/png": "[encoded data removed]"
          },
          "metadata": {}
        }
      ]
    },
    {
      "cell_type": "markdown",
      "source": [
        "we can turn the image into grayscale using the `cmap` parameter of `plt.imshow()`"
      ],
      "metadata": {
        "id": "8uglqlefqiyJ"
      }
    },
    {
      "cell_type": "code",
      "source": [
        "plt.imshow(image.squeeze(), cmap='gray')\n",
        "plt.title(class_names[label]);"
      ],
      "metadata": {
        "colab": {
          "base_uri": "https://localhost:8080/",
          "height": 452
        },
        "id": "8jLteACtq3PE",
        "outputId": "285961f1-2e25-4401-8652-97193507e815"
      },
      "execution_count": 50,
      "outputs": [
        {
          "output_type": "display_data",
          "data": {
            "text/plain": [
              "<Figure size 640x480 with 1 Axes>"
            ],
            "image/png": "[encoded data removed]"
          },
          "metadata": {}
        }
      ]
    },
    {
      "cell_type": "code",
      "source": [
        "# Plot more images\n",
        "torch.manual_seed(4)\n",
        "fig = plt.figure(figsize=(9,9))\n",
        "rows, cols = 4,4\n",
        "\n",
        "for i in range(1, rows*cols+1):\n",
        "  random_idx = torch.randint(0, len(train_data) , size=[1]).item()\n",
        "  img, label = train_data[random_idx]\n",
        "  fig.add_subplot(rows, cols, i)\n",
        "  plt.imshow(img.squeeze(), cmap='gray')\n",
        "  plt.title(class_names[label])\n",
        "  plt.axis(False)"
      ],
      "metadata": {
        "colab": {
          "base_uri": "https://localhost:8080/",
          "height": 752
        },
        "id": "1D-AHLYFrQuz",
        "outputId": "7de15ba0-5442-4296-8d72-0c3dd054be29"
      },
      "execution_count": 51,
      "outputs": [
        {
          "output_type": "display_data",
          "data": {
            "text/plain": [
              "<Figure size 900x900 with 16 Axes>"
            ],
            "image/png": "[encoded data removed]"
          },
          "metadata": {}
        }
      ]
    },
    {
      "cell_type": "markdown",
      "source": [
        "## 2. Prepare dataloader"
      ],
      "metadata": {
        "id": "hGAkxgZXsF_N"
      }
    },
    {
      "cell_type": "markdown",
      "source": [
        "Let's create dataloader's for our training and test sets"
      ],
      "metadata": {
        "id": "4Vv5YJZSwlDe"
      }
    },
    {
      "cell_type": "code",
      "source": [
        "from torch.utils.data import DataLoader\n",
        "\n",
        "# Setup the batch size hyperparameter\n",
        "BATCH_SIZE = 32\n",
        "\n",
        "# Turn datasets into iterables (batches)\n",
        "train_dataloader = DataLoader(train_data,  # dataset to turn into iterables\n",
        "                              batch_size= BATCH_SIZE, # how many samples per batch\n",
        "                              shuffle = True # shuffle data every epoch\n",
        "                              )\n",
        "test_dataloader = DataLoader(test_data,\n",
        "                             batch_size = 32,\n",
        "                             shuffle = False) # dont necessarily have to shuffle the testing data\n",
        "\n",
        "# let's check out whats we have created\n",
        "print(f\"DataLoaders: {train_dataloader, test_dataloader}\")\n",
        "print(f\"Length of train_dataloader: {len(train_dataloader)} batches of {BATCH_SIZE}\")\n",
        "print(f\"Length of test Dataloader: {len(test_dataloader)} batcher os {32}\")"
      ],
      "metadata": {
        "colab": {
          "base_uri": "https://localhost:8080/"
        },
        "id": "YzWHN38fxNXV",
        "outputId": "ad3bbc7a-4c6d-4bb6-b73b-3366422e3405"
      },
      "execution_count": 52,
      "outputs": [
        {
          "output_type": "stream",
          "name": "stdout",
          "text": [
            "DataLoaders: (<torch.utils.data.dataloader.DataLoader object at 0x7f517c803a30>, <torch.utils.data.dataloader.DataLoader object at 0x7f517d7c8580>)\n",
            "Length of train_dataloader: 1875 batches of 32\n",
            "Length of test Dataloader: 313 batcher os 32\n"
          ]
        }
      ]
    },
    {
      "cell_type": "code",
      "source": [
        "# Check out what's inside the training dataloader\n",
        "train_features_batch, train_labels_batch = next(iter(train_dataloader))\n",
        "train_features_batch.shape, train_labels_batch.shape"
      ],
      "metadata": {
        "colab": {
          "base_uri": "https://localhost:8080/"
        },
        "id": "Mr8U_FRjycde",
        "outputId": "fa8d53fd-ba8d-4d62-9eab-278ebaa0bbb6"
      },
      "execution_count": 53,
      "outputs": [
        {
          "output_type": "execute_result",
          "data": {
            "text/plain": [
              "(torch.Size([32, 1, 28, 28]), torch.Size([32]))"
            ]
          },
          "metadata": {},
          "execution_count": 53
        }
      ]
    },
    {
      "cell_type": "code",
      "source": [
        "# Show a sample\n",
        "torch.manual_seed(42)\n",
        "random_idx = torch.randint(0, len(train_features_batch), size=[1]).item()\n",
        "img, label = train_features_batch[random_idx], train_labels_batch[random_idx]\n",
        "plt.imshow(img.squeeze(), cmap='gray')\n",
        "plt.title(class_names[label])\n",
        "plt.axis(False)\n",
        "print(f\"Imaze size: {img.shape}\")\n",
        "print(f\"label: {label}, label_size: {label.shape}\")"
      ],
      "metadata": {
        "id": "FT_mD7LuEeLI",
        "colab": {
          "base_uri": "https://localhost:8080/",
          "height": 463
        },
        "outputId": "09519880-c652-4d3e-e3ee-3ec689035bac"
      },
      "execution_count": 54,
      "outputs": [
        {
          "output_type": "stream",
          "name": "stdout",
          "text": [
            "Imaze size: torch.Size([1, 28, 28])\n",
            "label: 0, label_size: torch.Size([])\n"
          ]
        },
        {
          "output_type": "display_data",
          "data": {
            "text/plain": [
              "<Figure size 640x480 with 1 Axes>"
            ],
            "image/png": "[encoded data removed]"
          },
          "metadata": {}
        }
      ]
    },
    {
      "cell_type": "markdown",
      "source": [
        "## 3. Model 0: Build a baseline model"
      ],
      "metadata": {
        "id": "ORvYVNS9M1ej"
      }
    },
    {
      "cell_type": "code",
      "source": [
        "# create a flatten layer\n",
        "flatten_model = nn.Flatten() # all nn modules function as a model (can do a forward pass)\n",
        "\n",
        "# Get a single sample\n",
        "x= train_features_batch[0]\n",
        "\n",
        "# Flatten the sample\n",
        "output = flatten_model(x) # perform forward pass\n",
        "\n",
        "# Print out what's happening\n",
        "print(f\"shape before flattening: {x.shape} [color channel, height , width]\")\n",
        "print(f\"Shape after flattening: {output.shape}\")\n",
        "\n",
        "# #Try uncommenting below and see what happens\n",
        "# print(f\"x:{x}\\n\\n\")\n",
        "# print(output)"
      ],
      "metadata": {
        "colab": {
          "base_uri": "https://localhost:8080/"
        },
        "id": "13EDJqUpQsbH",
        "outputId": "e8ad0435-333f-43e5-d1e0-96091c3b2f9f"
      },
      "execution_count": 55,
      "outputs": [
        {
          "output_type": "stream",
          "name": "stdout",
          "text": [
            "shape before flattening: torch.Size([1, 28, 28]) [color channel, height , width]\n",
            "Shape after flattening: torch.Size([1, 784])\n"
          ]
        }
      ]
    },
    {
      "cell_type": "markdown",
      "source": [
        "Let's create our first model using nn.Flatten() as the first layer."
      ],
      "metadata": {
        "id": "vRwFr3OJV2_Y"
      }
    },
    {
      "cell_type": "code",
      "source": [
        "from torch import nn\n",
        "class FasionMNISTModelV0(nn.Module):\n",
        "  def __init__(self, input_shape: int, hidden_units: int, output_shape: int):\n",
        "    super().__init__()\n",
        "    self.layer_stack = nn.Sequential(\n",
        "        nn.Flatten(), # neural networks like their inputs iin vector form\n",
        "        nn.Linear(in_features = input_shape, out_features = hidden_units), # in_features = number of features in a data sample (784 pixels)\n",
        "        nn.Linear(in_features = hidden_units, out_features = output_shape)\n",
        "\n",
        "        )\n",
        "\n",
        "  def forward(self, x):\n",
        "    return self.layer_stack(x)\n"
      ],
      "metadata": {
        "id": "mqbYeRu-TMC_"
      },
      "execution_count": 56,
      "outputs": []
    },
    {
      "cell_type": "code",
      "source": [
        "torch.manual_seed(42)\n",
        "\n",
        "# Need to setup model with input parameters\n",
        "model_0 = FasionMNISTModelV0(input_shape = 784, # one for every pixel (28*28)\n",
        "                              hidden_units= 10, # how many units in the hidden layers\n",
        "                              output_shape=len(class_names)) # one for every class\n",
        "\n",
        "model_0.to('cpu') ## Keep model on cpu to begin with"
      ],
      "metadata": {
        "colab": {
          "base_uri": "https://localhost:8080/"
        },
        "id": "8apxdZxHWkwu",
        "outputId": "500e5d3a-3605-4ee9-f478-64c9e4d29d53"
      },
      "execution_count": 57,
      "outputs": [
        {
          "output_type": "execute_result",
          "data": {
            "text/plain": [
              "FasionMNISTModelV0(\n",
              "  (layer_stack): Sequential(\n",
              "    (0): Flatten(start_dim=1, end_dim=-1)\n",
              "    (1): Linear(in_features=784, out_features=10, bias=True)\n",
              "    (2): Linear(in_features=10, out_features=10, bias=True)\n",
              "  )\n",
              ")"
            ]
          },
          "metadata": {},
          "execution_count": 57
        }
      ]
    },
    {
      "cell_type": "code",
      "source": [
        "model_0.state_dict()"
      ],
      "metadata": {
        "id": "Fu6ZlgisaoKe",
        "outputId": "46c36296-b132-46a5-ffdb-ca2a98bbf186",
        "colab": {
          "base_uri": "https://localhost:8080/"
        }
      },
      "execution_count": 58,
      "outputs": [
        {
          "output_type": "execute_result",
          "data": {
            "text/plain": [
              "OrderedDict([('layer_stack.1.weight',\n",
              "              tensor([[ 0.0273,  0.0296, -0.0084,  ..., -0.0142,  0.0093,  0.0135],\n",
              "                      [-0.0188, -0.0354,  0.0187,  ..., -0.0106, -0.0001,  0.0115],\n",
              "                      [-0.0008,  0.0017,  0.0045,  ..., -0.0127, -0.0188,  0.0059],\n",
              "                      ...,\n",
              "                      [-0.0116,  0.0273, -0.0344,  ...,  0.0176,  0.0283, -0.0011],\n",
              "                      [-0.0230,  0.0257,  0.0291,  ..., -0.0187, -0.0087,  0.0001],\n",
              "                      [ 0.0176, -0.0147,  0.0053,  ..., -0.0336, -0.0221,  0.0205]])),\n",
              "             ('layer_stack.1.bias',\n",
              "              tensor([-0.0093,  0.0283, -0.0033,  0.0255,  0.0017,  0.0037, -0.0302, -0.0123,\n",
              "                       0.0018,  0.0163])),\n",
              "             ('layer_stack.2.weight',\n",
              "              tensor([[ 0.0614, -0.0687,  0.0021,  0.2718,  0.2109,  0.1079, -0.2279, -0.1063,\n",
              "                        0.2019,  0.2847],\n",
              "                      [-0.1495,  0.1344, -0.0740,  0.2006, -0.0475, -0.2514, -0.3130, -0.0118,\n",
              "                        0.0932, -0.1864],\n",
              "                      [ 0.2488,  0.1500,  0.1907,  0.1457, -0.3050, -0.0580,  0.1643,  0.1565,\n",
              "                       -0.2877, -0.1792],\n",
              "                      [ 0.2305, -0.2618,  0.2397, -0.0610,  0.0232,  0.1542,  0.0851, -0.2027,\n",
              "                        0.1030, -0.2715],\n",
              "                      [-0.1596, -0.0555, -0.0633,  0.2302, -0.1726,  0.2654,  0.1473,  0.1029,\n",
              "                        0.2252, -0.2160],\n",
              "                      [-0.2725,  0.0118,  0.1559,  0.1596,  0.0132,  0.3024,  0.1124,  0.1366,\n",
              "                       -0.1533,  0.0965],\n",
              "                      [-0.1184, -0.2555, -0.2057, -0.1909, -0.0477, -0.1324,  0.2905,  0.1307,\n",
              "                       -0.2629,  0.0133],\n",
              "                      [ 0.2727, -0.0127,  0.0513,  0.0863, -0.1043, -0.2047, -0.1185, -0.0825,\n",
              "                        0.2488, -0.2571],\n",
              "                      [ 0.0425, -0.1209, -0.0336, -0.0281, -0.1227,  0.0730,  0.0747, -0.1816,\n",
              "                        0.1943,  0.2853],\n",
              "                      [-0.1310,  0.0645, -0.1171,  0.2168, -0.0245, -0.2820,  0.0736,  0.2621,\n",
              "                        0.0012, -0.0810]])),\n",
              "             ('layer_stack.2.bias',\n",
              "              tensor([-0.0087,  0.1791,  0.2712, -0.0791,  0.1685,  0.1762,  0.2825,  0.2266,\n",
              "                      -0.2612, -0.2613]))])"
            ]
          },
          "metadata": {},
          "execution_count": 58
        }
      ]
    },
    {
      "cell_type": "code",
      "source": [
        "model_0.parameters()"
      ],
      "metadata": {
        "id": "HrcrY99Jax_g",
        "outputId": "4a35b3dd-b447-4d4e-e6fc-69ceb870377d",
        "colab": {
          "base_uri": "https://localhost:8080/"
        }
      },
      "execution_count": 59,
      "outputs": [
        {
          "output_type": "execute_result",
          "data": {
            "text/plain": [
              "<generator object Module.parameters at 0x7f517d926f10>"
            ]
          },
          "metadata": {},
          "execution_count": 59
        }
      ]
    },
    {
      "cell_type": "markdown",
      "source": [
        "### 3.1 Setup loss, optimizer and evaluation metrics"
      ],
      "metadata": {
        "id": "aj2OmqeYa1vZ"
      }
    },
    {
      "cell_type": "markdown",
      "source": [
        "Since we're working on a classification problem, let's bring in our helper_functions.py script and subsequently the accuracy_fn() we defined in notebook 02.\n",
        "\n"
      ],
      "metadata": {
        "id": "8IKCo4ELcFbI"
      }
    },
    {
      "cell_type": "code",
      "source": [
        "import requests\n",
        "from pathlib import Path\n",
        "\n",
        "# Download helper functions from Learn PyTorch repo (if not already downloaded)\n",
        "if Path(\"helper_functions.py\").is_file():\n",
        "  print(\"helper_functions.py already exists, skipping download\")\n",
        "else:\n",
        "  print(\"Downloading helper_functions.py\")\n",
        "  # Note: you need the \"raw\" GitHub URL for this to work\n",
        "  request = requests.get(\"https://raw.githubusercontent.com/mrdbourke/pytorch-deep-learning/main/helper_functions.py\")\n",
        "  with open(\"helper_functions.py\", \"wb\") as f:\n",
        "    f.write(request.content)"
      ],
      "metadata": {
        "id": "WoDDZFN4cBUU",
        "outputId": "d50e89d1-024d-491e-db11-04cb22a372b2",
        "colab": {
          "base_uri": "https://localhost:8080/"
        }
      },
      "execution_count": 60,
      "outputs": [
        {
          "output_type": "stream",
          "name": "stdout",
          "text": [
            "helper_functions.py already exists, skipping download\n"
          ]
        }
      ]
    },
    {
      "cell_type": "code",
      "source": [
        "# Import accuracy metric\n",
        "from helper_functions import accuracy_fn # note: could also use torchmetrics.accuracy (task = 'multiclass', num_classes=len(class_names)).to(device)\n"
      ],
      "metadata": {
        "id": "q97gTF4IcJ-E"
      },
      "execution_count": 61,
      "outputs": []
    },
    {
      "cell_type": "code",
      "source": [
        "# Setup loss function and optimizer\n",
        "loss_fn = nn.CrossEntropyLoss() # this is also claeed \"criterion/cost\" function in some places\n",
        "optimizer = torch.optim.SGD(params = model_0.parameters() , lr =0.1)"
      ],
      "metadata": {
        "id": "ur6M0GRuccvf"
      },
      "execution_count": 62,
      "outputs": []
    },
    {
      "cell_type": "markdown",
      "source": [
        "### 3.2 Creating a funciton to time our experiments"
      ],
      "metadata": {
        "id": "YamC-rrBc5ks"
      }
    },
    {
      "cell_type": "code",
      "source": [
        "# torch.device()"
      ],
      "metadata": {
        "id": "KsKOHCuajmgz"
      },
      "execution_count": 63,
      "outputs": []
    },
    {
      "cell_type": "code",
      "source": [
        "from timeit import default_timer as timer\n",
        "def print_train_time(start: float, end: float, device: torch.device = None):\n",
        "  \"\"\" Prints difference between start and end time.\n",
        "\n",
        "  Args:\n",
        "    start (float): start time of computation (preferred in timeit format).\n",
        "    end (float): end time of computation\n",
        "    device ([type], optional): device that compute is running on. Defaults to None.\n",
        "\n",
        "  Returns:\n",
        "    float: time between start and end in seconds (higher is longer).\n",
        "  \"\"\"\n",
        "\n",
        "  total_time = end - start\n",
        "  print(f\"train time on {device} : {total_time:.3f} seconds\")\n",
        "  return total_time"
      ],
      "metadata": {
        "id": "7Pc5QkZnkiX0"
      },
      "execution_count": 64,
      "outputs": []
    },
    {
      "cell_type": "markdown",
      "source": [
        "### 3.3 Creating a training loop and training a model on batches of data"
      ],
      "metadata": {
        "id": "0infiIVUllE1"
      }
    },
    {
      "cell_type": "code",
      "source": [
        "# Import tqdm for progress bar\n",
        "from tqdm.auto import tqdm\n",
        "\n",
        "# set the seed and start the timer\n",
        "torch.manual_seed(42)\n",
        "train_time_start_on_cpu = timer()\n",
        "\n",
        "# Set the number of epochs (we'll keep this small for faster training times)\n",
        "epochs = 3\n",
        "\n",
        "# Create trianing and testing loop\n",
        "for epoch in tqdm(range(epochs)):\n",
        "  print(f\"Epoch: {epoch} \\n ------- \\n\")\n",
        "  ### Training\n",
        "  train_loss = 0\n",
        "  # Add a loop to loop through training batches\n",
        "  for batch, (X,y) in enumerate(train_dataloader):\n",
        "    model_0.train()\n",
        "    # 1. Forward pass\n",
        "    y_pred = model_0(X)\n",
        "\n",
        "    # 2. Calculate the loss (per batch)\n",
        "    loss = loss_fn(y_pred, y)\n",
        "    train_loss += loss # accumulatively add up the loss per epoch\n",
        "\n",
        "    # 3. Optimizer zero grad\n",
        "    optimizer.zero_grad()\n",
        "\n",
        "    # 4. Loss backward\n",
        "    loss.backward()\n",
        "\n",
        "    # 5. Optimizer step\n",
        "    optimizer.step()\n",
        "\n",
        "    # Print out how many samples have been seen\n",
        "    if batch % 400 == 0:\n",
        "      print(f\"Looked at {batch*len(X)} / {len(train_dataloader.dataset)} samples\")\n",
        "\n",
        "\n",
        "  # Divide total train loss by length of train dataloader (average loss per batch per epoch)\n",
        "  train_loss /= len(train_dataloader)\n",
        "\n",
        "\n",
        "  ### Testing\n",
        "  # Setup variables for accumulatively adding up loss and accuracy\n",
        "  test_loss, test_acc = 0,0\n",
        "  model_0.eval()\n",
        "  with torch.inference_mode():\n",
        "    for X,y in test_dataloader:\n",
        "      # 1. Forward pass\n",
        "      test_pred = model_0(X)\n",
        "\n",
        "      # 2. Calculate the loss (accumatively)\n",
        "      test_loss += loss_fn(test_pred, y) # accumulatively add up the loss per epoch\n",
        "\n",
        "      # 3. Calculate accuracy ( preds need to be same as y_true)\n",
        "      test_acc += accuracy_fn(y_true= y, y_pred= test_pred.argmax(dim=1))\n",
        "\n",
        "    # Calculations on test metrics need to happen inside torch.inference_mode()\n",
        "    # Divide total test loss by length of test dataloader (per batch)\n",
        "    test_loss /= len(test_dataloader)\n",
        "\n",
        "    # divide total accuracy by length of test dataloader (per batch)\n",
        "    test_acc /= len(test_dataloader)\n",
        "\n",
        "  # Prin out what's happening\n",
        "  print(f\"\\nTrain loss: {train_loss:.5f} | Test_loss: {test_loss:.5f} | Test_acc:{test_acc:.2f} \\n \\n\")\n",
        "\n",
        "# Calculate training time\n",
        "train_time_end_on_cpu = timer()\n",
        "total_train_time_model_0 = print_train_time(start=train_time_start_on_cpu,\n",
        "                                           end=train_time_end_on_cpu,\n",
        "                                           device=str(next(model_0.parameters()).device))\n",
        "\n"
      ],
      "metadata": {
        "id": "1hU6pG_gn0gK",
        "outputId": "b5fdbc66-4738-4149-a98b-18a943bfcb86",
        "colab": {
          "base_uri": "https://localhost:8080/",
          "height": 691,
          "referenced_widgets": [
            "5a42454b909d40cba24d5cc78776b0df",
            "f49e0f6e3a684ef6bf6ec7082df80862",
            "d8d5380f6cb64f69b122aeede36d5022",
            "bf326257125241e597a30ced0961398f",
            "00acb5b0c21945b99cddedcdcfea41cf",
            "3ae6777d921f430a922b8f4a5051bdde",
            "eca5cedeecf24d148e6a1b1fc79c7721",
            "4f362077bfac41d087f19a81a33dc1a7",
            "7b249217f0ac4d47ad203b2b2895eea5",
            "cdf43a4e877e4f14ad53772934fd3d04",
            "d47cb063da8940ff9ec8065892f4ca19"
          ]
        }
      },
      "execution_count": 65,
      "outputs": [
        {
          "output_type": "display_data",
          "data": {
            "text/plain": [
              "  0%|          | 0/3 [00:00<?, ?it/s]"
            ],
            "application/vnd.jupyter.widget-view+json": {
              "version_major": 2,
              "version_minor": 0,
              "model_id": "5a42454b909d40cba24d5cc78776b0df"
            }
          },
          "metadata": {}
        },
        {
          "output_type": "stream",
          "name": "stdout",
          "text": [
            "Epoch: 0 \n",
            " ------- \n",
            "\n",
            "Looked at 0 / 60000 samples\n",
            "Looked at 12800 / 60000 samples\n",
            "Looked at 25600 / 60000 samples\n",
            "Looked at 38400 / 60000 samples\n",
            "Looked at 51200 / 60000 samples\n",
            "\n",
            "Train loss: 0.59039 | Test_loss: 0.50954 | Test_acc:82.04 \n",
            " \n",
            "\n",
            "Epoch: 1 \n",
            " ------- \n",
            "\n",
            "Looked at 0 / 60000 samples\n",
            "Looked at 12800 / 60000 samples\n",
            "Looked at 25600 / 60000 samples\n",
            "Looked at 38400 / 60000 samples\n",
            "Looked at 51200 / 60000 samples\n",
            "\n",
            "Train loss: 0.47633 | Test_loss: 0.47989 | Test_acc:83.20 \n",
            " \n",
            "\n",
            "Epoch: 2 \n",
            " ------- \n",
            "\n",
            "Looked at 0 / 60000 samples\n",
            "Looked at 12800 / 60000 samples\n",
            "Looked at 25600 / 60000 samples\n",
            "Looked at 38400 / 60000 samples\n",
            "Looked at 51200 / 60000 samples\n",
            "\n",
            "Train loss: 0.45503 | Test_loss: 0.47664 | Test_acc:83.43 \n",
            " \n",
            "\n",
            "train time on cpu : 28.749 seconds\n"
          ]
        }
      ]
    },
    {
      "cell_type": "code",
      "source": [
        "torch.cuda.is_available()"
      ],
      "metadata": {
        "id": "VATj7rp5rLna",
        "outputId": "78241108-16d4-4b66-db46-da827988302c",
        "colab": {
          "base_uri": "https://localhost:8080/"
        }
      },
      "execution_count": 66,
      "outputs": [
        {
          "output_type": "execute_result",
          "data": {
            "text/plain": [
              "True"
            ]
          },
          "metadata": {},
          "execution_count": 66
        }
      ]
    },
    {
      "cell_type": "code",
      "source": [
        "# device = torch.device(\"cuda\" if torch.cuda.is_available() else \"cpu\")\n",
        "# model_0.to(device)\n"
      ],
      "metadata": {
        "id": "0UYe0sDvgqOQ"
      },
      "execution_count": 67,
      "outputs": []
    },
    {
      "cell_type": "code",
      "source": [
        "# # Import tqdm for progress bar\n",
        "# from tqdm.auto import tqdm\n",
        "\n",
        "# # set the seed and start the timer\n",
        "# torch.manual_seed(42)\n",
        "# train_time_start_on_cpu = timer()\n",
        "\n",
        "# # Set the number of epochs (we'll keep this small for faster training times)\n",
        "# epochs = 3\n",
        "\n",
        "# # Create trianing and testing loop\n",
        "# for epoch in tqdm(range(epochs)):\n",
        "#   print(f\"Epoch: {epoch} \\n ------- \\n\")\n",
        "#   ### Training\n",
        "#   train_loss = 0\n",
        "#   # Add a loop to loop through training batches\n",
        "#   for batch, (X,y) in enumerate(train_dataloader):\n",
        "#     X, y = X.to(device), y.to(device)\n",
        "#     model_0.train()\n",
        "#     # 1. Forward pass\n",
        "#     y_pred = model_0(X)\n",
        "\n",
        "#     # 2. Calculate the loss (per batch)\n",
        "#     loss = loss_fn(y_pred, y)\n",
        "#     train_loss += loss # accumulatively add up the loss per epoch\n",
        "\n",
        "#     # 3. Optimizer zero grad\n",
        "#     optimizer.zero_grad()\n",
        "\n",
        "#     # 4. Loss backward\n",
        "#     loss.backward()\n",
        "\n",
        "#     # 5. Optimizer step\n",
        "#     optimizer.step()\n",
        "\n",
        "#     # Print out how many samples have been seen\n",
        "#     if batch % 400 == 0:\n",
        "#       print(f\"Looked at {batch*len(X)} / {len(train_dataloader.dataset)} samples\")\n",
        "\n",
        "\n",
        "#   # Divide total train loss by length of train dataloader (average loss per batch per epoch)\n",
        "#   train_loss /= len(train_dataloader)\n",
        "\n",
        "\n",
        "#   ### Testing\n",
        "#   # Setup variables for accumulatively adding up loss and accuracy\n",
        "#   test_loss, test_acc = 0,0\n",
        "#   model_0.eval()\n",
        "#   with torch.inference_mode():\n",
        "#     for X,y in test_dataloader:\n",
        "#       X, y = X.to(device), y.to(device)\n",
        "#       # 1. Forward pass\n",
        "#       test_pred = model_0(X)\n",
        "\n",
        "#       # 2. Calculate the loss (accumatively)\n",
        "#       test_loss += loss_fn(test_pred, y) # accumulatively add up the loss per epoch\n",
        "\n",
        "#       # 3. Calculate accuracy ( preds need to be same as y_true)\n",
        "#       test_acc += accuracy_fn(y_true= y, y_pred= test_pred.argmax(dim=1))\n",
        "\n",
        "#     # Calculations on test metrics need to happen inside torch.inference_mode()\n",
        "#     # Divide total test loss by length of test dataloader (per batch)\n",
        "#     test_loss /= len(test_dataloader)\n",
        "\n",
        "#     # divide total accuracy by length of test dataloader (per batch)\n",
        "#     test_acc /= len(test_dataloader)\n",
        "\n",
        "#   # Prin out what's happening\n",
        "#   print(f\"\\nTrain loss: {train_loss:.5f} | Test_loss: {test_loss:.5f} | Test_acc:{test_acc:.2f} \\n \\n\")\n",
        "\n",
        "# # Calculate training time\n",
        "# train_time_end_on_cpu = timer()\n",
        "# total_train_time_model_0 = print_train_time(start=train_time_start_on_cpu,\n",
        "#                                            end=train_time_end_on_cpu,\n",
        "#                                            device=str(next(model_0.parameters()).device))\n",
        "\n"
      ],
      "metadata": {
        "id": "aA2Ce0zPkmy9"
      },
      "execution_count": 68,
      "outputs": []
    },
    {
      "cell_type": "markdown",
      "source": [
        "## 4. Make predictions and get model 0 results"
      ],
      "metadata": {
        "id": "WjIxGCVCk0f3"
      }
    },
    {
      "cell_type": "code",
      "source": [
        "torch.manual_seed(42)\n",
        "def eval_model(model: torch.nn.Module,\n",
        "               data_loader: torch.utils.data.DataLoader,\n",
        "               loss_fn: torch.nn.Module,\n",
        "               accuracy_fn):\n",
        "    \"\"\"Returns a dictionary containing the results of model predicting on data_loader.\n",
        "\n",
        "    Args:\n",
        "        model (torch.nn.Module): A PyTorch model capable of making predictions on data_loader.\n",
        "        data_loader (torch.utils.data.DataLoader): The target dataset to predict on.\n",
        "        loss_fn (torch.nn.Module): The loss function of model.\n",
        "        accuracy_fn: An accuracy function to compare the models predictions to the truth labels.\n",
        "\n",
        "    Returns:\n",
        "        (dict): Results of model making predictions on data_loader.\n",
        "    \"\"\"\n",
        "    loss, acc = 0, 0\n",
        "    model.eval()\n",
        "    with torch.inference_mode():\n",
        "        for X, y in data_loader:\n",
        "            # Make predictions with the model\n",
        "            y_pred = model(X)\n",
        "\n",
        "            # Accumulate the loss and accuracy values per batch\n",
        "            loss += loss_fn(y_pred, y)\n",
        "            acc += accuracy_fn(y_true=y,\n",
        "                                y_pred=y_pred.argmax(dim=1)) # For accuracy, need the prediction labels (logits -> pred_prob -> pred_labels)\n",
        "\n",
        "        # Scale loss and acc to find the average loss/acc per batch\n",
        "        loss /= len(data_loader)\n",
        "        acc /= len(data_loader)\n",
        "\n",
        "    return {\"model_name\": model.__class__.__name__, # only works when model was created with a class\n",
        "            \"model_loss\": loss.item(),\n",
        "            \"model_acc\": acc}\n",
        "\n",
        "# Calculate model 0 results on test dataset\n",
        "model_0_results = eval_model(model=model_0, data_loader=test_dataloader,\n",
        "    loss_fn=loss_fn, accuracy_fn=accuracy_fn\n",
        ")\n",
        "model_0_results"
      ],
      "metadata": {
        "id": "AaEaYtDNlpR2",
        "outputId": "ef8b7e72-6209-4edd-c795-464b2a8c4593",
        "colab": {
          "base_uri": "https://localhost:8080/"
        }
      },
      "execution_count": 70,
      "outputs": [
        {
          "output_type": "execute_result",
          "data": {
            "text/plain": [
              "{'model_name': 'FasionMNISTModelV0',\n",
              " 'model_loss': 0.47663894295692444,\n",
              " 'model_acc': 83.42651757188499}"
            ]
          },
          "metadata": {},
          "execution_count": 70
        }
      ]
    },
    {
      "cell_type": "code",
      "source": [],
      "metadata": {
        "id": "_fQ4EB9xoCHl"
      },
      "execution_count": null,
      "outputs": []
    }
  ]
}