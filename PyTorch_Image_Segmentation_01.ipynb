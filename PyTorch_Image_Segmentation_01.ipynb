{
  "nbformat": 4,
  "nbformat_minor": 0,
  "metadata": {
    "colab": {
      "provenance": [],
      "authorship_tag": "ABX9TyOH+mYanaBnM1rMeLZ8xtbO",
      "include_colab_link": true
    },
    "kernelspec": {
      "name": "python3",
      "display_name": "Python 3"
    },
    "language_info": {
      "name": "python"
    }
  },
  "cells": [
    {
      "cell_type": "markdown",
      "metadata": {
        "id": "view-in-github",
        "colab_type": "text"
      },
      "source": [
        "<a href=\"https://colab.research.google.com/github/amanullahshah32/Deep-Learning/blob/main/PyTorch_Image_Segmentation_01.ipynb\" target=\"_parent\"><img src=\"https://colab.research.google.com/assets/colab-badge.svg\" alt=\"Open In Colab\"/></a>"
      ]
    },
    {
      "cell_type": "code",
      "execution_count": null,
      "metadata": {
        "id": "YFifuLvpbU1A"
      },
      "outputs": [],
      "source": [
        "import torch\n",
        "import torch.nn as nn\n",
        "import torchvision.transforms.functional as TF"
      ]
    },
    {
      "cell_type": "code",
      "source": [
        "class DoubleConv(nn.Module):\n",
        "  def __init__(self, in_channels, out_channels):\n",
        "    super(DoubleConv, self).__init__()\n",
        "    self.conv = nn.Sequential(\n",
        "        nn.Conv2d(in_channels, out_channels, 3, 1,1, bias= False)\n",
        "        nn.BatchNorm2d(out_channels),\n",
        "        nn.ReLU(inplace= True),\n",
        "\n",
        "        nn.Conv2d(out_channels, out_channels, 3, 1,1, bias= False)\n",
        "        nn.BatchNorm2d(out_channels),\n",
        "        nn.ReLU(inplace= True),\n",
        "    )\n",
        "\n",
        "    def forward(self, x):\n",
        "      return self.conv(x)\n",
        "\n",
        "\n",
        "class UNET(nn.Module):\n",
        "  def __init__(self, in_channels=3, out_channels=1, features=[64, 128, 256, 512]):\n",
        "    super(UNET, self).__init__()\n",
        "    self.ups = nn.ModuleList()\n",
        "    self.downs = nn.ModuleList()\n",
        "    self.pool = nn.MaxPool2d(kernel_size=2, stride=2)\n",
        "\n",
        "    # Down part of UNET\n",
        "    for feature in features:\n",
        "      self.downs.append(DoubleConv(in_channels, feature))\n",
        "      in_channels = feature\n",
        "\n",
        "    # Up part of UNET\n",
        "    for feature in reversed(features):\n",
        "      self.ups.append(\n",
        "          nn.ConvTranspose2d(\n",
        "              feature*2, feature, kernel_size=2, stride=2,\n",
        "          )\n",
        "      )\n",
        "      self.ups.append(DoubleConv(feature*2, feature))\n",
        "\n",
        "    self.bottleneck = DoubleConv(features[-1], features[-1]*2)\n",
        "    self.final_conv = nn.Conv2d(features[0], out_channels, kernel_size=1)\n",
        "\n",
        "    def forward(self, x):\n",
        "      skip_connection = []\n",
        "\n",
        "      for down in self.downs:\n",
        "        X = down(x)\n",
        "        skip_connection.append(x)\n",
        "        x = self.pool(x)\n",
        "\n",
        "      x = self.bottleneck(x)\n",
        "      skip_connection = skip_connection[::-1]\n",
        "\n",
        "      for idx in range(0, len(self.ups), 2):\n",
        "        x = self.ups[idx](x)\n",
        "        skip_connection = skip_connection[idx//2]\n",
        "\n",
        "        if x.shape != skip_connection.shape:\n",
        "          x = TF.resize(x, size=skip_connection.shape[2:])\n",
        "\n",
        "        concat_skip = torch.cat((skip_connection, x), dim=1)\n",
        "        x = self.ups[idx+1](concat_skip)"
      ],
      "metadata": {
        "id": "_NmjX6aQbhDw"
      },
      "execution_count": null,
      "outputs": []
    }
  ]
}