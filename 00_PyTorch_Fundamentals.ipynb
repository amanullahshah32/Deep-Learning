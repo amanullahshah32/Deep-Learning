{
  "nbformat": 4,
  "nbformat_minor": 0,
  "metadata": {
    "colab": {
      "provenance": [],
      "gpuType": "T4",
      "authorship_tag": "ABX9TyOkxIx0QVPXThCFNwTKJbDZ",
      "include_colab_link": true
    },
    "kernelspec": {
      "name": "python3",
      "display_name": "Python 3"
    },
    "language_info": {
      "name": "python"
    },
    "accelerator": "GPU"
  },
  "cells": [
    {
      "cell_type": "markdown",
      "metadata": {
        "id": "view-in-github",
        "colab_type": "text"
      },
      "source": [
        "<a href=\"https://colab.research.google.com/github/amanullahshah32/Deep-Learning/blob/main/00_PyTorch_Fundamentals.ipynb\" target=\"_parent\"><img src=\"https://colab.research.google.com/assets/colab-badge.svg\" alt=\"Open In Colab\"/></a>"
      ]
    },
    {
      "cell_type": "code",
      "execution_count": 1,
      "metadata": {
        "colab": {
          "base_uri": "https://localhost:8080/"
        },
        "id": "XV1FwXcRMeTp",
        "outputId": "f24562ea-68f2-451f-f3a0-b6eae0c989ec"
      },
      "outputs": [
        {
          "output_type": "stream",
          "name": "stdout",
          "text": [
            "hello\n"
          ]
        }
      ],
      "source": [
        "print(\"hello\")"
      ]
    },
    {
      "cell_type": "code",
      "source": [
        "!nvidia-smi"
      ],
      "metadata": {
        "colab": {
          "base_uri": "https://localhost:8080/"
        },
        "id": "oUIxLT9qMsex",
        "outputId": "8f42de1f-4608-4d9c-ac69-b7347ee49127"
      },
      "execution_count": 2,
      "outputs": [
        {
          "output_type": "stream",
          "name": "stdout",
          "text": [
            "Sat Mar  8 17:16:01 2025       \n",
            "+-----------------------------------------------------------------------------------------+\n",
            "| NVIDIA-SMI 550.54.15              Driver Version: 550.54.15      CUDA Version: 12.4     |\n",
            "|-----------------------------------------+------------------------+----------------------+\n",
            "| GPU  Name                 Persistence-M | Bus-Id          Disp.A | Volatile Uncorr. ECC |\n",
            "| Fan  Temp   Perf          Pwr:Usage/Cap |           Memory-Usage | GPU-Util  Compute M. |\n",
            "|                                         |                        |               MIG M. |\n",
            "|=========================================+========================+======================|\n",
            "|   0  Tesla T4                       Off |   00000000:00:04.0 Off |                    0 |\n",
            "| N/A   58C    P8             10W /   70W |       0MiB /  15360MiB |      0%      Default |\n",
            "|                                         |                        |                  N/A |\n",
            "+-----------------------------------------+------------------------+----------------------+\n",
            "                                                                                         \n",
            "+-----------------------------------------------------------------------------------------+\n",
            "| Processes:                                                                              |\n",
            "|  GPU   GI   CI        PID   Type   Process name                              GPU Memory |\n",
            "|        ID   ID                                                               Usage      |\n",
            "|=========================================================================================|\n",
            "|  No running processes found                                                             |\n",
            "+-----------------------------------------------------------------------------------------+\n"
          ]
        }
      ]
    },
    {
      "cell_type": "code",
      "source": [
        "import torch\n",
        "print(torch.__version__)"
      ],
      "metadata": {
        "id": "Or67kqvaMv0R",
        "outputId": "f560f4ef-c69f-4078-8d03-00f8a661fca6",
        "colab": {
          "base_uri": "https://localhost:8080/"
        }
      },
      "execution_count": 3,
      "outputs": [
        {
          "output_type": "stream",
          "name": "stdout",
          "text": [
            "2.5.1+cu124\n"
          ]
        }
      ]
    },
    {
      "cell_type": "code",
      "source": [
        "import pandas as pd\n",
        "import numpy as np\n",
        "import matplotlib.pyplot as plt"
      ],
      "metadata": {
        "id": "UplBsPCZNnHw"
      },
      "execution_count": 4,
      "outputs": []
    },
    {
      "cell_type": "markdown",
      "source": [
        "# Introduction to Tensors\n",
        "\n",
        "### creating tensors"
      ],
      "metadata": {
        "id": "2D94XquXPIRn"
      }
    },
    {
      "cell_type": "code",
      "source": [
        "# scalar\n",
        "scalar = torch.tensor(7)\n",
        "scalar"
      ],
      "metadata": {
        "id": "YjneGEJQOEyJ",
        "outputId": "94344cb0-57ae-47c5-8437-9f80d764e8f9",
        "colab": {
          "base_uri": "https://localhost:8080/"
        }
      },
      "execution_count": 5,
      "outputs": [
        {
          "output_type": "execute_result",
          "data": {
            "text/plain": [
              "tensor(7)"
            ]
          },
          "metadata": {},
          "execution_count": 5
        }
      ]
    },
    {
      "cell_type": "code",
      "source": [
        "scalar.ndim"
      ],
      "metadata": {
        "id": "GZ5H3eEqPDmd",
        "outputId": "9323da93-f417-4cd7-93c9-315ad6d6d88d",
        "colab": {
          "base_uri": "https://localhost:8080/"
        }
      },
      "execution_count": 6,
      "outputs": [
        {
          "output_type": "execute_result",
          "data": {
            "text/plain": [
              "0"
            ]
          },
          "metadata": {},
          "execution_count": 6
        }
      ]
    },
    {
      "cell_type": "code",
      "source": [
        "# get tensor back as python int\n",
        "scalar.item()"
      ],
      "metadata": {
        "id": "TlIRSP2eQk1s",
        "outputId": "47f6d7c8-05ad-4909-c0d7-dc6540c5356d",
        "colab": {
          "base_uri": "https://localhost:8080/"
        }
      },
      "execution_count": 7,
      "outputs": [
        {
          "output_type": "execute_result",
          "data": {
            "text/plain": [
              "7"
            ]
          },
          "metadata": {},
          "execution_count": 7
        }
      ]
    },
    {
      "cell_type": "code",
      "source": [
        "# vector\n",
        "vector = torch.tensor([7,7])\n",
        "vector"
      ],
      "metadata": {
        "id": "8DvLmDMfQsBw",
        "outputId": "11421a8a-3861-4c59-8c20-07f74d188a0f",
        "colab": {
          "base_uri": "https://localhost:8080/"
        }
      },
      "execution_count": 8,
      "outputs": [
        {
          "output_type": "execute_result",
          "data": {
            "text/plain": [
              "tensor([7, 7])"
            ]
          },
          "metadata": {},
          "execution_count": 8
        }
      ]
    },
    {
      "cell_type": "code",
      "source": [
        "vector.ndim"
      ],
      "metadata": {
        "id": "AeS2y7OsQ2e7",
        "outputId": "f07b4b68-2586-4701-b2ff-e24b68226292",
        "colab": {
          "base_uri": "https://localhost:8080/"
        }
      },
      "execution_count": 9,
      "outputs": [
        {
          "output_type": "execute_result",
          "data": {
            "text/plain": [
              "1"
            ]
          },
          "metadata": {},
          "execution_count": 9
        }
      ]
    },
    {
      "cell_type": "code",
      "source": [
        "vector.shape"
      ],
      "metadata": {
        "id": "0atJtn7iRABD",
        "outputId": "139918f3-3bf8-48cb-d8aa-9065338c3e0c",
        "colab": {
          "base_uri": "https://localhost:8080/"
        }
      },
      "execution_count": 10,
      "outputs": [
        {
          "output_type": "execute_result",
          "data": {
            "text/plain": [
              "torch.Size([2])"
            ]
          },
          "metadata": {},
          "execution_count": 10
        }
      ]
    },
    {
      "cell_type": "code",
      "source": [
        "# MATRIX\n",
        "\n",
        "MATRIX = torch.tensor([[7, 8], [8, 10]])\n",
        "MATRIX"
      ],
      "metadata": {
        "id": "4NfcrGdzRFRM",
        "outputId": "bac033e7-1099-40eb-b209-0d32828a652b",
        "colab": {
          "base_uri": "https://localhost:8080/"
        }
      },
      "execution_count": 11,
      "outputs": [
        {
          "output_type": "execute_result",
          "data": {
            "text/plain": [
              "tensor([[ 7,  8],\n",
              "        [ 8, 10]])"
            ]
          },
          "metadata": {},
          "execution_count": 11
        }
      ]
    },
    {
      "cell_type": "code",
      "source": [
        "MATRIX.ndim"
      ],
      "metadata": {
        "id": "hDIm5SibRWQg",
        "outputId": "3bd81d5e-4e80-4ed1-e60b-2430dfa95fa9",
        "colab": {
          "base_uri": "https://localhost:8080/"
        }
      },
      "execution_count": 12,
      "outputs": [
        {
          "output_type": "execute_result",
          "data": {
            "text/plain": [
              "2"
            ]
          },
          "metadata": {},
          "execution_count": 12
        }
      ]
    },
    {
      "cell_type": "code",
      "source": [
        "MATRIX[1]"
      ],
      "metadata": {
        "id": "Kcv14ilGReuk",
        "outputId": "8d76dc0a-d99c-4796-88df-d4ceda7b6761",
        "colab": {
          "base_uri": "https://localhost:8080/"
        }
      },
      "execution_count": 13,
      "outputs": [
        {
          "output_type": "execute_result",
          "data": {
            "text/plain": [
              "tensor([ 8, 10])"
            ]
          },
          "metadata": {},
          "execution_count": 13
        }
      ]
    },
    {
      "cell_type": "code",
      "source": [
        "MATRIX.shape"
      ],
      "metadata": {
        "id": "M5L2ml2qRghE",
        "outputId": "f584521a-074f-4eba-f356-1954e8b86004",
        "colab": {
          "base_uri": "https://localhost:8080/"
        }
      },
      "execution_count": 14,
      "outputs": [
        {
          "output_type": "execute_result",
          "data": {
            "text/plain": [
              "torch.Size([2, 2])"
            ]
          },
          "metadata": {},
          "execution_count": 14
        }
      ]
    },
    {
      "cell_type": "code",
      "source": [
        "# TENSOR\n",
        "TENSOR = torch.tensor([[[1,2,3],\n",
        "                        [3,6,9],\n",
        "                        [2,4,5]]])\n",
        "TENSOR"
      ],
      "metadata": {
        "id": "IfHWxZLxRmqp",
        "outputId": "59aeb9fa-e977-412a-9ec9-73532b8902d7",
        "colab": {
          "base_uri": "https://localhost:8080/"
        }
      },
      "execution_count": 15,
      "outputs": [
        {
          "output_type": "execute_result",
          "data": {
            "text/plain": [
              "tensor([[[1, 2, 3],\n",
              "         [3, 6, 9],\n",
              "         [2, 4, 5]]])"
            ]
          },
          "metadata": {},
          "execution_count": 15
        }
      ]
    },
    {
      "cell_type": "code",
      "source": [
        "TENSOR.ndim"
      ],
      "metadata": {
        "id": "KrEBYPn-R4x3",
        "outputId": "6fec9595-773e-425f-d860-9b317ab52d9b",
        "colab": {
          "base_uri": "https://localhost:8080/"
        }
      },
      "execution_count": 16,
      "outputs": [
        {
          "output_type": "execute_result",
          "data": {
            "text/plain": [
              "3"
            ]
          },
          "metadata": {},
          "execution_count": 16
        }
      ]
    },
    {
      "cell_type": "code",
      "source": [
        "TENSOR.shape"
      ],
      "metadata": {
        "id": "145DO0DsSXN7",
        "outputId": "edff6c00-73c0-45d3-8ed9-39bcf6c82bcd",
        "colab": {
          "base_uri": "https://localhost:8080/"
        }
      },
      "execution_count": 17,
      "outputs": [
        {
          "output_type": "execute_result",
          "data": {
            "text/plain": [
              "torch.Size([1, 3, 3])"
            ]
          },
          "metadata": {},
          "execution_count": 17
        }
      ]
    },
    {
      "cell_type": "code",
      "source": [
        "TENSOR[0]"
      ],
      "metadata": {
        "id": "SP7Efhx_SYTX",
        "outputId": "c0c97f69-58e6-4c92-b5dd-aa7e207411dc",
        "colab": {
          "base_uri": "https://localhost:8080/"
        }
      },
      "execution_count": 18,
      "outputs": [
        {
          "output_type": "execute_result",
          "data": {
            "text/plain": [
              "tensor([[1, 2, 3],\n",
              "        [3, 6, 9],\n",
              "        [2, 4, 5]])"
            ]
          },
          "metadata": {},
          "execution_count": 18
        }
      ]
    },
    {
      "cell_type": "code",
      "source": [
        "# create a random tensor of size (3,4)\n",
        "\n",
        "random_tensor = torch.rand(size=(3,4))\n",
        "random_tensor, random_tensor.dtype, random_tensor.shape, random_tensor.ndim"
      ],
      "metadata": {
        "id": "Lonv10MUSh6T",
        "outputId": "fbea90c5-df99-48b8-bf63-8c75d47fc3bc",
        "colab": {
          "base_uri": "https://localhost:8080/"
        }
      },
      "execution_count": 19,
      "outputs": [
        {
          "output_type": "execute_result",
          "data": {
            "text/plain": [
              "(tensor([[0.7326, 0.4546, 0.5508, 0.3279],\n",
              "         [0.6808, 0.2984, 0.0171, 0.4173],\n",
              "         [0.0848, 0.2124, 0.9463, 0.0118]]),\n",
              " torch.float32,\n",
              " torch.Size([3, 4]),\n",
              " 2)"
            ]
          },
          "metadata": {},
          "execution_count": 19
        }
      ]
    },
    {
      "cell_type": "code",
      "source": [
        "#create  arandom tensor of size (224, 224, 3)\n",
        "random_image_size_tensor = torch.rand(size=(3,224,224))\n",
        "random_image_size_tensor.shape, random_image_size_tensor.ndim"
      ],
      "metadata": {
        "id": "FHpuN2Adgy9K",
        "outputId": "f71a16f3-fce2-4e3d-b77e-7351b0c00193",
        "colab": {
          "base_uri": "https://localhost:8080/"
        }
      },
      "execution_count": 20,
      "outputs": [
        {
          "output_type": "execute_result",
          "data": {
            "text/plain": [
              "(torch.Size([3, 224, 224]), 3)"
            ]
          },
          "metadata": {},
          "execution_count": 20
        }
      ]
    },
    {
      "cell_type": "markdown",
      "source": [
        "### Zeros and Ones"
      ],
      "metadata": {
        "id": "vCmF-c5thlb5"
      }
    },
    {
      "cell_type": "code",
      "source": [
        "# Create a tensor of all zeros\n",
        "zeros = torch.zeros(size=(3,4))\n",
        "zeros, zeros.dtype"
      ],
      "metadata": {
        "id": "ZyhqBP63hsr-",
        "outputId": "fad8038a-2150-41df-b3d8-91263aec04e1",
        "colab": {
          "base_uri": "https://localhost:8080/"
        }
      },
      "execution_count": 21,
      "outputs": [
        {
          "output_type": "execute_result",
          "data": {
            "text/plain": [
              "(tensor([[0., 0., 0., 0.],\n",
              "         [0., 0., 0., 0.],\n",
              "         [0., 0., 0., 0.]]),\n",
              " torch.float32)"
            ]
          },
          "metadata": {},
          "execution_count": 21
        }
      ]
    },
    {
      "cell_type": "code",
      "source": [
        "#create tensor of all ones\n",
        "ones = torch.ones(size=(3,4))\n",
        "ones, ones.dtype, ones.shape, ones.ndim"
      ],
      "metadata": {
        "id": "7QDREvKRh7ek",
        "outputId": "fb9699a0-7d7e-40ff-c711-1f4dc8c308a4",
        "colab": {
          "base_uri": "https://localhost:8080/"
        }
      },
      "execution_count": 22,
      "outputs": [
        {
          "output_type": "execute_result",
          "data": {
            "text/plain": [
              "(tensor([[1., 1., 1., 1.],\n",
              "         [1., 1., 1., 1.],\n",
              "         [1., 1., 1., 1.]]),\n",
              " torch.float32,\n",
              " torch.Size([3, 4]),\n",
              " 2)"
            ]
          },
          "metadata": {},
          "execution_count": 22
        }
      ]
    },
    {
      "cell_type": "markdown",
      "source": [
        "### Creating a range and tensors like"
      ],
      "metadata": {
        "id": "EKgwFxlPiKyM"
      }
    },
    {
      "cell_type": "code",
      "source": [
        "### torch.arange(start, end, step)\n",
        "\n",
        "zero_to_ten_deprecated = torch.range(0,10)"
      ],
      "metadata": {
        "id": "3gGvfaegjF7c",
        "outputId": "b93cbf7e-cd40-4f70-a590-e2e817538e61",
        "colab": {
          "base_uri": "https://localhost:8080/"
        }
      },
      "execution_count": 23,
      "outputs": [
        {
          "output_type": "stream",
          "name": "stderr",
          "text": [
            "<ipython-input-23-91604a08e85a>:3: UserWarning: torch.range is deprecated and will be removed in a future release because its behavior is inconsistent with Python's range builtin. Instead, use torch.arange, which produces values in [start, end).\n",
            "  zero_to_ten_deprecated = torch.range(0,10)\n"
          ]
        }
      ]
    },
    {
      "cell_type": "code",
      "source": [
        "# create a range of values 0 to 10\n",
        "zero_to_ten= torch.arange(start=0, end=11, step=1)\n",
        "zero_to_ten"
      ],
      "metadata": {
        "id": "8sgRwArMkPTW",
        "outputId": "89f27a80-8ef8-4877-f0c4-9c0c49bd650c",
        "colab": {
          "base_uri": "https://localhost:8080/"
        }
      },
      "execution_count": 24,
      "outputs": [
        {
          "output_type": "execute_result",
          "data": {
            "text/plain": [
              "tensor([ 0,  1,  2,  3,  4,  5,  6,  7,  8,  9, 10])"
            ]
          },
          "metadata": {},
          "execution_count": 24
        }
      ]
    },
    {
      "cell_type": "markdown",
      "source": [
        "torch.zeros_like(input) or torch.ones_like(input) which return a tensor filled with zeros or ones in the same shape as the input respectively."
      ],
      "metadata": {
        "id": "KqTLBNXrkcMR"
      }
    },
    {
      "cell_type": "code",
      "source": [
        "# Can also create a tensor of zeros similar to another tensor\n",
        "ten_zeros = torch.zeros_like(input=zero_to_ten)\n",
        "ten_zeros"
      ],
      "metadata": {
        "id": "4JdJZ4bjkwet",
        "outputId": "811e9838-42fc-4029-983a-cff701c29fa2",
        "colab": {
          "base_uri": "https://localhost:8080/"
        }
      },
      "execution_count": 25,
      "outputs": [
        {
          "output_type": "execute_result",
          "data": {
            "text/plain": [
              "tensor([0, 0, 0, 0, 0, 0, 0, 0, 0, 0, 0])"
            ]
          },
          "metadata": {},
          "execution_count": 25
        }
      ]
    },
    {
      "cell_type": "code",
      "source": [
        "# Can also create a tensor of ones similar to another tensor\n",
        "ten_ones = torch.ones_like(input=zero_to_ten)\n",
        "ten_ones"
      ],
      "metadata": {
        "id": "f_VXxe84lFER",
        "outputId": "f3e02471-aea9-4f27-8d5d-f8d56c4fcdcd",
        "colab": {
          "base_uri": "https://localhost:8080/"
        }
      },
      "execution_count": 26,
      "outputs": [
        {
          "output_type": "execute_result",
          "data": {
            "text/plain": [
              "tensor([1, 1, 1, 1, 1, 1, 1, 1, 1, 1, 1])"
            ]
          },
          "metadata": {},
          "execution_count": 26
        }
      ]
    },
    {
      "cell_type": "markdown",
      "source": [
        "### Tensor Datatypes"
      ],
      "metadata": {
        "id": "mjHZv56BlYam"
      }
    },
    {
      "cell_type": "code",
      "source": [
        "# default datatype for tensors is float32\n",
        "\n",
        "float_32_tensor = torch.tensor([3.0, 6.0, 9.0],\n",
        "                              dtype=None, # defaults to None, which is torch.float32 or whatever datatype is passed\n",
        "                               device=None, # defaults to None, which uses the default tensor type\n",
        "                               requires_grad=False) # if True, operations performed on the tensor are recorded\n",
        "\n",
        "float_32_tensor.shape, float_32_tensor.dtype, float_32_tensor.device"
      ],
      "metadata": {
        "id": "BQM3jgz3fI1C",
        "outputId": "59d13af8-9132-472d-bf06-c6ce520e94d9",
        "colab": {
          "base_uri": "https://localhost:8080/"
        }
      },
      "execution_count": 27,
      "outputs": [
        {
          "output_type": "execute_result",
          "data": {
            "text/plain": [
              "(torch.Size([3]), torch.float32, device(type='cpu'))"
            ]
          },
          "metadata": {},
          "execution_count": 27
        }
      ]
    },
    {
      "cell_type": "code",
      "source": [
        "# float 16 datatypes tensor\n",
        "float_16_tensor = torch.tensor([3.0, 5.0, 8.0],\n",
        "                               dtype = torch.float16) #torch.half would also  work\n",
        "float_16_tensor.dtype"
      ],
      "metadata": {
        "id": "4JQFyhkyfH9l",
        "outputId": "2eb5cfef-1eb2-4489-e8b2-e31f5f2425d2",
        "colab": {
          "base_uri": "https://localhost:8080/"
        }
      },
      "execution_count": 28,
      "outputs": [
        {
          "output_type": "execute_result",
          "data": {
            "text/plain": [
              "torch.float16"
            ]
          },
          "metadata": {},
          "execution_count": 28
        }
      ]
    },
    {
      "cell_type": "markdown",
      "source": [
        "### Getting information from tensors"
      ],
      "metadata": {
        "id": "Upx9_sL8fHDe"
      }
    },
    {
      "cell_type": "code",
      "source": [
        "# Default datatype for tensors is float32\n",
        "float_32_tensor = torch.tensor([3.0, 6.0, 9.0],\n",
        "                               dtype=None, # defaults to None, which is torch.float32 or whatever datatype is passed\n",
        "                               device=None, # defaults to None, which uses the default tensor type\n",
        "                               requires_grad=False) # if True, operations performed on the tensor are recorded\n",
        "\n",
        "float_32_tensor.shape, float_32_tensor.dtype, float_32_tensor.device"
      ],
      "metadata": {
        "id": "CozUwy_Gogrw",
        "outputId": "712430de-832b-4569-b2eb-1917bfbc8959",
        "colab": {
          "base_uri": "https://localhost:8080/"
        }
      },
      "execution_count": 29,
      "outputs": [
        {
          "output_type": "execute_result",
          "data": {
            "text/plain": [
              "(torch.Size([3]), torch.float32, device(type='cpu'))"
            ]
          },
          "metadata": {},
          "execution_count": 29
        }
      ]
    },
    {
      "cell_type": "markdown",
      "source": [
        "## *Manipulating Tnesors (tensor operation)*\n",
        "\n",
        "1. Addition\n",
        "2. Substraction\n",
        "3. Multiplication\n",
        "4. Division\n",
        "5. Matrix Multiplication"
      ],
      "metadata": {
        "id": "z2nDDJjgRdfo"
      }
    },
    {
      "cell_type": "markdown",
      "source": [
        "### Basic Operations"
      ],
      "metadata": {
        "id": "Gh2Wxnbvb6B2"
      }
    },
    {
      "cell_type": "code",
      "source": [
        "# Create a tensor of values and add a number to it\n",
        "tensor = torch.tensor([11,12,13])\n",
        "tensor.shape"
      ],
      "metadata": {
        "id": "InvcA59hR015",
        "outputId": "f8dbced4-946e-43c3-cdf5-f108508bee99",
        "colab": {
          "base_uri": "https://localhost:8080/"
        }
      },
      "execution_count": 30,
      "outputs": [
        {
          "output_type": "execute_result",
          "data": {
            "text/plain": [
              "torch.Size([3])"
            ]
          },
          "metadata": {},
          "execution_count": 30
        }
      ]
    },
    {
      "cell_type": "code",
      "source": [
        "# add 10 with tensor value\n",
        "tensor + 10"
      ],
      "metadata": {
        "id": "p_rPy5pRcKVH",
        "outputId": "db9c1d15-744a-4416-ee9e-1d5b5b0f54e9",
        "colab": {
          "base_uri": "https://localhost:8080/"
        }
      },
      "execution_count": 31,
      "outputs": [
        {
          "output_type": "execute_result",
          "data": {
            "text/plain": [
              "tensor([21, 22, 23])"
            ]
          },
          "metadata": {},
          "execution_count": 31
        }
      ]
    },
    {
      "cell_type": "code",
      "source": [
        "# Multiply it by 10\n",
        "tensor*10"
      ],
      "metadata": {
        "id": "g1dp-6YjcRWD",
        "outputId": "e2883ec3-423c-4812-c4c6-adad2e39a8b7",
        "colab": {
          "base_uri": "https://localhost:8080/"
        }
      },
      "execution_count": 32,
      "outputs": [
        {
          "output_type": "execute_result",
          "data": {
            "text/plain": [
              "tensor([110, 120, 130])"
            ]
          },
          "metadata": {},
          "execution_count": 32
        }
      ]
    },
    {
      "cell_type": "code",
      "source": [
        "# Tensor don't change unless reassigned\n",
        "tensor"
      ],
      "metadata": {
        "id": "8SMro3SOcS-K",
        "outputId": "a37eca6f-7f7a-4535-b762-72a7be687697",
        "colab": {
          "base_uri": "https://localhost:8080/"
        }
      },
      "execution_count": 33,
      "outputs": [
        {
          "output_type": "execute_result",
          "data": {
            "text/plain": [
              "tensor([11, 12, 13])"
            ]
          },
          "metadata": {},
          "execution_count": 33
        }
      ]
    },
    {
      "cell_type": "markdown",
      "source": [
        "Let's subtract a number and this time we'll reassign the tensor variable"
      ],
      "metadata": {
        "id": "ATzXVwbncsOs"
      }
    },
    {
      "cell_type": "code",
      "source": [
        "# Subtract and reassign\n",
        "tensor = tensor - 10\n",
        "tensor"
      ],
      "metadata": {
        "id": "irWZFnKqc5Ej",
        "outputId": "8c747e24-8150-4e55-ac89-8d88c9eae8e7",
        "colab": {
          "base_uri": "https://localhost:8080/"
        }
      },
      "execution_count": 34,
      "outputs": [
        {
          "output_type": "execute_result",
          "data": {
            "text/plain": [
              "tensor([1, 2, 3])"
            ]
          },
          "metadata": {},
          "execution_count": 34
        }
      ]
    },
    {
      "cell_type": "code",
      "source": [
        "# Add and reassign\n",
        "tensor = tensor + 10\n",
        "tensor"
      ],
      "metadata": {
        "id": "o_mJK3DkdBo0",
        "outputId": "095c14d6-82f4-48a6-ba6f-30ff81d6c82d",
        "colab": {
          "base_uri": "https://localhost:8080/"
        }
      },
      "execution_count": 35,
      "outputs": [
        {
          "output_type": "execute_result",
          "data": {
            "text/plain": [
              "tensor([11, 12, 13])"
            ]
          },
          "metadata": {},
          "execution_count": 35
        }
      ]
    },
    {
      "cell_type": "markdown",
      "source": [
        "#### PyTorch has some shortcut to perform multiplication and addition\n",
        "`torch.mul()` and `torch.add()`"
      ],
      "metadata": {
        "id": "flMv6dgmdIsi"
      }
    },
    {
      "cell_type": "code",
      "source": [
        "# Can also use torch functions\n",
        "\n",
        "torch.multiply(tensor, 10)"
      ],
      "metadata": {
        "id": "9fPekd5cev9A",
        "outputId": "b7c70ee4-b66d-4866-9cfc-94e706335c5b",
        "colab": {
          "base_uri": "https://localhost:8080/"
        }
      },
      "execution_count": 36,
      "outputs": [
        {
          "output_type": "execute_result",
          "data": {
            "text/plain": [
              "tensor([110, 120, 130])"
            ]
          },
          "metadata": {},
          "execution_count": 36
        }
      ]
    },
    {
      "cell_type": "code",
      "source": [
        "torch.mul(tensor, 10)"
      ],
      "metadata": {
        "id": "88yVQ0Ige9Vz",
        "outputId": "86605cd6-05c0-40b7-b965-b644a69b5b42",
        "colab": {
          "base_uri": "https://localhost:8080/"
        }
      },
      "execution_count": 37,
      "outputs": [
        {
          "output_type": "execute_result",
          "data": {
            "text/plain": [
              "tensor([110, 120, 130])"
            ]
          },
          "metadata": {},
          "execution_count": 37
        }
      ]
    },
    {
      "cell_type": "code",
      "source": [
        "torch.add(tensor, 20)"
      ],
      "metadata": {
        "id": "X0GevbjtfKp3",
        "outputId": "e0abef39-412a-4332-96dd-7936952cbabf",
        "colab": {
          "base_uri": "https://localhost:8080/"
        }
      },
      "execution_count": 38,
      "outputs": [
        {
          "output_type": "execute_result",
          "data": {
            "text/plain": [
              "tensor([31, 32, 33])"
            ]
          },
          "metadata": {},
          "execution_count": 38
        }
      ]
    },
    {
      "cell_type": "markdown",
      "source": [
        "However, it's more common to use the operator symbols like * instead of torch.mul()\n",
        "\n"
      ],
      "metadata": {
        "id": "-d_WcnaHfNTU"
      }
    },
    {
      "cell_type": "code",
      "source": [
        "# Element wise multiplication (each element multiplies its equivalent)\n",
        "\n",
        "print(tensor, '*', tensor)\n",
        "print(\"Equals: \", tensor + tensor)"
      ],
      "metadata": {
        "id": "mfYclLl-fWR0",
        "outputId": "ae5b3e53-40b3-4fe7-f0c4-ff20622b7b03",
        "colab": {
          "base_uri": "https://localhost:8080/"
        }
      },
      "execution_count": 39,
      "outputs": [
        {
          "output_type": "stream",
          "name": "stdout",
          "text": [
            "tensor([11, 12, 13]) * tensor([11, 12, 13])\n",
            "Equals:  tensor([22, 24, 26])\n"
          ]
        }
      ]
    },
    {
      "cell_type": "markdown",
      "source": [
        "### Matrix Multiplication\n"
      ],
      "metadata": {
        "id": "nlOX4pYufq78"
      }
    },
    {
      "cell_type": "markdown",
      "source": [
        "The main two rules for matrix multiplication to remember are:\n",
        "\n",
        "1. The inner dimensions must match:\n",
        "* (3, 2) @ (3, 2) won't work\n",
        "* (2, 3) @ (3, 2) will work\n",
        "* (3, 2) @ (2, 3) will work\n",
        "2. The resulting matrix has the shape of the outer dimensions:\n",
        "* (2, 3) @ (3, 2) -> (2, 2)\n",
        "* (3, 2) @ (2, 3) -> (3, 3)"
      ],
      "metadata": {
        "id": "k-B8Pehz8cNt"
      }
    },
    {
      "cell_type": "code",
      "source": [
        "import torch\n",
        "tensor = torch.tensor([1,2,3])\n",
        "tensor.shape"
      ],
      "metadata": {
        "id": "zBwKSU4z8r1a",
        "outputId": "1aa069c8-72f3-4642-a795-78f6654e7176",
        "colab": {
          "base_uri": "https://localhost:8080/"
        }
      },
      "execution_count": 40,
      "outputs": [
        {
          "output_type": "execute_result",
          "data": {
            "text/plain": [
              "torch.Size([3])"
            ]
          },
          "metadata": {},
          "execution_count": 40
        }
      ]
    },
    {
      "cell_type": "markdown",
      "source": [
        "\n",
        "The difference between element-wise multiplication and matrix multiplication is the addition of values.\n",
        "\n",
        "For our tensor variable with values [1, 2, 3]:\n",
        "\n",
        "Operation\tCalculation\tCode\n",
        "Element-wise multiplication\t[1*1, 2*2, 3*3] = [1, 4, 9]\ttensor * tensor\n",
        "Matrix multiplication\t[1*1 + 2*2 + 3*3] = [14]\ttensor.matmul(tensor)"
      ],
      "metadata": {
        "id": "tm-ntzeNDPuI"
      }
    },
    {
      "cell_type": "code",
      "source": [
        "# Element wise multiplication and Matrix multiplication\n",
        "\n",
        "#Element wise multiplication\n",
        "element_wise = tensor * tensor\n",
        "\n",
        "# matrix multiplication\n",
        "matrix_mul = torch.matmul(tensor, tensor)\n",
        "\n",
        "element_wise, matrix_mul"
      ],
      "metadata": {
        "id": "99sQOKRP-bVE",
        "outputId": "f8a7d761-e41e-4e4d-9997-e71bd0a080e7",
        "colab": {
          "base_uri": "https://localhost:8080/"
        }
      },
      "execution_count": 41,
      "outputs": [
        {
          "output_type": "execute_result",
          "data": {
            "text/plain": [
              "(tensor([1, 4, 9]), tensor(14))"
            ]
          },
          "metadata": {},
          "execution_count": 41
        }
      ]
    },
    {
      "cell_type": "code",
      "source": [
        "# We can also use the \"@\" symbol for matrix multiplication, though not recommended\n",
        "tensor @ tensor"
      ],
      "metadata": {
        "id": "_LvYE_leGJX5",
        "outputId": "12023f05-fdc5-484a-dbe0-5a827f555693",
        "colab": {
          "base_uri": "https://localhost:8080/"
        }
      },
      "execution_count": 42,
      "outputs": [
        {
          "output_type": "execute_result",
          "data": {
            "text/plain": [
              "tensor(14)"
            ]
          },
          "metadata": {},
          "execution_count": 42
        }
      ]
    },
    {
      "cell_type": "code",
      "source": [
        "# torch.matmul() , method is faster\n",
        "\n",
        "# avoid operations using for looop. they are expensive\n",
        "\n",
        "%%time\n",
        "\n",
        "value = 0\n",
        "for i in range(len(tensor)):\n",
        "  value+= tensor[i] * tensor[i]\n",
        "\n",
        "value"
      ],
      "metadata": {
        "id": "JBCDwBy1G0es",
        "outputId": "2651e7ca-770a-4ddc-f866-f2d14d98dfea",
        "colab": {
          "base_uri": "https://localhost:8080/"
        }
      },
      "execution_count": 43,
      "outputs": [
        {
          "output_type": "stream",
          "name": "stdout",
          "text": [
            "CPU times: user 245 µs, sys: 48 µs, total: 293 µs\n",
            "Wall time: 413 µs\n"
          ]
        },
        {
          "output_type": "execute_result",
          "data": {
            "text/plain": [
              "tensor(14)"
            ]
          },
          "metadata": {},
          "execution_count": 43
        }
      ]
    },
    {
      "cell_type": "code",
      "source": [
        "%%time\n",
        "torch.matmul(tensor, tensor)"
      ],
      "metadata": {
        "id": "DhUXnJkLItsi",
        "outputId": "d36ab3c5-74de-4dac-c57a-fdaf607ea4d4",
        "colab": {
          "base_uri": "https://localhost:8080/"
        }
      },
      "execution_count": 44,
      "outputs": [
        {
          "output_type": "stream",
          "name": "stdout",
          "text": [
            "CPU times: user 33 µs, sys: 7 µs, total: 40 µs\n",
            "Wall time: 43.9 µs\n"
          ]
        },
        {
          "output_type": "execute_result",
          "data": {
            "text/plain": [
              "tensor(14)"
            ]
          },
          "metadata": {},
          "execution_count": 44
        }
      ]
    },
    {
      "cell_type": "markdown",
      "source": [
        "## One of the most common error in deep learning, (Shape Errors)\n",
        "Because much of deep learning is multiplying and performing operations on matrices and matrices have a strict rule about what shapes and sizes can be combined, one of the most common errors you'll run into in deep learning is shape mismatches."
      ],
      "metadata": {
        "id": "h_7RR5KWIyIY"
      }
    },
    {
      "cell_type": "code",
      "source": [
        "# Shapes need to be in the right way\n",
        "tensor_A = torch.tensor([[1, 2],\n",
        "                         [3, 4],\n",
        "                         [5, 6]], dtype=torch.float32)\n",
        "\n",
        "tensor_B = torch.tensor([[7, 10],\n",
        "                         [8, 11],\n",
        "                         [9, 12]], dtype=torch.float32)\n",
        "\n",
        "#torch.matmul(tensor_A, tensor_B) # (this will error)"
      ],
      "metadata": {
        "id": "IUOK52ySLixL"
      },
      "execution_count": 45,
      "outputs": []
    },
    {
      "cell_type": "code",
      "source": [
        "tensor_A.shape, tensor_A.ndim,  tensor_B.shape, tensor_B.ndim"
      ],
      "metadata": {
        "id": "qj4td8wVMPKq",
        "outputId": "de9af0ae-9e39-437b-8660-773f4aa99f61",
        "colab": {
          "base_uri": "https://localhost:8080/"
        }
      },
      "execution_count": 46,
      "outputs": [
        {
          "output_type": "execute_result",
          "data": {
            "text/plain": [
              "(torch.Size([3, 2]), 2, torch.Size([3, 2]), 2)"
            ]
          },
          "metadata": {},
          "execution_count": 46
        }
      ]
    },
    {
      "cell_type": "markdown",
      "source": [
        "One of the ways to do this is with a *transpose* (switch the dimensions of a given tensor).\n",
        "\n",
        "You can perform transposes in PyTorch using either:\n",
        "\n",
        "* `torch.transpose(input, dim0, dim1)`  - where `input` is the desired tensor to transpose and `dim0` and `dim1` are the dimensions to be swapped.\n",
        "* `tensor.T` - where `tensor` is the desired tensor to transpose."
      ],
      "metadata": {
        "id": "SwxKbN12mfsU"
      }
    },
    {
      "cell_type": "code",
      "source": [
        "# View tensor A and B\n",
        "print(tensor_A)\n",
        "print(tensor_B)"
      ],
      "metadata": {
        "id": "HRB-0FHIMi9s",
        "outputId": "e691bf11-7948-4053-f731-6294c7c8476c",
        "colab": {
          "base_uri": "https://localhost:8080/"
        }
      },
      "execution_count": 47,
      "outputs": [
        {
          "output_type": "stream",
          "name": "stdout",
          "text": [
            "tensor([[1., 2.],\n",
            "        [3., 4.],\n",
            "        [5., 6.]])\n",
            "tensor([[ 7., 10.],\n",
            "        [ 8., 11.],\n",
            "        [ 9., 12.]])\n"
          ]
        }
      ]
    },
    {
      "cell_type": "code",
      "source": [
        "# View tensor A and tensor B.T\n",
        "print(tensor_A.shape)\n",
        "print(tensor_B.T.shape)\n",
        "# here the inner dimensions are matched"
      ],
      "metadata": {
        "id": "zLw7pVmAmQVb",
        "outputId": "04cb895b-3711-4873-fb6f-b4ad90c59a1b",
        "colab": {
          "base_uri": "https://localhost:8080/"
        }
      },
      "execution_count": 48,
      "outputs": [
        {
          "output_type": "stream",
          "name": "stdout",
          "text": [
            "torch.Size([3, 2])\n",
            "torch.Size([2, 3])\n"
          ]
        }
      ]
    },
    {
      "cell_type": "code",
      "source": [
        "# The operation works when tensor_B is transposed\n",
        "print(f\"Original shapes: tensor_A = {tensor_A.shape}, tensor_B = {tensor_B.shape}\\n\")\n",
        "print(f\"New shapes: tensorA= {tensor_A.shape} (same as above), tensor_B.T = {tensor_B.T.shape}\\n \")\n",
        "print(f\"Multiplying: {tensor_A.shape}*{tensor_B.shape} <- inner dimensions match \\n\")\n",
        "print(\"Output: \\n\")\n",
        "output = torch.matmul(tensor_A, tensor_B.T)\n",
        "print(output)\n",
        "print(f\"\\n Output shape: \")"
      ],
      "metadata": {
        "id": "t34T-imYqe7G",
        "outputId": "bebf8035-20c5-4545-b5ab-6ca9b5778782",
        "colab": {
          "base_uri": "https://localhost:8080/"
        }
      },
      "execution_count": 49,
      "outputs": [
        {
          "output_type": "stream",
          "name": "stdout",
          "text": [
            "Original shapes: tensor_A = torch.Size([3, 2]), tensor_B = torch.Size([3, 2])\n",
            "\n",
            "New shapes: tensorA= torch.Size([3, 2]) (same as above), tensor_B.T = torch.Size([2, 3])\n",
            " \n",
            "Multiplying: torch.Size([3, 2])*torch.Size([3, 2]) <- inner dimensions match \n",
            "\n",
            "Output: \n",
            "\n",
            "tensor([[ 27.,  30.,  33.],\n",
            "        [ 61.,  68.,  75.],\n",
            "        [ 95., 106., 117.]])\n",
            "\n",
            " Output shape: \n"
          ]
        }
      ]
    },
    {
      "cell_type": "markdown",
      "source": [
        "You can also use torch.mm() which is a short for torch.matmul()"
      ],
      "metadata": {
        "id": "cCme6b4-r5IV"
      }
    },
    {
      "cell_type": "code",
      "source": [
        "# torch.mm is a shortcut for matmul\n",
        "torch.mm(tensor_A, tensor_B.T)"
      ],
      "metadata": {
        "id": "ZQKGJxIprnqL",
        "outputId": "a2c62aaa-cf58-498d-8a19-3bc9cfd1bd20",
        "colab": {
          "base_uri": "https://localhost:8080/"
        }
      },
      "execution_count": 50,
      "outputs": [
        {
          "output_type": "execute_result",
          "data": {
            "text/plain": [
              "tensor([[ 27.,  30.,  33.],\n",
              "        [ 61.,  68.,  75.],\n",
              "        [ 95., 106., 117.]])"
            ]
          },
          "metadata": {},
          "execution_count": 50
        }
      ]
    },
    {
      "cell_type": "markdown",
      "source": [
        "### torch.nn.Linear()"
      ],
      "metadata": {
        "id": "z18FiI34sC5u"
      }
    },
    {
      "cell_type": "markdown",
      "source": [
        "Neural networks are full of matrix multiplications and dot products.\n",
        "\n",
        "The torch.nn.Linear() module (we'll see this in action later on), also known as a feed-forward layer or fully connected layer, implements a matrix multiplication between an input x and a weights matrix A.\n",
        "\n",
        "y\n",
        "=\n",
        "x\n",
        "⋅\n",
        "A\n",
        "T\n",
        "+\n",
        "b\n",
        "\n",
        "Where:\n",
        "\n",
        "x is the input to the layer (deep learning is a stack of layers like torch.nn.Linear() and others on top of each other).\n",
        "A is the weights matrix created by the layer, this starts out as random numbers that get adjusted as a neural network learns to better represent patterns in the data (notice the \"T\", that's because the weights matrix gets transposed).\n",
        "Note: You might also often see W or another letter like X used to showcase the weights matrix.\n",
        "b is the bias term used to slightly offset the weights and inputs.\n",
        "y is the output (a manipulation of the input in the hopes to discover patterns in it).\n",
        "This is a linear function (you may have seen something like  \n",
        "y\n",
        "=\n",
        "m\n",
        "x\n",
        "+\n",
        "b\n",
        "  in high school or elsewhere), and can be used to draw a straight line!"
      ],
      "metadata": {
        "id": "9GNUa866BAmc"
      }
    },
    {
      "cell_type": "code",
      "source": [
        "tensor_A"
      ],
      "metadata": {
        "id": "vrMO4Z3T_9Ta",
        "outputId": "d9c755ec-5688-484a-ead6-59d0c23aa724",
        "colab": {
          "base_uri": "https://localhost:8080/"
        }
      },
      "execution_count": 51,
      "outputs": [
        {
          "output_type": "execute_result",
          "data": {
            "text/plain": [
              "tensor([[1., 2.],\n",
              "        [3., 4.],\n",
              "        [5., 6.]])"
            ]
          },
          "metadata": {},
          "execution_count": 51
        }
      ]
    },
    {
      "cell_type": "code",
      "source": [
        "# Since the linear layer starts with a random weights matrix, let's make it reproducible ( more on this late )\n",
        "torch.manual_seed(42) # this keeps the random value same/ random values does not change if you re run this cell\n",
        "linear = torch.nn.Linear(in_features = 3, # in_features = matches inner dimensions of input\n",
        "                         out_features =  6) # out_features = describe outer value\n",
        "\n",
        "x  = tensor_A.T\n",
        "output = linear(x)\n",
        "print(f\"Input shape : {x.shape} \\n\")\n",
        "print(f\"Output shape: \\n{output}\\n\\n Output shape: {output.shape}\")"
      ],
      "metadata": {
        "id": "gRobVYLJ-vDI",
        "outputId": "5bfae00e-fd37-4c6e-d82f-d14c712e299d",
        "colab": {
          "base_uri": "https://localhost:8080/"
        }
      },
      "execution_count": 52,
      "outputs": [
        {
          "output_type": "stream",
          "name": "stdout",
          "text": [
            "Input shape : torch.Size([2, 3]) \n",
            "\n",
            "Output shape: \n",
            "tensor([[0.9332, 0.8805, 3.0149, 1.5545, 1.8186, 2.0634],\n",
            "        [1.7186, 1.4009, 3.5818, 1.7408, 2.6017, 2.5123]],\n",
            "       grad_fn=<AddmmBackward0>)\n",
            "\n",
            " Output shape: torch.Size([2, 6])\n"
          ]
        }
      ]
    },
    {
      "cell_type": "markdown",
      "source": [
        "###  **Finding the min, max, mean, sum, etc (aggregation)**\n",
        "* Now we've seen a few ways to manipulate tensors, let's run through a few ways to aggregate them (go from more values to less values). *"
      ],
      "metadata": {
        "id": "sbIRwM0eCsw6"
      }
    },
    {
      "cell_type": "markdown",
      "source": [
        "First we'll create a tensor and then find the max, min, mean and sum of it.\n",
        "\n"
      ],
      "metadata": {
        "id": "xTk8OB4OCqjh"
      }
    },
    {
      "cell_type": "code",
      "source": [
        "# Create a tensor\n",
        "x = torch.arange(0,100, 10)\n",
        "x.dtype, x"
      ],
      "metadata": {
        "id": "A4pO5iNbCYka",
        "outputId": "4591241a-fa86-4373-cac4-b75d621dbd31",
        "colab": {
          "base_uri": "https://localhost:8080/"
        }
      },
      "execution_count": 53,
      "outputs": [
        {
          "output_type": "execute_result",
          "data": {
            "text/plain": [
              "(torch.int64, tensor([ 0, 10, 20, 30, 40, 50, 60, 70, 80, 90]))"
            ]
          },
          "metadata": {},
          "execution_count": 53
        }
      ]
    },
    {
      "cell_type": "code",
      "source": [
        "# lets perform some aggregation\n",
        "\n",
        "print(f'Minimum: {x.min()}')\n",
        "print(f'Maximum: {x.max()}')\n",
        "#print(f\"Mean: {x.mean()}\") # this is error\n",
        "print(f\"sum: {x.sum()}\")"
      ],
      "metadata": {
        "id": "oKp1vH5TDT__",
        "outputId": "1502fdf5-4a36-4f8c-8a30-5e6a235c6cbb",
        "colab": {
          "base_uri": "https://localhost:8080/"
        }
      },
      "execution_count": 54,
      "outputs": [
        {
          "output_type": "stream",
          "name": "stdout",
          "text": [
            "Minimum: 0\n",
            "Maximum: 90\n",
            "sum: 450\n"
          ]
        }
      ]
    },
    {
      "cell_type": "markdown",
      "source": [
        "Note: You may find some methods such as `torch.mean()` require tensors to be in `torch.float32` (the most common) or another specific datatype, otherwise the operation will fail."
      ],
      "metadata": {
        "id": "YYWLO28OEHZ8"
      }
    },
    {
      "cell_type": "markdown",
      "source": [
        "You can also do the same as above with torch methods."
      ],
      "metadata": {
        "id": "s0IJvNMyDvVL"
      }
    },
    {
      "cell_type": "code",
      "source": [
        "torch.max(x), torch.min(x), torch.mean(x.type(torch.float32)), torch.sum(x)"
      ],
      "metadata": {
        "id": "Yfu-Ut5VD99Q",
        "outputId": "a1f3d763-d183-4ebb-c4f0-89fab11ef803",
        "colab": {
          "base_uri": "https://localhost:8080/"
        }
      },
      "execution_count": 55,
      "outputs": [
        {
          "output_type": "execute_result",
          "data": {
            "text/plain": [
              "(tensor(90), tensor(0), tensor(45.), tensor(450))"
            ]
          },
          "metadata": {},
          "execution_count": 55
        }
      ]
    },
    {
      "cell_type": "markdown",
      "source": [
        "### Positional Min/Max\n",
        "You can also find the index of a tensor where the max or minimum occurs with torch.argmax() and torch.argmin() respectively."
      ],
      "metadata": {
        "id": "Oa4on1IOEO_u"
      }
    },
    {
      "cell_type": "code",
      "source": [
        "# Create tensor\n",
        "tensor = torch.arange(10,101, 10)\n",
        "print(f\"Tensor: {tensor}\\n\")\n",
        "\n",
        "# Returns index of max and min values\n",
        "print(f\"Index where max value occurs: {tensor.argmax()}\\n\")\n",
        "print(f\"Index where MIN value occurs: {tensor.argmin()}\\n\")"
      ],
      "metadata": {
        "id": "IjinrHH-j8Dm",
        "outputId": "2f039aab-07a4-401e-d396-62a21f390054",
        "colab": {
          "base_uri": "https://localhost:8080/"
        }
      },
      "execution_count": 56,
      "outputs": [
        {
          "output_type": "stream",
          "name": "stdout",
          "text": [
            "Tensor: tensor([ 10,  20,  30,  40,  50,  60,  70,  80,  90, 100])\n",
            "\n",
            "Index where max value occurs: 9\n",
            "\n",
            "Index where MIN value occurs: 0\n",
            "\n"
          ]
        }
      ]
    },
    {
      "cell_type": "markdown",
      "source": [
        "### Chane tensor datatype\n",
        "  If one #### tensor is in torch.float64 and another is in torch.float32, you might run into some errors.\n",
        "\n",
        "  * You can change the datatypes of tensors using\n",
        "    `torch.Tensor.type(dype=None)` where the `dtype` parameter is the dattype you'd like to use."
      ],
      "metadata": {
        "id": "5-f6DO0JYtg6"
      }
    },
    {
      "cell_type": "markdown",
      "source": [
        "First we'll create a tensor and check it's datatype (the default is `torch.float21`)"
      ],
      "metadata": {
        "id": "i2Z318nMZZ3o"
      }
    },
    {
      "cell_type": "code",
      "source": [
        "# Create a tensor and check its datatype\n",
        "tensor = torch.arange(10., 100.,10. )\n",
        "tensor.dtype"
      ],
      "metadata": {
        "id": "FD-YoQ1HZi-B",
        "outputId": "c660ecd7-421d-4c72-ead3-80d44d3a7c89",
        "colab": {
          "base_uri": "https://localhost:8080/"
        }
      },
      "execution_count": 57,
      "outputs": [
        {
          "output_type": "execute_result",
          "data": {
            "text/plain": [
              "torch.float32"
            ]
          },
          "metadata": {},
          "execution_count": 57
        }
      ]
    },
    {
      "cell_type": "markdown",
      "source": [
        "Now we'll create another tensor the same as before but change its datatype to `torch.float16`"
      ],
      "metadata": {
        "id": "jWxtyTypZsqS"
      }
    },
    {
      "cell_type": "code",
      "source": [
        "# Create a float15 tensor\n",
        "tensor_float16 = tensor.type(torch.float16)\n",
        "tensor_float16"
      ],
      "metadata": {
        "id": "D8-ym8xCZ0bz",
        "outputId": "94819e08-c0b7-46be-a6f2-2ab3efcc0748",
        "colab": {
          "base_uri": "https://localhost:8080/"
        }
      },
      "execution_count": 58,
      "outputs": [
        {
          "output_type": "execute_result",
          "data": {
            "text/plain": [
              "tensor([10., 20., 30., 40., 50., 60., 70., 80., 90.], dtype=torch.float16)"
            ]
          },
          "metadata": {},
          "execution_count": 58
        }
      ]
    },
    {
      "cell_type": "markdown",
      "source": [
        "\n",
        "And we can do something similar to make a `torch.int8` tensor."
      ],
      "metadata": {
        "id": "UvRnEaCyaA59"
      }
    },
    {
      "cell_type": "code",
      "source": [
        "# Create a int9 tensor\n",
        "tensor_int8 = tensor.type(torch.int8)\n",
        "tensor_int8.dtype, tensor_int8"
      ],
      "metadata": {
        "id": "TvmtZUtWcvaA",
        "outputId": "368837da-e150-4e73-8cb9-806d5e62d27e",
        "colab": {
          "base_uri": "https://localhost:8080/"
        }
      },
      "execution_count": 59,
      "outputs": [
        {
          "output_type": "execute_result",
          "data": {
            "text/plain": [
              "(torch.int8, tensor([10, 20, 30, 40, 50, 60, 70, 80, 90], dtype=torch.int8))"
            ]
          },
          "metadata": {},
          "execution_count": 59
        }
      ]
    },
    {
      "cell_type": "code",
      "source": [
        "# Convert from int 8 to flaot 32 and device is cuda\n",
        "tensor_int8_cuda = tensor_int8.type(torch.cuda.FloatTensor)\n",
        "tensor_int8_cuda.dtype, tensor_int8_cuda"
      ],
      "metadata": {
        "id": "-eyr02J1c666",
        "outputId": "4526a7ed-36cf-4872-d326-9151b04e9821",
        "colab": {
          "base_uri": "https://localhost:8080/"
        }
      },
      "execution_count": 60,
      "outputs": [
        {
          "output_type": "execute_result",
          "data": {
            "text/plain": [
              "(torch.float32,\n",
              " tensor([10., 20., 30., 40., 50., 60., 70., 80., 90.], device='cuda:0'))"
            ]
          },
          "metadata": {},
          "execution_count": 60
        }
      ]
    },
    {
      "cell_type": "code",
      "source": [
        "tensor_int8_cuda.device"
      ],
      "metadata": {
        "id": "24-2tUnId20b",
        "outputId": "df24607c-5904-4fe7-cb45-62bd52da6c24",
        "colab": {
          "base_uri": "https://localhost:8080/"
        }
      },
      "execution_count": 61,
      "outputs": [
        {
          "output_type": "execute_result",
          "data": {
            "text/plain": [
              "device(type='cuda', index=0)"
            ]
          },
          "metadata": {},
          "execution_count": 61
        }
      ]
    },
    {
      "cell_type": "markdown",
      "source": [
        "### Reshaping, stacking, squeezing and unsqueezing\n",
        "\n",
        "Often times you'll want to reshape or change the dimensions of your tensors without actually changing the values inside them."
      ],
      "metadata": {
        "id": "-ND-5tkSd9LL"
      }
    },
    {
      "cell_type": "markdown",
      "source": [
        "![image.png](data:image/png;base64,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)"
      ],
      "metadata": {
        "id": "BneFthaFtzRT"
      }
    },
    {
      "cell_type": "code",
      "source": [
        "# Create a tensor\n",
        "import torch\n",
        "x = torch.arange(1.,8.)\n",
        "x, x.shape"
      ],
      "metadata": {
        "id": "B7UWKjQXsegf",
        "outputId": "f82391b9-4a9a-40f8-9474-c3d0dc41a7cb",
        "colab": {
          "base_uri": "https://localhost:8080/"
        }
      },
      "execution_count": 62,
      "outputs": [
        {
          "output_type": "execute_result",
          "data": {
            "text/plain": [
              "(tensor([1., 2., 3., 4., 5., 6., 7.]), torch.Size([7]))"
            ]
          },
          "metadata": {},
          "execution_count": 62
        }
      ]
    },
    {
      "cell_type": "markdown",
      "source": [
        "Now let's add an extra dimension with `torch.reshape()`"
      ],
      "metadata": {
        "id": "s5rSzkvut_NP"
      }
    },
    {
      "cell_type": "code",
      "source": [
        "# Add and extra dimenstion\n",
        "x_reshaped = x.reshape(1,7)\n",
        "x_reshaped, x_reshaped.shape"
      ],
      "metadata": {
        "id": "USWNAcmNumPu",
        "outputId": "ad6c9899-5cac-442c-96e0-77bb80b2cb08",
        "colab": {
          "base_uri": "https://localhost:8080/"
        }
      },
      "execution_count": 63,
      "outputs": [
        {
          "output_type": "execute_result",
          "data": {
            "text/plain": [
              "(tensor([[1., 2., 3., 4., 5., 6., 7.]]), torch.Size([1, 7]))"
            ]
          },
          "metadata": {},
          "execution_count": 63
        }
      ]
    },
    {
      "cell_type": "markdown",
      "source": [
        "We can also change the view with `torch.view()`"
      ],
      "metadata": {
        "id": "a53sk8_wu3YH"
      }
    },
    {
      "cell_type": "code",
      "source": [
        "# Change the view (keeps same data as original but changes view)\n",
        "# See more: https://stackoverflow.com/a/54507446/7900723\n",
        "z = x.view(1,7)\n",
        "z, z.shape\n"
      ],
      "metadata": {
        "id": "_UcpGlYTvfh_",
        "outputId": "9c3ce81b-bc30-4cf1-96e9-ce8bb6881b91",
        "colab": {
          "base_uri": "https://localhost:8080/"
        }
      },
      "execution_count": 64,
      "outputs": [
        {
          "output_type": "execute_result",
          "data": {
            "text/plain": [
              "(tensor([[1., 2., 3., 4., 5., 6., 7.]]), torch.Size([1, 7]))"
            ]
          },
          "metadata": {},
          "execution_count": 64
        }
      ]
    },
    {
      "cell_type": "markdown",
      "source": [
        "Remember though, changing the view of a tensor with torch.view() really only creates a new view of the same tensor.\n",
        "\n",
        "So changing the view changes the original tensor too."
      ],
      "metadata": {
        "id": "RVUwaQb3yC1C"
      }
    },
    {
      "cell_type": "code",
      "source": [
        "# changing z changes x\n",
        "z[:,0] = 5\n",
        "z, x"
      ],
      "metadata": {
        "id": "qHmymR2E1acX",
        "outputId": "b7cb0f17-34ed-4d1d-8ffc-4a4232b0d46d",
        "colab": {
          "base_uri": "https://localhost:8080/"
        }
      },
      "execution_count": 65,
      "outputs": [
        {
          "output_type": "execute_result",
          "data": {
            "text/plain": [
              "(tensor([[5., 2., 3., 4., 5., 6., 7.]]), tensor([5., 2., 3., 4., 5., 6., 7.]))"
            ]
          },
          "metadata": {},
          "execution_count": 65
        }
      ]
    },
    {
      "cell_type": "markdown",
      "source": [
        "If we wanted to stack our new tensor on top of itself five times, we could do so with `torch.stack()`."
      ],
      "metadata": {
        "id": "yi2QM-TH1ib6"
      }
    },
    {
      "cell_type": "code",
      "source": [
        "# Stack tensors on top of each other\n",
        "x_stacked = torch.stack([x, x, x], dim = 0) #try changing dim to dim = 1 and see what happenns\n",
        "x_stacked"
      ],
      "metadata": {
        "id": "_9OPrmfb1_wB",
        "outputId": "876c9bdb-fd5b-467a-b914-40e0bb8fba3b",
        "colab": {
          "base_uri": "https://localhost:8080/"
        }
      },
      "execution_count": 66,
      "outputs": [
        {
          "output_type": "execute_result",
          "data": {
            "text/plain": [
              "tensor([[5., 2., 3., 4., 5., 6., 7.],\n",
              "        [5., 2., 3., 4., 5., 6., 7.],\n",
              "        [5., 2., 3., 4., 5., 6., 7.]])"
            ]
          },
          "metadata": {},
          "execution_count": 66
        }
      ]
    },
    {
      "cell_type": "markdown",
      "source": [
        "\n",
        "How about removing all single dimensions from a tensor?\n",
        "\n",
        "To do so you can use `torch.squeeze()` (I remember this as squeezing the tensor to only have dimensions over 1)."
      ],
      "metadata": {
        "id": "ttgbcRiL2VUj"
      }
    },
    {
      "cell_type": "code",
      "source": [
        "print(f\"Previous tensor: {x_reshaped}\\n\")\n",
        "print(f\"Previous tensor shape: {x_reshaped.shape}\\n\")\n",
        "\n",
        "# Remove extra dimension from x_reshaped\n",
        "x_squeezed = x_reshaped.squeeze()\n",
        "print(f\"New tensor: {x_squeezed}\\n\")\n",
        "print(f\"New tensor shape: {x_squeezed.shape}\\n\")"
      ],
      "metadata": {
        "id": "WtYxTojNOFst",
        "outputId": "546254b2-9566-454f-a9e6-d0677c511e0c",
        "colab": {
          "base_uri": "https://localhost:8080/"
        }
      },
      "execution_count": 67,
      "outputs": [
        {
          "output_type": "stream",
          "name": "stdout",
          "text": [
            "Previous tensor: tensor([[5., 2., 3., 4., 5., 6., 7.]])\n",
            "\n",
            "Previous tensor shape: torch.Size([1, 7])\n",
            "\n",
            "New tensor: tensor([5., 2., 3., 4., 5., 6., 7.])\n",
            "\n",
            "New tensor shape: torch.Size([7])\n",
            "\n"
          ]
        }
      ]
    },
    {
      "cell_type": "markdown",
      "source": [
        "\n",
        "And to do the reverse of `torch.squeeze()` you can use `torch.unsqueeze()`\n",
        "to add a dimension value of 1 at a specific index."
      ],
      "metadata": {
        "id": "WbF3mpJtOlpz"
      }
    },
    {
      "cell_type": "code",
      "source": [
        "print(f\"Previous tensor: {x_squeezed}\\n\")\n",
        "print(f\"Previous tensor shape: {x_squeezed.shape}\\n\")\n",
        "\n",
        "## Add an extra dimenstion with unsqueeze\n",
        "x_unsqueezed = x_squeezed.unsqueeze(dim= 0)\n",
        "print(f\"New tensor: {x_unsqueezed}\\n\")\n",
        "print(f\"New tensor shape: {x_unsqueezed.shape}\\n\")"
      ],
      "metadata": {
        "id": "L8BErcwXOwwc",
        "outputId": "a4e63f16-3f08-41f2-de19-69d21d15b660",
        "colab": {
          "base_uri": "https://localhost:8080/"
        }
      },
      "execution_count": 68,
      "outputs": [
        {
          "output_type": "stream",
          "name": "stdout",
          "text": [
            "Previous tensor: tensor([5., 2., 3., 4., 5., 6., 7.])\n",
            "\n",
            "Previous tensor shape: torch.Size([7])\n",
            "\n",
            "New tensor: tensor([[5., 2., 3., 4., 5., 6., 7.]])\n",
            "\n",
            "New tensor shape: torch.Size([1, 7])\n",
            "\n"
          ]
        }
      ]
    },
    {
      "cell_type": "markdown",
      "source": [
        "\n",
        "You can also rearrange the order of axes values with `torch.permute(input, dims)` , where the `input` gets turned into a view with new dims."
      ],
      "metadata": {
        "id": "6BykP1m4POng"
      }
    },
    {
      "cell_type": "code",
      "source": [
        "# Create tensor with specific shape\n",
        "x_original = torch.rand(size=(224,224, 3))\n",
        "\n",
        "# Permute the original tensor to rearrange the axis order\n",
        "x_permuted = x_original.permute(0,2,1) # shifts axis 0->1, 1->2, 2->0\n",
        "\n",
        "print(f\" Previous shape: {x_original.shape}\\n\")\n",
        "print(f\"New shape: {x_permuted.shape}\")"
      ],
      "metadata": {
        "id": "LSDjzyXhQw7o",
        "outputId": "e0b7e6c8-d8e7-4228-c42e-c6b7ce4f2863",
        "colab": {
          "base_uri": "https://localhost:8080/"
        }
      },
      "execution_count": 69,
      "outputs": [
        {
          "output_type": "stream",
          "name": "stdout",
          "text": [
            " Previous shape: torch.Size([224, 224, 3])\n",
            "\n",
            "New shape: torch.Size([224, 3, 224])\n"
          ]
        }
      ]
    },
    {
      "cell_type": "code",
      "source": [
        "x_original.shape"
      ],
      "metadata": {
        "id": "3IA-us1eRBLT",
        "outputId": "e9f498d2-a130-4fcf-bc09-e0a7406028df",
        "colab": {
          "base_uri": "https://localhost:8080/"
        }
      },
      "execution_count": 70,
      "outputs": [
        {
          "output_type": "execute_result",
          "data": {
            "text/plain": [
              "torch.Size([224, 224, 3])"
            ]
          },
          "metadata": {},
          "execution_count": 70
        }
      ]
    },
    {
      "cell_type": "markdown",
      "source": [
        "## **Indexing (selecting data from tensors)**\n",
        "* Sometimes you'll want to select specific data from tensors (for example, only the first column or second row).\n",
        "\n",
        "* To do so, you can use indexing.\n",
        "\n",
        "* If you've ever done indexing on Python lists or NumPy arrays, indexing in PyTorch with tensors is very similar."
      ],
      "metadata": {
        "id": "Js5yVCKfTKyp"
      }
    },
    {
      "cell_type": "code",
      "source": [
        "# Create a tensor\n",
        "\n",
        "import torch\n",
        "x= torch.arange(1,10).reshape(1,3,3)\n",
        "x, x.shape"
      ],
      "metadata": {
        "id": "dhaUh5tETsFg",
        "outputId": "70d0be84-2aac-47a6-b9e2-57c91a747856",
        "colab": {
          "base_uri": "https://localhost:8080/"
        }
      },
      "execution_count": 71,
      "outputs": [
        {
          "output_type": "execute_result",
          "data": {
            "text/plain": [
              "(tensor([[[1, 2, 3],\n",
              "          [4, 5, 6],\n",
              "          [7, 8, 9]]]),\n",
              " torch.Size([1, 3, 3]))"
            ]
          },
          "metadata": {},
          "execution_count": 71
        }
      ]
    },
    {
      "cell_type": "markdown",
      "source": [
        "Indexing values goes outer dimension -> inner dimension (check out the square brackets).\n",
        "\n"
      ],
      "metadata": {
        "id": "YwbJEUXDT9Ri"
      }
    },
    {
      "cell_type": "code",
      "source": [
        "# Let's index bracket by bracket\n",
        "print(f\"first square bracket: \\n{x[0]}\")\n",
        "print(f\"Second square bracket: \\n{x[0][0]}\")\n",
        "print(f\"Third square bracket: \\n{x[0][0][0]}\")"
      ],
      "metadata": {
        "id": "PNsneg_MUOA9",
        "outputId": "db97a763-d8ea-4693-dc7b-3715f197ac67",
        "colab": {
          "base_uri": "https://localhost:8080/"
        }
      },
      "execution_count": 72,
      "outputs": [
        {
          "output_type": "stream",
          "name": "stdout",
          "text": [
            "first square bracket: \n",
            "tensor([[1, 2, 3],\n",
            "        [4, 5, 6],\n",
            "        [7, 8, 9]])\n",
            "Second square bracket: \n",
            "tensor([1, 2, 3])\n",
            "Third square bracket: \n",
            "1\n"
          ]
        }
      ]
    },
    {
      "cell_type": "markdown",
      "source": [
        "we can also use `:` to specify \"all values in this dimension\" and then use a comma (`,`) to add another dimension.\n",
        "\n"
      ],
      "metadata": {
        "id": "nGMdrKLvUeZ3"
      }
    },
    {
      "cell_type": "code",
      "source": [
        "# Get all values of 0th dimension and the 0 index of 1st dimension\n",
        "\n",
        "x[:,  0] # row, column, data"
      ],
      "metadata": {
        "id": "w_oRysBBU3ST",
        "outputId": "389657cd-fd48-4582-c961-09e4bd8dab39",
        "colab": {
          "base_uri": "https://localhost:8080/"
        }
      },
      "execution_count": 73,
      "outputs": [
        {
          "output_type": "execute_result",
          "data": {
            "text/plain": [
              "tensor([[1, 2, 3]])"
            ]
          },
          "metadata": {},
          "execution_count": 73
        }
      ]
    },
    {
      "cell_type": "code",
      "source": [
        "# Get all values of 0th and 1st dimensions but only index 1 of 2nd dimension\n",
        "\n",
        "x[:, :, 1] #row, colum, data\n"
      ],
      "metadata": {
        "id": "a0RyFrx-VOKf",
        "outputId": "fc51a96c-74d2-4926-bb29-d9828a64988d",
        "colab": {
          "base_uri": "https://localhost:8080/"
        }
      },
      "execution_count": 74,
      "outputs": [
        {
          "output_type": "execute_result",
          "data": {
            "text/plain": [
              "tensor([[2, 5, 8]])"
            ]
          },
          "metadata": {},
          "execution_count": 74
        }
      ]
    },
    {
      "cell_type": "code",
      "source": [
        "# Get all values of the 0 dimension but only the 1 index value of 1st and 2nd dimension\n",
        "\n",
        "x[:, 1, 1 ]"
      ],
      "metadata": {
        "id": "qwyhsbbhWItA",
        "outputId": "295ee08e-836d-415c-8b49-4fc2ed191384",
        "colab": {
          "base_uri": "https://localhost:8080/"
        }
      },
      "execution_count": 75,
      "outputs": [
        {
          "output_type": "execute_result",
          "data": {
            "text/plain": [
              "tensor([5])"
            ]
          },
          "metadata": {},
          "execution_count": 75
        }
      ]
    },
    {
      "cell_type": "code",
      "source": [
        "# Get index 0 of 0th and 1st dimension and all values of 2nd dimension\n",
        "x[0, 0, :]"
      ],
      "metadata": {
        "id": "twRKoZmdWkV-",
        "outputId": "345dd2d5-d118-48f4-e688-ae4b30e98ce9",
        "colab": {
          "base_uri": "https://localhost:8080/"
        }
      },
      "execution_count": 76,
      "outputs": [
        {
          "output_type": "execute_result",
          "data": {
            "text/plain": [
              "tensor([1, 2, 3])"
            ]
          },
          "metadata": {},
          "execution_count": 76
        }
      ]
    },
    {
      "cell_type": "markdown",
      "source": [
        "## torch.index_select"
      ],
      "metadata": {
        "id": "bLrer1-OZZvq"
      }
    },
    {
      "cell_type": "code",
      "source": [
        "torch.manual_seed= 42\n",
        "y = torch.randn(3, 4)\n",
        "y\n"
      ],
      "metadata": {
        "id": "jFJxQNjlXABJ",
        "outputId": "48558950-e5e3-47af-a6c6-93e641f51aa3",
        "colab": {
          "base_uri": "https://localhost:8080/"
        }
      },
      "execution_count": 77,
      "outputs": [
        {
          "output_type": "execute_result",
          "data": {
            "text/plain": [
              "tensor([[-1.0899, -0.7525, -0.1329, -1.4010],\n",
              "        [-0.6268,  3.1704,  1.6369,  0.7558],\n",
              "        [ 0.5320,  1.3494,  0.8113,  1.5831]])"
            ]
          },
          "metadata": {},
          "execution_count": 77
        }
      ]
    },
    {
      "cell_type": "code",
      "source": [
        "indices = torch.tensor([0, 2])\n",
        "torch.index_select(y, 0, indices)\n",
        "#torch.index_select(y, 1, indices)"
      ],
      "metadata": {
        "id": "vwqjrhuxYlZi",
        "outputId": "b4dab029-add6-4414-e860-5fbca0bf6162",
        "colab": {
          "base_uri": "https://localhost:8080/"
        }
      },
      "execution_count": 78,
      "outputs": [
        {
          "output_type": "execute_result",
          "data": {
            "text/plain": [
              "tensor([[-1.0899, -0.7525, -0.1329, -1.4010],\n",
              "        [ 0.5320,  1.3494,  0.8113,  1.5831]])"
            ]
          },
          "metadata": {},
          "execution_count": 78
        }
      ]
    },
    {
      "cell_type": "code",
      "source": [
        "torch.index_select(x, 1, indices)\n"
      ],
      "metadata": {
        "id": "ZT6hpYF6Y1YE",
        "outputId": "c71d66dd-3cb4-4643-b3d6-660cc1be9c7b",
        "colab": {
          "base_uri": "https://localhost:8080/"
        }
      },
      "execution_count": 79,
      "outputs": [
        {
          "output_type": "execute_result",
          "data": {
            "text/plain": [
              "tensor([[[1, 2, 3],\n",
              "         [7, 8, 9]]])"
            ]
          },
          "metadata": {},
          "execution_count": 79
        }
      ]
    },
    {
      "cell_type": "markdown",
      "source": [
        "Indexing can be quite confusing to begin with, especially with larger tensors (I still have to try indexing multiple times to get it right). But with a bit of practice and following the data explorer's motto (visualize, visualize, visualize), you'll start to get the hang of it."
      ],
      "metadata": {
        "id": "d3y2zgFSaSLz"
      }
    },
    {
      "cell_type": "markdown",
      "source": [
        "## **Pytorch tensors and NumPy**\n",
        "\n",
        "The two main methods you'll want to use for NumPy to PyTorch (and back again) are:\n",
        "\n",
        "* `torch.from_numpy(ndarray)` - NumPy array -> PyTorch tensor\n",
        "* `torch.Tensor.numpy()` -  PyTorch tensor -> NumPy array\n"
      ],
      "metadata": {
        "id": "9-ndHgJDZefj"
      }
    },
    {
      "cell_type": "code",
      "source": [
        "# NumPy array to tensor\n",
        "import torch\n",
        "import numpy as np\n",
        "array = np.arange(1,8)\n",
        "tensor = torch.from_numpy(array)\n",
        "\n",
        "array, tensor"
      ],
      "metadata": {
        "id": "GbXT2WeFbRQf",
        "outputId": "4e1f9ac4-ad34-410e-c7dd-baaa6994d866",
        "colab": {
          "base_uri": "https://localhost:8080/"
        }
      },
      "execution_count": 80,
      "outputs": [
        {
          "output_type": "execute_result",
          "data": {
            "text/plain": [
              "(array([1, 2, 3, 4, 5, 6, 7]), tensor([1, 2, 3, 4, 5, 6, 7]))"
            ]
          },
          "metadata": {},
          "execution_count": 80
        }
      ]
    },
    {
      "cell_type": "code",
      "source": [
        "tensor.dtype"
      ],
      "metadata": {
        "id": "alAqLoPnbg5w",
        "outputId": "4aea10b7-5bd2-4e9c-d7ca-e8831732afa1",
        "colab": {
          "base_uri": "https://localhost:8080/"
        }
      },
      "execution_count": 81,
      "outputs": [
        {
          "output_type": "execute_result",
          "data": {
            "text/plain": [
              "torch.int64"
            ]
          },
          "metadata": {},
          "execution_count": 81
        }
      ]
    },
    {
      "cell_type": "markdown",
      "source": [
        "#### To convert the datatype made by numpy to tensor float 32, use this:\n",
        "`tensor = torch.from_numpy(array).type(torch.float32)`"
      ],
      "metadata": {
        "id": "V1VrDxhhbmLh"
      }
    },
    {
      "cell_type": "code",
      "source": [
        "# Change the array , keep the tensor\n",
        "array = array+1\n",
        "array, tensor"
      ],
      "metadata": {
        "id": "GcZkYw_kb3BF",
        "outputId": "d3d6e84a-5232-40b3-d56d-dd7bb2e5dbcb",
        "colab": {
          "base_uri": "https://localhost:8080/"
        }
      },
      "execution_count": 82,
      "outputs": [
        {
          "output_type": "execute_result",
          "data": {
            "text/plain": [
              "(array([2, 3, 4, 5, 6, 7, 8]), tensor([1, 2, 3, 4, 5, 6, 7]))"
            ]
          },
          "metadata": {},
          "execution_count": 82
        }
      ]
    },
    {
      "cell_type": "markdown",
      "source": [
        "And if you want to go from PyTorch tensor to NumPy array, you can call `tensor.numpy()`.\n",
        "\n"
      ],
      "metadata": {
        "id": "XSHg7R6wcEJW"
      }
    },
    {
      "cell_type": "code",
      "source": [
        "# Tensor to NumPy array\n",
        "\n",
        "tensor = torch.arange(1,9) # create random tensor from 1 to 8\n",
        "numpy_tensor = tensor.numpy() # will be dype=float32 unless changed\n",
        "tensor, numpy_tensor"
      ],
      "metadata": {
        "id": "5dZqeRHCcKuJ",
        "outputId": "1a5b3a3d-3e14-4ec7-f1cd-48d26e5806dc",
        "colab": {
          "base_uri": "https://localhost:8080/"
        }
      },
      "execution_count": 83,
      "outputs": [
        {
          "output_type": "execute_result",
          "data": {
            "text/plain": [
              "(tensor([1, 2, 3, 4, 5, 6, 7, 8]), array([1, 2, 3, 4, 5, 6, 7, 8]))"
            ]
          },
          "metadata": {},
          "execution_count": 83
        }
      ]
    },
    {
      "cell_type": "markdown",
      "source": [
        "\n",
        "And the same rule applies as above, if you change the original `tensor`, the new `numpy_tensor` stays the same."
      ],
      "metadata": {
        "id": "yA0XU_xUcV-R"
      }
    },
    {
      "cell_type": "code",
      "source": [
        "# Change the tensor, keep the array the same\n",
        "tensor = tensor + 1\n",
        "tensor, numpy_tensor"
      ],
      "metadata": {
        "id": "_BerVB0jdJzK",
        "outputId": "a36540d0-ca9b-4bc4-d4fc-4cda88e4c767",
        "colab": {
          "base_uri": "https://localhost:8080/"
        }
      },
      "execution_count": 84,
      "outputs": [
        {
          "output_type": "execute_result",
          "data": {
            "text/plain": [
              "(tensor([2, 3, 4, 5, 6, 7, 8, 9]), array([1, 2, 3, 4, 5, 6, 7, 8]))"
            ]
          },
          "metadata": {},
          "execution_count": 84
        }
      ]
    },
    {
      "cell_type": "markdown",
      "source": [
        "## **Reproducibility (trying to take the random out of random)**\n"
      ],
      "metadata": {
        "id": "QUtJ1HnKdLNp"
      }
    },
    {
      "cell_type": "code",
      "source": [
        "import torch\n",
        "\n",
        "# Create two random tensors\n",
        "random_tensor_A = torch.rand(3,4)\n",
        "random_tensor_B = torch.rand(3,4)\n",
        "\n",
        "print(f\"Tensor A: \\n {random_tensor_A}\\n\")\n",
        "print(f\"Tensor B: \\n {random_tensor_B}\\n\")\n",
        "print(f\"Does tensor A equal tensor B? (anywhere)\")\n",
        "random_tensor_A == random_tensor_B"
      ],
      "metadata": {
        "id": "09NX0f_3d0Wy",
        "outputId": "0f34d9a1-302a-4caf-dcfe-1e89601881b5",
        "colab": {
          "base_uri": "https://localhost:8080/"
        }
      },
      "execution_count": 85,
      "outputs": [
        {
          "output_type": "stream",
          "name": "stdout",
          "text": [
            "Tensor A: \n",
            " tensor([[0.4436, 0.9726, 0.5194, 0.5337],\n",
            "        [0.7050, 0.3362, 0.7891, 0.1694],\n",
            "        [0.1800, 0.7177, 0.6988, 0.5510]])\n",
            "\n",
            "Tensor B: \n",
            " tensor([[0.2485, 0.8518, 0.0963, 0.1338],\n",
            "        [0.2741, 0.6142, 0.8973, 0.3629],\n",
            "        [0.1748, 0.2401, 0.5457, 0.7303]])\n",
            "\n",
            "Does tensor A equal tensor B? (anywhere)\n"
          ]
        },
        {
          "output_type": "execute_result",
          "data": {
            "text/plain": [
              "tensor([[False, False, False, False],\n",
              "        [False, False, False, False],\n",
              "        [False, False, False, False]])"
            ]
          },
          "metadata": {},
          "execution_count": 85
        }
      ]
    },
    {
      "cell_type": "code",
      "source": [
        "import torch\n",
        "import random\n",
        "\n",
        "# Ser the random seed\n",
        "torch.manual_seed(42)\n",
        "\n",
        "random_tensor_C = torch.rand(3,4)\n",
        "\n",
        "# have to reset the seed every time a new rand() is called\n",
        "# Without this , tendor_D would be different to tensor_C\n",
        "torch.manual_seed(42)\n",
        "\n",
        "random_tensor_D = torch.rand(3,4)\n",
        "\n",
        "print(f\"Tensor_ C: \\n {random_tensor_C}\\n\")\n",
        "print(f\"Tensor_ D: \\n {random_tensor_D}\\n\")\n",
        "print(f\"Does tensor c and D equal anywhere?\")\n",
        "random_tensor_C == random_tensor_D"
      ],
      "metadata": {
        "id": "uTh1bN0IoAkC",
        "outputId": "cf4a179d-0cee-4add-f39c-c9eebb295eb7",
        "colab": {
          "base_uri": "https://localhost:8080/",
          "height": 211
        }
      },
      "execution_count": 86,
      "outputs": [
        {
          "output_type": "error",
          "ename": "TypeError",
          "evalue": "'int' object is not callable",
          "traceback": [
            "\u001b[0;31m---------------------------------------------------------------------------\u001b[0m",
            "\u001b[0;31mTypeError\u001b[0m                                 Traceback (most recent call last)",
            "\u001b[0;32m<ipython-input-86-801e4935e42c>\u001b[0m in \u001b[0;36m<cell line: 0>\u001b[0;34m()\u001b[0m\n\u001b[1;32m      3\u001b[0m \u001b[0;34m\u001b[0m\u001b[0m\n\u001b[1;32m      4\u001b[0m \u001b[0;31m# Ser the random seed\u001b[0m\u001b[0;34m\u001b[0m\u001b[0;34m\u001b[0m\u001b[0m\n\u001b[0;32m----> 5\u001b[0;31m \u001b[0mtorch\u001b[0m\u001b[0;34m.\u001b[0m\u001b[0mmanual_seed\u001b[0m\u001b[0;34m(\u001b[0m\u001b[0;36m42\u001b[0m\u001b[0;34m)\u001b[0m\u001b[0;34m\u001b[0m\u001b[0;34m\u001b[0m\u001b[0m\n\u001b[0m\u001b[1;32m      6\u001b[0m \u001b[0;34m\u001b[0m\u001b[0m\n\u001b[1;32m      7\u001b[0m \u001b[0mrandom_tensor_C\u001b[0m \u001b[0;34m=\u001b[0m \u001b[0mtorch\u001b[0m\u001b[0;34m.\u001b[0m\u001b[0mrand\u001b[0m\u001b[0;34m(\u001b[0m\u001b[0;36m3\u001b[0m\u001b[0;34m,\u001b[0m\u001b[0;36m4\u001b[0m\u001b[0;34m)\u001b[0m\u001b[0;34m\u001b[0m\u001b[0;34m\u001b[0m\u001b[0m\n",
            "\u001b[0;31mTypeError\u001b[0m: 'int' object is not callable"
          ]
        }
      ]
    },
    {
      "cell_type": "code",
      "source": [],
      "metadata": {
        "id": "-AdRvzshpCU2"
      },
      "execution_count": null,
      "outputs": []
    }
  ]
}