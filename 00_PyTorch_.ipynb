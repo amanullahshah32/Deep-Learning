{
  "nbformat": 4,
  "nbformat_minor": 0,
  "metadata": {
    "colab": {
      "provenance": [],
      "gpuType": "T4",
      "authorship_tag": "ABX9TyOrX4u779ZIbwfLHMKpi5MI",
      "include_colab_link": true
    },
    "kernelspec": {
      "name": "python3",
      "display_name": "Python 3"
    },
    "language_info": {
      "name": "python"
    },
    "accelerator": "GPU"
  },
  "cells": [
    {
      "cell_type": "markdown",
      "metadata": {
        "id": "view-in-github",
        "colab_type": "text"
      },
      "source": [
        "<a href=\"https://colab.research.google.com/github/amanullahshah32/Deep-Learning/blob/main/00_PyTorch_.ipynb\" target=\"_parent\"><img src=\"https://colab.research.google.com/assets/colab-badge.svg\" alt=\"Open In Colab\"/></a>"
      ]
    },
    {
      "cell_type": "code",
      "execution_count": 1,
      "metadata": {
        "colab": {
          "base_uri": "https://localhost:8080/"
        },
        "id": "XV1FwXcRMeTp",
        "outputId": "01bb6486-b1cf-437e-aca8-28db0eb8f07c"
      },
      "outputs": [
        {
          "output_type": "stream",
          "name": "stdout",
          "text": [
            "hello\n"
          ]
        }
      ],
      "source": [
        "print(\"hello\")"
      ]
    },
    {
      "cell_type": "code",
      "source": [
        "!nvidia-smi"
      ],
      "metadata": {
        "colab": {
          "base_uri": "https://localhost:8080/"
        },
        "id": "oUIxLT9qMsex",
        "outputId": "83101526-6fe8-4502-f24d-0be54864624d"
      },
      "execution_count": 2,
      "outputs": [
        {
          "output_type": "stream",
          "name": "stdout",
          "text": [
            "Mon Jul  8 20:13:03 2024       \n",
            "+---------------------------------------------------------------------------------------+\n",
            "| NVIDIA-SMI 535.104.05             Driver Version: 535.104.05   CUDA Version: 12.2     |\n",
            "|-----------------------------------------+----------------------+----------------------+\n",
            "| GPU  Name                 Persistence-M | Bus-Id        Disp.A | Volatile Uncorr. ECC |\n",
            "| Fan  Temp   Perf          Pwr:Usage/Cap |         Memory-Usage | GPU-Util  Compute M. |\n",
            "|                                         |                      |               MIG M. |\n",
            "|=========================================+======================+======================|\n",
            "|   0  Tesla T4                       Off | 00000000:00:04.0 Off |                    0 |\n",
            "| N/A   47C    P8              10W /  70W |      0MiB / 15360MiB |      0%      Default |\n",
            "|                                         |                      |                  N/A |\n",
            "+-----------------------------------------+----------------------+----------------------+\n",
            "                                                                                         \n",
            "+---------------------------------------------------------------------------------------+\n",
            "| Processes:                                                                            |\n",
            "|  GPU   GI   CI        PID   Type   Process name                            GPU Memory |\n",
            "|        ID   ID                                                             Usage      |\n",
            "|=======================================================================================|\n",
            "|  No running processes found                                                           |\n",
            "+---------------------------------------------------------------------------------------+\n"
          ]
        }
      ]
    },
    {
      "cell_type": "code",
      "source": [
        "import torch\n",
        "print(torch.__version__)"
      ],
      "metadata": {
        "colab": {
          "base_uri": "https://localhost:8080/"
        },
        "id": "Or67kqvaMv0R",
        "outputId": "17c10c8a-2a95-4187-a7fb-15eddf1110ab"
      },
      "execution_count": 3,
      "outputs": [
        {
          "output_type": "stream",
          "name": "stdout",
          "text": [
            "2.3.0+cu121\n"
          ]
        }
      ]
    },
    {
      "cell_type": "code",
      "source": [
        "import pandas as pd\n",
        "import numpy as np\n",
        "import matplotlib.pyplot as plt"
      ],
      "metadata": {
        "id": "UplBsPCZNnHw"
      },
      "execution_count": 4,
      "outputs": []
    },
    {
      "cell_type": "markdown",
      "source": [
        "# Introduction to Tensors\n",
        "\n",
        "### creating tensors"
      ],
      "metadata": {
        "id": "2D94XquXPIRn"
      }
    },
    {
      "cell_type": "code",
      "source": [
        "# scalar\n",
        "scalar = torch.tensor(7)\n",
        "scalar"
      ],
      "metadata": {
        "colab": {
          "base_uri": "https://localhost:8080/"
        },
        "id": "YjneGEJQOEyJ",
        "outputId": "ae2ec308-6d31-41fe-db4b-50f13efab4e6"
      },
      "execution_count": 5,
      "outputs": [
        {
          "output_type": "execute_result",
          "data": {
            "text/plain": [
              "tensor(7)"
            ]
          },
          "metadata": {},
          "execution_count": 5
        }
      ]
    },
    {
      "cell_type": "code",
      "source": [
        "scalar.ndim"
      ],
      "metadata": {
        "colab": {
          "base_uri": "https://localhost:8080/"
        },
        "id": "GZ5H3eEqPDmd",
        "outputId": "f3979b5d-0826-4133-ffd7-ab0b82808cf8"
      },
      "execution_count": 6,
      "outputs": [
        {
          "output_type": "execute_result",
          "data": {
            "text/plain": [
              "0"
            ]
          },
          "metadata": {},
          "execution_count": 6
        }
      ]
    },
    {
      "cell_type": "code",
      "source": [
        "# get tensor back as python int\n",
        "scalar.item()"
      ],
      "metadata": {
        "colab": {
          "base_uri": "https://localhost:8080/"
        },
        "id": "TlIRSP2eQk1s",
        "outputId": "b96644ff-2765-4cfe-f654-4d2a0a8387be"
      },
      "execution_count": 7,
      "outputs": [
        {
          "output_type": "execute_result",
          "data": {
            "text/plain": [
              "7"
            ]
          },
          "metadata": {},
          "execution_count": 7
        }
      ]
    },
    {
      "cell_type": "code",
      "source": [
        "# vector\n",
        "vector = torch.tensor([7,7])\n",
        "vector"
      ],
      "metadata": {
        "colab": {
          "base_uri": "https://localhost:8080/"
        },
        "id": "8DvLmDMfQsBw",
        "outputId": "bc5c61e4-fd88-4654-de6c-369167b04490"
      },
      "execution_count": 8,
      "outputs": [
        {
          "output_type": "execute_result",
          "data": {
            "text/plain": [
              "tensor([7, 7])"
            ]
          },
          "metadata": {},
          "execution_count": 8
        }
      ]
    },
    {
      "cell_type": "code",
      "source": [
        "vector.ndim"
      ],
      "metadata": {
        "colab": {
          "base_uri": "https://localhost:8080/"
        },
        "id": "AeS2y7OsQ2e7",
        "outputId": "052e8abc-3116-4f0e-c874-e1eccd48a544"
      },
      "execution_count": 9,
      "outputs": [
        {
          "output_type": "execute_result",
          "data": {
            "text/plain": [
              "1"
            ]
          },
          "metadata": {},
          "execution_count": 9
        }
      ]
    },
    {
      "cell_type": "code",
      "source": [
        "vector.shape"
      ],
      "metadata": {
        "colab": {
          "base_uri": "https://localhost:8080/"
        },
        "id": "0atJtn7iRABD",
        "outputId": "d935b85d-2f65-4fc7-d5a8-df037b6982f0"
      },
      "execution_count": 10,
      "outputs": [
        {
          "output_type": "execute_result",
          "data": {
            "text/plain": [
              "torch.Size([2])"
            ]
          },
          "metadata": {},
          "execution_count": 10
        }
      ]
    },
    {
      "cell_type": "code",
      "source": [
        "# MATRIX\n",
        "\n",
        "MATRIX = torch.tensor([[7, 8], [8, 10]])\n",
        "MATRIX"
      ],
      "metadata": {
        "colab": {
          "base_uri": "https://localhost:8080/"
        },
        "id": "4NfcrGdzRFRM",
        "outputId": "b8c27831-d269-4a95-bdff-f79cd295043f"
      },
      "execution_count": 11,
      "outputs": [
        {
          "output_type": "execute_result",
          "data": {
            "text/plain": [
              "tensor([[ 7,  8],\n",
              "        [ 8, 10]])"
            ]
          },
          "metadata": {},
          "execution_count": 11
        }
      ]
    },
    {
      "cell_type": "code",
      "source": [
        "MATRIX.ndim"
      ],
      "metadata": {
        "colab": {
          "base_uri": "https://localhost:8080/"
        },
        "id": "hDIm5SibRWQg",
        "outputId": "0ddbd04c-fec9-4cc8-9019-0de552e7c5cb"
      },
      "execution_count": 12,
      "outputs": [
        {
          "output_type": "execute_result",
          "data": {
            "text/plain": [
              "2"
            ]
          },
          "metadata": {},
          "execution_count": 12
        }
      ]
    },
    {
      "cell_type": "code",
      "source": [
        "MATRIX[1]"
      ],
      "metadata": {
        "colab": {
          "base_uri": "https://localhost:8080/"
        },
        "id": "Kcv14ilGReuk",
        "outputId": "3bc5b617-6905-4a85-a817-019d8be642d6"
      },
      "execution_count": 13,
      "outputs": [
        {
          "output_type": "execute_result",
          "data": {
            "text/plain": [
              "tensor([ 8, 10])"
            ]
          },
          "metadata": {},
          "execution_count": 13
        }
      ]
    },
    {
      "cell_type": "code",
      "source": [
        "MATRIX.shape"
      ],
      "metadata": {
        "colab": {
          "base_uri": "https://localhost:8080/"
        },
        "id": "M5L2ml2qRghE",
        "outputId": "ab982ddb-b1e6-4097-c180-6926aa6f9f60"
      },
      "execution_count": 14,
      "outputs": [
        {
          "output_type": "execute_result",
          "data": {
            "text/plain": [
              "torch.Size([2, 2])"
            ]
          },
          "metadata": {},
          "execution_count": 14
        }
      ]
    },
    {
      "cell_type": "code",
      "source": [
        "# TENSOR\n",
        "TENSOR = torch.tensor([[[1,2,3],\n",
        "                        [3,6,9],\n",
        "                        [2,4,5]]])\n",
        "TENSOR"
      ],
      "metadata": {
        "colab": {
          "base_uri": "https://localhost:8080/"
        },
        "id": "IfHWxZLxRmqp",
        "outputId": "e6ac6485-b2ba-4f4c-a713-416418b96953"
      },
      "execution_count": 15,
      "outputs": [
        {
          "output_type": "execute_result",
          "data": {
            "text/plain": [
              "tensor([[[1, 2, 3],\n",
              "         [3, 6, 9],\n",
              "         [2, 4, 5]]])"
            ]
          },
          "metadata": {},
          "execution_count": 15
        }
      ]
    },
    {
      "cell_type": "code",
      "source": [
        "TENSOR.ndim"
      ],
      "metadata": {
        "colab": {
          "base_uri": "https://localhost:8080/"
        },
        "id": "KrEBYPn-R4x3",
        "outputId": "d2c83b7d-921b-4e7f-91d1-243787694f89"
      },
      "execution_count": 16,
      "outputs": [
        {
          "output_type": "execute_result",
          "data": {
            "text/plain": [
              "3"
            ]
          },
          "metadata": {},
          "execution_count": 16
        }
      ]
    },
    {
      "cell_type": "code",
      "source": [
        "TENSOR.shape"
      ],
      "metadata": {
        "colab": {
          "base_uri": "https://localhost:8080/"
        },
        "id": "145DO0DsSXN7",
        "outputId": "38e3cd10-f6f3-4287-a0b7-7152e35edf1f"
      },
      "execution_count": 17,
      "outputs": [
        {
          "output_type": "execute_result",
          "data": {
            "text/plain": [
              "torch.Size([1, 3, 3])"
            ]
          },
          "metadata": {},
          "execution_count": 17
        }
      ]
    },
    {
      "cell_type": "code",
      "source": [
        "TENSOR[0]"
      ],
      "metadata": {
        "colab": {
          "base_uri": "https://localhost:8080/"
        },
        "id": "SP7Efhx_SYTX",
        "outputId": "d779e242-d9b0-4f7e-bfb4-25471dbb46eb"
      },
      "execution_count": 18,
      "outputs": [
        {
          "output_type": "execute_result",
          "data": {
            "text/plain": [
              "tensor([[1, 2, 3],\n",
              "        [3, 6, 9],\n",
              "        [2, 4, 5]])"
            ]
          },
          "metadata": {},
          "execution_count": 18
        }
      ]
    },
    {
      "cell_type": "code",
      "source": [
        "# create a random tensor of size (3,4)\n",
        "\n",
        "random_tensor = torch.rand(size=(3,4))\n",
        "random_tensor, random_tensor.dtype, random_tensor.shape, random_tensor.ndim"
      ],
      "metadata": {
        "id": "Lonv10MUSh6T",
        "outputId": "94f08c8d-0163-4a2a-f5c9-97ff823f8640",
        "colab": {
          "base_uri": "https://localhost:8080/"
        }
      },
      "execution_count": 19,
      "outputs": [
        {
          "output_type": "execute_result",
          "data": {
            "text/plain": [
              "(tensor([[0.2657, 0.1862, 0.2750, 0.2482],\n",
              "         [0.3525, 0.0588, 0.8231, 0.4848],\n",
              "         [0.3123, 0.0972, 0.2471, 0.4673]]),\n",
              " torch.float32,\n",
              " torch.Size([3, 4]),\n",
              " 2)"
            ]
          },
          "metadata": {},
          "execution_count": 19
        }
      ]
    },
    {
      "cell_type": "code",
      "source": [
        "#create  arandom tensor of size (224, 224, 3)\n",
        "random_image_size_tensor = torch.rand(size=(3,224,224))\n",
        "random_image_size_tensor.shape, random_image_size_tensor.ndim"
      ],
      "metadata": {
        "id": "FHpuN2Adgy9K",
        "outputId": "aca56498-08a7-4952-86ce-64a988d50104",
        "colab": {
          "base_uri": "https://localhost:8080/"
        }
      },
      "execution_count": 20,
      "outputs": [
        {
          "output_type": "execute_result",
          "data": {
            "text/plain": [
              "(torch.Size([3, 224, 224]), 3)"
            ]
          },
          "metadata": {},
          "execution_count": 20
        }
      ]
    },
    {
      "cell_type": "markdown",
      "source": [
        "### Zeros and Ones"
      ],
      "metadata": {
        "id": "vCmF-c5thlb5"
      }
    },
    {
      "cell_type": "code",
      "source": [
        "# Create a tensor of all zeros\n",
        "zeros = torch.zeros(size=(3,4))\n",
        "zeros, zeros.dtype"
      ],
      "metadata": {
        "id": "ZyhqBP63hsr-",
        "outputId": "f3fd5c00-d823-4df2-8ade-df2b1b163635",
        "colab": {
          "base_uri": "https://localhost:8080/"
        }
      },
      "execution_count": 21,
      "outputs": [
        {
          "output_type": "execute_result",
          "data": {
            "text/plain": [
              "(tensor([[0., 0., 0., 0.],\n",
              "         [0., 0., 0., 0.],\n",
              "         [0., 0., 0., 0.]]),\n",
              " torch.float32)"
            ]
          },
          "metadata": {},
          "execution_count": 21
        }
      ]
    },
    {
      "cell_type": "code",
      "source": [
        "#create tensor of all ones\n",
        "ones = torch.ones(size=(3,4))\n",
        "ones, ones.dtype, ones.shape, ones.ndim"
      ],
      "metadata": {
        "id": "7QDREvKRh7ek",
        "outputId": "ddcb9c11-09e3-4be6-f275-a5393ac5a15f",
        "colab": {
          "base_uri": "https://localhost:8080/"
        }
      },
      "execution_count": 22,
      "outputs": [
        {
          "output_type": "execute_result",
          "data": {
            "text/plain": [
              "(tensor([[1., 1., 1., 1.],\n",
              "         [1., 1., 1., 1.],\n",
              "         [1., 1., 1., 1.]]),\n",
              " torch.float32,\n",
              " torch.Size([3, 4]),\n",
              " 2)"
            ]
          },
          "metadata": {},
          "execution_count": 22
        }
      ]
    },
    {
      "cell_type": "markdown",
      "source": [
        "### Creating a range and tensors like"
      ],
      "metadata": {
        "id": "EKgwFxlPiKyM"
      }
    },
    {
      "cell_type": "code",
      "source": [
        "### torch.arange(start, end, step)\n",
        "\n",
        "zero_to_ten_deprecated = torch.range(0,10)"
      ],
      "metadata": {
        "id": "3gGvfaegjF7c",
        "outputId": "f410c4a6-822e-48bf-cc52-6933bc67a7fe",
        "colab": {
          "base_uri": "https://localhost:8080/"
        }
      },
      "execution_count": 23,
      "outputs": [
        {
          "output_type": "stream",
          "name": "stderr",
          "text": [
            "<ipython-input-23-91604a08e85a>:3: UserWarning: torch.range is deprecated and will be removed in a future release because its behavior is inconsistent with Python's range builtin. Instead, use torch.arange, which produces values in [start, end).\n",
            "  zero_to_ten_deprecated = torch.range(0,10)\n"
          ]
        }
      ]
    },
    {
      "cell_type": "code",
      "source": [
        "# create a range of values 0 to 10\n",
        "zero_to_ten= torch.arange(start=0, end=11, step=1)\n",
        "zero_to_ten"
      ],
      "metadata": {
        "id": "8sgRwArMkPTW",
        "outputId": "52b97121-374d-4e6c-ef4f-21cb178b6d10",
        "colab": {
          "base_uri": "https://localhost:8080/"
        }
      },
      "execution_count": 24,
      "outputs": [
        {
          "output_type": "execute_result",
          "data": {
            "text/plain": [
              "tensor([ 0,  1,  2,  3,  4,  5,  6,  7,  8,  9, 10])"
            ]
          },
          "metadata": {},
          "execution_count": 24
        }
      ]
    },
    {
      "cell_type": "markdown",
      "source": [
        "torch.zeros_like(input) or torch.ones_like(input) which return a tensor filled with zeros or ones in the same shape as the input respectively."
      ],
      "metadata": {
        "id": "KqTLBNXrkcMR"
      }
    },
    {
      "cell_type": "code",
      "source": [
        "# Can also create a tensor of zeros similar to another tensor\n",
        "ten_zeros = torch.zeros_like(input=zero_to_ten)\n",
        "ten_zeros"
      ],
      "metadata": {
        "id": "4JdJZ4bjkwet",
        "outputId": "1b27623a-2ab6-4e50-9908-6dd089197cbe",
        "colab": {
          "base_uri": "https://localhost:8080/"
        }
      },
      "execution_count": 25,
      "outputs": [
        {
          "output_type": "execute_result",
          "data": {
            "text/plain": [
              "tensor([0, 0, 0, 0, 0, 0, 0, 0, 0, 0, 0])"
            ]
          },
          "metadata": {},
          "execution_count": 25
        }
      ]
    },
    {
      "cell_type": "code",
      "source": [
        "# Can also create a tensor of ones similar to another tensor\n",
        "ten_ones = torch.ones_like(input=zero_to_ten)\n",
        "ten_ones"
      ],
      "metadata": {
        "id": "f_VXxe84lFER",
        "outputId": "89427513-d9a6-4c28-9e35-397e26c5094c",
        "colab": {
          "base_uri": "https://localhost:8080/"
        }
      },
      "execution_count": 26,
      "outputs": [
        {
          "output_type": "execute_result",
          "data": {
            "text/plain": [
              "tensor([1, 1, 1, 1, 1, 1, 1, 1, 1, 1, 1])"
            ]
          },
          "metadata": {},
          "execution_count": 26
        }
      ]
    },
    {
      "cell_type": "markdown",
      "source": [
        "### Tensor Datatypes"
      ],
      "metadata": {
        "id": "mjHZv56BlYam"
      }
    },
    {
      "cell_type": "code",
      "source": [
        "# default datatype for tensors is float32\n",
        "\n",
        "float_32_tensor = torch.tensor([3.0, 6.0, 9.0],\n",
        "                              dtype=None, # defaults to None, which is torch.float32 or whatever datatype is passed\n",
        "                               device=None, # defaults to None, which uses the default tensor type\n",
        "                               requires_grad=False) # if True, operations performed on the tensor are recorded\n",
        "\n",
        "float_32_tensor.shape, float_32_tensor.dtype, float_32_tensor.device"
      ],
      "metadata": {
        "id": "BQM3jgz3fI1C",
        "outputId": "a0c81893-2b0b-4c78-be51-8813bc524e91",
        "colab": {
          "base_uri": "https://localhost:8080/"
        }
      },
      "execution_count": 27,
      "outputs": [
        {
          "output_type": "execute_result",
          "data": {
            "text/plain": [
              "(torch.Size([3]), torch.float32, device(type='cpu'))"
            ]
          },
          "metadata": {},
          "execution_count": 27
        }
      ]
    },
    {
      "cell_type": "code",
      "source": [
        "# float 16 datatypes tensor\n",
        "float_16_tensor = torch.tensor([3.0, 5.0, 8.0],\n",
        "                               dtype = torch.float16) #torch.half would also  work\n",
        "float_16_tensor.dtype"
      ],
      "metadata": {
        "id": "4JQFyhkyfH9l",
        "outputId": "58fa9544-0826-45fc-cd46-834c6e977051",
        "colab": {
          "base_uri": "https://localhost:8080/"
        }
      },
      "execution_count": 28,
      "outputs": [
        {
          "output_type": "execute_result",
          "data": {
            "text/plain": [
              "torch.float16"
            ]
          },
          "metadata": {},
          "execution_count": 28
        }
      ]
    },
    {
      "cell_type": "markdown",
      "source": [
        "### Getting information from tensors"
      ],
      "metadata": {
        "id": "Upx9_sL8fHDe"
      }
    },
    {
      "cell_type": "code",
      "source": [
        "# Default datatype for tensors is float32\n",
        "float_32_tensor = torch.tensor([3.0, 6.0, 9.0],\n",
        "                               dtype=None, # defaults to None, which is torch.float32 or whatever datatype is passed\n",
        "                               device=None, # defaults to None, which uses the default tensor type\n",
        "                               requires_grad=False) # if True, operations performed on the tensor are recorded\n",
        "\n",
        "float_32_tensor.shape, float_32_tensor.dtype, float_32_tensor.device"
      ],
      "metadata": {
        "id": "CozUwy_Gogrw",
        "outputId": "daf9976d-db40-4a22-c9e0-3ca1990b0fe7",
        "colab": {
          "base_uri": "https://localhost:8080/"
        }
      },
      "execution_count": 29,
      "outputs": [
        {
          "output_type": "execute_result",
          "data": {
            "text/plain": [
              "(torch.Size([3]), torch.float32, device(type='cpu'))"
            ]
          },
          "metadata": {},
          "execution_count": 29
        }
      ]
    },
    {
      "cell_type": "markdown",
      "source": [
        "## *Manipulating Tnesors (tensor operation)*\n",
        "\n",
        "1. Addition\n",
        "2. Substraction\n",
        "3. Multiplication\n",
        "4. Division\n",
        "5. Matrix Multiplication"
      ],
      "metadata": {
        "id": "z2nDDJjgRdfo"
      }
    },
    {
      "cell_type": "markdown",
      "source": [
        "### Basic Operations"
      ],
      "metadata": {
        "id": "Gh2Wxnbvb6B2"
      }
    },
    {
      "cell_type": "code",
      "source": [
        "# Create a tensor of values and add a number to it\n",
        "tensor = torch.tensor([11,12,13])\n",
        "tensor.shape"
      ],
      "metadata": {
        "id": "InvcA59hR015",
        "outputId": "c9f03a82-22cc-4ab9-e701-af882294c907",
        "colab": {
          "base_uri": "https://localhost:8080/"
        }
      },
      "execution_count": 30,
      "outputs": [
        {
          "output_type": "execute_result",
          "data": {
            "text/plain": [
              "torch.Size([3])"
            ]
          },
          "metadata": {},
          "execution_count": 30
        }
      ]
    },
    {
      "cell_type": "code",
      "source": [
        "# add 10 with tensor value\n",
        "tensor + 10"
      ],
      "metadata": {
        "id": "p_rPy5pRcKVH",
        "outputId": "6d429265-bb60-474d-cdbd-5b5b3f6c6251",
        "colab": {
          "base_uri": "https://localhost:8080/"
        }
      },
      "execution_count": 31,
      "outputs": [
        {
          "output_type": "execute_result",
          "data": {
            "text/plain": [
              "tensor([21, 22, 23])"
            ]
          },
          "metadata": {},
          "execution_count": 31
        }
      ]
    },
    {
      "cell_type": "code",
      "source": [
        "# Multiply it by 10\n",
        "tensor*10"
      ],
      "metadata": {
        "id": "g1dp-6YjcRWD",
        "outputId": "ca8f7d82-1c95-4b36-89f9-d5871cff0e08",
        "colab": {
          "base_uri": "https://localhost:8080/"
        }
      },
      "execution_count": 32,
      "outputs": [
        {
          "output_type": "execute_result",
          "data": {
            "text/plain": [
              "tensor([110, 120, 130])"
            ]
          },
          "metadata": {},
          "execution_count": 32
        }
      ]
    },
    {
      "cell_type": "code",
      "source": [
        "# Tensor don't change unless reassigned\n",
        "tensor"
      ],
      "metadata": {
        "id": "8SMro3SOcS-K",
        "outputId": "46164dfd-aa83-4ccf-8b09-b8635c00d168",
        "colab": {
          "base_uri": "https://localhost:8080/"
        }
      },
      "execution_count": 33,
      "outputs": [
        {
          "output_type": "execute_result",
          "data": {
            "text/plain": [
              "tensor([11, 12, 13])"
            ]
          },
          "metadata": {},
          "execution_count": 33
        }
      ]
    },
    {
      "cell_type": "markdown",
      "source": [
        "Let's subtract a number and this time we'll reassign the tensor variable"
      ],
      "metadata": {
        "id": "ATzXVwbncsOs"
      }
    },
    {
      "cell_type": "code",
      "source": [
        "# Subtract and reassign\n",
        "tensor = tensor - 10\n",
        "tensor"
      ],
      "metadata": {
        "id": "irWZFnKqc5Ej",
        "outputId": "98adf6db-fc0b-4991-ed97-e0a2321bedbe",
        "colab": {
          "base_uri": "https://localhost:8080/"
        }
      },
      "execution_count": 34,
      "outputs": [
        {
          "output_type": "execute_result",
          "data": {
            "text/plain": [
              "tensor([1, 2, 3])"
            ]
          },
          "metadata": {},
          "execution_count": 34
        }
      ]
    },
    {
      "cell_type": "code",
      "source": [
        "# Add and reassign\n",
        "tensor = tensor + 10\n",
        "tensor"
      ],
      "metadata": {
        "id": "o_mJK3DkdBo0",
        "outputId": "b17a3aa8-9adc-41b7-9b4c-cee4f1866d21",
        "colab": {
          "base_uri": "https://localhost:8080/"
        }
      },
      "execution_count": 35,
      "outputs": [
        {
          "output_type": "execute_result",
          "data": {
            "text/plain": [
              "tensor([11, 12, 13])"
            ]
          },
          "metadata": {},
          "execution_count": 35
        }
      ]
    },
    {
      "cell_type": "markdown",
      "source": [
        "#### PyTorch has some shortcut to perform multiplication and addition\n",
        "`torch.mul()` and `torch.add()`"
      ],
      "metadata": {
        "id": "flMv6dgmdIsi"
      }
    },
    {
      "cell_type": "code",
      "source": [
        "# Can also use torch functions\n",
        "\n",
        "torch.multiply(tensor, 10)"
      ],
      "metadata": {
        "id": "9fPekd5cev9A",
        "outputId": "e5b3486c-049c-4593-f62b-271a0981b2d7",
        "colab": {
          "base_uri": "https://localhost:8080/"
        }
      },
      "execution_count": 36,
      "outputs": [
        {
          "output_type": "execute_result",
          "data": {
            "text/plain": [
              "tensor([110, 120, 130])"
            ]
          },
          "metadata": {},
          "execution_count": 36
        }
      ]
    },
    {
      "cell_type": "code",
      "source": [
        "torch.mul(tensor, 10)"
      ],
      "metadata": {
        "id": "88yVQ0Ige9Vz",
        "outputId": "10a72f6e-c9f0-4c91-cb41-45ab78963b70",
        "colab": {
          "base_uri": "https://localhost:8080/"
        }
      },
      "execution_count": 37,
      "outputs": [
        {
          "output_type": "execute_result",
          "data": {
            "text/plain": [
              "tensor([110, 120, 130])"
            ]
          },
          "metadata": {},
          "execution_count": 37
        }
      ]
    },
    {
      "cell_type": "code",
      "source": [
        "torch.add(tensor, 20)"
      ],
      "metadata": {
        "id": "X0GevbjtfKp3",
        "outputId": "5b6847ea-6c79-4748-8ac5-491cc0dce1ad",
        "colab": {
          "base_uri": "https://localhost:8080/"
        }
      },
      "execution_count": 38,
      "outputs": [
        {
          "output_type": "execute_result",
          "data": {
            "text/plain": [
              "tensor([31, 32, 33])"
            ]
          },
          "metadata": {},
          "execution_count": 38
        }
      ]
    },
    {
      "cell_type": "markdown",
      "source": [
        "However, it's more common to use the operator symbols like * instead of torch.mul()\n",
        "\n"
      ],
      "metadata": {
        "id": "-d_WcnaHfNTU"
      }
    },
    {
      "cell_type": "code",
      "source": [
        "# Element wise multiplication (each element multiplies its equivalent)\n",
        "\n",
        "print(tensor, '*', tensor)\n",
        "print(\"Equals: \", tensor + tensor)"
      ],
      "metadata": {
        "id": "mfYclLl-fWR0",
        "outputId": "d10ed281-7e5c-4f43-b6d3-34becdb7487c",
        "colab": {
          "base_uri": "https://localhost:8080/"
        }
      },
      "execution_count": 39,
      "outputs": [
        {
          "output_type": "stream",
          "name": "stdout",
          "text": [
            "tensor([11, 12, 13]) * tensor([11, 12, 13])\n",
            "Equals:  tensor([22, 24, 26])\n"
          ]
        }
      ]
    },
    {
      "cell_type": "markdown",
      "source": [
        "### Matrix Multiplication\n"
      ],
      "metadata": {
        "id": "nlOX4pYufq78"
      }
    },
    {
      "cell_type": "markdown",
      "source": [
        "The main two rules for matrix multiplication to remember are:\n",
        "\n",
        "1. The inner dimensions must match:\n",
        "* (3, 2) @ (3, 2) won't work\n",
        "* (2, 3) @ (3, 2) will work\n",
        "* (3, 2) @ (2, 3) will work\n",
        "2. The resulting matrix has the shape of the outer dimensions:\n",
        "* (2, 3) @ (3, 2) -> (2, 2)\n",
        "* (3, 2) @ (2, 3) -> (3, 3)"
      ],
      "metadata": {
        "id": "k-B8Pehz8cNt"
      }
    },
    {
      "cell_type": "code",
      "source": [
        "import torch\n",
        "tensor = torch.tensor([1,2,3])\n",
        "tensor.shape"
      ],
      "metadata": {
        "colab": {
          "base_uri": "https://localhost:8080/"
        },
        "id": "zBwKSU4z8r1a",
        "outputId": "c37f82a9-911a-4953-f29d-1b5a9bf0c3b2"
      },
      "execution_count": 40,
      "outputs": [
        {
          "output_type": "execute_result",
          "data": {
            "text/plain": [
              "torch.Size([3])"
            ]
          },
          "metadata": {},
          "execution_count": 40
        }
      ]
    },
    {
      "cell_type": "markdown",
      "source": [
        "\n",
        "The difference between element-wise multiplication and matrix multiplication is the addition of values.\n",
        "\n",
        "For our tensor variable with values [1, 2, 3]:\n",
        "\n",
        "Operation\tCalculation\tCode\n",
        "Element-wise multiplication\t[1*1, 2*2, 3*3] = [1, 4, 9]\ttensor * tensor\n",
        "Matrix multiplication\t[1*1 + 2*2 + 3*3] = [14]\ttensor.matmul(tensor)"
      ],
      "metadata": {
        "id": "tm-ntzeNDPuI"
      }
    },
    {
      "cell_type": "code",
      "source": [
        "# Element wise multiplication and Matrix multiplication\n",
        "\n",
        "#Element wise multiplication\n",
        "element_wise = tensor * tensor\n",
        "\n",
        "# matrix multiplication\n",
        "matrix_mul = torch.matmul(tensor, tensor)\n",
        "\n",
        "element_wise, matrix_mul"
      ],
      "metadata": {
        "colab": {
          "base_uri": "https://localhost:8080/"
        },
        "id": "99sQOKRP-bVE",
        "outputId": "91efd100-a0ce-49f6-f702-e55147ac7e2b"
      },
      "execution_count": 41,
      "outputs": [
        {
          "output_type": "execute_result",
          "data": {
            "text/plain": [
              "(tensor([1, 4, 9]), tensor(14))"
            ]
          },
          "metadata": {},
          "execution_count": 41
        }
      ]
    },
    {
      "cell_type": "code",
      "source": [
        "# We can also use the \"@\" symbol for matrix multiplication, though not recommended\n",
        "tensor @ tensor"
      ],
      "metadata": {
        "colab": {
          "base_uri": "https://localhost:8080/"
        },
        "id": "_LvYE_leGJX5",
        "outputId": "3782a96b-0c0f-4a52-ac8e-21ae5ada5fb5"
      },
      "execution_count": 42,
      "outputs": [
        {
          "output_type": "execute_result",
          "data": {
            "text/plain": [
              "tensor(14)"
            ]
          },
          "metadata": {},
          "execution_count": 42
        }
      ]
    },
    {
      "cell_type": "code",
      "source": [
        "# torch.matmul() , method is faster\n",
        "\n",
        "# avoid operations using for looop. they are expensive\n",
        "\n",
        "%%time\n",
        "\n",
        "value = 0\n",
        "for i in range(len(tensor)):\n",
        "  value+= tensor[i] * tensor[i]\n",
        "\n",
        "value"
      ],
      "metadata": {
        "id": "JBCDwBy1G0es",
        "outputId": "461a8e02-7bb6-452b-d512-2d3f2d39025b",
        "colab": {
          "base_uri": "https://localhost:8080/"
        }
      },
      "execution_count": 43,
      "outputs": [
        {
          "output_type": "stream",
          "name": "stdout",
          "text": [
            "CPU times: user 1.43 ms, sys: 0 ns, total: 1.43 ms\n",
            "Wall time: 2.77 ms\n"
          ]
        },
        {
          "output_type": "execute_result",
          "data": {
            "text/plain": [
              "tensor(14)"
            ]
          },
          "metadata": {},
          "execution_count": 43
        }
      ]
    },
    {
      "cell_type": "code",
      "source": [
        "%%time\n",
        "torch.matmul(tensor, tensor)"
      ],
      "metadata": {
        "id": "DhUXnJkLItsi",
        "outputId": "c1cca287-cd4b-49dd-88dd-d3438b08cd02",
        "colab": {
          "base_uri": "https://localhost:8080/"
        }
      },
      "execution_count": 44,
      "outputs": [
        {
          "output_type": "stream",
          "name": "stdout",
          "text": [
            "CPU times: user 41 µs, sys: 0 ns, total: 41 µs\n",
            "Wall time: 44.8 µs\n"
          ]
        },
        {
          "output_type": "execute_result",
          "data": {
            "text/plain": [
              "tensor(14)"
            ]
          },
          "metadata": {},
          "execution_count": 44
        }
      ]
    },
    {
      "cell_type": "markdown",
      "source": [
        "## One of the most common error in deep learning, (Shape Errors)\n",
        "Because much of deep learning is multiplying and performing operations on matrices and matrices have a strict rule about what shapes and sizes can be combined, one of the most common errors you'll run into in deep learning is shape mismatches."
      ],
      "metadata": {
        "id": "h_7RR5KWIyIY"
      }
    },
    {
      "cell_type": "code",
      "source": [
        "# Shapes need to be in the right way\n",
        "tensor_A = torch.tensor([[1, 2],\n",
        "                         [3, 4],\n",
        "                         [5, 6]], dtype=torch.float32)\n",
        "\n",
        "tensor_B = torch.tensor([[7, 10],\n",
        "                         [8, 11],\n",
        "                         [9, 12]], dtype=torch.float32)\n",
        "\n",
        "#torch.matmul(tensor_A, tensor_B) # (this will error)"
      ],
      "metadata": {
        "id": "IUOK52ySLixL"
      },
      "execution_count": 45,
      "outputs": []
    },
    {
      "cell_type": "code",
      "source": [
        "tensor_A.shape, tensor_A.ndim,  tensor_B.shape, tensor_B.ndim"
      ],
      "metadata": {
        "id": "qj4td8wVMPKq",
        "outputId": "a2605d31-ffd6-4937-97de-f374f705a85a",
        "colab": {
          "base_uri": "https://localhost:8080/"
        }
      },
      "execution_count": 46,
      "outputs": [
        {
          "output_type": "execute_result",
          "data": {
            "text/plain": [
              "(torch.Size([3, 2]), 2, torch.Size([3, 2]), 2)"
            ]
          },
          "metadata": {},
          "execution_count": 46
        }
      ]
    },
    {
      "cell_type": "markdown",
      "source": [
        "One of the ways to do this is with a *transpose* (switch the dimensions of a given tensor).\n",
        "\n",
        "You can perform transposes in PyTorch using either:\n",
        "\n",
        "* `torch.transpose(input, dim0, dim1)`  - where `input` is the desired tensor to transpose and `dim0` and `dim1` are the dimensions to be swapped.\n",
        "* `tensor.T` - where `tensor` is the desired tensor to transpose."
      ],
      "metadata": {
        "id": "SwxKbN12mfsU"
      }
    },
    {
      "cell_type": "code",
      "source": [
        "# View tensor A and B\n",
        "print(tensor_A)\n",
        "print(tensor_B)"
      ],
      "metadata": {
        "id": "HRB-0FHIMi9s",
        "outputId": "dbe673b8-6dc0-4184-b4d7-ba2d2b866d2e",
        "colab": {
          "base_uri": "https://localhost:8080/"
        }
      },
      "execution_count": 47,
      "outputs": [
        {
          "output_type": "stream",
          "name": "stdout",
          "text": [
            "tensor([[1., 2.],\n",
            "        [3., 4.],\n",
            "        [5., 6.]])\n",
            "tensor([[ 7., 10.],\n",
            "        [ 8., 11.],\n",
            "        [ 9., 12.]])\n"
          ]
        }
      ]
    },
    {
      "cell_type": "code",
      "source": [
        "# View tensor A and tensor B.T\n",
        "print(tensor_A.shape)\n",
        "print(tensor_B.T.shape)\n",
        "# here the inner dimensions are matched"
      ],
      "metadata": {
        "id": "zLw7pVmAmQVb",
        "outputId": "3f402c05-4480-4379-9d52-9826ee61c6b0",
        "colab": {
          "base_uri": "https://localhost:8080/"
        }
      },
      "execution_count": 48,
      "outputs": [
        {
          "output_type": "stream",
          "name": "stdout",
          "text": [
            "torch.Size([3, 2])\n",
            "torch.Size([2, 3])\n"
          ]
        }
      ]
    },
    {
      "cell_type": "code",
      "source": [
        "# The operation works when tensor_B is transposed\n",
        "print(f\"Original shapes: tensor_A = {tensor_A.shape}, tensor_B = {tensor_B.shape}\\n\")\n",
        "print(f\"New shapes: tensorA= {tensor_A.shape} (same as above), tensor_B.T = {tensor_B.T.shape}\\n \")\n",
        "print(f\"Multiplying: {tensor_A.shape}*{tensor_B.shape} <- inner dimensions match \\n\")\n",
        "print(\"Output: \\n\")\n",
        "output = torch.matmul(tensor_A, tensor_B.T)\n",
        "print(output)\n",
        "print(f\"\\n Output shape: \")"
      ],
      "metadata": {
        "id": "t34T-imYqe7G",
        "outputId": "10013a54-dda9-4dee-f563-7a0bb8eb2441",
        "colab": {
          "base_uri": "https://localhost:8080/"
        }
      },
      "execution_count": 49,
      "outputs": [
        {
          "output_type": "stream",
          "name": "stdout",
          "text": [
            "Original shapes: tensor_A = torch.Size([3, 2]), tensor_B = torch.Size([3, 2])\n",
            "\n",
            "New shapes: tensorA= torch.Size([3, 2]) (same as above), tensor_B.T = torch.Size([2, 3])\n",
            " \n",
            "Multiplying: torch.Size([3, 2])*torch.Size([3, 2]) <- inner dimensions match \n",
            "\n",
            "Output: \n",
            "\n",
            "tensor([[ 27.,  30.,  33.],\n",
            "        [ 61.,  68.,  75.],\n",
            "        [ 95., 106., 117.]])\n",
            "\n",
            " Output shape: \n"
          ]
        }
      ]
    },
    {
      "cell_type": "markdown",
      "source": [
        "You can also use torch.mm() which is a short for torch.matmul()"
      ],
      "metadata": {
        "id": "cCme6b4-r5IV"
      }
    },
    {
      "cell_type": "code",
      "source": [
        "# torch.mm is a shortcut for matmul\n",
        "torch.mm(tensor_A, tensor_B.T)"
      ],
      "metadata": {
        "id": "ZQKGJxIprnqL",
        "outputId": "154ca394-5694-4bdd-9de5-0182dd28ef79",
        "colab": {
          "base_uri": "https://localhost:8080/"
        }
      },
      "execution_count": 50,
      "outputs": [
        {
          "output_type": "execute_result",
          "data": {
            "text/plain": [
              "tensor([[ 27.,  30.,  33.],\n",
              "        [ 61.,  68.,  75.],\n",
              "        [ 95., 106., 117.]])"
            ]
          },
          "metadata": {},
          "execution_count": 50
        }
      ]
    },
    {
      "cell_type": "markdown",
      "source": [
        "### torch.nn.Linear()"
      ],
      "metadata": {
        "id": "z18FiI34sC5u"
      }
    },
    {
      "cell_type": "markdown",
      "source": [
        "Neural networks are full of matrix multiplications and dot products.\n",
        "\n",
        "The torch.nn.Linear() module (we'll see this in action later on), also known as a feed-forward layer or fully connected layer, implements a matrix multiplication between an input x and a weights matrix A.\n",
        "\n",
        "y\n",
        "=\n",
        "x\n",
        "⋅\n",
        "A\n",
        "T\n",
        "+\n",
        "b\n",
        "\n",
        "Where:\n",
        "\n",
        "x is the input to the layer (deep learning is a stack of layers like torch.nn.Linear() and others on top of each other).\n",
        "A is the weights matrix created by the layer, this starts out as random numbers that get adjusted as a neural network learns to better represent patterns in the data (notice the \"T\", that's because the weights matrix gets transposed).\n",
        "Note: You might also often see W or another letter like X used to showcase the weights matrix.\n",
        "b is the bias term used to slightly offset the weights and inputs.\n",
        "y is the output (a manipulation of the input in the hopes to discover patterns in it).\n",
        "This is a linear function (you may have seen something like  \n",
        "y\n",
        "=\n",
        "m\n",
        "x\n",
        "+\n",
        "b\n",
        "  in high school or elsewhere), and can be used to draw a straight line!"
      ],
      "metadata": {
        "id": "9GNUa866BAmc"
      }
    },
    {
      "cell_type": "code",
      "source": [
        "tensor_A"
      ],
      "metadata": {
        "id": "vrMO4Z3T_9Ta",
        "outputId": "9f5eddb0-848f-4a81-cc56-abfe741d87aa",
        "colab": {
          "base_uri": "https://localhost:8080/"
        }
      },
      "execution_count": 52,
      "outputs": [
        {
          "output_type": "execute_result",
          "data": {
            "text/plain": [
              "tensor([[1., 2.],\n",
              "        [3., 4.],\n",
              "        [5., 6.]])"
            ]
          },
          "metadata": {},
          "execution_count": 52
        }
      ]
    },
    {
      "cell_type": "code",
      "source": [
        "# Since the linear layer starts with a random weights matrix, let's make it reproducible ( more on this late )\n",
        "torch.manual_seed(42) # this keeps the random value same/ random values does not change if you re run this cell\n",
        "linear = torch.nn.Linear(in_features = 3, # in_features = matches inner dimensions of input\n",
        "                         out_features =  6) # out_features = describe outer value\n",
        "\n",
        "x  = tensor_A.T\n",
        "output = linear(x)\n",
        "print(f\"Input shape : {x.shape} \\n\")\n",
        "print(f\"Output shape: \\n{output}\\n\\n Output shape: {output.shape}\")"
      ],
      "metadata": {
        "id": "gRobVYLJ-vDI",
        "outputId": "0557c196-5c24-4f78-d736-375ab82cb390",
        "colab": {
          "base_uri": "https://localhost:8080/"
        }
      },
      "execution_count": 57,
      "outputs": [
        {
          "output_type": "stream",
          "name": "stdout",
          "text": [
            "Input shape : torch.Size([2, 3]) \n",
            "\n",
            "Output shape: \n",
            "tensor([[0.9332, 0.8805, 3.0149, 1.5545, 1.8186, 2.0634],\n",
            "        [1.7186, 1.4009, 3.5818, 1.7408, 2.6017, 2.5123]],\n",
            "       grad_fn=<AddmmBackward0>)\n",
            "\n",
            " Output shape: torch.Size([2, 6])\n"
          ]
        }
      ]
    },
    {
      "cell_type": "markdown",
      "source": [
        "###  **Finding the min, max, mean, sum, etc (aggregation)**\n",
        "* Now we've seen a few ways to manipulate tensors, let's run through a few ways to aggregate them (go from more values to less values). *"
      ],
      "metadata": {
        "id": "sbIRwM0eCsw6"
      }
    },
    {
      "cell_type": "markdown",
      "source": [
        "First we'll create a tensor and then find the max, min, mean and sum of it.\n",
        "\n"
      ],
      "metadata": {
        "id": "xTk8OB4OCqjh"
      }
    },
    {
      "cell_type": "code",
      "source": [
        "# Create a tensor\n",
        "x = torch.arange(0,100, 10)\n",
        "x.dtype, x"
      ],
      "metadata": {
        "id": "A4pO5iNbCYka",
        "outputId": "3f378618-15ed-41bc-a078-fbafa2c31f66",
        "colab": {
          "base_uri": "https://localhost:8080/"
        }
      },
      "execution_count": 65,
      "outputs": [
        {
          "output_type": "execute_result",
          "data": {
            "text/plain": [
              "(torch.int64, tensor([ 0, 10, 20, 30, 40, 50, 60, 70, 80, 90]))"
            ]
          },
          "metadata": {},
          "execution_count": 65
        }
      ]
    },
    {
      "cell_type": "code",
      "source": [
        "# lets perform some aggregation\n",
        "\n",
        "print(f'Minimum: {x.min()}')\n",
        "print(f'Maximum: {x.max()}')\n",
        "#print(f\"Mean: {x.mean()}\") # this is error\n",
        "print(f\"sum: {x.sum()}\")"
      ],
      "metadata": {
        "id": "oKp1vH5TDT__",
        "outputId": "8ca20126-9db1-488d-ecc5-94b76bd1a9b4",
        "colab": {
          "base_uri": "https://localhost:8080/"
        }
      },
      "execution_count": 63,
      "outputs": [
        {
          "output_type": "stream",
          "name": "stdout",
          "text": [
            "Minimum: 0\n",
            "Maximum: 90\n",
            "sum: 450\n"
          ]
        }
      ]
    },
    {
      "cell_type": "markdown",
      "source": [
        "Note: You may find some methods such as `torch.mean()` require tensors to be in `torch.float32` (the most common) or another specific datatype, otherwise the operation will fail."
      ],
      "metadata": {
        "id": "YYWLO28OEHZ8"
      }
    },
    {
      "cell_type": "markdown",
      "source": [
        "You can also do the same as above with torch methods."
      ],
      "metadata": {
        "id": "s0IJvNMyDvVL"
      }
    },
    {
      "cell_type": "code",
      "source": [
        "torch.max(x), torch.min(x), torch.mean(x.type(torch.float32)), torch.sum(x)"
      ],
      "metadata": {
        "id": "Yfu-Ut5VD99Q",
        "outputId": "e962e246-0dc9-4c07-d659-00571d7c3f58",
        "colab": {
          "base_uri": "https://localhost:8080/"
        }
      },
      "execution_count": 66,
      "outputs": [
        {
          "output_type": "execute_result",
          "data": {
            "text/plain": [
              "(tensor(90), tensor(0), tensor(45.), tensor(450))"
            ]
          },
          "metadata": {},
          "execution_count": 66
        }
      ]
    },
    {
      "cell_type": "code",
      "source": [],
      "metadata": {
        "id": "Oa4on1IOEO_u"
      },
      "execution_count": null,
      "outputs": []
    }
  ]
}