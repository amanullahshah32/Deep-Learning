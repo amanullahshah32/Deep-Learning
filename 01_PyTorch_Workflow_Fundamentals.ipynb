{
  "nbformat": 4,
  "nbformat_minor": 0,
  "metadata": {
    "colab": {
      "provenance": [],
      "gpuType": "T4",
      "authorship_tag": "ABX9TyNgydm+NPrgl76/xeq5Jgef",
      "include_colab_link": true
    },
    "kernelspec": {
      "name": "python3",
      "display_name": "Python 3"
    },
    "language_info": {
      "name": "python"
    }
  },
  "cells": [
    {
      "cell_type": "markdown",
      "metadata": {
        "id": "view-in-github",
        "colab_type": "text"
      },
      "source": [
        "<a href=\"https://colab.research.google.com/github/amanullahshah32/CSE327_Software_Engineering/blob/main/01_PyTorch_Workflow_Fundamentals.ipynb\" target=\"_parent\"><img src=\"https://colab.research.google.com/assets/colab-badge.svg\" alt=\"Open In Colab\"/></a>"
      ]
    },
    {
      "cell_type": "code",
      "execution_count": 6,
      "metadata": {
        "id": "UrMeju7-wfdm"
      },
      "outputs": [],
      "source": [
        "what_were_covering = {1: \"data (prepare and load)\",\n",
        "    2: \"build model\",\n",
        "    3: \"fitting the model to data (training)\",\n",
        "    4: \"making predictions and evaluating a model (inference)\",\n",
        "    5: \"saving and loading a model\",\n",
        "    6: \"putting it all together\"\n",
        "}"
      ]
    },
    {
      "cell_type": "code",
      "source": [
        "what_were_covering"
      ],
      "metadata": {
        "colab": {
          "base_uri": "https://localhost:8080/"
        },
        "id": "22aeUyQKyZOm",
        "outputId": "c7357f2e-a6a9-4f70-ac3b-e4dd74557bb8"
      },
      "execution_count": 7,
      "outputs": [
        {
          "output_type": "execute_result",
          "data": {
            "text/plain": [
              "{1: 'data (prepare and load)',\n",
              " 2: 'build model',\n",
              " 3: 'fitting the model to data (training)',\n",
              " 4: 'making predictions and evaluating a model (inference)',\n",
              " 5: 'saving and loading a model',\n",
              " 6: 'putting it all together'}"
            ]
          },
          "metadata": {},
          "execution_count": 7
        }
      ]
    },
    {
      "cell_type": "code",
      "source": [
        "import torch\n",
        "from torch import nn #nn contains all of PyTorch's building blocks for neural networks\n",
        "import matplotlib.pyplot as plt\n",
        "\n",
        "# check the PyThon version\n",
        "torch.__version__"
      ],
      "metadata": {
        "colab": {
          "base_uri": "https://localhost:8080/",
          "height": 35
        },
        "id": "vARjNDJny_3g",
        "outputId": "04458373-e655-496f-c540-5c35222eabe4"
      },
      "execution_count": 8,
      "outputs": [
        {
          "output_type": "execute_result",
          "data": {
            "text/plain": [
              "'2.3.0+cu121'"
            ],
            "application/vnd.google.colaboratory.intrinsic+json": {
              "type": "string"
            }
          },
          "metadata": {},
          "execution_count": 8
        }
      ]
    },
    {
      "cell_type": "markdown",
      "source": [
        "## 1. **Data (Preparing and loading)**"
      ],
      "metadata": {
        "id": "k__6ar_Q9umv"
      }
    },
    {
      "cell_type": "code",
      "source": [
        " # Create known parameters\n",
        " weight = 0.7\n",
        " bias = .3\n",
        "\n",
        " # create data\n",
        " start = 0\n",
        " end = 1\n",
        " step = 0.02\n",
        "\n",
        " X = torch.arange(start, end, step).unsqueeze(dim=1) #; this is asumed as feature\n",
        " y = weight * X + bias"
      ],
      "metadata": {
        "id": "osL4hwq_-D45"
      },
      "execution_count": 9,
      "outputs": []
    },
    {
      "cell_type": "code",
      "source": [
        "X[:10], y[:10], X.shape==y.shape"
      ],
      "metadata": {
        "colab": {
          "base_uri": "https://localhost:8080/"
        },
        "id": "HP_sIolZ_Ktk",
        "outputId": "ecd45768-e076-4793-d4a2-233e45d193f2"
      },
      "execution_count": 10,
      "outputs": [
        {
          "output_type": "execute_result",
          "data": {
            "text/plain": [
              "(tensor([[0.0000],\n",
              "         [0.0200],\n",
              "         [0.0400],\n",
              "         [0.0600],\n",
              "         [0.0800],\n",
              "         [0.1000],\n",
              "         [0.1200],\n",
              "         [0.1400],\n",
              "         [0.1600],\n",
              "         [0.1800]]),\n",
              " tensor([[0.3000],\n",
              "         [0.3140],\n",
              "         [0.3280],\n",
              "         [0.3420],\n",
              "         [0.3560],\n",
              "         [0.3700],\n",
              "         [0.3840],\n",
              "         [0.3980],\n",
              "         [0.4120],\n",
              "         [0.4260]]),\n",
              " True)"
            ]
          },
          "metadata": {},
          "execution_count": 10
        }
      ]
    },
    {
      "cell_type": "markdown",
      "source": [
        "### **Split data into training and test sets**"
      ],
      "metadata": {
        "id": "PAQO9Njy_8Lu"
      }
    },
    {
      "cell_type": "code",
      "source": [
        "# Create train/test split\n",
        "train_split = int(0.8 * len(X)) # 800% data used for training set, 20% data for testing\n",
        "X_train, y_train = X[:train_split], y[:train_split]\n",
        "X_test, y_test = X[train_split:], y[train_split:]\n",
        "\n",
        "len(X_train), len(y_train), len(X_test), len(y_test)"
      ],
      "metadata": {
        "colab": {
          "base_uri": "https://localhost:8080/"
        },
        "id": "Ck78TrqzAyC5",
        "outputId": "ab46131c-4810-480a-b452-9f9c34170d17"
      },
      "execution_count": 11,
      "outputs": [
        {
          "output_type": "execute_result",
          "data": {
            "text/plain": [
              "(40, 40, 10, 10)"
            ]
          },
          "metadata": {},
          "execution_count": 11
        }
      ]
    },
    {
      "cell_type": "markdown",
      "source": [
        "#### Visualization"
      ],
      "metadata": {
        "id": "ftwLNt88Cs0Z"
      }
    },
    {
      "cell_type": "code",
      "source": [
        "def plot_prediction(train_data = X_train,\n",
        "                    train_labels = y_train,\n",
        "                    test_data = X_test,\n",
        "                    test_labels = y_test,\n",
        "                    predictions = None):\n",
        "  \"\"\"\n",
        "  Plots training data, test data and compares predictions.\n",
        "  \"\"\"\n",
        "\n",
        "  plt.figure(figsize = (10,7))\n",
        "\n",
        "  # Plot training data in blue\n",
        "  plt.scatter(train_data, train_labels, c=\"b\", s=8, label='Training data', marker='D')\n",
        "\n",
        "  # plot test data in red\n",
        "  plt.scatter(test_data, test_labels, c='g', s=8, label = \"Testing data\", marker = 'o')\n",
        "\n",
        "  if predictions is not None:\n",
        "    #plot the predictions in green (predicitons were made on the test data)\n",
        "    plt.scatter(test_data, predictions, c='r', s=8, label = \"predictions\")\n",
        "\n",
        "    #Show the legend\n",
        "  #plt.legend(prop={\"size\":14});\n",
        "  plt.legend()"
      ],
      "metadata": {
        "id": "OUoP8meNGZNG"
      },
      "execution_count": 19,
      "outputs": []
    },
    {
      "cell_type": "code",
      "source": [
        "plot_prediction();"
      ],
      "metadata": {
        "colab": {
          "base_uri": "https://localhost:8080/",
          "height": 599
        },
        "id": "pxkIcZB5Gylw",
        "outputId": "cf1e03b4-4bbb-446c-833a-bcc02dec7155"
      },
      "execution_count": 20,
      "outputs": [
        {
          "output_type": "display_data",
          "data": {
            "text/plain": [
              "<Figure size 1000x700 with 1 Axes>"
            ],
            "image/png": "[encoded data removed]"
          },
          "metadata": {}
        }
      ]
    },
    {
      "cell_type": "markdown",
      "source": [
        "## **2. Build Model**"
      ],
      "metadata": {
        "id": "VoKl8y4eKEGf"
      }
    },
    {
      "cell_type": "markdown",
      "source": [
        "#### Let's replicate a standard linear regression model using pure PyTorch."
      ],
      "metadata": {
        "id": "DyLNXdNLLXwB"
      }
    },
    {
      "cell_type": "code",
      "source": [
        "# Create a Linear Regression model class\n",
        "class LinearRegressionModel(nn.Module): #<- almost everything in PyTorchis a nn.Module (think of this as neural network lego blocks)\n",
        "  def __init__(self):\n",
        "    \"\"\"\n",
        "\n",
        "    Args:\n",
        "      self:\n",
        "    \"\"\"\n",
        "    super().__init__()\n",
        "    self.weights = nn.Parameter(torch.randn(1, #start with random weights (this will get adjusted as the module learns)\n",
        "                                            dtype= torch.float), # <- PyTorch loves float32 by default\n",
        "                                            requires_grad= True) # can we update this values with gradient descent?)\n",
        "    self.bias = nn.Parameter(torch.randn(1, # start with rnadom bias (this will get adjusted as the model learns)\n",
        "                                         dtype= torch.float32), #pytorch loves float 32 as default\n",
        "                             requires_grad= True) # can we update this value with gradient descent?\n",
        "  # Forward defines the computation in the model\n",
        "  def forward(self, x:torch.Tensor) -> torch.Tensor: # x is the input data (e.g. training/testing features)\n",
        "    return self.weights * x + self.bias # this is the linear regression formula (y=mx+c)"
      ],
      "metadata": {
        "id": "enxBPlN5LmoS"
      },
      "execution_count": 21,
      "outputs": []
    },
    {
      "cell_type": "code",
      "source": [],
      "metadata": {
        "id": "Ud12HPmtO7H9"
      },
      "execution_count": null,
      "outputs": []
    }
  ]
}